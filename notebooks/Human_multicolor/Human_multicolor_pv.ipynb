{
 "cells": [
  {
   "cell_type": "markdown",
   "id": "5c459a6b",
   "metadata": {},
   "source": [
    "<a id='top'></a>"
   ]
  },
  {
   "cell_type": "code",
   "execution_count": 1,
   "id": "d5d93217",
   "metadata": {},
   "outputs": [],
   "source": [
    "# Ignore warnings\n",
    "import warnings\n",
    "warnings.filterwarnings('ignore')\n",
    "\n",
    "\n",
    "# %matplotlib nbagg \n",
    "%matplotlib notebook\n",
    "# %matplotlib inline\n",
    "\n",
    "\n",
    "\n",
    "## Third party \n",
    "import numpy as np\n",
    "import os, time, zarr, sys\n",
    "from tqdm import tqdm_notebook as tqdm\n",
    "import matplotlib.pyplot as plt\n",
    "import matplotlib as mpl\n",
    "\n",
    "import unslice.IO as io\n",
    "from unslice.utils import *\n",
    "from unslice.registration.featmatch import *\n",
    "from unslice.registration.transform import *\n",
    "from unslice.registration.rigid import *\n",
    "from unslice.registration.gpu_transform import *\n",
    "from unslice.registration.utils import *\n",
    "from unslice.segmentation import *\n",
    "from unslice.tracing.pyoof import OOF, apply_oof_v2\n",
    "from unslice.tracing.skel import *\n",
    "from unslice.flatten import *\n",
    "from unslice.lightsheetcorrect import *\n",
    "\n",
    "\n"
   ]
  },
  {
   "cell_type": "code",
   "execution_count": 2,
   "id": "1c2fa3fc",
   "metadata": {},
   "outputs": [],
   "source": [
    "# Parameters that are constant throughout notebook\n",
    "working_dir = '/mnt/beegfs/webster/fig3_dfly' \n",
    "\n",
    "def bdir(fname):\n",
    "    return os.path.join(working_dir, fname)\n",
    "\n",
    "# prefix to add to the beginning of each filename \n",
    "name_prefix = '#3-pv_fov55' #1\n",
    "name_prefix2 = '#4-pv_fov55' #2"
   ]
  },
  {
   "cell_type": "markdown",
   "id": "b6f4ab1a",
   "metadata": {},
   "source": [
    "# Table of contents\n",
    "\n",
    "### Pre-processing\n",
    "[1. Convert to zarr](#convert)<br>\n",
    "\n",
    "### Warp using lectin deformation fields \n",
    "[13. Flatten warp](#flattenwarp)<br>\n",
    "[14. TPS lectin warp](#anchorwarp)<br>\n",
    "\n",
    "### Warp using PV and NFH \n",
    "[Using PV/GFAP/Lectin](#pvgfapwarp)<br>\n",
    "[Using NFH](#nfh)<br>"
   ]
  },
  {
   "cell_type": "markdown",
   "id": "6a53fdd5",
   "metadata": {},
   "source": [
    "# Convert to zarr\n",
    "<a id='convert'></a>\n",
    "\n",
    "[Return to top](#top)"
   ]
  },
  {
   "cell_type": "code",
   "execution_count": null,
   "id": "8c112a8f",
   "metadata": {
    "scrolled": true
   },
   "outputs": [
    {
     "name": "stdout",
     "output_type": "stream",
     "text": [
      "Processing chunk x:7800-11800, y:8000-12000, z:14-34\n"
     ]
    },
    {
     "name": "stderr",
     "output_type": "stream",
     "text": [
      "  0%|          | 0/20 [00:00<?, ?it/s]TiffFile: the 'fastij' argument is ignoredTiffFile: the 'fastij' argument is ignored\n",
      "\n",
      "TiffFile: the 'fastij' argument is ignored\n",
      "TiffFile: the 'fastij' argument is ignored\n",
      "TiffFile: the 'fastij' argument is ignoredTiffFile: the 'fastij' argument is ignoredTiffFile: the 'fastij' argument is ignoredTiffFile: the 'fastij' argument is ignoredTiffFile: the 'fastij' argument is ignored\n",
      "TiffFile: the 'fastij' argument is ignoredTiffFile: the 'fastij' argument is ignored\n",
      "\n",
      "\n",
      "\n",
      "TiffFile: the 'fastij' argument is ignoredTiffFile: the 'fastij' argument is ignored\n",
      "\n",
      "\n",
      "\n",
      "TiffFile: the 'fastij' argument is ignoredTiffFile: the 'fastij' argument is ignoredTiffFile: the 'fastij' argument is ignored\n",
      "\n",
      "\n",
      "TiffFile: the 'fastij' argument is ignoredTiffFile: the 'fastij' argument is ignoredTiffFile: the 'fastij' argument is ignored\n",
      "\n",
      "\n",
      "TiffFile: the 'fastij' argument is ignored\n",
      "100%|██████████| 20/20 [01:17<00:00,  3.87s/it]\n"
     ]
    },
    {
     "name": "stdout",
     "output_type": "stream",
     "text": [
      "Data I/O, resampling, rotation complete. Commencing flip and zarr assignment...\n"
     ]
    },
    {
     "name": "stderr",
     "output_type": "stream",
     "text": [
      "100%|██████████| 400/400 [00:18<00:00, 21.65it/s]"
     ]
    },
    {
     "name": "stdout",
     "output_type": "stream",
     "text": [
      "Processing chunk x:7800-11800, y:8000-12000, z:34-54\n"
     ]
    },
    {
     "name": "stderr",
     "output_type": "stream",
     "text": [
      "\n",
      "  0%|          | 0/20 [00:00<?, ?it/s]TiffFile: the 'fastij' argument is ignoredTiffFile: the 'fastij' argument is ignoredTiffFile: the 'fastij' argument is ignored\n",
      "TiffFile: the 'fastij' argument is ignoredTiffFile: the 'fastij' argument is ignored\n",
      "\n",
      "\n",
      "\n",
      "TiffFile: the 'fastij' argument is ignored\n",
      "TiffFile: the 'fastij' argument is ignoredTiffFile: the 'fastij' argument is ignoredTiffFile: the 'fastij' argument is ignored\n",
      "TiffFile: the 'fastij' argument is ignored\n",
      "\n",
      "TiffFile: the 'fastij' argument is ignoredTiffFile: the 'fastij' argument is ignored\n",
      "\n",
      "\n",
      "TiffFile: the 'fastij' argument is ignored\n",
      "TiffFile: the 'fastij' argument is ignoredTiffFile: the 'fastij' argument is ignored\n",
      "\n",
      "TiffFile: the 'fastij' argument is ignoredTiffFile: the 'fastij' argument is ignoredTiffFile: the 'fastij' argument is ignoredTiffFile: the 'fastij' argument is ignored\n",
      "\n",
      "\n",
      "\n",
      "TiffFile: the 'fastij' argument is ignored\n",
      "100%|██████████| 20/20 [01:18<00:00,  3.91s/it]"
     ]
    },
    {
     "name": "stdout",
     "output_type": "stream",
     "text": [
      "Data I/O, resampling, rotation complete. Commencing flip and zarr assignment...\n"
     ]
    },
    {
     "name": "stderr",
     "output_type": "stream",
     "text": [
      "\n",
      "100%|██████████| 400/400 [00:22<00:00, 17.50it/s]"
     ]
    },
    {
     "name": "stdout",
     "output_type": "stream",
     "text": [
      "Processing chunk x:7800-11800, y:8000-12000, z:54-74\n"
     ]
    },
    {
     "name": "stderr",
     "output_type": "stream",
     "text": [
      "\n",
      "  0%|          | 0/20 [00:00<?, ?it/s]TiffFile: the 'fastij' argument is ignored\n",
      "TiffFile: the 'fastij' argument is ignored\n",
      "TiffFile: the 'fastij' argument is ignored\n",
      "TiffFile: the 'fastij' argument is ignored\n",
      "TiffFile: the 'fastij' argument is ignored\n",
      "TiffFile: the 'fastij' argument is ignored\n",
      "TiffFile: the 'fastij' argument is ignored\n",
      "TiffFile: the 'fastij' argument is ignored\n",
      "TiffFile: the 'fastij' argument is ignored\n",
      "TiffFile: the 'fastij' argument is ignored\n",
      "TiffFile: the 'fastij' argument is ignored\n",
      "TiffFile: the 'fastij' argument is ignoredTiffFile: the 'fastij' argument is ignored\n",
      "TiffFile: the 'fastij' argument is ignoredTiffFile: the 'fastij' argument is ignored\n",
      "TiffFile: the 'fastij' argument is ignored\n",
      "\n",
      "\n",
      "TiffFile: the 'fastij' argument is ignoredTiffFile: the 'fastij' argument is ignored\n",
      "\n",
      "TiffFile: the 'fastij' argument is ignoredTiffFile: the 'fastij' argument is ignored\n",
      "\n",
      "100%|██████████| 20/20 [01:19<00:00,  3.95s/it]\n"
     ]
    },
    {
     "name": "stdout",
     "output_type": "stream",
     "text": [
      "Data I/O, resampling, rotation complete. Commencing flip and zarr assignment...\n"
     ]
    },
    {
     "name": "stderr",
     "output_type": "stream",
     "text": [
      "100%|██████████| 400/400 [00:29<00:00, 13.61it/s]"
     ]
    },
    {
     "name": "stdout",
     "output_type": "stream",
     "text": [
      "Processing chunk x:7800-11800, y:8000-12000, z:74-94\n"
     ]
    },
    {
     "name": "stderr",
     "output_type": "stream",
     "text": [
      "\n",
      "  0%|          | 0/20 [00:00<?, ?it/s]TiffFile: the 'fastij' argument is ignoredTiffFile: the 'fastij' argument is ignored\n",
      "\n",
      "TiffFile: the 'fastij' argument is ignoredTiffFile: the 'fastij' argument is ignored\n",
      "\n",
      "TiffFile: the 'fastij' argument is ignored\n",
      "TiffFile: the 'fastij' argument is ignoredTiffFile: the 'fastij' argument is ignored\n",
      "TiffFile: the 'fastij' argument is ignored\n",
      "TiffFile: the 'fastij' argument is ignored\n",
      "\n",
      "TiffFile: the 'fastij' argument is ignoredTiffFile: the 'fastij' argument is ignored\n",
      "TiffFile: the 'fastij' argument is ignoredTiffFile: the 'fastij' argument is ignored\n",
      "\n",
      "\n",
      "TiffFile: the 'fastij' argument is ignoredTiffFile: the 'fastij' argument is ignored\n",
      "TiffFile: the 'fastij' argument is ignoredTiffFile: the 'fastij' argument is ignored\n",
      "\n",
      "\n",
      "TiffFile: the 'fastij' argument is ignoredTiffFile: the 'fastij' argument is ignoredTiffFile: the 'fastij' argument is ignored\n",
      "\n",
      "\n",
      "100%|██████████| 20/20 [01:29<00:00,  4.45s/it]\n"
     ]
    },
    {
     "name": "stdout",
     "output_type": "stream",
     "text": [
      "Data I/O, resampling, rotation complete. Commencing flip and zarr assignment...\n"
     ]
    },
    {
     "name": "stderr",
     "output_type": "stream",
     "text": [
      "100%|██████████| 400/400 [00:34<00:00, 11.67it/s]"
     ]
    },
    {
     "name": "stdout",
     "output_type": "stream",
     "text": [
      "Processing chunk x:7800-11800, y:8000-12000, z:94-114\n"
     ]
    },
    {
     "name": "stderr",
     "output_type": "stream",
     "text": [
      "\n",
      "  0%|          | 0/20 [00:00<?, ?it/s]TiffFile: the 'fastij' argument is ignored"
     ]
    }
   ],
   "source": [
    "# Parameters for converting to zarr\n",
    "\n",
    "slab_path = '/mnt/beegfs/juhyuk/Dfly/2021-12-24-#3R1.po.lec.gfap.nfh.pv/Channel2_tiffs'\n",
    "slab_zarr_path = bdir(name_prefix+'.zarr')\n",
    "pc2_img_size = (31505,18748,414)\n",
    "\n",
    "\n",
    "## Optional parameters \n",
    "load_num_slices = 20 # should be smaller than z chunk size, default None \n",
    "resample_num_slices = 1 # number of slices to be processed in one go for resampling, default 1\n",
    "resample_factor = (1,1) # original is 0.277 x 0.277 x 1\n",
    "chunks = (200,200,200) \n",
    "num_workers = 20 \n",
    "file_names = 'img_[0-9]{4}.tiff' # default 'img_[0-9]{4}.tiff'\n",
    "\n",
    "## crop\n",
    "xrange = [7800,11800] # default None\n",
    "yrange = [8000,12000] # default None\n",
    "zrange = [14,414] # default None\n",
    "\n",
    "## rotate\n",
    "lateral_rotate_angle = None # default None\n",
    "\n",
    "## flip\n",
    "flip = (0,0,0) # default (0,0,0)\n",
    "\n",
    "\n",
    "#############\n",
    "start = time.time()\n",
    "utils.convert_to_zarr_v2(slab_path, slab_zarr_path, pc2_img_size, load_num_slices=load_num_slices,\n",
    "                        resample_num_slices=resample_num_slices, file_names=file_names, \n",
    "                        chunks=chunks, num_workers=num_workers, lateral_rotate_angle=lateral_rotate_angle,\n",
    "                        flip=flip, crop_xcoords=xrange, crop_ycoords=yrange, crop_zcoords=zrange,\n",
    "                        resample_factor=resample_factor)\n",
    "print(time.time()-start, 'seconds elapsed')"
   ]
  },
  {
   "cell_type": "code",
   "execution_count": 12,
   "id": "30e47bdd",
   "metadata": {},
   "outputs": [
    {
     "name": "stdout",
     "output_type": "stream",
     "text": [
      "Loading z 0 - 200\n"
     ]
    },
    {
     "name": "stderr",
     "output_type": "stream",
     "text": [
      "100%|██████████| 200/200 [06:19<00:00,  1.37s/it]\n"
     ]
    },
    {
     "name": "stdout",
     "output_type": "stream",
     "text": [
      "Loading z 200 - 400\n"
     ]
    },
    {
     "name": "stderr",
     "output_type": "stream",
     "text": [
      "100%|██████████| 200/200 [06:24<00:00,  1.38s/it]\n"
     ]
    }
   ],
   "source": [
    "# Convert zarr to tiff\n",
    "tiff_path = bdir(name_prefix+'_tiffs')\n",
    "convert_zarr_to_tiff(bdir(name_prefix+'.zarr'), tiff_path, num_workers=None)"
   ]
  },
  {
   "cell_type": "markdown",
   "id": "c1d322b9",
   "metadata": {},
   "source": [
    "## Convert to zarr of the bottom slab"
   ]
  },
  {
   "cell_type": "code",
   "execution_count": 6,
   "id": "fde556b3",
   "metadata": {},
   "outputs": [
    {
     "name": "stderr",
     "output_type": "stream",
     "text": [
      "TiffFile: the 'fastij' argument is ignored\n"
     ]
    },
    {
     "name": "stdout",
     "output_type": "stream",
     "text": [
      "471.0419566631317 seconds elapsed\n"
     ]
    }
   ],
   "source": [
    "# Convert from already cropped tiff file (unstitched)\n",
    "slab_path = bdir(\"#4-pv_fov55.tif\")\n",
    "slab_zarr_path = bdir('#4-pv_fov55.zarr')\n",
    "pc2_img_size = (2048,2048,315)\n",
    "\n",
    "\n",
    "## Optional parameters \n",
    "resample_factor = (1,1) # original is 0.277 x 0.277 x 1\n",
    "chunks = (200,)*3\n",
    "\n",
    "## crop\n",
    "xrange = [0,2048] # default None\n",
    "yrange = [0,2048] # default None\n",
    "zrange = [0,315] # default None\n",
    "\n",
    "## rotate\n",
    "lateral_rotate_angle = None # default None\n",
    "\n",
    "## flip\n",
    "flip = (0,0,0) # default (0,0,0)\n",
    "\n",
    "\n",
    "#############\n",
    "start = time.time()\n",
    "utils.convert_to_zarr_v2(slab_path, slab_zarr_path, pc2_img_size, chunks=chunks,\n",
    "                         lateral_rotate_angle=lateral_rotate_angle, flip=flip, \n",
    "                        crop_xcoords=xrange, crop_ycoords=yrange, crop_zcoords=zrange,\n",
    "                        resample_factor=resample_factor)\n",
    "print(time.time()-start, 'seconds elapsed')"
   ]
  },
  {
   "cell_type": "markdown",
   "id": "0480adbc",
   "metadata": {},
   "source": [
    "# Surface flattening\n",
    "\n",
    "[Return to top](#top)\n",
    "\n",
    "<a id='flatten'></a>"
   ]
  },
  {
   "cell_type": "markdown",
   "id": "2cf5edd4",
   "metadata": {},
   "source": [
    "## Flatten warp the slabs\n",
    "\n",
    "[Return to top](#top)\n",
    "\n",
    "<a id='flattenwarp'></a>"
   ]
  },
  {
   "cell_type": "code",
   "execution_count": 3,
   "id": "f1d1cc72",
   "metadata": {},
   "outputs": [
    {
     "name": "stdout",
     "output_type": "stream",
     "text": [
      "Loading grid values...\n",
      "Warping image...\n"
     ]
    },
    {
     "name": "stderr",
     "output_type": "stream",
     "text": [
      "100%|██████████| 800/800 [02:25<00:00,  5.37it/s]\n"
     ]
    },
    {
     "name": "stdout",
     "output_type": "stream",
     "text": [
      "Time elapsed: 9.126044 minutes\n",
      "Loading z 0 - 200\n"
     ]
    },
    {
     "name": "stderr",
     "output_type": "stream",
     "text": [
      "100%|██████████| 200/200 [03:19<00:00,  1.15s/it]\n"
     ]
    },
    {
     "name": "stdout",
     "output_type": "stream",
     "text": [
      "Loading z 200 - 400\n"
     ]
    },
    {
     "name": "stderr",
     "output_type": "stream",
     "text": [
      "100%|██████████| 200/200 [03:12<00:00,  1.22s/it]\n"
     ]
    }
   ],
   "source": [
    "# Bottom slab \n",
    "moving_pts_paths = [bdir('#3-lec_anchor_pts_flat.npy')] # doesn't actually matter for this \n",
    "fixed_pts_paths =  [bdir('#3-lec_anchor_pts_flat.npy')]\n",
    "\n",
    "fixed_zarr_path = bdir(name_prefix+'.zarr') \n",
    "moving_zarr_path = bdir(name_prefix+'.zarr')\n",
    "warped_zarr_path = bdir(name_prefix+'_flattened.zarr')\n",
    "\n",
    "\n",
    "# Parameters for TPS zarr warp\n",
    "grid_spacing = 3*(32,)\n",
    "chunks=3*(200,)\n",
    "nb_workers = 8 \n",
    "\n",
    "# affine parameters \n",
    "R_path = None\n",
    "b_path = None\n",
    "\n",
    "# grid I/O \n",
    "save_grid_values_path = None\n",
    "use_grid_values_path = bdir(\"grid_#3_flatten_fov55.npy\")\n",
    "\n",
    "# anchor parameters (using the surface on the other side and manually identified anchors on the cut surface)\n",
    "static_pts_paths = None\n",
    "\n",
    "##########################\n",
    "\n",
    "TPS_warp(moving_zarr_path, fixed_zarr_path, warped_zarr_path, moving_pts_paths, fixed_pts_paths,\n",
    "         static_pts_paths=static_pts_paths, R_path=R_path, b_path=b_path,\n",
    "          grid_spacing=grid_spacing, smooth=2, chunks=chunks,\n",
    "          nb_workers=nb_workers, padding=2, save_grid_values_path=save_grid_values_path, \n",
    "          show_residuals=True, use_grid_values_path=use_grid_values_path)\n",
    "\n",
    "# Convert zarr to tiff\n",
    "tiff_path = warped_zarr_path[:-5]+'_tiffs'\n",
    "convert_zarr_to_tiff(warped_zarr_path, tiff_path, num_workers=None)"
   ]
  },
  {
   "cell_type": "code",
   "execution_count": 4,
   "id": "0275226b",
   "metadata": {},
   "outputs": [
    {
     "name": "stdout",
     "output_type": "stream",
     "text": [
      "Loading grid values...\n",
      "Warping image...\n"
     ]
    },
    {
     "name": "stderr",
     "output_type": "stream",
     "text": [
      "100%|██████████| 242/242 [00:39<00:00, 12.34it/s]\n"
     ]
    },
    {
     "name": "stdout",
     "output_type": "stream",
     "text": [
      "Time elapsed: 2.462646 minutes\n",
      "Loading z 0 - 200\n"
     ]
    },
    {
     "name": "stderr",
     "output_type": "stream",
     "text": [
      "100%|██████████| 200/200 [01:06<00:00,  2.35it/s]\n"
     ]
    },
    {
     "name": "stdout",
     "output_type": "stream",
     "text": [
      "Loading z 200 - 315\n"
     ]
    },
    {
     "name": "stderr",
     "output_type": "stream",
     "text": [
      "100%|██████████| 115/115 [00:31<00:00,  3.79it/s]\n"
     ]
    }
   ],
   "source": [
    "# Bottom slab \n",
    "moving_pts_paths = [bdir('#3-lec_anchor_pts_flat.npy')] # doesn't actually matter for this \n",
    "fixed_pts_paths =  [bdir('#3-lec_anchor_pts_flat.npy')]\n",
    "\n",
    "fixed_zarr_path = bdir(name_prefix2+'.zarr') \n",
    "moving_zarr_path = bdir(name_prefix2+'.zarr')\n",
    "warped_zarr_path = bdir(name_prefix2+'_flattened.zarr')\n",
    "\n",
    "\n",
    "# Parameters for TPS zarr warp\n",
    "grid_spacing = 3*(32,)\n",
    "chunks=3*(200,)\n",
    "nb_workers = 8 \n",
    "\n",
    "# affine parameters \n",
    "R_path = None\n",
    "b_path = None\n",
    "\n",
    "# grid I/O \n",
    "save_grid_values_path = None\n",
    "use_grid_values_path = bdir(\"grid_#4_flatten_fov55.npy\")\n",
    "\n",
    "# anchor parameters (using the surface on the other side and manually identified anchors on the cut surface)\n",
    "static_pts_paths = None\n",
    "\n",
    "##########################\n",
    "\n",
    "TPS_warp(moving_zarr_path, fixed_zarr_path, warped_zarr_path, moving_pts_paths, fixed_pts_paths,\n",
    "         static_pts_paths=static_pts_paths, R_path=R_path, b_path=b_path,\n",
    "          grid_spacing=grid_spacing, smooth=2, chunks=chunks,\n",
    "          nb_workers=nb_workers, padding=2, save_grid_values_path=save_grid_values_path, \n",
    "          show_residuals=True, use_grid_values_path=use_grid_values_path)\n",
    "\n",
    "# Convert zarr to tiff\n",
    "tiff_path = warped_zarr_path[:-5]+'_tiffs'\n",
    "convert_zarr_to_tiff(warped_zarr_path, tiff_path, num_workers=None)"
   ]
  },
  {
   "cell_type": "markdown",
   "id": "30393d4a",
   "metadata": {},
   "source": [
    "## TPS warp using lectin grid\n",
    "\n",
    "[Return to top](#top)\n",
    "\n",
    "<a id='anchorwarp'></a>"
   ]
  },
  {
   "cell_type": "code",
   "execution_count": 5,
   "id": "b36d0182",
   "metadata": {},
   "outputs": [
    {
     "name": "stdout",
     "output_type": "stream",
     "text": [
      "Loading grid values...\n",
      "Warping image...\n"
     ]
    },
    {
     "name": "stderr",
     "output_type": "stream",
     "text": [
      "100%|██████████| 363/363 [00:41<00:00,  8.71it/s]\n"
     ]
    },
    {
     "name": "stdout",
     "output_type": "stream",
     "text": [
      "Time elapsed: 1.607941 minutes\n",
      "Loading z 0 - 200\n"
     ]
    },
    {
     "name": "stderr",
     "output_type": "stream",
     "text": [
      "100%|██████████| 200/200 [00:48<00:00,  4.39it/s]\n"
     ]
    },
    {
     "name": "stdout",
     "output_type": "stream",
     "text": [
      "Loading z 200 - 400\n"
     ]
    },
    {
     "name": "stderr",
     "output_type": "stream",
     "text": [
      "100%|██████████| 200/200 [00:55<00:00,  3.62it/s]\n"
     ]
    },
    {
     "name": "stdout",
     "output_type": "stream",
     "text": [
      "Loading z 400 - 530\n"
     ]
    },
    {
     "name": "stderr",
     "output_type": "stream",
     "text": [
      "100%|██████████| 130/130 [00:29<00:00,  4.21it/s]\n"
     ]
    }
   ],
   "source": [
    "moving_pts_paths = [bdir('#3-lec_anchor_pts_flat.npy')] # doesn't actually matter for this \n",
    "fixed_pts_paths =  [bdir('#3-lec_anchor_pts_flat.npy')]\n",
    "\n",
    "fixed_zarr_path = bdir(name_prefix2+'_flattened.zarr') \n",
    "moving_zarr_path = bdir(name_prefix2+'_flattened.zarr')\n",
    "warped_zarr_path = bdir(name_prefix2+'_flattened_lectps.zarr')\n",
    "\n",
    "\n",
    "# Parameters for TPS zarr warp\n",
    "grid_spacing = 3*(32,)\n",
    "chunks=3*(200,)\n",
    "nb_workers = 8 \n",
    "\n",
    "# affine parameters \n",
    "R_path = bdir('R.npy')\n",
    "b_path = bdir('b.npy')\n",
    "\n",
    "# grid I/O \n",
    "save_grid_values_path = None\n",
    "use_grid_values_path = bdir(\"grid_anchor_tps_allanchors_r2_fov55.npy\")\n",
    "\n",
    "# anchor parameters (using the surface on the other side and manually identified anchors on the cut surface)\n",
    "static_pts_paths = None\n",
    "\n",
    "##########################\n",
    "\n",
    "TPS_warp(moving_zarr_path, fixed_zarr_path, warped_zarr_path, moving_pts_paths, fixed_pts_paths,\n",
    "         static_pts_paths=static_pts_paths, R_path=R_path, b_path=b_path,\n",
    "          grid_spacing=grid_spacing, smooth=2, chunks=chunks,\n",
    "          nb_workers=nb_workers, padding=2, save_grid_values_path=save_grid_values_path, \n",
    "          show_residuals=True, use_grid_values_path=use_grid_values_path)\n",
    "\n",
    "# Convert zarr to tiff\n",
    "tiff_path = warped_zarr_path[:-5]+'_tiffs'\n",
    "convert_zarr_to_tiff(warped_zarr_path, tiff_path, num_workers=None)"
   ]
  },
  {
   "cell_type": "markdown",
   "id": "439d9474",
   "metadata": {},
   "source": [
    "# PV GFAP warp"
   ]
  },
  {
   "cell_type": "code",
   "execution_count": 3,
   "id": "b15403ff",
   "metadata": {},
   "outputs": [
    {
     "name": "stdout",
     "output_type": "stream",
     "text": [
      "Loading grid values...\n",
      "Warping image...\n"
     ]
    },
    {
     "name": "stderr",
     "output_type": "stream",
     "text": [
      "100%|██████████| 363/363 [00:35<00:00, 10.11it/s]\n"
     ]
    },
    {
     "name": "stdout",
     "output_type": "stream",
     "text": [
      "Time elapsed: 1.388800 minutes\n",
      "Loading z 0 - 200\n"
     ]
    },
    {
     "name": "stderr",
     "output_type": "stream",
     "text": [
      "100%|██████████| 200/200 [00:37<00:00,  4.51it/s]\n"
     ]
    },
    {
     "name": "stdout",
     "output_type": "stream",
     "text": [
      "Loading z 200 - 400\n"
     ]
    },
    {
     "name": "stderr",
     "output_type": "stream",
     "text": [
      "100%|██████████| 200/200 [00:38<00:00,  5.90it/s]\n"
     ]
    },
    {
     "name": "stdout",
     "output_type": "stream",
     "text": [
      "Loading z 400 - 526\n"
     ]
    },
    {
     "name": "stderr",
     "output_type": "stream",
     "text": [
      "100%|██████████| 126/126 [00:23<00:00,  5.51it/s]\n"
     ]
    }
   ],
   "source": [
    "moving_pts_paths = None # doesn't actually matter for this \n",
    "fixed_pts_paths =  None\n",
    "\n",
    "fixed_zarr_path = bdir(name_prefix2+'_flattened_lectps.zarr') \n",
    "moving_zarr_path = bdir(name_prefix2+'_flattened_lectps.zarr')\n",
    "warped_zarr_path = bdir(name_prefix2+'_flattened_lectps_pvgfaptps.zarr')\n",
    "\n",
    "\n",
    "# Parameters for TPS zarr warp\n",
    "grid_spacing = 3*(16,)\n",
    "chunks=3*(200,)\n",
    "nb_workers = 8 \n",
    "\n",
    "# affine parameters \n",
    "R_path = bdir('R_pvgfap_fov55.npy')\n",
    "b_path = bdir('b_pvgfap_fov55.npy')\n",
    "\n",
    "# grid I/O \n",
    "save_grid_values_path = None\n",
    "use_grid_values_path = bdir('grid_pvgfap_tps_fov55.npy')\n",
    "\n",
    "# anchor parameters (using the surface on the other side and manually identified anchors on the cut surface)\n",
    "static_pts_paths = None\n",
    "\n",
    "##########################\n",
    "\n",
    "TPS_warp(moving_zarr_path, fixed_zarr_path, warped_zarr_path, moving_pts_paths, fixed_pts_paths,\n",
    "         static_pts_paths=static_pts_paths, R_path=R_path, b_path=b_path,\n",
    "          grid_spacing=grid_spacing, smooth=2, chunks=chunks,\n",
    "          nb_workers=nb_workers, padding=2, save_grid_values_path=save_grid_values_path, \n",
    "          show_residuals=True, use_grid_values_path=use_grid_values_path)\n",
    "\n",
    "# Convert zarr to tiff\n",
    "tiff_path = warped_zarr_path[:-5]+'_tiffs'\n",
    "convert_zarr_to_tiff(warped_zarr_path, tiff_path, num_workers=None)"
   ]
  },
  {
   "cell_type": "code",
   "execution_count": 4,
   "id": "3705dea7",
   "metadata": {},
   "outputs": [
    {
     "name": "stdout",
     "output_type": "stream",
     "text": [
      "Loading grid values...\n",
      "Warping image...\n"
     ]
    },
    {
     "name": "stderr",
     "output_type": "stream",
     "text": [
      "100%|██████████| 363/363 [00:36<00:00,  9.84it/s]\n"
     ]
    },
    {
     "name": "stdout",
     "output_type": "stream",
     "text": [
      "Time elapsed: 0.975087 minutes\n",
      "Loading z 0 - 200\n"
     ]
    },
    {
     "name": "stderr",
     "output_type": "stream",
     "text": [
      "100%|██████████| 200/200 [00:37<00:00,  5.39it/s]\n"
     ]
    },
    {
     "name": "stdout",
     "output_type": "stream",
     "text": [
      "Loading z 200 - 400\n"
     ]
    },
    {
     "name": "stderr",
     "output_type": "stream",
     "text": [
      "100%|██████████| 200/200 [00:48<00:00,  5.21it/s]\n"
     ]
    },
    {
     "name": "stdout",
     "output_type": "stream",
     "text": [
      "Loading z 400 - 532\n"
     ]
    },
    {
     "name": "stderr",
     "output_type": "stream",
     "text": [
      "100%|██████████| 132/132 [00:34<00:00,  4.74it/s]\n"
     ]
    }
   ],
   "source": [
    "moving_pts_paths = None # doesn't actually matter for this \n",
    "fixed_pts_paths =  None\n",
    "\n",
    "fixed_zarr_path = bdir(name_prefix2+'_flattened_lectps_pvgfaptps.zarr') \n",
    "moving_zarr_path = bdir(name_prefix2+'_flattened_lectps_pvgfaptps.zarr')\n",
    "warped_zarr_path = bdir(name_prefix2+'_flattened_lectps_pvgfaptps_nfhtps.zarr')\n",
    "\n",
    "\n",
    "# Parameters for TPS zarr warp\n",
    "grid_spacing = 3*(16,)\n",
    "chunks=3*(200,)\n",
    "nb_workers = 8 \n",
    "\n",
    "# affine parameters \n",
    "R_path = bdir('R_nfh_fov55.npy')\n",
    "b_path = bdir('b_nfh_fov55.npy')\n",
    "\n",
    "# grid I/O \n",
    "save_grid_values_path = None\n",
    "use_grid_values_path = bdir('grid_pvgfap_nfh_tps_fov55.npy')\n",
    "\n",
    "# anchor parameters (using the surface on the other side and manually identified anchors on the cut surface)\n",
    "static_pts_paths = None\n",
    "\n",
    "##########################\n",
    "\n",
    "TPS_warp(moving_zarr_path, fixed_zarr_path, warped_zarr_path, moving_pts_paths, fixed_pts_paths,\n",
    "         static_pts_paths=static_pts_paths, R_path=R_path, b_path=b_path,\n",
    "          grid_spacing=grid_spacing, smooth=2, chunks=chunks,\n",
    "          nb_workers=nb_workers, padding=2, save_grid_values_path=save_grid_values_path, \n",
    "          show_residuals=True, use_grid_values_path=use_grid_values_path)\n",
    "\n",
    "# Convert zarr to tiff\n",
    "tiff_path = warped_zarr_path[:-5]+'_tiffs'\n",
    "convert_zarr_to_tiff(warped_zarr_path, tiff_path, num_workers=None)"
   ]
  }
 ],
 "metadata": {
  "kernelspec": {
   "display_name": "Python (hubris)",
   "language": "python",
   "name": "hubris"
  },
  "language_info": {
   "codemirror_mode": {
    "name": "ipython",
    "version": 3
   },
   "file_extension": ".py",
   "mimetype": "text/x-python",
   "name": "python",
   "nbconvert_exporter": "python",
   "pygments_lexer": "ipython3",
   "version": "3.6.8"
  }
 },
 "nbformat": 4,
 "nbformat_minor": 5
}

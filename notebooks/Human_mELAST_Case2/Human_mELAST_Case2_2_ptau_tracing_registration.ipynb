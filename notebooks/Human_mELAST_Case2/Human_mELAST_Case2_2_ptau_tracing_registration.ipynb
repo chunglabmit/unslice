{
 "cells": [
  {
   "cell_type": "markdown",
   "id": "b717c88a",
   "metadata": {},
   "source": [
    "<a id='top'></a>"
   ]
  },
  {
   "cell_type": "code",
   "execution_count": 58,
   "id": "20e4b6eb",
   "metadata": {},
   "outputs": [],
   "source": [
    "# Ignore warnings\n",
    "import warnings\n",
    "warnings.filterwarnings('ignore')\n",
    "\n",
    "\n",
    "# %matplotlib nbagg \n",
    "%matplotlib notebook\n",
    "# %matplotlib inline\n",
    "\n",
    "\n",
    "\n",
    "## Third party \n",
    "import numpy as np\n",
    "import os, time, zarr, sys\n",
    "from tqdm import tqdm_notebook as tqdm\n",
    "import matplotlib.pyplot as plt\n",
    "import matplotlib as mpl\n",
    "\n",
    "import unslice.IO as io\n",
    "from unslice.utils import *\n",
    "from unslice.registration.featmatch import *\n",
    "from unslice.registration.transform import *\n",
    "from unslice.registration.rigid import *\n",
    "from unslice.registration.gpu_transform import *\n",
    "from unslice.registration.utils import *\n",
    "from unslice.segmentation import *\n",
    "from unslice.tracing.pyoof import OOF, apply_oof_v2\n",
    "from unslice.tracing.skel import *\n",
    "from unslice.flatten import *\n",
    "from unslice.lightsheetcorrect import *\n",
    "\n",
    "\n"
   ]
  },
  {
   "cell_type": "code",
   "execution_count": 59,
   "id": "6fc3d497",
   "metadata": {},
   "outputs": [],
   "source": [
    "# Parameters that are constant throughout notebook\n",
    "working_dir = '/mnt/share3/webster/mEhmAD_1-3_real/tracing'\n",
    "\n",
    "def bdir(fname):\n",
    "    return os.path.join(working_dir, fname)\n",
    "\n",
    "# prefix to add to the beginning of each filename \n",
    "name_prefix = '3-ptau_pred'"
   ]
  },
  {
   "cell_type": "markdown",
   "id": "45574e79",
   "metadata": {},
   "source": [
    "# Table of contents\n",
    "\n",
    "### Pre-processing\n",
    "[1. Convert to zarr](#convert)<br>\n",
    "[2. Flatten warp](#flattenwarp)<br>\n",
    "[3. Lectin warp](#anchorwarp)<br>"
   ]
  },
  {
   "cell_type": "markdown",
   "id": "2cab3416",
   "metadata": {},
   "source": [
    "# Convert to zarr\n",
    "<a id='convert'></a>\n",
    "\n",
    "[Return to top](#top)"
   ]
  },
  {
   "cell_type": "code",
   "execution_count": 5,
   "id": "28075647",
   "metadata": {},
   "outputs": [
    {
     "name": "stdout",
     "output_type": "stream",
     "text": [
      "Reading image\n",
      "78.4296555519104 seconds elapsed\n"
     ]
    }
   ],
   "source": [
    "# 3\n",
    "\n",
    "slab_path = bdir('3-ptau_pred.tif')\n",
    "slab_zarr_path = bdir(name_prefix+'.zarr')\n",
    "pc2_img_size = (1024,)*3\n",
    "\n",
    "\n",
    "## Optional parameters \n",
    "load_num_slices = 40 # should be smaller than z chunk size, default None \n",
    "resample_num_slices = 1 # number of slices to be processed in one go for resampling, default 1\n",
    "resample_factor = (1,1) # original is (0.306,0.433,0.306)\n",
    "chunks = (200,200,200) \n",
    "num_workers = 20 \n",
    "file_names = None #'img_[0-9]{4}.tiff' # default 'img_[0-9]{4}.tiff'\n",
    "\n",
    "## crop\n",
    "xrange = None\n",
    "yrange = None\n",
    "zrange = None\n",
    "\n",
    "## rotate\n",
    "lateral_rotate_angle = None # default None\n",
    "\n",
    "## flip\n",
    "flip = (0,0,0) # default (0,0,0)\n",
    "\n",
    "\n",
    "#############\n",
    "start = time.time()\n",
    "utils.convert_to_zarr_v2(slab_path, slab_zarr_path, pc2_img_size, load_num_slices=load_num_slices,\n",
    "                        resample_num_slices=resample_num_slices, file_names=file_names, \n",
    "                        chunks=chunks, num_workers=num_workers, lateral_rotate_angle=lateral_rotate_angle,\n",
    "                        flip=flip, crop_xcoords=xrange, crop_ycoords=yrange, crop_zcoords=zrange,\n",
    "                        resample_factor=resample_factor)\n",
    "print(time.time()-start, 'seconds elapsed')"
   ]
  },
  {
   "cell_type": "markdown",
   "id": "c9f0997b",
   "metadata": {},
   "source": [
    "## Flatten warp the slabs\n",
    "\n",
    "[Return to top](#top)\n",
    "\n",
    "<a id='flattenwarp'></a>"
   ]
  },
  {
   "cell_type": "code",
   "execution_count": 3,
   "id": "ccdde239",
   "metadata": {},
   "outputs": [
    {
     "name": "stdout",
     "output_type": "stream",
     "text": [
      "New fixed image shape: (1095, 1161, 1444)\n",
      "New fixed range: x 5476 6571\n",
      "New fixed range: y 6003 7164\n",
      "New fixed range: z 196 1640\n"
     ]
    }
   ],
   "source": [
    "# (3)\n",
    "grid_path = '/mnt/share3/webster/mEhmAD_1-3_real/warping_grids/3-lec_grid_flatten_upsampled.npy'\n",
    "original_shape = (16172,8004,5052)\n",
    "new_grid_spacing = 3*(64,) # doesn't matter if range_mode= 'moving'\n",
    "range_mode='moving'\n",
    "\n",
    "# We will compute  the grid spacing from the zarr specifically \n",
    "save_grid_path = '/mnt/share3/webster/mEhmAD_1-3_real/warping_grids/3-lec_grid_flatten_upsampled_cropped.npy'\n",
    "\n",
    "# these are the coordinates in original image of FOV \n",
    "xrange = [5488,6512]\n",
    "yrange = [5984,7008]\n",
    "zrange = [0,1024]\n",
    "\n",
    "\n",
    "\n",
    "\n",
    "\n",
    "################\n",
    "grid_new,new_shape = crop_grid(grid_path, original_shape, new_grid_spacing, range_mode=range_mode, \n",
    "                         xrange=xrange, yrange=yrange, zrange=zrange, save_grid_path=save_grid_path)"
   ]
  },
  {
   "cell_type": "code",
   "execution_count": 4,
   "id": "2cc9a66d",
   "metadata": {
    "scrolled": true
   },
   "outputs": [
    {
     "name": "stdout",
     "output_type": "stream",
     "text": [
      "(1095, 1161, 1444)\n",
      "Loading grid values...\n",
      "Warping image...\n",
      "Moving image size: 2.147483648 GB\n"
     ]
    },
    {
     "name": "stderr",
     "output_type": "stream",
     "text": [
      "100%|██████████| 288/288 [00:30<00:00,  9.32it/s]\n"
     ]
    },
    {
     "name": "stdout",
     "output_type": "stream",
     "text": [
      "Time elapsed: 0.947850 minutes\n",
      "Loading z 0 - 200\n"
     ]
    },
    {
     "name": "stderr",
     "output_type": "stream",
     "text": [
      "100%|██████████| 36/36 [00:00<00:00, 39.85it/s]\n",
      "100%|██████████| 200/200 [00:08<00:00, 24.50it/s]\n"
     ]
    },
    {
     "name": "stdout",
     "output_type": "stream",
     "text": [
      "Loading z 200 - 400\n"
     ]
    },
    {
     "name": "stderr",
     "output_type": "stream",
     "text": [
      "100%|██████████| 36/36 [00:02<00:00, 17.80it/s]\n",
      "100%|██████████| 200/200 [00:08<00:00, 24.99it/s]\n"
     ]
    },
    {
     "name": "stdout",
     "output_type": "stream",
     "text": [
      "Loading z 400 - 600\n"
     ]
    },
    {
     "name": "stderr",
     "output_type": "stream",
     "text": [
      "100%|██████████| 36/36 [00:02<00:00, 14.15it/s]\n",
      "100%|██████████| 200/200 [00:08<00:00, 23.65it/s]\n"
     ]
    },
    {
     "name": "stdout",
     "output_type": "stream",
     "text": [
      "Loading z 600 - 800\n"
     ]
    },
    {
     "name": "stderr",
     "output_type": "stream",
     "text": [
      "100%|██████████| 36/36 [00:02<00:00, 13.72it/s]\n",
      "100%|██████████| 200/200 [00:07<00:00, 25.55it/s]\n"
     ]
    },
    {
     "name": "stdout",
     "output_type": "stream",
     "text": [
      "Loading z 800 - 1000\n"
     ]
    },
    {
     "name": "stderr",
     "output_type": "stream",
     "text": [
      "100%|██████████| 36/36 [00:02<00:00, 13.41it/s]\n",
      "100%|██████████| 200/200 [00:07<00:00, 25.07it/s]\n"
     ]
    },
    {
     "name": "stdout",
     "output_type": "stream",
     "text": [
      "Loading z 1000 - 1200\n"
     ]
    },
    {
     "name": "stderr",
     "output_type": "stream",
     "text": [
      "100%|██████████| 36/36 [00:02<00:00, 13.45it/s]\n",
      "100%|██████████| 200/200 [00:08<00:00, 22.72it/s]\n"
     ]
    },
    {
     "name": "stdout",
     "output_type": "stream",
     "text": [
      "Loading z 1200 - 1400\n"
     ]
    },
    {
     "name": "stderr",
     "output_type": "stream",
     "text": [
      "100%|██████████| 36/36 [00:01<00:00, 20.31it/s]\n",
      "100%|██████████| 200/200 [00:06<00:00, 29.52it/s]\n"
     ]
    },
    {
     "name": "stdout",
     "output_type": "stream",
     "text": [
      "Loading z 1400 - 1444\n"
     ]
    },
    {
     "name": "stderr",
     "output_type": "stream",
     "text": [
      "100%|██████████| 36/36 [00:00<00:00, 301.08it/s]\n",
      "100%|██████████| 44/44 [00:01<00:00, 37.06it/s]\n"
     ]
    }
   ],
   "source": [
    "# 3\n",
    "fixed_zarr_path = new_shape\n",
    "moving_zarr_path = bdir(name_prefix+'.zarr')\n",
    "warped_zarr_path = bdir(name_prefix+'_flattened.zarr')\n",
    "\n",
    "\n",
    "# Parameters for TPS zarr warp\n",
    "grid_spacing = 3*(64,)\n",
    "chunks=3*(200,)\n",
    "nb_workers = 8\n",
    "\n",
    "\n",
    "# grid I/O \n",
    "save_grid_values_path = None\n",
    "use_grid_values_path = '/mnt/share3/webster/mEhmAD_1-3_real/warping_grids/3-lec_grid_flatten_upsampled_cropped.npy'\n",
    "\n",
    "\n",
    "\n",
    "\n",
    "##########################\n",
    "\n",
    "moving_pts_paths = None # doesn't actually matter for this \n",
    "fixed_pts_paths =  None\n",
    "\n",
    "# anchor parameters (using the surface on the other side and manually identified anchors on the cut surface)\n",
    "static_pts_paths = None\n",
    "# affine parameters \n",
    "R_path = None\n",
    "b_path = None\n",
    "zadd = new_shape[2]-zarr.open(moving_zarr_path).shape[2]\n",
    "\n",
    "TPS_warp(moving_zarr_path, fixed_zarr_path, warped_zarr_path, moving_pts_paths, fixed_pts_paths,\n",
    "         static_pts_paths=static_pts_paths, R_path=R_path, b_path=b_path,\n",
    "          grid_spacing=grid_spacing, smooth=2, chunks=chunks,zadd=zadd,\n",
    "          nb_workers=nb_workers, padding=2, save_grid_values_path=save_grid_values_path, \n",
    "          show_residuals=True, use_grid_values_path=use_grid_values_path)\n",
    "\n",
    "# Convert zarr to tiff\n",
    "tiff_path = warped_zarr_path[:-5]+'_tiffs'\n",
    "convert_zarr_to_tiff(warped_zarr_path, tiff_path, num_workers=24)"
   ]
  },
  {
   "cell_type": "markdown",
   "id": "bb02f452",
   "metadata": {},
   "source": [
    "## TPS warp using ptauwarp grid\n",
    "\n",
    "[Return to top](#top)\n",
    "\n",
    "<a id='anchorwarp'></a>"
   ]
  },
  {
   "cell_type": "code",
   "execution_count": 60,
   "id": "345deb9a",
   "metadata": {},
   "outputs": [
    {
     "name": "stdout",
     "output_type": "stream",
     "text": [
      "New fixed image shape: (1374, 1249, 1193)\n",
      "New fixed range: x 355 1729\n",
      "New fixed range: y 0 1249\n",
      "New fixed range: z 0 1193\n"
     ]
    }
   ],
   "source": [
    "# (3)\n",
    "grid_path = '/mnt/share3/webster/mEhmAD_1-3_real/warping_grids/grid_ptauwarp_cropped_new_r2.npy'\n",
    "original_shape = (2651,1347,2000)\n",
    "new_grid_spacing = 3*(16,) # doesn't matter if range_mode= 'moving'\n",
    "range_mode='moving'\n",
    "\n",
    "# We will compute  the grid spacing from the zarr specifically \n",
    "save_grid_path = '/mnt/share3/webster/mEhmAD_1-3_real/warping_grids/grid_ptauwarp_cropped_new_r2_tracingcrop.npy'\n",
    "\n",
    "# these are the coordinates in original image of FOV \n",
    "xrange = [631,1726]\n",
    "yrange = [187,1348]\n",
    "zrange = [-305,1139]\n",
    "\n",
    "\n",
    "\n",
    "################\n",
    "grid_new,new_shape = crop_grid(grid_path, original_shape, new_grid_spacing, range_mode=range_mode, \n",
    "                         xrange=xrange, yrange=yrange, zrange=zrange, save_grid_path=save_grid_path)"
   ]
  },
  {
   "cell_type": "code",
   "execution_count": 62,
   "id": "d61bd322",
   "metadata": {
    "scrolled": true
   },
   "outputs": [
    {
     "name": "stdout",
     "output_type": "stream",
     "text": [
      "(1374, 1249, 1193)\n",
      "Loading grid values...\n",
      "Warping image...\n",
      "Moving image size: 3.67149996 GB\n"
     ]
    },
    {
     "name": "stderr",
     "output_type": "stream",
     "text": [
      "100%|██████████| 294/294 [00:40<00:00,  7.19it/s]\n"
     ]
    },
    {
     "name": "stdout",
     "output_type": "stream",
     "text": [
      "Time elapsed: 1.240922 minutes\n",
      "Loading z 0 - 200\n"
     ]
    },
    {
     "name": "stderr",
     "output_type": "stream",
     "text": [
      "100%|██████████| 49/49 [00:02<00:00, 20.22it/s]\n",
      "100%|██████████| 200/200 [00:09<00:00, 20.75it/s]\n"
     ]
    },
    {
     "name": "stdout",
     "output_type": "stream",
     "text": [
      "Loading z 200 - 400\n"
     ]
    },
    {
     "name": "stderr",
     "output_type": "stream",
     "text": [
      "100%|██████████| 49/49 [00:02<00:00, 18.47it/s]\n",
      "100%|██████████| 200/200 [00:07<00:00, 26.48it/s]\n"
     ]
    },
    {
     "name": "stdout",
     "output_type": "stream",
     "text": [
      "Loading z 400 - 600\n"
     ]
    },
    {
     "name": "stderr",
     "output_type": "stream",
     "text": [
      "100%|██████████| 49/49 [00:02<00:00, 18.27it/s]\n",
      "100%|██████████| 200/200 [00:08<00:00, 24.07it/s]\n"
     ]
    },
    {
     "name": "stdout",
     "output_type": "stream",
     "text": [
      "Loading z 600 - 800\n"
     ]
    },
    {
     "name": "stderr",
     "output_type": "stream",
     "text": [
      "100%|██████████| 49/49 [00:02<00:00, 17.83it/s]\n",
      "100%|██████████| 200/200 [00:07<00:00, 26.46it/s]\n"
     ]
    },
    {
     "name": "stdout",
     "output_type": "stream",
     "text": [
      "Loading z 800 - 1000\n"
     ]
    },
    {
     "name": "stderr",
     "output_type": "stream",
     "text": [
      "100%|██████████| 49/49 [00:02<00:00, 17.87it/s]\n",
      "100%|██████████| 200/200 [00:07<00:00, 27.37it/s]\n"
     ]
    },
    {
     "name": "stdout",
     "output_type": "stream",
     "text": [
      "Loading z 1000 - 1193\n"
     ]
    },
    {
     "name": "stderr",
     "output_type": "stream",
     "text": [
      "100%|██████████| 49/49 [00:01<00:00, 34.37it/s]\n",
      "100%|██████████| 193/193 [00:06<00:00, 28.77it/s]\n"
     ]
    }
   ],
   "source": [
    "# 3\n",
    "fixed_zarr_path = new_shape\n",
    "moving_zarr_path = bdir(name_prefix+'_flattened.zarr')\n",
    "warped_zarr_path = bdir(name_prefix+'_flattened_ptauwarp_new_r2.zarr')\n",
    "\n",
    "\n",
    "# Parameters for TPS zarr warp\n",
    "grid_spacing = 3*(16,)\n",
    "chunks=3*(200,)\n",
    "nb_workers = 8\n",
    "\n",
    "\n",
    "# grid I/O \n",
    "save_grid_values_path = None\n",
    "use_grid_values_path = '/mnt/share3/webster/mEhmAD_1-3_real/warping_grids/grid_ptauwarp_cropped_new_r2_tracingcrop.npy'\n",
    "\n",
    "\n",
    "\n",
    "\n",
    "##########################\n",
    "\n",
    "moving_pts_paths = None # doesn't actually matter for this \n",
    "fixed_pts_paths =  None\n",
    "\n",
    "# anchor parameters (using the surface on the other side and manually identified anchors on the cut surface)\n",
    "static_pts_paths = None\n",
    "# affine parameters \n",
    "R_path = None\n",
    "b_path = None\n",
    "zadd = new_shape[2]-zarr.open(moving_zarr_path).shape[2]\n",
    "\n",
    "TPS_warp(moving_zarr_path, fixed_zarr_path, warped_zarr_path, moving_pts_paths, fixed_pts_paths,\n",
    "         static_pts_paths=static_pts_paths, R_path=R_path, b_path=b_path,\n",
    "          grid_spacing=grid_spacing, smooth=2, chunks=chunks,zadd=zadd,\n",
    "          nb_workers=nb_workers, padding=2, save_grid_values_path=save_grid_values_path, \n",
    "          show_residuals=True, use_grid_values_path=use_grid_values_path)\n",
    "\n",
    "# Convert zarr to tiff\n",
    "tiff_path = warped_zarr_path[:-5]+'_tiffs'\n",
    "convert_zarr_to_tiff(warped_zarr_path, tiff_path, num_workers=24)"
   ]
  },
  {
   "cell_type": "markdown",
   "id": "46415ada",
   "metadata": {},
   "source": [
    "# Get surface endpoints"
   ]
  },
  {
   "cell_type": "code",
   "execution_count": 63,
   "id": "254b4339",
   "metadata": {},
   "outputs": [
    {
     "name": "stderr",
     "output_type": "stream",
     "text": [
      "100%|██████████| 294/294 [00:21<00:00, 13.99it/s]\n"
     ]
    }
   ],
   "source": [
    "# Now set the parameters \n",
    "# Need one set for the top surface and one set for the bottom surface of each slab \n",
    "\n",
    "zarr_path = bdir(name_prefix+'_flattened_ptauwarp_new_r2.zarr')\n",
    "zarr_segmented_path = bdir(name_prefix+'_flattened_ptauwarp_new_r2_segmented.zarr') # bdir('vessel_tests/'+name_prefix+'_segmented.zarr')\n",
    "\n",
    "sample_coord_ranges = None #[[[0,1000],[0,1000],[0,400]]]\n",
    "threshold_type = \"set\" # \"set\" or \"graphcut\" or \"otsu\"\n",
    "\n",
    "if threshold_type == 'set':\n",
    "    intensity_thresholds = [60000]\n",
    "    morphopts = [None]\n",
    "\n",
    "    for i in range(len(intensity_thresholds)):\n",
    "        opts = {\n",
    "            'percentile_threshold': intensity_thresholds[i],\n",
    "            'threshold_type': threshold_type,\n",
    "            'morphopts': morphopts[i],\n",
    "            'num_workers': 24,\n",
    "            'sample_coord_ranges': sample_coord_ranges\n",
    "        }\n",
    "        \n",
    "        threshold_image(zarr_path, zarr_segmented_path, **opts)\n",
    "        \n",
    "elif threshold_type == 'graphcut':\n",
    "    min_thresholds = [.25*65535]\n",
    "    saturate_image_thresholds = [.95*65535]\n",
    "    morphopts = [None]  #[('dilate','ball',2)]*2\n",
    "    \n",
    "    for i in range(len(min_thresholds)):\n",
    "        opts = {\n",
    "            'min_threshold' : min_thresholds[i], # This sets a minimum intensity threshold for pixels \n",
    "            'saturate_image_threshold' : saturate_image_thresholds[i],\n",
    "            'k' : 2,\n",
    "            'alpha' : 0.25,\n",
    "            'num_workers' : 24,\n",
    "            'overlap' : 25,\n",
    "            'morphopts' : morphopts[i],\n",
    "            'sample_coord_ranges' : sample_coord_ranges \n",
    "            }\n",
    "        zarr_graphcut3d(zarr_path, zarr_segmented_path, **opts)"
   ]
  },
  {
   "cell_type": "code",
   "execution_count": 80,
   "id": "f7c0f78a",
   "metadata": {},
   "outputs": [
    {
     "name": "stderr",
     "output_type": "stream",
     "text": [
      "100%|██████████| 294/294 [00:38<00:00,  7.62it/s]\n"
     ]
    },
    {
     "name": "stdout",
     "output_type": "stream",
     "text": [
      "Time elapsed: 0.016972 hours\n"
     ]
    }
   ],
   "source": [
    "surf_zarr_path = None \n",
    "segmented_path = bdir(name_prefix+'_flattened_ptauwarp_new_r2_segmented.zarr')\n",
    "skel_path = bdir(name_prefix+'_flattened_ptauwarp_new_r2_segmented_skel.zarr')\n",
    "endpoints_path = bdir(name_prefix+'_endpoints_top.npy')\n",
    "min_branch_length = 15\n",
    "min_cc = 100\n",
    "overlap = 25 # make sure this is much greater than the min_cc and min_branch_length \n",
    "num_workers = 24\n",
    "\n",
    "# Kwargs for prune_directionality \n",
    "prune_directionality_num_points = 4\n",
    "orientation = 'top' # first we get all the top surface points \n",
    "\n",
    "\n",
    "############# Perform skeletonization ##############\n",
    "start = time.time()\n",
    "top_endpoints = trace_zarr(segmented_path, surf_zarr_path, skel_path,\n",
    "                      min_branch_length, min_cc, overlap=overlap, num_workers=num_workers,\n",
    "                      prune_directionality_num_points=prune_directionality_num_points,\n",
    "                      orientation=orientation) # , z_shape=z_shape)\n",
    "np.save(endpoints_path,top_endpoints)\n",
    "print(\"Time elapsed: %f hours\" %((time.time()-start)/3600))\n",
    "\n"
   ]
  },
  {
   "cell_type": "code",
   "execution_count": 81,
   "id": "7d948ea1",
   "metadata": {},
   "outputs": [
    {
     "name": "stdout",
     "output_type": "stream",
     "text": [
      "(1751, 3)\n"
     ]
    }
   ],
   "source": [
    "print(top_endpoints.shape)"
   ]
  },
  {
   "cell_type": "code",
   "execution_count": 82,
   "id": "4f2c8c0a",
   "metadata": {},
   "outputs": [
    {
     "data": {
      "text/plain": [
       "'/mnt/share3/webster/mEhmAD_1-3_real/tracing/3-ptau_pred_flattened_ptauwarp_new_r2_segmented_skel.tif'"
      ]
     },
     "execution_count": 82,
     "metadata": {},
     "output_type": "execute_result"
    }
   ],
   "source": [
    "# view skeleton\n",
    "\n",
    "z = zarr.open(skel_path)\n",
    "img = z[198:1293,:1082]\n",
    "\n",
    "io.writeData(skel_path[:-5]+'.tif',img)"
   ]
  },
  {
   "cell_type": "code",
   "execution_count": 66,
   "id": "24f3db84",
   "metadata": {},
   "outputs": [
    {
     "data": {
      "text/plain": [
       "'/mnt/share3/webster/mEhmAD_1-3_real/tracing/3-ptau_pred_flattened_ptauwarp_new_r2_segmented.tif'"
      ]
     },
     "execution_count": 66,
     "metadata": {},
     "output_type": "execute_result"
    }
   ],
   "source": [
    "# view segmentation\n",
    "\n",
    "z = zarr.open(segmented_path)\n",
    "img = z[:]\n",
    "\n",
    "io.writeData(segmented_path[:-5]+'.tif',img)"
   ]
  }
 ],
 "metadata": {
  "kernelspec": {
   "display_name": "Python (hubris)",
   "language": "python",
   "name": "hubris"
  },
  "language_info": {
   "codemirror_mode": {
    "name": "ipython",
    "version": 3
   },
   "file_extension": ".py",
   "mimetype": "text/x-python",
   "name": "python",
   "nbconvert_exporter": "python",
   "pygments_lexer": "ipython3",
   "version": "3.6.8"
  }
 },
 "nbformat": 4,
 "nbformat_minor": 5
}

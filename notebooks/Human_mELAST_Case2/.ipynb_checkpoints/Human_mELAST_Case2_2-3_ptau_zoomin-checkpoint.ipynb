{
 "cells": [
  {
   "cell_type": "markdown",
   "id": "e6897b27",
   "metadata": {},
   "source": [
    "<a id='top'></a>"
   ]
  },
  {
   "cell_type": "code",
   "execution_count": 1,
   "id": "03b30fbf",
   "metadata": {},
   "outputs": [],
   "source": [
    "# Ignore warnings\n",
    "import warnings\n",
    "warnings.filterwarnings('ignore')\n",
    "\n",
    "\n",
    "# %matplotlib nbagg \n",
    "%matplotlib notebook\n",
    "# %matplotlib inline\n",
    "\n",
    "\n",
    "\n",
    "## Third party \n",
    "import numpy as np\n",
    "import os, time, zarr, sys\n",
    "from tqdm import tqdm_notebook as tqdm\n",
    "import matplotlib.pyplot as plt\n",
    "import matplotlib as mpl\n",
    "\n",
    "import unslice.IO as io\n",
    "from unslice.utils import *\n",
    "from unslice.registration.featmatch import *\n",
    "from unslice.registration.transform import *\n",
    "from unslice.registration.rigid import *\n",
    "from unslice.registration.gpu_transform import *\n",
    "from unslice.registration.utils import *\n",
    "from unslice.segmentation import *\n",
    "from unslice.tracing.pyoof import OOF, apply_oof_v2\n",
    "from unslice.tracing.skel import *\n",
    "from unslice.flatten import *\n",
    "from unslice.lightsheetcorrect import *\n",
    "\n",
    "\n"
   ]
  },
  {
   "cell_type": "code",
   "execution_count": 3,
   "id": "0acac20e",
   "metadata": {},
   "outputs": [],
   "source": [
    "# Parameters that are constant throughout notebook\n",
    "working_dir = '/mnt/share3/webster/mEhmAD_2-3'\n",
    "\n",
    "def bdir(fname):\n",
    "    return os.path.join(working_dir, fname)\n",
    "\n",
    "# prefix to add to the beginning of each filename \n",
    "name_prefix = '3-ptau_cropped' \n",
    "name_prefix2 = '2-ptau_cropped' "
   ]
  },
  {
   "cell_type": "markdown",
   "id": "25ed9167",
   "metadata": {},
   "source": [
    "# Table of contents\n",
    "\n",
    "### Pre-processing\n",
    "[1. Convert to zarr](#convert)<br>\n",
    "[2. Flatten warp](#flattenwarp)<br>\n",
    "[3. Lectin warp](#anchorwarp)<br>\n",
    "[5. Background correction](#background)<br>\n",
    "\n",
    "### Endpoint detection\n",
    "[5. Vessel filter](#oof)<br>\n",
    "[6. Vessel segment](#vessel_segment)<br>\n",
    "[7. Vessel skeletonization](#skel)<br>\n",
    "[8. Vessel endpoint detection](#epdetect)<br>\n",
    "\n",
    "### Surface flattening \n",
    "[11. UV map](#uvmap)<br>\n",
    "[12. Rigid align UV maps](#uvuvalign)<br>\n",
    "[13. Flatten warp](#flattenwarp)<br>\n",
    "[14. Flatten warp anchor points, detected points](#pointflatten)<br>\n",
    "\n",
    "### Transformation\n",
    "[14. Rigid transformation based on manual anchor points](#rigidanchor)<br>\n",
    "[15. TPS transformation based on manual anchor points (round 0)](#anchorwarp)<br>"
   ]
  },
  {
   "cell_type": "markdown",
   "id": "fc45cfe3",
   "metadata": {},
   "source": [
    "### 7. Crop fixed flattened zarr"
   ]
  },
  {
   "cell_type": "code",
   "execution_count": 90,
   "id": "4812390c",
   "metadata": {
    "scrolled": true
   },
   "outputs": [
    {
     "name": "stdout",
     "output_type": "stream",
     "text": [
      "Processing chunk x:5759-8410, y:5981-7328, z:6300-6500\n"
     ]
    },
    {
     "name": "stderr",
     "output_type": "stream",
     "text": [
      "100%|██████████| 98/98 [01:00<00:00,  1.63it/s]\n",
      "100%|██████████| 98/98 [00:07<00:00, 12.93it/s]\n"
     ]
    },
    {
     "name": "stdout",
     "output_type": "stream",
     "text": [
      "Processing chunk x:5759-8410, y:5981-7328, z:6500-6700\n"
     ]
    },
    {
     "name": "stderr",
     "output_type": "stream",
     "text": [
      "100%|██████████| 98/98 [01:08<00:00,  1.43it/s]\n",
      "100%|██████████| 98/98 [00:06<00:00, 14.31it/s]\n"
     ]
    },
    {
     "name": "stdout",
     "output_type": "stream",
     "text": [
      "Processing chunk x:5759-8410, y:5981-7328, z:6700-6900\n"
     ]
    },
    {
     "name": "stderr",
     "output_type": "stream",
     "text": [
      "100%|██████████| 98/98 [01:18<00:00,  1.25it/s]\n",
      "100%|██████████| 98/98 [00:06<00:00, 14.59it/s]\n"
     ]
    },
    {
     "name": "stdout",
     "output_type": "stream",
     "text": [
      "Processing chunk x:5759-8410, y:5981-7328, z:6900-7100\n"
     ]
    },
    {
     "name": "stderr",
     "output_type": "stream",
     "text": [
      "100%|██████████| 98/98 [00:54<00:00,  1.81it/s]\n",
      "100%|██████████| 98/98 [00:06<00:00, 15.21it/s]\n"
     ]
    },
    {
     "name": "stdout",
     "output_type": "stream",
     "text": [
      "Processing chunk x:5759-8410, y:5981-7328, z:7100-7300\n"
     ]
    },
    {
     "name": "stderr",
     "output_type": "stream",
     "text": [
      "100%|██████████| 98/98 [00:54<00:00,  1.80it/s]\n",
      "100%|██████████| 98/98 [00:06<00:00, 14.79it/s]\n"
     ]
    },
    {
     "name": "stdout",
     "output_type": "stream",
     "text": [
      "Processing chunk x:5759-8410, y:5981-7328, z:7300-7500\n"
     ]
    },
    {
     "name": "stderr",
     "output_type": "stream",
     "text": [
      "100%|██████████| 98/98 [00:54<00:00,  1.78it/s]\n",
      "100%|██████████| 98/98 [00:06<00:00, 14.92it/s]\n"
     ]
    },
    {
     "name": "stdout",
     "output_type": "stream",
     "text": [
      "Processing chunk x:5759-8410, y:5981-7328, z:7500-7700\n"
     ]
    },
    {
     "name": "stderr",
     "output_type": "stream",
     "text": [
      "100%|██████████| 98/98 [00:56<00:00,  1.72it/s]\n",
      "100%|██████████| 98/98 [00:07<00:00, 12.66it/s]\n"
     ]
    },
    {
     "name": "stdout",
     "output_type": "stream",
     "text": [
      "Processing chunk x:5759-8410, y:5981-7328, z:7700-7900\n"
     ]
    },
    {
     "name": "stderr",
     "output_type": "stream",
     "text": [
      "100%|██████████| 98/98 [01:04<00:00,  1.51it/s]\n",
      "100%|██████████| 98/98 [00:06<00:00, 14.69it/s]\n"
     ]
    },
    {
     "name": "stdout",
     "output_type": "stream",
     "text": [
      "Processing chunk x:5759-8410, y:5981-7328, z:7900-8100\n"
     ]
    },
    {
     "name": "stderr",
     "output_type": "stream",
     "text": [
      "100%|██████████| 98/98 [00:47<00:00,  4.01it/s]\n",
      "100%|██████████| 98/98 [00:05<00:00, 17.60it/s]\n"
     ]
    },
    {
     "name": "stdout",
     "output_type": "stream",
     "text": [
      "Processing chunk x:5759-8410, y:5981-7328, z:8100-8300\n"
     ]
    },
    {
     "name": "stderr",
     "output_type": "stream",
     "text": [
      "100%|██████████| 98/98 [00:47<00:00,  2.07it/s]\n",
      "100%|██████████| 98/98 [00:10<00:00,  9.74it/s]\n"
     ]
    },
    {
     "name": "stdout",
     "output_type": "stream",
     "text": [
      "Loading z 0 - 200\n"
     ]
    },
    {
     "name": "stderr",
     "output_type": "stream",
     "text": [
      "100%|██████████| 98/98 [00:07<00:00, 12.43it/s]\n",
      "100%|██████████| 200/200 [00:24<00:00,  8.10it/s]\n"
     ]
    },
    {
     "name": "stdout",
     "output_type": "stream",
     "text": [
      "Loading z 200 - 400\n"
     ]
    },
    {
     "name": "stderr",
     "output_type": "stream",
     "text": [
      "100%|██████████| 98/98 [00:17<00:00,  5.55it/s]\n",
      "100%|██████████| 200/200 [00:27<00:00,  7.24it/s]\n"
     ]
    },
    {
     "name": "stdout",
     "output_type": "stream",
     "text": [
      "Loading z 400 - 600\n"
     ]
    },
    {
     "name": "stderr",
     "output_type": "stream",
     "text": [
      "100%|██████████| 98/98 [00:07<00:00, 13.00it/s]\n",
      "100%|██████████| 200/200 [00:19<00:00, 10.17it/s]\n"
     ]
    },
    {
     "name": "stdout",
     "output_type": "stream",
     "text": [
      "Loading z 600 - 800\n"
     ]
    },
    {
     "name": "stderr",
     "output_type": "stream",
     "text": [
      "100%|██████████| 98/98 [00:08<00:00, 12.06it/s]\n",
      "100%|██████████| 200/200 [00:19<00:00, 10.28it/s]\n"
     ]
    },
    {
     "name": "stdout",
     "output_type": "stream",
     "text": [
      "Loading z 800 - 1000\n"
     ]
    },
    {
     "name": "stderr",
     "output_type": "stream",
     "text": [
      "100%|██████████| 98/98 [00:18<00:00,  5.25it/s]\n",
      "100%|██████████| 200/200 [00:20<00:00,  9.63it/s]\n"
     ]
    },
    {
     "name": "stdout",
     "output_type": "stream",
     "text": [
      "Loading z 1000 - 1200\n"
     ]
    },
    {
     "name": "stderr",
     "output_type": "stream",
     "text": [
      "100%|██████████| 98/98 [00:07<00:00, 12.33it/s]\n",
      "100%|██████████| 200/200 [00:15<00:00, 13.33it/s]\n"
     ]
    },
    {
     "name": "stdout",
     "output_type": "stream",
     "text": [
      "Loading z 1200 - 1400\n"
     ]
    },
    {
     "name": "stderr",
     "output_type": "stream",
     "text": [
      "100%|██████████| 98/98 [00:07<00:00, 13.61it/s]\n",
      "100%|██████████| 200/200 [00:14<00:00, 14.06it/s]\n"
     ]
    },
    {
     "name": "stdout",
     "output_type": "stream",
     "text": [
      "Loading z 1400 - 1600\n"
     ]
    },
    {
     "name": "stderr",
     "output_type": "stream",
     "text": [
      "100%|██████████| 98/98 [00:08<00:00, 12.05it/s]\n",
      "100%|██████████| 200/200 [00:14<00:00, 13.96it/s]\n"
     ]
    },
    {
     "name": "stdout",
     "output_type": "stream",
     "text": [
      "Loading z 1600 - 1800\n"
     ]
    },
    {
     "name": "stderr",
     "output_type": "stream",
     "text": [
      "100%|██████████| 98/98 [00:06<00:00, 15.39it/s]\n",
      "100%|██████████| 200/200 [00:14<00:00, 13.70it/s]\n"
     ]
    },
    {
     "name": "stdout",
     "output_type": "stream",
     "text": [
      "Loading z 1800 - 2000\n"
     ]
    },
    {
     "name": "stderr",
     "output_type": "stream",
     "text": [
      "100%|██████████| 98/98 [00:07<00:00, 12.51it/s]\n",
      "100%|██████████| 200/200 [00:15<00:00, 13.01it/s]\n"
     ]
    }
   ],
   "source": [
    "xrange = [5759,8410]\n",
    "yrange = [5981,7328]\n",
    "zrange = [6300,8300]\n",
    "num_workers = 24\n",
    "source_zarr_path = bdir('/mnt/share3/webster/mEhmAD_1-3_real/3-ptau_flattened_anchorwarp_r1.zarr')\n",
    "sink_zarr_path = bdir(name_prefix+'_flattened_anchorwarp_r1.zarr')\n",
    "\n",
    "\n",
    "\n",
    "###############\n",
    "crop_zarr(source_zarr_path, sink_zarr_path, xrange=xrange, yrange=yrange, zrange=zrange, \n",
    "          load_num_slices=None, num_workers=num_workers)\n",
    "\n",
    "tiff_path = sink_zarr_path[:-5]+'_tiffs'\n",
    "convert_zarr_to_tiff(sink_zarr_path, tiff_path, num_workers=24)"
   ]
  },
  {
   "cell_type": "code",
   "execution_count": 70,
   "id": "a868de2c",
   "metadata": {},
   "outputs": [
    {
     "data": {
      "text/plain": [
       "(2808, 1492, 2000)"
      ]
     },
     "execution_count": 70,
     "metadata": {},
     "output_type": "execute_result"
    }
   ],
   "source": [
    "z = zarr.open('/mnt/share3/webster/mEhmAD_2-3/2-ptau_cropped_flattened_x4545-7353_y5226-6718.zarr')\n",
    "z.shape"
   ]
  },
  {
   "cell_type": "code",
   "execution_count": 73,
   "id": "104381a2",
   "metadata": {},
   "outputs": [
    {
     "name": "stdout",
     "output_type": "stream",
     "text": [
      "[[764.78517391 138.3600045  539.8358758 ]]\n"
     ]
    }
   ],
   "source": [
    "grid_path = '/mnt/share3/webster/mEhmAD_2-3/warping_grids/grid_ptauwarp_cropped.npy'\n",
    "pts_path = np.array([[557,76,490-150]])\n",
    "warped_zarr_path = '/mnt/share3/webster/mEhmAD_2-3/2-ptau_cropped_flattened_x4545-7353_y5226-6718_ptauwarp.zarr'\n",
    "save_path = None\n",
    "save_json = False \n",
    "inverse_transform = False \n",
    "\n",
    "\n",
    "#####\n",
    "coords = grid_transform_pts(grid_path, pts_path, warped_zarr_path, save_path=save_path, save_json=save_json, inverse_transform=inverse_transform)# Transform moving points to flattened frame \n",
    "print(coords)"
   ]
  },
  {
   "cell_type": "markdown",
   "id": "6fc9aa2e",
   "metadata": {},
   "source": [
    "### Based on the fixed bounding box, find where in moving flattened frame this corresponds to"
   ]
  },
  {
   "cell_type": "code",
   "execution_count": 28,
   "id": "95815db8",
   "metadata": {},
   "outputs": [],
   "source": [
    "xrange = [5759,8410]\n",
    "yrange = [5981,7328]\n",
    "zrange = [0,2000] #[7300,8300]\n",
    "\n",
    "\n",
    "# sample points in the box\n",
    "xs = np.linspace(xrange[0],xrange[1],8)\n",
    "ys = np.linspace(yrange[0],yrange[1],8)\n",
    "zs = np.linspace(zrange[0],zrange[1],8)\n",
    "\n",
    "X,Y,Z = np.meshgrid(xs,ys,zs)\n",
    "coords = np.vstack((X.ravel(), Y.ravel(), Z.ravel())).T"
   ]
  },
  {
   "cell_type": "code",
   "execution_count": 31,
   "id": "c0ce8a7b",
   "metadata": {},
   "outputs": [],
   "source": [
    "# Now we warp all of these points to flattened frame to see where the bounds should be set\n",
    "grid_path = bdir('warping_grids/grid_anchor_tps_r0_upsampled.npy')\n",
    "\n",
    "pts_path = coords.copy() # flattened moving frame bounding box\n",
    "warped_zarr_path = bdir('2-ptau_flattened_lectinwarp.zarr')\n",
    "save_path = None\n",
    "save_json = False \n",
    "inverse_transform = False\n",
    "\n",
    "\n",
    "#####\n",
    "coords_ = grid_transform_pts(grid_path, pts_path, warped_zarr_path, save_path=save_path, save_json=save_json, inverse_transform=inverse_transform)# Transform moving points to flattened frame "
   ]
  },
  {
   "cell_type": "code",
   "execution_count": 33,
   "id": "1f388341",
   "metadata": {},
   "outputs": [
    {
     "name": "stdout",
     "output_type": "stream",
     "text": [
      "4545.153556123349 7353.207672228171\n",
      "5226.881776813623 6718.043409879963\n",
      "218.78928268012368 2048.0387690529706\n"
     ]
    }
   ],
   "source": [
    "pad = 2\n",
    "\n",
    "print(coords_[:,0].min()-pad,coords_[:,0].max()+pad)\n",
    "print(coords_[:,1].min()-pad,coords_[:,1].max()+pad)\n",
    "print(coords_[:,2].min()-pad,coords_[:,2].max()+pad) # we don't actually pay attentionto the z though "
   ]
  },
  {
   "cell_type": "markdown",
   "id": "76108b4f",
   "metadata": {},
   "source": [
    "### 6. crop moving flattened zarr "
   ]
  },
  {
   "cell_type": "code",
   "execution_count": 34,
   "id": "5caf6388",
   "metadata": {
    "scrolled": true
   },
   "outputs": [
    {
     "name": "stdout",
     "output_type": "stream",
     "text": [
      "Processing chunk x:4545-7353, y:5226-6718, z:0-200\n"
     ]
    },
    {
     "name": "stderr",
     "output_type": "stream",
     "text": [
      "100%|██████████| 120/120 [00:05<00:00, 21.25it/s]\n",
      "100%|██████████| 120/120 [00:00<00:00, 244.73it/s]"
     ]
    },
    {
     "name": "stdout",
     "output_type": "stream",
     "text": [
      "Processing chunk x:4545-7353, y:5226-6718, z:200-400\n"
     ]
    },
    {
     "name": "stderr",
     "output_type": "stream",
     "text": [
      "\n",
      "100%|██████████| 120/120 [00:15<00:00,  7.58it/s]\n",
      "100%|██████████| 120/120 [00:04<00:00, 24.07it/s]"
     ]
    },
    {
     "name": "stdout",
     "output_type": "stream",
     "text": [
      "Processing chunk x:4545-7353, y:5226-6718, z:400-600\n"
     ]
    },
    {
     "name": "stderr",
     "output_type": "stream",
     "text": [
      "\n",
      "100%|██████████| 120/120 [00:22<00:00,  5.42it/s]\n",
      "100%|██████████| 120/120 [00:08<00:00, 14.57it/s]"
     ]
    },
    {
     "name": "stdout",
     "output_type": "stream",
     "text": [
      "Processing chunk x:4545-7353, y:5226-6718, z:600-800\n"
     ]
    },
    {
     "name": "stderr",
     "output_type": "stream",
     "text": [
      "\n",
      "100%|██████████| 120/120 [00:25<00:00,  4.72it/s]\n",
      "100%|██████████| 120/120 [00:08<00:00, 13.67it/s]"
     ]
    },
    {
     "name": "stdout",
     "output_type": "stream",
     "text": [
      "Processing chunk x:4545-7353, y:5226-6718, z:800-1000\n"
     ]
    },
    {
     "name": "stderr",
     "output_type": "stream",
     "text": [
      "\n",
      "100%|██████████| 120/120 [00:26<00:00,  4.60it/s]\n",
      "100%|██████████| 120/120 [00:08<00:00, 14.39it/s]\n"
     ]
    },
    {
     "name": "stdout",
     "output_type": "stream",
     "text": [
      "Processing chunk x:4545-7353, y:5226-6718, z:1000-1200\n"
     ]
    },
    {
     "name": "stderr",
     "output_type": "stream",
     "text": [
      "100%|██████████| 120/120 [00:26<00:00,  4.61it/s]\n",
      "100%|██████████| 120/120 [00:09<00:00, 13.15it/s]"
     ]
    },
    {
     "name": "stdout",
     "output_type": "stream",
     "text": [
      "Processing chunk x:4545-7353, y:5226-6718, z:1200-1400\n"
     ]
    },
    {
     "name": "stderr",
     "output_type": "stream",
     "text": [
      "\n",
      "100%|██████████| 120/120 [00:26<00:00,  4.48it/s]\n",
      "100%|██████████| 120/120 [00:08<00:00, 13.74it/s]"
     ]
    },
    {
     "name": "stdout",
     "output_type": "stream",
     "text": [
      "Processing chunk x:4545-7353, y:5226-6718, z:1400-1600\n"
     ]
    },
    {
     "name": "stderr",
     "output_type": "stream",
     "text": [
      "\n",
      "100%|██████████| 120/120 [00:25<00:00,  4.72it/s]\n",
      "100%|██████████| 120/120 [00:08<00:00, 13.84it/s]"
     ]
    },
    {
     "name": "stdout",
     "output_type": "stream",
     "text": [
      "Processing chunk x:4545-7353, y:5226-6718, z:1600-1800\n"
     ]
    },
    {
     "name": "stderr",
     "output_type": "stream",
     "text": [
      "\n",
      "100%|██████████| 120/120 [00:24<00:00,  4.91it/s]\n",
      "100%|██████████| 120/120 [00:08<00:00, 13.46it/s]\n"
     ]
    },
    {
     "name": "stdout",
     "output_type": "stream",
     "text": [
      "Processing chunk x:4545-7353, y:5226-6718, z:1800-2000\n"
     ]
    },
    {
     "name": "stderr",
     "output_type": "stream",
     "text": [
      "100%|██████████| 120/120 [00:24<00:00,  4.83it/s]\n",
      "100%|██████████| 120/120 [00:08<00:00, 14.43it/s]\n"
     ]
    }
   ],
   "source": [
    "# bounding box of moving in flat frame\n",
    "xrange = [4545,7353]\n",
    "yrange = [5226,6718]\n",
    "zrange = [0,2000]\n",
    "num_workers = 24\n",
    "source_zarr_path = bdir('2-ptau_flattened.zarr')\n",
    "sink_zarr_path = bdir(name_prefix2+'_flattened_x%d-%d_y%d-%d.zarr'%(xrange[0],xrange[1],yrange[0],yrange[1]))\n",
    "\n",
    "\n",
    "###############\n",
    "crop_zarr(source_zarr_path, sink_zarr_path, xrange=xrange, yrange=yrange, zrange=zrange, \n",
    "          load_num_slices=None, num_workers=num_workers)"
   ]
  },
  {
   "cell_type": "markdown",
   "id": "752b4407",
   "metadata": {},
   "source": [
    "## Load in manual points"
   ]
  },
  {
   "cell_type": "code",
   "execution_count": 44,
   "id": "d54d8d0b",
   "metadata": {},
   "outputs": [
    {
     "name": "stdout",
     "output_type": "stream",
     "text": [
      "(123, 3)\n",
      "198 2600\n",
      "25 1198\n",
      "395 476\n"
     ]
    }
   ],
   "source": [
    "anchors_json_path = bdir('manual_labels/ptau_anchor_pts.json')\n",
    "annotation_names = ['3-pts']\n",
    "resample_factor = (1,)*3 # multiply this by the anchor points to get to correct reference frame \n",
    "offset = (5759,5981,7450) # subtract these to get the actual reference frame (subtracted pre-resampling)\n",
    "surf_eps_save_path = bdir('manual_labels/'+name_prefix+'_endpoints.npy') # where to save surface points \n",
    "\n",
    "# ranges for filtering (not downsampled)\n",
    "xrange = [5759,8410]\n",
    "yrange = [5981,7328]\n",
    "zrange = None #[7300,8300]\n",
    "\n",
    "\n",
    "##############################\n",
    "pts = np.zeros((0,3),dtype='float')\n",
    "for annotation_name in annotation_names:\n",
    "    pts_temp = read_annotations_json(anchors_json_path, annotation_name, sink_path=None)\n",
    "    pts = np.concatenate((pts,pts_temp),axis=0)\n",
    "\n",
    "if xrange is not None:\n",
    "    pts = pts[(pts[:,0]>=xrange[0]) * (pts[:,0]<xrange[1])]\n",
    "if yrange is not None:\n",
    "    pts = pts[(pts[:,1]>=yrange[0]) * (pts[:,1]<yrange[1])]\n",
    "if zrange is not None:\n",
    "    pts = pts[(pts[:,2]>=zrange[0]) * (pts[:,2]<zrange[1])]\n",
    "\n",
    "pts[:,0] -= offset[0]; pts[:,1] -= offset[1]; pts[:,2] -= offset[2]\n",
    "pts[:,0] *= resample_factor[0]; pts[:,1] *= resample_factor[1]; pts[:,2] *= resample_factor[2]\n",
    "pts = np.round(pts).astype('int')\n",
    "\n",
    "np.save(surf_eps_save_path, pts)\n",
    "print(pts.shape)\n",
    "\n",
    "print(pts[:,0].min(),pts[:,0].max())\n",
    "print(pts[:,1].min(),pts[:,1].max())\n",
    "print(pts[:,2].min(),pts[:,2].max())"
   ]
  },
  {
   "cell_type": "code",
   "execution_count": 45,
   "id": "8bf2d54e",
   "metadata": {},
   "outputs": [
    {
     "name": "stdout",
     "output_type": "stream",
     "text": [
      "(123, 3)\n",
      "5820 8384\n",
      "6001 7186\n",
      "370 516\n"
     ]
    }
   ],
   "source": [
    "anchors_json_path = bdir('manual_labels/ptau_anchor_pts.json')\n",
    "annotation_names = ['2-pts']\n",
    "resample_factor = (1,)*3 # multiply this by the anchor points to get to correct reference frame \n",
    "offset = (0,0,7450) # subtract these to get the actual reference frame (subtracted pre-resampling)\n",
    "surf_eps_save_path = bdir('manual_labels/'+name_prefix2+'_endpoints.npy') # where to save surface points \n",
    "\n",
    "# ranges for filtering (not downsampled)\n",
    "xrange = [5759,8410]\n",
    "yrange = [5981,7328]\n",
    "zrange = None #[7300,8300]\n",
    "\n",
    "\n",
    "\n",
    "##############################\n",
    "pts = np.zeros((0,3),dtype='float')\n",
    "for annotation_name in annotation_names:\n",
    "    pts_temp = read_annotations_json(anchors_json_path, annotation_name, sink_path=None)\n",
    "    pts = np.concatenate((pts,pts_temp),axis=0)\n",
    "\n",
    "if xrange is not None:\n",
    "    pts = pts[(pts[:,0]>=xrange[0]) * (pts[:,0]<xrange[1])]\n",
    "if yrange is not None:\n",
    "    pts = pts[(pts[:,1]>=yrange[0]) * (pts[:,1]<yrange[1])]\n",
    "if zrange is not None:\n",
    "    pts = pts[(pts[:,2]>=zrange[0]) * (pts[:,2]<zrange[1])]\n",
    "\n",
    "pts[:,0] -= offset[0]; pts[:,1] -= offset[1]; pts[:,2] -= offset[2]\n",
    "pts[:,0] *= resample_factor[0]; pts[:,1] *= resample_factor[1]; pts[:,2] *= resample_factor[2]\n",
    "pts = np.round(pts).astype('int')\n",
    "\n",
    "np.save(surf_eps_save_path, pts)\n",
    "print(pts.shape)\n",
    "\n",
    "print(pts[:,0].min(),pts[:,0].max())\n",
    "print(pts[:,1].min(),pts[:,1].max())\n",
    "print(pts[:,2].min(),pts[:,2].max())"
   ]
  },
  {
   "cell_type": "markdown",
   "id": "f4674f32",
   "metadata": {},
   "source": [
    "#### 2. Unwarp moving endpoints back to flattened frame"
   ]
  },
  {
   "cell_type": "code",
   "execution_count": 46,
   "id": "28c15a80",
   "metadata": {},
   "outputs": [],
   "source": [
    "# Warp the moving points back to flattened frame \n",
    "grid_path = bdir('warping_grids/grid_anchor_tps_r0_upsampled.npy')\n",
    "\n",
    "pts_path = bdir('manual_labels/'+name_prefix2+'_endpoints.npy')\n",
    "warped_zarr_path = bdir('2-ptau_flattened_lectinwarp.zarr')\n",
    "save_path = bdir('manual_labels/'+name_prefix2+'_endpoints_flatframe.npy')\n",
    "save_json = False \n",
    "inverse_transform = False\n",
    "\n",
    "\n",
    "#####\n",
    "coords = grid_transform_pts(grid_path, pts_path, warped_zarr_path, save_path=save_path, save_json=save_json, inverse_transform=inverse_transform)# Transform moving points to flattened frame "
   ]
  },
  {
   "cell_type": "code",
   "execution_count": 47,
   "id": "502a766c",
   "metadata": {},
   "outputs": [],
   "source": [
    "moving_pts_path = bdir('manual_labels/'+name_prefix2+'_endpoints_flatframe.npy')\n",
    "\n",
    "\n",
    "moving_pts = np.load(moving_pts_path)\n",
    "moving_pts[:,0] -= 4545\n",
    "moving_pts[:,1] -= 5226\n",
    "moving_pts[:,2] -= 0\n",
    "\n",
    "np.save(moving_pts_path, moving_pts)"
   ]
  },
  {
   "cell_type": "code",
   "execution_count": 49,
   "id": "6b852af3",
   "metadata": {},
   "outputs": [
    {
     "name": "stderr",
     "output_type": "stream",
     "text": [
      "123it [00:01, 94.17it/s]"
     ]
    },
    {
     "name": "stdout",
     "output_type": "stream",
     "text": [
      "(123, 3) (85, 3)\n"
     ]
    },
    {
     "name": "stderr",
     "output_type": "stream",
     "text": [
      "\n"
     ]
    }
   ],
   "source": [
    "points_idxs_to_evaluate = None # new points to evaluate with RANSAC. Else, make None\n",
    "\n",
    "moving_pts_paths = [bdir('manual_labels/'+name_prefix2+'_endpoints_flatframe.npy')]\n",
    "fixed_pts_paths =  [bdir('manual_labels/'+name_prefix+'_endpoints.npy')]\n",
    "\n",
    "\n",
    "moving_save_path = bdir('manual_labels/'+name_prefix2+'_endpoints_flatframe_ransac.npy')\n",
    "fixed_save_path = bdir('manual_labels/'+name_prefix+'_endpoints_ransac.npy')\n",
    "error_threshold = 20\n",
    "min_samples = None\n",
    "\n",
    "radius = 400\n",
    "voxel_size = (1,1.414,1)\n",
    "\n",
    "\n",
    "##################\n",
    "moving_ransac, fixed_ransac = apply_ransac_v2(moving_pts_paths, fixed_pts_paths, moving_save_path=moving_save_path, fixed_save_path=fixed_save_path, points_idxs_to_evaluate=points_idxs_to_evaluate,\n",
    "                    error_threshold=error_threshold, min_samples=min_samples, radius=radius, voxel_size=voxel_size)\n",
    "\n",
    "print(np.load(moving_pts_paths[0]).shape,moving_ransac.shape)"
   ]
  },
  {
   "cell_type": "markdown",
   "id": "c5c04045",
   "metadata": {},
   "source": [
    "#### 8. Rigid alignment"
   ]
  },
  {
   "cell_type": "code",
   "execution_count": 52,
   "id": "87eb4874",
   "metadata": {},
   "outputs": [
    {
     "name": "stdout",
     "output_type": "stream",
     "text": [
      "(85, 3) (85, 3)\n",
      "-173.96878550472033\n"
     ]
    },
    {
     "data": {
      "application/javascript": [
       "/* Put everything inside the global mpl namespace */\n",
       "window.mpl = {};\n",
       "\n",
       "\n",
       "mpl.get_websocket_type = function() {\n",
       "    if (typeof(WebSocket) !== 'undefined') {\n",
       "        return WebSocket;\n",
       "    } else if (typeof(MozWebSocket) !== 'undefined') {\n",
       "        return MozWebSocket;\n",
       "    } else {\n",
       "        alert('Your browser does not have WebSocket support. ' +\n",
       "              'Please try Chrome, Safari or Firefox ≥ 6. ' +\n",
       "              'Firefox 4 and 5 are also supported but you ' +\n",
       "              'have to enable WebSockets in about:config.');\n",
       "    };\n",
       "}\n",
       "\n",
       "mpl.figure = function(figure_id, websocket, ondownload, parent_element) {\n",
       "    this.id = figure_id;\n",
       "\n",
       "    this.ws = websocket;\n",
       "\n",
       "    this.supports_binary = (this.ws.binaryType != undefined);\n",
       "\n",
       "    if (!this.supports_binary) {\n",
       "        var warnings = document.getElementById(\"mpl-warnings\");\n",
       "        if (warnings) {\n",
       "            warnings.style.display = 'block';\n",
       "            warnings.textContent = (\n",
       "                \"This browser does not support binary websocket messages. \" +\n",
       "                    \"Performance may be slow.\");\n",
       "        }\n",
       "    }\n",
       "\n",
       "    this.imageObj = new Image();\n",
       "\n",
       "    this.context = undefined;\n",
       "    this.message = undefined;\n",
       "    this.canvas = undefined;\n",
       "    this.rubberband_canvas = undefined;\n",
       "    this.rubberband_context = undefined;\n",
       "    this.format_dropdown = undefined;\n",
       "\n",
       "    this.image_mode = 'full';\n",
       "\n",
       "    this.root = $('<div/>');\n",
       "    this._root_extra_style(this.root)\n",
       "    this.root.attr('style', 'display: inline-block');\n",
       "\n",
       "    $(parent_element).append(this.root);\n",
       "\n",
       "    this._init_header(this);\n",
       "    this._init_canvas(this);\n",
       "    this._init_toolbar(this);\n",
       "\n",
       "    var fig = this;\n",
       "\n",
       "    this.waiting = false;\n",
       "\n",
       "    this.ws.onopen =  function () {\n",
       "            fig.send_message(\"supports_binary\", {value: fig.supports_binary});\n",
       "            fig.send_message(\"send_image_mode\", {});\n",
       "            if (mpl.ratio != 1) {\n",
       "                fig.send_message(\"set_dpi_ratio\", {'dpi_ratio': mpl.ratio});\n",
       "            }\n",
       "            fig.send_message(\"refresh\", {});\n",
       "        }\n",
       "\n",
       "    this.imageObj.onload = function() {\n",
       "            if (fig.image_mode == 'full') {\n",
       "                // Full images could contain transparency (where diff images\n",
       "                // almost always do), so we need to clear the canvas so that\n",
       "                // there is no ghosting.\n",
       "                fig.context.clearRect(0, 0, fig.canvas.width, fig.canvas.height);\n",
       "            }\n",
       "            fig.context.drawImage(fig.imageObj, 0, 0);\n",
       "        };\n",
       "\n",
       "    this.imageObj.onunload = function() {\n",
       "        fig.ws.close();\n",
       "    }\n",
       "\n",
       "    this.ws.onmessage = this._make_on_message_function(this);\n",
       "\n",
       "    this.ondownload = ondownload;\n",
       "}\n",
       "\n",
       "mpl.figure.prototype._init_header = function() {\n",
       "    var titlebar = $(\n",
       "        '<div class=\"ui-dialog-titlebar ui-widget-header ui-corner-all ' +\n",
       "        'ui-helper-clearfix\"/>');\n",
       "    var titletext = $(\n",
       "        '<div class=\"ui-dialog-title\" style=\"width: 100%; ' +\n",
       "        'text-align: center; padding: 3px;\"/>');\n",
       "    titlebar.append(titletext)\n",
       "    this.root.append(titlebar);\n",
       "    this.header = titletext[0];\n",
       "}\n",
       "\n",
       "\n",
       "\n",
       "mpl.figure.prototype._canvas_extra_style = function(canvas_div) {\n",
       "\n",
       "}\n",
       "\n",
       "\n",
       "mpl.figure.prototype._root_extra_style = function(canvas_div) {\n",
       "\n",
       "}\n",
       "\n",
       "mpl.figure.prototype._init_canvas = function() {\n",
       "    var fig = this;\n",
       "\n",
       "    var canvas_div = $('<div/>');\n",
       "\n",
       "    canvas_div.attr('style', 'position: relative; clear: both; outline: 0');\n",
       "\n",
       "    function canvas_keyboard_event(event) {\n",
       "        return fig.key_event(event, event['data']);\n",
       "    }\n",
       "\n",
       "    canvas_div.keydown('key_press', canvas_keyboard_event);\n",
       "    canvas_div.keyup('key_release', canvas_keyboard_event);\n",
       "    this.canvas_div = canvas_div\n",
       "    this._canvas_extra_style(canvas_div)\n",
       "    this.root.append(canvas_div);\n",
       "\n",
       "    var canvas = $('<canvas/>');\n",
       "    canvas.addClass('mpl-canvas');\n",
       "    canvas.attr('style', \"left: 0; top: 0; z-index: 0; outline: 0\")\n",
       "\n",
       "    this.canvas = canvas[0];\n",
       "    this.context = canvas[0].getContext(\"2d\");\n",
       "\n",
       "    var backingStore = this.context.backingStorePixelRatio ||\n",
       "\tthis.context.webkitBackingStorePixelRatio ||\n",
       "\tthis.context.mozBackingStorePixelRatio ||\n",
       "\tthis.context.msBackingStorePixelRatio ||\n",
       "\tthis.context.oBackingStorePixelRatio ||\n",
       "\tthis.context.backingStorePixelRatio || 1;\n",
       "\n",
       "    mpl.ratio = (window.devicePixelRatio || 1) / backingStore;\n",
       "\n",
       "    var rubberband = $('<canvas/>');\n",
       "    rubberband.attr('style', \"position: absolute; left: 0; top: 0; z-index: 1;\")\n",
       "\n",
       "    var pass_mouse_events = true;\n",
       "\n",
       "    canvas_div.resizable({\n",
       "        start: function(event, ui) {\n",
       "            pass_mouse_events = false;\n",
       "        },\n",
       "        resize: function(event, ui) {\n",
       "            fig.request_resize(ui.size.width, ui.size.height);\n",
       "        },\n",
       "        stop: function(event, ui) {\n",
       "            pass_mouse_events = true;\n",
       "            fig.request_resize(ui.size.width, ui.size.height);\n",
       "        },\n",
       "    });\n",
       "\n",
       "    function mouse_event_fn(event) {\n",
       "        if (pass_mouse_events)\n",
       "            return fig.mouse_event(event, event['data']);\n",
       "    }\n",
       "\n",
       "    rubberband.mousedown('button_press', mouse_event_fn);\n",
       "    rubberband.mouseup('button_release', mouse_event_fn);\n",
       "    // Throttle sequential mouse events to 1 every 20ms.\n",
       "    rubberband.mousemove('motion_notify', mouse_event_fn);\n",
       "\n",
       "    rubberband.mouseenter('figure_enter', mouse_event_fn);\n",
       "    rubberband.mouseleave('figure_leave', mouse_event_fn);\n",
       "\n",
       "    canvas_div.on(\"wheel\", function (event) {\n",
       "        event = event.originalEvent;\n",
       "        event['data'] = 'scroll'\n",
       "        if (event.deltaY < 0) {\n",
       "            event.step = 1;\n",
       "        } else {\n",
       "            event.step = -1;\n",
       "        }\n",
       "        mouse_event_fn(event);\n",
       "    });\n",
       "\n",
       "    canvas_div.append(canvas);\n",
       "    canvas_div.append(rubberband);\n",
       "\n",
       "    this.rubberband = rubberband;\n",
       "    this.rubberband_canvas = rubberband[0];\n",
       "    this.rubberband_context = rubberband[0].getContext(\"2d\");\n",
       "    this.rubberband_context.strokeStyle = \"#000000\";\n",
       "\n",
       "    this._resize_canvas = function(width, height) {\n",
       "        // Keep the size of the canvas, canvas container, and rubber band\n",
       "        // canvas in synch.\n",
       "        canvas_div.css('width', width)\n",
       "        canvas_div.css('height', height)\n",
       "\n",
       "        canvas.attr('width', width * mpl.ratio);\n",
       "        canvas.attr('height', height * mpl.ratio);\n",
       "        canvas.attr('style', 'width: ' + width + 'px; height: ' + height + 'px;');\n",
       "\n",
       "        rubberband.attr('width', width);\n",
       "        rubberband.attr('height', height);\n",
       "    }\n",
       "\n",
       "    // Set the figure to an initial 600x600px, this will subsequently be updated\n",
       "    // upon first draw.\n",
       "    this._resize_canvas(600, 600);\n",
       "\n",
       "    // Disable right mouse context menu.\n",
       "    $(this.rubberband_canvas).bind(\"contextmenu\",function(e){\n",
       "        return false;\n",
       "    });\n",
       "\n",
       "    function set_focus () {\n",
       "        canvas.focus();\n",
       "        canvas_div.focus();\n",
       "    }\n",
       "\n",
       "    window.setTimeout(set_focus, 100);\n",
       "}\n",
       "\n",
       "mpl.figure.prototype._init_toolbar = function() {\n",
       "    var fig = this;\n",
       "\n",
       "    var nav_element = $('<div/>');\n",
       "    nav_element.attr('style', 'width: 100%');\n",
       "    this.root.append(nav_element);\n",
       "\n",
       "    // Define a callback function for later on.\n",
       "    function toolbar_event(event) {\n",
       "        return fig.toolbar_button_onclick(event['data']);\n",
       "    }\n",
       "    function toolbar_mouse_event(event) {\n",
       "        return fig.toolbar_button_onmouseover(event['data']);\n",
       "    }\n",
       "\n",
       "    for(var toolbar_ind in mpl.toolbar_items) {\n",
       "        var name = mpl.toolbar_items[toolbar_ind][0];\n",
       "        var tooltip = mpl.toolbar_items[toolbar_ind][1];\n",
       "        var image = mpl.toolbar_items[toolbar_ind][2];\n",
       "        var method_name = mpl.toolbar_items[toolbar_ind][3];\n",
       "\n",
       "        if (!name) {\n",
       "            // put a spacer in here.\n",
       "            continue;\n",
       "        }\n",
       "        var button = $('<button/>');\n",
       "        button.addClass('ui-button ui-widget ui-state-default ui-corner-all ' +\n",
       "                        'ui-button-icon-only');\n",
       "        button.attr('role', 'button');\n",
       "        button.attr('aria-disabled', 'false');\n",
       "        button.click(method_name, toolbar_event);\n",
       "        button.mouseover(tooltip, toolbar_mouse_event);\n",
       "\n",
       "        var icon_img = $('<span/>');\n",
       "        icon_img.addClass('ui-button-icon-primary ui-icon');\n",
       "        icon_img.addClass(image);\n",
       "        icon_img.addClass('ui-corner-all');\n",
       "\n",
       "        var tooltip_span = $('<span/>');\n",
       "        tooltip_span.addClass('ui-button-text');\n",
       "        tooltip_span.html(tooltip);\n",
       "\n",
       "        button.append(icon_img);\n",
       "        button.append(tooltip_span);\n",
       "\n",
       "        nav_element.append(button);\n",
       "    }\n",
       "\n",
       "    var fmt_picker_span = $('<span/>');\n",
       "\n",
       "    var fmt_picker = $('<select/>');\n",
       "    fmt_picker.addClass('mpl-toolbar-option ui-widget ui-widget-content');\n",
       "    fmt_picker_span.append(fmt_picker);\n",
       "    nav_element.append(fmt_picker_span);\n",
       "    this.format_dropdown = fmt_picker[0];\n",
       "\n",
       "    for (var ind in mpl.extensions) {\n",
       "        var fmt = mpl.extensions[ind];\n",
       "        var option = $(\n",
       "            '<option/>', {selected: fmt === mpl.default_extension}).html(fmt);\n",
       "        fmt_picker.append(option);\n",
       "    }\n",
       "\n",
       "    // Add hover states to the ui-buttons\n",
       "    $( \".ui-button\" ).hover(\n",
       "        function() { $(this).addClass(\"ui-state-hover\");},\n",
       "        function() { $(this).removeClass(\"ui-state-hover\");}\n",
       "    );\n",
       "\n",
       "    var status_bar = $('<span class=\"mpl-message\"/>');\n",
       "    nav_element.append(status_bar);\n",
       "    this.message = status_bar[0];\n",
       "}\n",
       "\n",
       "mpl.figure.prototype.request_resize = function(x_pixels, y_pixels) {\n",
       "    // Request matplotlib to resize the figure. Matplotlib will then trigger a resize in the client,\n",
       "    // which will in turn request a refresh of the image.\n",
       "    this.send_message('resize', {'width': x_pixels, 'height': y_pixels});\n",
       "}\n",
       "\n",
       "mpl.figure.prototype.send_message = function(type, properties) {\n",
       "    properties['type'] = type;\n",
       "    properties['figure_id'] = this.id;\n",
       "    this.ws.send(JSON.stringify(properties));\n",
       "}\n",
       "\n",
       "mpl.figure.prototype.send_draw_message = function() {\n",
       "    if (!this.waiting) {\n",
       "        this.waiting = true;\n",
       "        this.ws.send(JSON.stringify({type: \"draw\", figure_id: this.id}));\n",
       "    }\n",
       "}\n",
       "\n",
       "\n",
       "mpl.figure.prototype.handle_save = function(fig, msg) {\n",
       "    var format_dropdown = fig.format_dropdown;\n",
       "    var format = format_dropdown.options[format_dropdown.selectedIndex].value;\n",
       "    fig.ondownload(fig, format);\n",
       "}\n",
       "\n",
       "\n",
       "mpl.figure.prototype.handle_resize = function(fig, msg) {\n",
       "    var size = msg['size'];\n",
       "    if (size[0] != fig.canvas.width || size[1] != fig.canvas.height) {\n",
       "        fig._resize_canvas(size[0], size[1]);\n",
       "        fig.send_message(\"refresh\", {});\n",
       "    };\n",
       "}\n",
       "\n",
       "mpl.figure.prototype.handle_rubberband = function(fig, msg) {\n",
       "    var x0 = msg['x0'] / mpl.ratio;\n",
       "    var y0 = (fig.canvas.height - msg['y0']) / mpl.ratio;\n",
       "    var x1 = msg['x1'] / mpl.ratio;\n",
       "    var y1 = (fig.canvas.height - msg['y1']) / mpl.ratio;\n",
       "    x0 = Math.floor(x0) + 0.5;\n",
       "    y0 = Math.floor(y0) + 0.5;\n",
       "    x1 = Math.floor(x1) + 0.5;\n",
       "    y1 = Math.floor(y1) + 0.5;\n",
       "    var min_x = Math.min(x0, x1);\n",
       "    var min_y = Math.min(y0, y1);\n",
       "    var width = Math.abs(x1 - x0);\n",
       "    var height = Math.abs(y1 - y0);\n",
       "\n",
       "    fig.rubberband_context.clearRect(\n",
       "        0, 0, fig.canvas.width / mpl.ratio, fig.canvas.height / mpl.ratio);\n",
       "\n",
       "    fig.rubberband_context.strokeRect(min_x, min_y, width, height);\n",
       "}\n",
       "\n",
       "mpl.figure.prototype.handle_figure_label = function(fig, msg) {\n",
       "    // Updates the figure title.\n",
       "    fig.header.textContent = msg['label'];\n",
       "}\n",
       "\n",
       "mpl.figure.prototype.handle_cursor = function(fig, msg) {\n",
       "    var cursor = msg['cursor'];\n",
       "    switch(cursor)\n",
       "    {\n",
       "    case 0:\n",
       "        cursor = 'pointer';\n",
       "        break;\n",
       "    case 1:\n",
       "        cursor = 'default';\n",
       "        break;\n",
       "    case 2:\n",
       "        cursor = 'crosshair';\n",
       "        break;\n",
       "    case 3:\n",
       "        cursor = 'move';\n",
       "        break;\n",
       "    }\n",
       "    fig.rubberband_canvas.style.cursor = cursor;\n",
       "}\n",
       "\n",
       "mpl.figure.prototype.handle_message = function(fig, msg) {\n",
       "    fig.message.textContent = msg['message'];\n",
       "}\n",
       "\n",
       "mpl.figure.prototype.handle_draw = function(fig, msg) {\n",
       "    // Request the server to send over a new figure.\n",
       "    fig.send_draw_message();\n",
       "}\n",
       "\n",
       "mpl.figure.prototype.handle_image_mode = function(fig, msg) {\n",
       "    fig.image_mode = msg['mode'];\n",
       "}\n",
       "\n",
       "mpl.figure.prototype.updated_canvas_event = function() {\n",
       "    // Called whenever the canvas gets updated.\n",
       "    this.send_message(\"ack\", {});\n",
       "}\n",
       "\n",
       "// A function to construct a web socket function for onmessage handling.\n",
       "// Called in the figure constructor.\n",
       "mpl.figure.prototype._make_on_message_function = function(fig) {\n",
       "    return function socket_on_message(evt) {\n",
       "        if (evt.data instanceof Blob) {\n",
       "            /* FIXME: We get \"Resource interpreted as Image but\n",
       "             * transferred with MIME type text/plain:\" errors on\n",
       "             * Chrome.  But how to set the MIME type?  It doesn't seem\n",
       "             * to be part of the websocket stream */\n",
       "            evt.data.type = \"image/png\";\n",
       "\n",
       "            /* Free the memory for the previous frames */\n",
       "            if (fig.imageObj.src) {\n",
       "                (window.URL || window.webkitURL).revokeObjectURL(\n",
       "                    fig.imageObj.src);\n",
       "            }\n",
       "\n",
       "            fig.imageObj.src = (window.URL || window.webkitURL).createObjectURL(\n",
       "                evt.data);\n",
       "            fig.updated_canvas_event();\n",
       "            fig.waiting = false;\n",
       "            return;\n",
       "        }\n",
       "        else if (typeof evt.data === 'string' && evt.data.slice(0, 21) == \"data:image/png;base64\") {\n",
       "            fig.imageObj.src = evt.data;\n",
       "            fig.updated_canvas_event();\n",
       "            fig.waiting = false;\n",
       "            return;\n",
       "        }\n",
       "\n",
       "        var msg = JSON.parse(evt.data);\n",
       "        var msg_type = msg['type'];\n",
       "\n",
       "        // Call the  \"handle_{type}\" callback, which takes\n",
       "        // the figure and JSON message as its only arguments.\n",
       "        try {\n",
       "            var callback = fig[\"handle_\" + msg_type];\n",
       "        } catch (e) {\n",
       "            console.log(\"No handler for the '\" + msg_type + \"' message type: \", msg);\n",
       "            return;\n",
       "        }\n",
       "\n",
       "        if (callback) {\n",
       "            try {\n",
       "                // console.log(\"Handling '\" + msg_type + \"' message: \", msg);\n",
       "                callback(fig, msg);\n",
       "            } catch (e) {\n",
       "                console.log(\"Exception inside the 'handler_\" + msg_type + \"' callback:\", e, e.stack, msg);\n",
       "            }\n",
       "        }\n",
       "    };\n",
       "}\n",
       "\n",
       "// from http://stackoverflow.com/questions/1114465/getting-mouse-location-in-canvas\n",
       "mpl.findpos = function(e) {\n",
       "    //this section is from http://www.quirksmode.org/js/events_properties.html\n",
       "    var targ;\n",
       "    if (!e)\n",
       "        e = window.event;\n",
       "    if (e.target)\n",
       "        targ = e.target;\n",
       "    else if (e.srcElement)\n",
       "        targ = e.srcElement;\n",
       "    if (targ.nodeType == 3) // defeat Safari bug\n",
       "        targ = targ.parentNode;\n",
       "\n",
       "    // jQuery normalizes the pageX and pageY\n",
       "    // pageX,Y are the mouse positions relative to the document\n",
       "    // offset() returns the position of the element relative to the document\n",
       "    var x = e.pageX - $(targ).offset().left;\n",
       "    var y = e.pageY - $(targ).offset().top;\n",
       "\n",
       "    return {\"x\": x, \"y\": y};\n",
       "};\n",
       "\n",
       "/*\n",
       " * return a copy of an object with only non-object keys\n",
       " * we need this to avoid circular references\n",
       " * http://stackoverflow.com/a/24161582/3208463\n",
       " */\n",
       "function simpleKeys (original) {\n",
       "  return Object.keys(original).reduce(function (obj, key) {\n",
       "    if (typeof original[key] !== 'object')\n",
       "        obj[key] = original[key]\n",
       "    return obj;\n",
       "  }, {});\n",
       "}\n",
       "\n",
       "mpl.figure.prototype.mouse_event = function(event, name) {\n",
       "    var canvas_pos = mpl.findpos(event)\n",
       "\n",
       "    if (name === 'button_press')\n",
       "    {\n",
       "        this.canvas.focus();\n",
       "        this.canvas_div.focus();\n",
       "    }\n",
       "\n",
       "    var x = canvas_pos.x * mpl.ratio;\n",
       "    var y = canvas_pos.y * mpl.ratio;\n",
       "\n",
       "    this.send_message(name, {x: x, y: y, button: event.button,\n",
       "                             step: event.step,\n",
       "                             guiEvent: simpleKeys(event)});\n",
       "\n",
       "    /* This prevents the web browser from automatically changing to\n",
       "     * the text insertion cursor when the button is pressed.  We want\n",
       "     * to control all of the cursor setting manually through the\n",
       "     * 'cursor' event from matplotlib */\n",
       "    event.preventDefault();\n",
       "    return false;\n",
       "}\n",
       "\n",
       "mpl.figure.prototype._key_event_extra = function(event, name) {\n",
       "    // Handle any extra behaviour associated with a key event\n",
       "}\n",
       "\n",
       "mpl.figure.prototype.key_event = function(event, name) {\n",
       "\n",
       "    // Prevent repeat events\n",
       "    if (name == 'key_press')\n",
       "    {\n",
       "        if (event.which === this._key)\n",
       "            return;\n",
       "        else\n",
       "            this._key = event.which;\n",
       "    }\n",
       "    if (name == 'key_release')\n",
       "        this._key = null;\n",
       "\n",
       "    var value = '';\n",
       "    if (event.ctrlKey && event.which != 17)\n",
       "        value += \"ctrl+\";\n",
       "    if (event.altKey && event.which != 18)\n",
       "        value += \"alt+\";\n",
       "    if (event.shiftKey && event.which != 16)\n",
       "        value += \"shift+\";\n",
       "\n",
       "    value += 'k';\n",
       "    value += event.which.toString();\n",
       "\n",
       "    this._key_event_extra(event, name);\n",
       "\n",
       "    this.send_message(name, {key: value,\n",
       "                             guiEvent: simpleKeys(event)});\n",
       "    return false;\n",
       "}\n",
       "\n",
       "mpl.figure.prototype.toolbar_button_onclick = function(name) {\n",
       "    if (name == 'download') {\n",
       "        this.handle_save(this, null);\n",
       "    } else {\n",
       "        this.send_message(\"toolbar_button\", {name: name});\n",
       "    }\n",
       "};\n",
       "\n",
       "mpl.figure.prototype.toolbar_button_onmouseover = function(tooltip) {\n",
       "    this.message.textContent = tooltip;\n",
       "};\n",
       "mpl.toolbar_items = [[\"Home\", \"Reset original view\", \"fa fa-home icon-home\", \"home\"], [\"Back\", \"Back to previous view\", \"fa fa-arrow-left icon-arrow-left\", \"back\"], [\"Forward\", \"Forward to next view\", \"fa fa-arrow-right icon-arrow-right\", \"forward\"], [\"\", \"\", \"\", \"\"], [\"Pan\", \"Pan axes with left mouse, zoom with right\", \"fa fa-arrows icon-move\", \"pan\"], [\"Zoom\", \"Zoom to rectangle\", \"fa fa-square-o icon-check-empty\", \"zoom\"], [\"\", \"\", \"\", \"\"], [\"Download\", \"Download plot\", \"fa fa-floppy-o icon-save\", \"download\"]];\n",
       "\n",
       "mpl.extensions = [\"eps\", \"jpeg\", \"pdf\", \"png\", \"ps\", \"raw\", \"svg\", \"tif\"];\n",
       "\n",
       "mpl.default_extension = \"png\";var comm_websocket_adapter = function(comm) {\n",
       "    // Create a \"websocket\"-like object which calls the given IPython comm\n",
       "    // object with the appropriate methods. Currently this is a non binary\n",
       "    // socket, so there is still some room for performance tuning.\n",
       "    var ws = {};\n",
       "\n",
       "    ws.close = function() {\n",
       "        comm.close()\n",
       "    };\n",
       "    ws.send = function(m) {\n",
       "        //console.log('sending', m);\n",
       "        comm.send(m);\n",
       "    };\n",
       "    // Register the callback with on_msg.\n",
       "    comm.on_msg(function(msg) {\n",
       "        //console.log('receiving', msg['content']['data'], msg);\n",
       "        // Pass the mpl event to the overridden (by mpl) onmessage function.\n",
       "        ws.onmessage(msg['content']['data'])\n",
       "    });\n",
       "    return ws;\n",
       "}\n",
       "\n",
       "mpl.mpl_figure_comm = function(comm, msg) {\n",
       "    // This is the function which gets called when the mpl process\n",
       "    // starts-up an IPython Comm through the \"matplotlib\" channel.\n",
       "\n",
       "    var id = msg.content.data.id;\n",
       "    // Get hold of the div created by the display call when the Comm\n",
       "    // socket was opened in Python.\n",
       "    var element = $(\"#\" + id);\n",
       "    var ws_proxy = comm_websocket_adapter(comm)\n",
       "\n",
       "    function ondownload(figure, format) {\n",
       "        window.open(figure.imageObj.src);\n",
       "    }\n",
       "\n",
       "    var fig = new mpl.figure(id, ws_proxy,\n",
       "                           ondownload,\n",
       "                           element.get(0));\n",
       "\n",
       "    // Call onopen now - mpl needs it, as it is assuming we've passed it a real\n",
       "    // web socket which is closed, not our websocket->open comm proxy.\n",
       "    ws_proxy.onopen();\n",
       "\n",
       "    fig.parent_element = element.get(0);\n",
       "    fig.cell_info = mpl.find_output_cell(\"<div id='\" + id + \"'></div>\");\n",
       "    if (!fig.cell_info) {\n",
       "        console.error(\"Failed to find cell for figure\", id, fig);\n",
       "        return;\n",
       "    }\n",
       "\n",
       "    var output_index = fig.cell_info[2]\n",
       "    var cell = fig.cell_info[0];\n",
       "\n",
       "};\n",
       "\n",
       "mpl.figure.prototype.handle_close = function(fig, msg) {\n",
       "    var width = fig.canvas.width/mpl.ratio\n",
       "    fig.root.unbind('remove')\n",
       "\n",
       "    // Update the output cell to use the data from the current canvas.\n",
       "    fig.push_to_output();\n",
       "    var dataURL = fig.canvas.toDataURL();\n",
       "    // Re-enable the keyboard manager in IPython - without this line, in FF,\n",
       "    // the notebook keyboard shortcuts fail.\n",
       "    IPython.keyboard_manager.enable()\n",
       "    $(fig.parent_element).html('<img src=\"' + dataURL + '\" width=\"' + width + '\">');\n",
       "    fig.close_ws(fig, msg);\n",
       "}\n",
       "\n",
       "mpl.figure.prototype.close_ws = function(fig, msg){\n",
       "    fig.send_message('closing', msg);\n",
       "    // fig.ws.close()\n",
       "}\n",
       "\n",
       "mpl.figure.prototype.push_to_output = function(remove_interactive) {\n",
       "    // Turn the data on the canvas into data in the output cell.\n",
       "    var width = this.canvas.width/mpl.ratio\n",
       "    var dataURL = this.canvas.toDataURL();\n",
       "    this.cell_info[1]['text/html'] = '<img src=\"' + dataURL + '\" width=\"' + width + '\">';\n",
       "}\n",
       "\n",
       "mpl.figure.prototype.updated_canvas_event = function() {\n",
       "    // Tell IPython that the notebook contents must change.\n",
       "    IPython.notebook.set_dirty(true);\n",
       "    this.send_message(\"ack\", {});\n",
       "    var fig = this;\n",
       "    // Wait a second, then push the new image to the DOM so\n",
       "    // that it is saved nicely (might be nice to debounce this).\n",
       "    setTimeout(function () { fig.push_to_output() }, 1000);\n",
       "}\n",
       "\n",
       "mpl.figure.prototype._init_toolbar = function() {\n",
       "    var fig = this;\n",
       "\n",
       "    var nav_element = $('<div/>');\n",
       "    nav_element.attr('style', 'width: 100%');\n",
       "    this.root.append(nav_element);\n",
       "\n",
       "    // Define a callback function for later on.\n",
       "    function toolbar_event(event) {\n",
       "        return fig.toolbar_button_onclick(event['data']);\n",
       "    }\n",
       "    function toolbar_mouse_event(event) {\n",
       "        return fig.toolbar_button_onmouseover(event['data']);\n",
       "    }\n",
       "\n",
       "    for(var toolbar_ind in mpl.toolbar_items){\n",
       "        var name = mpl.toolbar_items[toolbar_ind][0];\n",
       "        var tooltip = mpl.toolbar_items[toolbar_ind][1];\n",
       "        var image = mpl.toolbar_items[toolbar_ind][2];\n",
       "        var method_name = mpl.toolbar_items[toolbar_ind][3];\n",
       "\n",
       "        if (!name) { continue; };\n",
       "\n",
       "        var button = $('<button class=\"btn btn-default\" href=\"#\" title=\"' + name + '\"><i class=\"fa ' + image + ' fa-lg\"></i></button>');\n",
       "        button.click(method_name, toolbar_event);\n",
       "        button.mouseover(tooltip, toolbar_mouse_event);\n",
       "        nav_element.append(button);\n",
       "    }\n",
       "\n",
       "    // Add the status bar.\n",
       "    var status_bar = $('<span class=\"mpl-message\" style=\"text-align:right; float: right;\"/>');\n",
       "    nav_element.append(status_bar);\n",
       "    this.message = status_bar[0];\n",
       "\n",
       "    // Add the close button to the window.\n",
       "    var buttongrp = $('<div class=\"btn-group inline pull-right\"></div>');\n",
       "    var button = $('<button class=\"btn btn-mini btn-primary\" href=\"#\" title=\"Stop Interaction\"><i class=\"fa fa-power-off icon-remove icon-large\"></i></button>');\n",
       "    button.click(function (evt) { fig.handle_close(fig, {}); } );\n",
       "    button.mouseover('Stop Interaction', toolbar_mouse_event);\n",
       "    buttongrp.append(button);\n",
       "    var titlebar = this.root.find($('.ui-dialog-titlebar'));\n",
       "    titlebar.prepend(buttongrp);\n",
       "}\n",
       "\n",
       "mpl.figure.prototype._root_extra_style = function(el){\n",
       "    var fig = this\n",
       "    el.on(\"remove\", function(){\n",
       "\tfig.close_ws(fig, {});\n",
       "    });\n",
       "}\n",
       "\n",
       "mpl.figure.prototype._canvas_extra_style = function(el){\n",
       "    // this is important to make the div 'focusable\n",
       "    el.attr('tabindex', 0)\n",
       "    // reach out to IPython and tell the keyboard manager to turn it's self\n",
       "    // off when our div gets focus\n",
       "\n",
       "    // location in version 3\n",
       "    if (IPython.notebook.keyboard_manager) {\n",
       "        IPython.notebook.keyboard_manager.register_events(el);\n",
       "    }\n",
       "    else {\n",
       "        // location in version 2\n",
       "        IPython.keyboard_manager.register_events(el);\n",
       "    }\n",
       "\n",
       "}\n",
       "\n",
       "mpl.figure.prototype._key_event_extra = function(event, name) {\n",
       "    var manager = IPython.notebook.keyboard_manager;\n",
       "    if (!manager)\n",
       "        manager = IPython.keyboard_manager;\n",
       "\n",
       "    // Check for shift+enter\n",
       "    if (event.shiftKey && event.which == 13) {\n",
       "        this.canvas_div.blur();\n",
       "        // select the cell after this one\n",
       "        var index = IPython.notebook.find_cell_index(this.cell_info[0]);\n",
       "        IPython.notebook.select(index + 1);\n",
       "    }\n",
       "}\n",
       "\n",
       "mpl.figure.prototype.handle_save = function(fig, msg) {\n",
       "    fig.ondownload(fig, null);\n",
       "}\n",
       "\n",
       "\n",
       "mpl.find_output_cell = function(html_output) {\n",
       "    // Return the cell and output element which can be found *uniquely* in the notebook.\n",
       "    // Note - this is a bit hacky, but it is done because the \"notebook_saving.Notebook\"\n",
       "    // IPython event is triggered only after the cells have been serialised, which for\n",
       "    // our purposes (turning an active figure into a static one), is too late.\n",
       "    var cells = IPython.notebook.get_cells();\n",
       "    var ncells = cells.length;\n",
       "    for (var i=0; i<ncells; i++) {\n",
       "        var cell = cells[i];\n",
       "        if (cell.cell_type === 'code'){\n",
       "            for (var j=0; j<cell.output_area.outputs.length; j++) {\n",
       "                var data = cell.output_area.outputs[j];\n",
       "                if (data.data) {\n",
       "                    // IPython >= 3 moved mimebundle to data attribute of output\n",
       "                    data = data.data;\n",
       "                }\n",
       "                if (data['text/html'] == html_output) {\n",
       "                    return [cell, data, j];\n",
       "                }\n",
       "            }\n",
       "        }\n",
       "    }\n",
       "}\n",
       "\n",
       "// Register the function which deals with the matplotlib target/channel.\n",
       "// The kernel may be null if the page has been refreshed.\n",
       "if (IPython.notebook.kernel != null) {\n",
       "    IPython.notebook.kernel.comm_manager.register_target('matplotlib', mpl.mpl_figure_comm);\n",
       "}\n"
      ],
      "text/plain": [
       "<IPython.core.display.Javascript object>"
      ]
     },
     "metadata": {},
     "output_type": "display_data"
    },
    {
     "data": {
      "text/html": [
       "<img src=\"data:image/png;base64,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\" width=\"639.8333333333334\">"
      ],
      "text/plain": [
       "<IPython.core.display.HTML object>"
      ]
     },
     "metadata": {},
     "output_type": "display_data"
    },
    {
     "name": "stdout",
     "output_type": "stream",
     "text": [
      "[[ 0.99989301  0.01462794  0.        ]\n",
      " [-0.01462794  0.99989301  0.        ]\n",
      " [ 0.          0.          1.        ]] [-133.12810194  -22.25666334 -173.9687855 ]\n"
     ]
    }
   ],
   "source": [
    "# First do rigid alignment again\n",
    "\n",
    "plot2d = True # if Flase, plot 3d \n",
    "use2d = True # don't use 3d, the nonplanar rotation is too sensitive to the endpoint detection\n",
    "flattened_arteries_paths = [bdir('manual_labels/'+name_prefix+'_endpoints_ransac.npy')]\n",
    "flattened_arteries_paths2 = [bdir('manual_labels/'+name_prefix2+'_endpoints_flatframe_ransac.npy')]\n",
    "make_json = False \n",
    "\n",
    "\n",
    "###############################################\n",
    "\n",
    "flattened_arteries = np.zeros((0,3),dtype='int')\n",
    "flattened_arteries_2 = np.zeros((0,3),dtype='int')\n",
    "for i in range(len(flattened_arteries_paths)):\n",
    "    flattened_arteries = np.concatenate((flattened_arteries,np.load(flattened_arteries_paths[i])),axis=0)\n",
    "    flattened_arteries_2 = np.concatenate((flattened_arteries_2,np.load(flattened_arteries_paths2[i])),axis=0)\n",
    "\n",
    "print(flattened_arteries.shape, flattened_arteries_2.shape)\n",
    "# if doing 2d\n",
    "if use2d:\n",
    "    R,b = rigid_transform_3D(np.transpose(flattened_arteries_2[:,:2]), np.transpose(flattened_arteries[:,:2]))\n",
    "    new_pts = np.transpose(np.matmul(R,np.transpose(flattened_arteries_2[:,:2])) + b)\n",
    "    new_points = np.concatenate((new_pts,flattened_arteries_2[:,2:3]),axis=1) # add in the z coordinate\n",
    "    \n",
    "    # needs to be 3x3 for future transforms\n",
    "    Rn = np.zeros((3,3))\n",
    "    Rn[:2,:2] = R\n",
    "    Rn[2,2] = 1\n",
    "    bn = np.zeros((3,))\n",
    "    bn[:2] = b[:,0]\n",
    "    \n",
    "    # compute the approximate z translation \n",
    "    zadd = np.mean(flattened_arteries[:,2] - flattened_arteries_2[:,2])\n",
    "    bn[2] = zadd \n",
    "    print(zadd)\n",
    "    R = Rn\n",
    "    b = bn\n",
    "    \n",
    "# 3d\n",
    "else:\n",
    "    R,b = rigid_transform_3D(np.transpose(flattened_arteries_2), np.transpose(flattened_arteries))\n",
    "    new_points = np.transpose(np.matmul(R,np.transpose(flattened_arteries_2)) + b)\n",
    "    print(b)\n",
    "    # we don't want to screw with the z coordinate translation\n",
    "    b[2] = 0\n",
    "\n",
    "np.save(bdir('R.npy'), R)\n",
    "np.save(bdir('b.npy'), b.squeeze())\n",
    "\n",
    "# 2D\n",
    "fig = plt.figure()\n",
    "\n",
    "if plot2d:\n",
    "    ax = fig.add_subplot(1,1,1)#,projection='3d')\n",
    "    ax.scatter(flattened_arteries[:,0],flattened_arteries[:,1],antialiased=True, alpha=0.5, color='b')\n",
    "    ax.scatter(flattened_arteries_2[:,0],flattened_arteries_2[:,1],antialiased=True, alpha=0.1, color='r')\n",
    "    ax.scatter(new_points[:,0],new_points[:,1],antialiased=True,alpha=0.5,color='r')\n",
    "    ax.set_xlabel('x')\n",
    "    ax.set_ylabel('y')\n",
    "    ax.legend(['Fixed','Moving','Moving_rigid'])\n",
    "\n",
    "#3d\n",
    "else:\n",
    "    ax = fig.add_subplot(1,1,1,projection='3d')\n",
    "    ax.scatter(flattened_arteries[:,0],flattened_arteries[:,1],flattened_arteries[:,2],antialiased=True, alpha=0.5, color='b')\n",
    "    ax.scatter(flattened_arteries_2[:,0],flattened_arteries_2[:,1],antialiased=True, alpha=0.1,color='r')\n",
    "    ax.scatter(new_points[:,0],new_points[:,1],new_points[:,2],antialiased=True,alpha=0.5,color='r')\n",
    "    ax.set_xlabel('x')\n",
    "    ax.set_ylabel('y')\n",
    "    ax.legend(['Fixed','Moving','Moving_rigid'])\n",
    "    \n",
    "if make_json:\n",
    "    numpy_to_json(flattened_arteries, flattened_arteries_path[:-4]+'.json')\n",
    "    numpy_to_json(flattened_arteries_2, flattened_arteries_path2[:-4]+'.json')\n",
    "print(R,b)"
   ]
  },
  {
   "cell_type": "markdown",
   "id": "7342c685",
   "metadata": {},
   "source": [
    "#### Artificial surfaces"
   ]
  },
  {
   "cell_type": "code",
   "execution_count": 53,
   "id": "3aa7489d",
   "metadata": {},
   "outputs": [],
   "source": [
    "eps_path = bdir('manual_labels/'+name_prefix2+'_endpoints_flatframe_ransac.npy')\n",
    "eps_save_path = bdir('manual_labels/'+name_prefix2+'_artificial_bottom_surface.npy')\n",
    "which_surface = 'bottom' # if top, then we use z=0 as the surface, if 'bottom', find the appropriate z \n",
    "z_size = 2000 # this should be the shape z shape of the cropped movign zarr \n",
    "\n",
    "\n",
    "####\n",
    "eps = np.load(eps_path)\n",
    "eps_new = eps.copy()\n",
    "\n",
    "\n",
    "if which_surface == 'top':\n",
    "    diff = np.min(eps_new[:,2])\n",
    "    eps_new[:,2] -= diff \n",
    "else:\n",
    "    z = z_size - 1\n",
    "    diff = z - np.max(eps_new[:,2]) # how much to add to each of the surface points \n",
    "    eps_new[:,2] += diff \n",
    "\n",
    "np.save(eps_save_path,eps_new)\n",
    "\n"
   ]
  },
  {
   "cell_type": "markdown",
   "id": "66ce89d4",
   "metadata": {},
   "source": [
    "#### 9. Warp"
   ]
  },
  {
   "cell_type": "code",
   "execution_count": 68,
   "id": "dd795ec8",
   "metadata": {
    "scrolled": true
   },
   "outputs": [
    {
     "name": "stdout",
     "output_type": "stream",
     "text": [
      "(2651, 1347, 2000)\n",
      "Fitting radial basis function...\n",
      "Fitting rbf took 0.019168 seconds\n",
      "Nonrigid ave. distance [pixels]: 0.01616292558841588\n",
      "Warping grid...\n",
      "Warping grid took 29.814584 seconds\n",
      "Saved grid_values at /mnt/share3/webster/mEhmAD_2-3/warping_grids/grid_ptauwarp_cropped.npy\n",
      "Warping image...\n",
      "Moving image size: 16.758144 GB\n"
     ]
    },
    {
     "name": "stderr",
     "output_type": "stream",
     "text": [
      "100%|██████████| 980/980 [02:22<00:00,  7.65it/s]\n"
     ]
    },
    {
     "name": "stdout",
     "output_type": "stream",
     "text": [
      "Time elapsed: 7.055939 minutes\n",
      "Loading z 0 - 200\n"
     ]
    },
    {
     "name": "stderr",
     "output_type": "stream",
     "text": [
      "100%|██████████| 98/98 [00:03<00:00, 25.64it/s]\n",
      "100%|██████████| 200/200 [00:21<00:00,  9.48it/s]\n"
     ]
    },
    {
     "name": "stdout",
     "output_type": "stream",
     "text": [
      "Loading z 200 - 400\n"
     ]
    },
    {
     "name": "stderr",
     "output_type": "stream",
     "text": [
      "100%|██████████| 98/98 [00:05<00:00, 18.00it/s]\n",
      "100%|██████████| 200/200 [00:19<00:00, 10.29it/s]\n"
     ]
    },
    {
     "name": "stdout",
     "output_type": "stream",
     "text": [
      "Loading z 400 - 600\n"
     ]
    },
    {
     "name": "stderr",
     "output_type": "stream",
     "text": [
      "100%|██████████| 98/98 [00:06<00:00, 14.97it/s]\n",
      "100%|██████████| 200/200 [00:19<00:00, 10.19it/s]\n"
     ]
    },
    {
     "name": "stdout",
     "output_type": "stream",
     "text": [
      "Loading z 600 - 800\n"
     ]
    },
    {
     "name": "stderr",
     "output_type": "stream",
     "text": [
      "100%|██████████| 98/98 [00:07<00:00, 13.65it/s]\n",
      "100%|██████████| 200/200 [00:20<00:00,  9.94it/s]\n"
     ]
    },
    {
     "name": "stdout",
     "output_type": "stream",
     "text": [
      "Loading z 800 - 1000\n"
     ]
    },
    {
     "name": "stderr",
     "output_type": "stream",
     "text": [
      "100%|██████████| 98/98 [00:07<00:00, 12.47it/s]\n",
      "100%|██████████| 200/200 [00:19<00:00, 10.26it/s]\n"
     ]
    },
    {
     "name": "stdout",
     "output_type": "stream",
     "text": [
      "Loading z 1000 - 1200\n"
     ]
    },
    {
     "name": "stderr",
     "output_type": "stream",
     "text": [
      "100%|██████████| 98/98 [00:07<00:00, 13.92it/s]\n",
      "100%|██████████| 200/200 [00:20<00:00,  9.78it/s]\n"
     ]
    },
    {
     "name": "stdout",
     "output_type": "stream",
     "text": [
      "Loading z 1200 - 1400\n"
     ]
    },
    {
     "name": "stderr",
     "output_type": "stream",
     "text": [
      "100%|██████████| 98/98 [00:07<00:00, 13.32it/s]\n",
      "100%|██████████| 200/200 [00:20<00:00,  9.97it/s]\n"
     ]
    },
    {
     "name": "stdout",
     "output_type": "stream",
     "text": [
      "Loading z 1400 - 1600\n"
     ]
    },
    {
     "name": "stderr",
     "output_type": "stream",
     "text": [
      "100%|██████████| 98/98 [00:07<00:00, 13.41it/s]\n",
      "100%|██████████| 200/200 [00:20<00:00,  9.99it/s]\n"
     ]
    },
    {
     "name": "stdout",
     "output_type": "stream",
     "text": [
      "Loading z 1600 - 1800\n"
     ]
    },
    {
     "name": "stderr",
     "output_type": "stream",
     "text": [
      "100%|██████████| 98/98 [00:07<00:00, 12.84it/s]\n",
      "100%|██████████| 200/200 [00:20<00:00,  9.99it/s]\n"
     ]
    },
    {
     "name": "stdout",
     "output_type": "stream",
     "text": [
      "Loading z 1800 - 2000\n"
     ]
    },
    {
     "name": "stderr",
     "output_type": "stream",
     "text": [
      "100%|██████████| 98/98 [00:03<00:00, 31.02it/s]\n",
      "100%|██████████| 200/200 [00:20<00:00,  9.80it/s]\n"
     ]
    }
   ],
   "source": [
    "fixed_zarr_path = bdir(name_prefix+'_flattened_anchorwarp_r1.zarr') # We have to make this the fixed zarr so that it'll warp to the correct shape \n",
    "moving_zarr_path = bdir(name_prefix2+'_flattened_x4545-7353_y5226-6718.zarr')\n",
    "warped_zarr_path = bdir(name_prefix2+'_flattened_x4545-7353_y5226-6718_ptauwarp.zarr')\n",
    "\n",
    "\n",
    "# Parameters for TPS zarr warp\n",
    "grid_spacing = 3*(16,)\n",
    "chunks=3*(200,)\n",
    "nb_workers = 8\n",
    "\n",
    "\n",
    "# grid I/O \n",
    "save_grid_values_path = bdir('warping_grids/grid_ptauwarp_cropped.npy')\n",
    "use_grid_values_path = None\n",
    "\n",
    "\n",
    "moving_pts_paths = [bdir('manual_labels/'+name_prefix2+'_endpoints_flatframe_ransac.npy')]\n",
    "fixed_pts_paths =  [bdir('manual_labels/'+name_prefix+'_endpoints_ransac.npy')]\n",
    "\n",
    "\n",
    "# anchor parameters (using the surface on the other  side and manually identified anchors on the cut surface)\n",
    "static_pts_paths = [bdir('manual_labels/'+name_prefix2+'_artificial_bottom_surface.npy')] # need to compute these as well \n",
    "\n",
    "# affine parameters \n",
    "R_path = bdir('R.npy')\n",
    "b_path = bdir('b.npy')\n",
    "\n",
    "smooth = 10\n",
    "\n",
    "##########################\n",
    "zadd=0\n",
    "\n",
    "\n",
    "TPS_warp(moving_zarr_path, fixed_zarr_path, warped_zarr_path, moving_pts_paths, fixed_pts_paths,\n",
    "         static_pts_paths=static_pts_paths, R_path=R_path, b_path=b_path, zadd=zadd, \n",
    "          grid_spacing=grid_spacing, smooth=smooth, chunks=chunks,\n",
    "          nb_workers=nb_workers, padding=2, save_grid_values_path=save_grid_values_path, \n",
    "          show_residuals=True, use_grid_values_path=use_grid_values_path)\n",
    "\n",
    "# Convert zarr to tiff\n",
    "# Test parallel convert zarr to tiff \n",
    "zrange = None\n",
    "tiff_path = warped_zarr_path[:-5]+'_tiffs'\n",
    "convert_zarr_to_tiff(warped_zarr_path, tiff_path, num_workers=24, zrange=zrange)"
   ]
  },
  {
   "cell_type": "code",
   "execution_count": 69,
   "id": "c71b77c8",
   "metadata": {},
   "outputs": [],
   "source": [
    "numpy_to_json(np.load(bdir('manual_labels/'+name_prefix+'_endpoints_ransac.npy')),\n",
    "             bdir('manual_labels/'+name_prefix+'_endpoints_ransac.json'))"
   ]
  },
  {
   "cell_type": "markdown",
   "id": "29756ff4",
   "metadata": {},
   "source": [
    "## Round 2 Load in manual points"
   ]
  },
  {
   "cell_type": "code",
   "execution_count": 74,
   "id": "6f5007ae",
   "metadata": {},
   "outputs": [
    {
     "name": "stdout",
     "output_type": "stream",
     "text": [
      "(153, 3)\n",
      "81 2600\n",
      "25 1198\n",
      "358 476\n"
     ]
    }
   ],
   "source": [
    "anchors_json_path = bdir('manual_labels/ptau_anchor_pts_r2.json')\n",
    "annotation_names = ['3-pts']\n",
    "resample_factor = (1,)*3 # multiply this by the anchor points to get to correct reference frame \n",
    "offset = (5759,5981,7450) # subtract these to get the actual reference frame (subtracted pre-resampling)\n",
    "surf_eps_save_path = bdir('manual_labels/'+name_prefix+'_endpoints_r2.npy') # where to save surface points \n",
    "\n",
    "# ranges for filtering (not downsampled)\n",
    "xrange = [5759,8410]\n",
    "yrange = [5981,7328]\n",
    "zrange = None #[7300,8300]\n",
    "\n",
    "\n",
    "##############################\n",
    "pts = np.zeros((0,3),dtype='float')\n",
    "for annotation_name in annotation_names:\n",
    "    pts_temp = read_annotations_json(anchors_json_path, annotation_name, sink_path=None)\n",
    "    pts = np.concatenate((pts,pts_temp),axis=0)\n",
    "\n",
    "if xrange is not None:\n",
    "    pts = pts[(pts[:,0]>=xrange[0]) * (pts[:,0]<xrange[1])]\n",
    "if yrange is not None:\n",
    "    pts = pts[(pts[:,1]>=yrange[0]) * (pts[:,1]<yrange[1])]\n",
    "if zrange is not None:\n",
    "    pts = pts[(pts[:,2]>=zrange[0]) * (pts[:,2]<zrange[1])]\n",
    "\n",
    "pts[:,0] -= offset[0]; pts[:,1] -= offset[1]; pts[:,2] -= offset[2]\n",
    "pts[:,0] *= resample_factor[0]; pts[:,1] *= resample_factor[1]; pts[:,2] *= resample_factor[2]\n",
    "pts = np.round(pts).astype('int')\n",
    "\n",
    "np.save(surf_eps_save_path, pts)\n",
    "print(pts.shape)\n",
    "\n",
    "print(pts[:,0].min(),pts[:,0].max())\n",
    "print(pts[:,1].min(),pts[:,1].max())\n",
    "print(pts[:,2].min(),pts[:,2].max())"
   ]
  },
  {
   "cell_type": "code",
   "execution_count": 75,
   "id": "570211b3",
   "metadata": {},
   "outputs": [
    {
     "name": "stdout",
     "output_type": "stream",
     "text": [
      "(153, 3)\n",
      "5774 8384\n",
      "6001 7186\n",
      "370 530\n"
     ]
    }
   ],
   "source": [
    "anchors_json_path = bdir('manual_labels/ptau_anchor_pts_r2.json')\n",
    "annotation_names = ['2-pts']\n",
    "resample_factor = (1,)*3 # multiply this by the anchor points to get to correct reference frame \n",
    "offset = (0,0,7450) # subtract these to get the actual reference frame (subtracted pre-resampling)\n",
    "surf_eps_save_path = bdir('manual_labels/'+name_prefix2+'_endpoints_r2.npy') # where to save surface points \n",
    "\n",
    "# ranges for filtering (not downsampled)\n",
    "xrange = [5759,8410]\n",
    "yrange = [5981,7328]\n",
    "zrange = None #[7300,8300]\n",
    "\n",
    "\n",
    "\n",
    "##############################\n",
    "pts = np.zeros((0,3),dtype='float')\n",
    "for annotation_name in annotation_names:\n",
    "    pts_temp = read_annotations_json(anchors_json_path, annotation_name, sink_path=None)\n",
    "    pts = np.concatenate((pts,pts_temp),axis=0)\n",
    "\n",
    "if xrange is not None:\n",
    "    pts = pts[(pts[:,0]>=xrange[0]) * (pts[:,0]<xrange[1])]\n",
    "if yrange is not None:\n",
    "    pts = pts[(pts[:,1]>=yrange[0]) * (pts[:,1]<yrange[1])]\n",
    "if zrange is not None:\n",
    "    pts = pts[(pts[:,2]>=zrange[0]) * (pts[:,2]<zrange[1])]\n",
    "\n",
    "pts[:,0] -= offset[0]; pts[:,1] -= offset[1]; pts[:,2] -= offset[2]\n",
    "pts[:,0] *= resample_factor[0]; pts[:,1] *= resample_factor[1]; pts[:,2] *= resample_factor[2]\n",
    "pts = np.round(pts).astype('int')\n",
    "\n",
    "np.save(surf_eps_save_path, pts)\n",
    "print(pts.shape)\n",
    "\n",
    "print(pts[:,0].min(),pts[:,0].max())\n",
    "print(pts[:,1].min(),pts[:,1].max())\n",
    "print(pts[:,2].min(),pts[:,2].max())"
   ]
  },
  {
   "cell_type": "markdown",
   "id": "c89822bf",
   "metadata": {},
   "source": [
    "#### 2. Unwarp moving endpoints back to flattened frame"
   ]
  },
  {
   "cell_type": "code",
   "execution_count": 76,
   "id": "d39b6719",
   "metadata": {},
   "outputs": [],
   "source": [
    "# Warp the moving points back to flattened frame \n",
    "grid_path = bdir('warping_grids/grid_anchor_tps_r0_upsampled.npy')\n",
    "\n",
    "pts_path = bdir('manual_labels/'+name_prefix2+'_endpoints_r2.npy')\n",
    "warped_zarr_path = bdir('2-ptau_flattened_lectinwarp.zarr')\n",
    "save_path = bdir('manual_labels/'+name_prefix2+'_endpoints_r2_flatframe.npy')\n",
    "save_json = False \n",
    "inverse_transform = False\n",
    "\n",
    "\n",
    "#####\n",
    "coords = grid_transform_pts(grid_path, pts_path, warped_zarr_path, save_path=save_path, save_json=save_json, inverse_transform=inverse_transform)# Transform moving points to flattened frame "
   ]
  },
  {
   "cell_type": "code",
   "execution_count": 77,
   "id": "936565cb",
   "metadata": {},
   "outputs": [],
   "source": [
    "moving_pts_path = bdir('manual_labels/'+name_prefix2+'_endpoints_r2_flatframe.npy')\n",
    "\n",
    "\n",
    "moving_pts = np.load(moving_pts_path)\n",
    "moving_pts[:,0] -= 4545\n",
    "moving_pts[:,1] -= 5226\n",
    "moving_pts[:,2] -= 0\n",
    "\n",
    "np.save(moving_pts_path, moving_pts)"
   ]
  },
  {
   "cell_type": "markdown",
   "id": "0c99a2a2",
   "metadata": {},
   "source": [
    "## RANSAC"
   ]
  },
  {
   "cell_type": "code",
   "execution_count": 85,
   "id": "425b4950",
   "metadata": {},
   "outputs": [
    {
     "name": "stdout",
     "output_type": "stream",
     "text": [
      "(153, 3) (153, 3)\n",
      "656.5314488983308 476\n",
      "660.5314488983308 472\n"
     ]
    }
   ],
   "source": [
    "a = np.load(bdir('manual_labels/'+name_prefix2+'_endpoints_r2_flatframe.npy'))\n",
    "b = np.load(bdir('manual_labels/'+name_prefix+'_endpoints_r2.npy'))\n",
    "zedit = (4,4) # how much to subtract and add to get more continuous signal\n",
    "print(a.shape, b.shape)\n",
    "\n",
    "\n",
    "print(a[:,2].max(), b[:,2].max())\n",
    "a[:,2] += zedit[0]\n",
    "b[:,2] -= zedit[1]\n",
    "print(a[:,2].max(), b[:,2].max()) # originally did +3, -2\n",
    "\n",
    "np.save(bdir('manual_labels/'+name_prefix2+'_endpoints_r2_flatframe_zedit%d.npy'%zedit[0]), a)\n",
    "np.save(bdir('manual_labels/'+name_prefix+'_endpoints_r2_zedit%d.npy'%zedit[1]), b)"
   ]
  },
  {
   "cell_type": "code",
   "execution_count": 86,
   "id": "a19a3e82",
   "metadata": {},
   "outputs": [
    {
     "name": "stderr",
     "output_type": "stream",
     "text": [
      "153it [00:02, 67.03it/s]"
     ]
    },
    {
     "name": "stdout",
     "output_type": "stream",
     "text": [
      "4\n",
      "4\n",
      "(153, 3) (102, 3)\n"
     ]
    },
    {
     "name": "stderr",
     "output_type": "stream",
     "text": [
      "\n"
     ]
    }
   ],
   "source": [
    "points_idxs_to_evaluate = None # new points to evaluate with RANSAC. Else, make None\n",
    "\n",
    "moving_pts_paths = [bdir('manual_labels/'+name_prefix2+'_endpoints_r2_flatframe_zedit4.npy')]\n",
    "fixed_pts_paths =  [bdir('manual_labels/'+name_prefix+'_endpoints_r2_zedit4.npy')]\n",
    "\n",
    "\n",
    "moving_save_path = bdir('manual_labels/'+name_prefix2+'_endpoints_r2_flatframe_zedit4_ransac.npy')\n",
    "fixed_save_path = bdir('manual_labels/'+name_prefix+'_endpoints_r2_zedit4_ransac.npy')\n",
    "error_threshold = 20\n",
    "min_samples = None\n",
    "\n",
    "radius = 400\n",
    "voxel_size = (1,1.414,1)\n",
    "\n",
    "\n",
    "##################\n",
    "moving_ransac, fixed_ransac = apply_ransac_v2(moving_pts_paths, fixed_pts_paths, moving_save_path=moving_save_path, fixed_save_path=fixed_save_path, points_idxs_to_evaluate=points_idxs_to_evaluate,\n",
    "                    error_threshold=error_threshold, min_samples=min_samples, radius=radius, voxel_size=voxel_size)\n",
    "\n",
    "print(np.load(moving_pts_paths[0]).shape,moving_ransac.shape)"
   ]
  },
  {
   "cell_type": "markdown",
   "id": "f7d595c9",
   "metadata": {},
   "source": [
    "#### 8. Rigid alignment"
   ]
  },
  {
   "cell_type": "code",
   "execution_count": 83,
   "id": "3c432810",
   "metadata": {},
   "outputs": [
    {
     "name": "stdout",
     "output_type": "stream",
     "text": [
      "(102, 3) (102, 3)\n",
      "656.5314488983308 476\n",
      "661.5314488983308 471\n"
     ]
    }
   ],
   "source": [
    "# a = np.load(bdir('manual_labels/'+name_prefix2+'_endpoints_r2_flatframe_ransac.npy'))\n",
    "# b = np.load(bdir('manual_labels/'+name_prefix+'_endpoints_r2_ransac.npy'))\n",
    "# zedit = (5,5) # how much to subtract and add to get more continuous signal\n",
    "# print(a.shape, b.shape)\n",
    "\n",
    "\n",
    "# print(a[:,2].max(), b[:,2].max())\n",
    "# a[:,2] += zedit[0]\n",
    "# b[:,2] -= zedit[1]\n",
    "# print(a[:,2].max(), b[:,2].max()) # originally did +3, -2\n",
    "\n",
    "# np.save(bdir('manual_labels/'+name_prefix2+'_endpoints_r2_flatframe_ransac_zedit%d.npy'%zedit[0]), a)\n",
    "# np.save(bdir('manual_labels/'+name_prefix+'_endpoints_r2_ransac_zedit%d.npy'%zedit[1]), b)"
   ]
  },
  {
   "cell_type": "code",
   "execution_count": 87,
   "id": "7bbcb3e4",
   "metadata": {},
   "outputs": [
    {
     "name": "stdout",
     "output_type": "stream",
     "text": [
      "(102, 3) (102, 3)\n",
      "-186.0283636284456\n"
     ]
    },
    {
     "data": {
      "application/javascript": [
       "/* Put everything inside the global mpl namespace */\n",
       "window.mpl = {};\n",
       "\n",
       "\n",
       "mpl.get_websocket_type = function() {\n",
       "    if (typeof(WebSocket) !== 'undefined') {\n",
       "        return WebSocket;\n",
       "    } else if (typeof(MozWebSocket) !== 'undefined') {\n",
       "        return MozWebSocket;\n",
       "    } else {\n",
       "        alert('Your browser does not have WebSocket support. ' +\n",
       "              'Please try Chrome, Safari or Firefox ≥ 6. ' +\n",
       "              'Firefox 4 and 5 are also supported but you ' +\n",
       "              'have to enable WebSockets in about:config.');\n",
       "    };\n",
       "}\n",
       "\n",
       "mpl.figure = function(figure_id, websocket, ondownload, parent_element) {\n",
       "    this.id = figure_id;\n",
       "\n",
       "    this.ws = websocket;\n",
       "\n",
       "    this.supports_binary = (this.ws.binaryType != undefined);\n",
       "\n",
       "    if (!this.supports_binary) {\n",
       "        var warnings = document.getElementById(\"mpl-warnings\");\n",
       "        if (warnings) {\n",
       "            warnings.style.display = 'block';\n",
       "            warnings.textContent = (\n",
       "                \"This browser does not support binary websocket messages. \" +\n",
       "                    \"Performance may be slow.\");\n",
       "        }\n",
       "    }\n",
       "\n",
       "    this.imageObj = new Image();\n",
       "\n",
       "    this.context = undefined;\n",
       "    this.message = undefined;\n",
       "    this.canvas = undefined;\n",
       "    this.rubberband_canvas = undefined;\n",
       "    this.rubberband_context = undefined;\n",
       "    this.format_dropdown = undefined;\n",
       "\n",
       "    this.image_mode = 'full';\n",
       "\n",
       "    this.root = $('<div/>');\n",
       "    this._root_extra_style(this.root)\n",
       "    this.root.attr('style', 'display: inline-block');\n",
       "\n",
       "    $(parent_element).append(this.root);\n",
       "\n",
       "    this._init_header(this);\n",
       "    this._init_canvas(this);\n",
       "    this._init_toolbar(this);\n",
       "\n",
       "    var fig = this;\n",
       "\n",
       "    this.waiting = false;\n",
       "\n",
       "    this.ws.onopen =  function () {\n",
       "            fig.send_message(\"supports_binary\", {value: fig.supports_binary});\n",
       "            fig.send_message(\"send_image_mode\", {});\n",
       "            if (mpl.ratio != 1) {\n",
       "                fig.send_message(\"set_dpi_ratio\", {'dpi_ratio': mpl.ratio});\n",
       "            }\n",
       "            fig.send_message(\"refresh\", {});\n",
       "        }\n",
       "\n",
       "    this.imageObj.onload = function() {\n",
       "            if (fig.image_mode == 'full') {\n",
       "                // Full images could contain transparency (where diff images\n",
       "                // almost always do), so we need to clear the canvas so that\n",
       "                // there is no ghosting.\n",
       "                fig.context.clearRect(0, 0, fig.canvas.width, fig.canvas.height);\n",
       "            }\n",
       "            fig.context.drawImage(fig.imageObj, 0, 0);\n",
       "        };\n",
       "\n",
       "    this.imageObj.onunload = function() {\n",
       "        fig.ws.close();\n",
       "    }\n",
       "\n",
       "    this.ws.onmessage = this._make_on_message_function(this);\n",
       "\n",
       "    this.ondownload = ondownload;\n",
       "}\n",
       "\n",
       "mpl.figure.prototype._init_header = function() {\n",
       "    var titlebar = $(\n",
       "        '<div class=\"ui-dialog-titlebar ui-widget-header ui-corner-all ' +\n",
       "        'ui-helper-clearfix\"/>');\n",
       "    var titletext = $(\n",
       "        '<div class=\"ui-dialog-title\" style=\"width: 100%; ' +\n",
       "        'text-align: center; padding: 3px;\"/>');\n",
       "    titlebar.append(titletext)\n",
       "    this.root.append(titlebar);\n",
       "    this.header = titletext[0];\n",
       "}\n",
       "\n",
       "\n",
       "\n",
       "mpl.figure.prototype._canvas_extra_style = function(canvas_div) {\n",
       "\n",
       "}\n",
       "\n",
       "\n",
       "mpl.figure.prototype._root_extra_style = function(canvas_div) {\n",
       "\n",
       "}\n",
       "\n",
       "mpl.figure.prototype._init_canvas = function() {\n",
       "    var fig = this;\n",
       "\n",
       "    var canvas_div = $('<div/>');\n",
       "\n",
       "    canvas_div.attr('style', 'position: relative; clear: both; outline: 0');\n",
       "\n",
       "    function canvas_keyboard_event(event) {\n",
       "        return fig.key_event(event, event['data']);\n",
       "    }\n",
       "\n",
       "    canvas_div.keydown('key_press', canvas_keyboard_event);\n",
       "    canvas_div.keyup('key_release', canvas_keyboard_event);\n",
       "    this.canvas_div = canvas_div\n",
       "    this._canvas_extra_style(canvas_div)\n",
       "    this.root.append(canvas_div);\n",
       "\n",
       "    var canvas = $('<canvas/>');\n",
       "    canvas.addClass('mpl-canvas');\n",
       "    canvas.attr('style', \"left: 0; top: 0; z-index: 0; outline: 0\")\n",
       "\n",
       "    this.canvas = canvas[0];\n",
       "    this.context = canvas[0].getContext(\"2d\");\n",
       "\n",
       "    var backingStore = this.context.backingStorePixelRatio ||\n",
       "\tthis.context.webkitBackingStorePixelRatio ||\n",
       "\tthis.context.mozBackingStorePixelRatio ||\n",
       "\tthis.context.msBackingStorePixelRatio ||\n",
       "\tthis.context.oBackingStorePixelRatio ||\n",
       "\tthis.context.backingStorePixelRatio || 1;\n",
       "\n",
       "    mpl.ratio = (window.devicePixelRatio || 1) / backingStore;\n",
       "\n",
       "    var rubberband = $('<canvas/>');\n",
       "    rubberband.attr('style', \"position: absolute; left: 0; top: 0; z-index: 1;\")\n",
       "\n",
       "    var pass_mouse_events = true;\n",
       "\n",
       "    canvas_div.resizable({\n",
       "        start: function(event, ui) {\n",
       "            pass_mouse_events = false;\n",
       "        },\n",
       "        resize: function(event, ui) {\n",
       "            fig.request_resize(ui.size.width, ui.size.height);\n",
       "        },\n",
       "        stop: function(event, ui) {\n",
       "            pass_mouse_events = true;\n",
       "            fig.request_resize(ui.size.width, ui.size.height);\n",
       "        },\n",
       "    });\n",
       "\n",
       "    function mouse_event_fn(event) {\n",
       "        if (pass_mouse_events)\n",
       "            return fig.mouse_event(event, event['data']);\n",
       "    }\n",
       "\n",
       "    rubberband.mousedown('button_press', mouse_event_fn);\n",
       "    rubberband.mouseup('button_release', mouse_event_fn);\n",
       "    // Throttle sequential mouse events to 1 every 20ms.\n",
       "    rubberband.mousemove('motion_notify', mouse_event_fn);\n",
       "\n",
       "    rubberband.mouseenter('figure_enter', mouse_event_fn);\n",
       "    rubberband.mouseleave('figure_leave', mouse_event_fn);\n",
       "\n",
       "    canvas_div.on(\"wheel\", function (event) {\n",
       "        event = event.originalEvent;\n",
       "        event['data'] = 'scroll'\n",
       "        if (event.deltaY < 0) {\n",
       "            event.step = 1;\n",
       "        } else {\n",
       "            event.step = -1;\n",
       "        }\n",
       "        mouse_event_fn(event);\n",
       "    });\n",
       "\n",
       "    canvas_div.append(canvas);\n",
       "    canvas_div.append(rubberband);\n",
       "\n",
       "    this.rubberband = rubberband;\n",
       "    this.rubberband_canvas = rubberband[0];\n",
       "    this.rubberband_context = rubberband[0].getContext(\"2d\");\n",
       "    this.rubberband_context.strokeStyle = \"#000000\";\n",
       "\n",
       "    this._resize_canvas = function(width, height) {\n",
       "        // Keep the size of the canvas, canvas container, and rubber band\n",
       "        // canvas in synch.\n",
       "        canvas_div.css('width', width)\n",
       "        canvas_div.css('height', height)\n",
       "\n",
       "        canvas.attr('width', width * mpl.ratio);\n",
       "        canvas.attr('height', height * mpl.ratio);\n",
       "        canvas.attr('style', 'width: ' + width + 'px; height: ' + height + 'px;');\n",
       "\n",
       "        rubberband.attr('width', width);\n",
       "        rubberband.attr('height', height);\n",
       "    }\n",
       "\n",
       "    // Set the figure to an initial 600x600px, this will subsequently be updated\n",
       "    // upon first draw.\n",
       "    this._resize_canvas(600, 600);\n",
       "\n",
       "    // Disable right mouse context menu.\n",
       "    $(this.rubberband_canvas).bind(\"contextmenu\",function(e){\n",
       "        return false;\n",
       "    });\n",
       "\n",
       "    function set_focus () {\n",
       "        canvas.focus();\n",
       "        canvas_div.focus();\n",
       "    }\n",
       "\n",
       "    window.setTimeout(set_focus, 100);\n",
       "}\n",
       "\n",
       "mpl.figure.prototype._init_toolbar = function() {\n",
       "    var fig = this;\n",
       "\n",
       "    var nav_element = $('<div/>');\n",
       "    nav_element.attr('style', 'width: 100%');\n",
       "    this.root.append(nav_element);\n",
       "\n",
       "    // Define a callback function for later on.\n",
       "    function toolbar_event(event) {\n",
       "        return fig.toolbar_button_onclick(event['data']);\n",
       "    }\n",
       "    function toolbar_mouse_event(event) {\n",
       "        return fig.toolbar_button_onmouseover(event['data']);\n",
       "    }\n",
       "\n",
       "    for(var toolbar_ind in mpl.toolbar_items) {\n",
       "        var name = mpl.toolbar_items[toolbar_ind][0];\n",
       "        var tooltip = mpl.toolbar_items[toolbar_ind][1];\n",
       "        var image = mpl.toolbar_items[toolbar_ind][2];\n",
       "        var method_name = mpl.toolbar_items[toolbar_ind][3];\n",
       "\n",
       "        if (!name) {\n",
       "            // put a spacer in here.\n",
       "            continue;\n",
       "        }\n",
       "        var button = $('<button/>');\n",
       "        button.addClass('ui-button ui-widget ui-state-default ui-corner-all ' +\n",
       "                        'ui-button-icon-only');\n",
       "        button.attr('role', 'button');\n",
       "        button.attr('aria-disabled', 'false');\n",
       "        button.click(method_name, toolbar_event);\n",
       "        button.mouseover(tooltip, toolbar_mouse_event);\n",
       "\n",
       "        var icon_img = $('<span/>');\n",
       "        icon_img.addClass('ui-button-icon-primary ui-icon');\n",
       "        icon_img.addClass(image);\n",
       "        icon_img.addClass('ui-corner-all');\n",
       "\n",
       "        var tooltip_span = $('<span/>');\n",
       "        tooltip_span.addClass('ui-button-text');\n",
       "        tooltip_span.html(tooltip);\n",
       "\n",
       "        button.append(icon_img);\n",
       "        button.append(tooltip_span);\n",
       "\n",
       "        nav_element.append(button);\n",
       "    }\n",
       "\n",
       "    var fmt_picker_span = $('<span/>');\n",
       "\n",
       "    var fmt_picker = $('<select/>');\n",
       "    fmt_picker.addClass('mpl-toolbar-option ui-widget ui-widget-content');\n",
       "    fmt_picker_span.append(fmt_picker);\n",
       "    nav_element.append(fmt_picker_span);\n",
       "    this.format_dropdown = fmt_picker[0];\n",
       "\n",
       "    for (var ind in mpl.extensions) {\n",
       "        var fmt = mpl.extensions[ind];\n",
       "        var option = $(\n",
       "            '<option/>', {selected: fmt === mpl.default_extension}).html(fmt);\n",
       "        fmt_picker.append(option);\n",
       "    }\n",
       "\n",
       "    // Add hover states to the ui-buttons\n",
       "    $( \".ui-button\" ).hover(\n",
       "        function() { $(this).addClass(\"ui-state-hover\");},\n",
       "        function() { $(this).removeClass(\"ui-state-hover\");}\n",
       "    );\n",
       "\n",
       "    var status_bar = $('<span class=\"mpl-message\"/>');\n",
       "    nav_element.append(status_bar);\n",
       "    this.message = status_bar[0];\n",
       "}\n",
       "\n",
       "mpl.figure.prototype.request_resize = function(x_pixels, y_pixels) {\n",
       "    // Request matplotlib to resize the figure. Matplotlib will then trigger a resize in the client,\n",
       "    // which will in turn request a refresh of the image.\n",
       "    this.send_message('resize', {'width': x_pixels, 'height': y_pixels});\n",
       "}\n",
       "\n",
       "mpl.figure.prototype.send_message = function(type, properties) {\n",
       "    properties['type'] = type;\n",
       "    properties['figure_id'] = this.id;\n",
       "    this.ws.send(JSON.stringify(properties));\n",
       "}\n",
       "\n",
       "mpl.figure.prototype.send_draw_message = function() {\n",
       "    if (!this.waiting) {\n",
       "        this.waiting = true;\n",
       "        this.ws.send(JSON.stringify({type: \"draw\", figure_id: this.id}));\n",
       "    }\n",
       "}\n",
       "\n",
       "\n",
       "mpl.figure.prototype.handle_save = function(fig, msg) {\n",
       "    var format_dropdown = fig.format_dropdown;\n",
       "    var format = format_dropdown.options[format_dropdown.selectedIndex].value;\n",
       "    fig.ondownload(fig, format);\n",
       "}\n",
       "\n",
       "\n",
       "mpl.figure.prototype.handle_resize = function(fig, msg) {\n",
       "    var size = msg['size'];\n",
       "    if (size[0] != fig.canvas.width || size[1] != fig.canvas.height) {\n",
       "        fig._resize_canvas(size[0], size[1]);\n",
       "        fig.send_message(\"refresh\", {});\n",
       "    };\n",
       "}\n",
       "\n",
       "mpl.figure.prototype.handle_rubberband = function(fig, msg) {\n",
       "    var x0 = msg['x0'] / mpl.ratio;\n",
       "    var y0 = (fig.canvas.height - msg['y0']) / mpl.ratio;\n",
       "    var x1 = msg['x1'] / mpl.ratio;\n",
       "    var y1 = (fig.canvas.height - msg['y1']) / mpl.ratio;\n",
       "    x0 = Math.floor(x0) + 0.5;\n",
       "    y0 = Math.floor(y0) + 0.5;\n",
       "    x1 = Math.floor(x1) + 0.5;\n",
       "    y1 = Math.floor(y1) + 0.5;\n",
       "    var min_x = Math.min(x0, x1);\n",
       "    var min_y = Math.min(y0, y1);\n",
       "    var width = Math.abs(x1 - x0);\n",
       "    var height = Math.abs(y1 - y0);\n",
       "\n",
       "    fig.rubberband_context.clearRect(\n",
       "        0, 0, fig.canvas.width / mpl.ratio, fig.canvas.height / mpl.ratio);\n",
       "\n",
       "    fig.rubberband_context.strokeRect(min_x, min_y, width, height);\n",
       "}\n",
       "\n",
       "mpl.figure.prototype.handle_figure_label = function(fig, msg) {\n",
       "    // Updates the figure title.\n",
       "    fig.header.textContent = msg['label'];\n",
       "}\n",
       "\n",
       "mpl.figure.prototype.handle_cursor = function(fig, msg) {\n",
       "    var cursor = msg['cursor'];\n",
       "    switch(cursor)\n",
       "    {\n",
       "    case 0:\n",
       "        cursor = 'pointer';\n",
       "        break;\n",
       "    case 1:\n",
       "        cursor = 'default';\n",
       "        break;\n",
       "    case 2:\n",
       "        cursor = 'crosshair';\n",
       "        break;\n",
       "    case 3:\n",
       "        cursor = 'move';\n",
       "        break;\n",
       "    }\n",
       "    fig.rubberband_canvas.style.cursor = cursor;\n",
       "}\n",
       "\n",
       "mpl.figure.prototype.handle_message = function(fig, msg) {\n",
       "    fig.message.textContent = msg['message'];\n",
       "}\n",
       "\n",
       "mpl.figure.prototype.handle_draw = function(fig, msg) {\n",
       "    // Request the server to send over a new figure.\n",
       "    fig.send_draw_message();\n",
       "}\n",
       "\n",
       "mpl.figure.prototype.handle_image_mode = function(fig, msg) {\n",
       "    fig.image_mode = msg['mode'];\n",
       "}\n",
       "\n",
       "mpl.figure.prototype.updated_canvas_event = function() {\n",
       "    // Called whenever the canvas gets updated.\n",
       "    this.send_message(\"ack\", {});\n",
       "}\n",
       "\n",
       "// A function to construct a web socket function for onmessage handling.\n",
       "// Called in the figure constructor.\n",
       "mpl.figure.prototype._make_on_message_function = function(fig) {\n",
       "    return function socket_on_message(evt) {\n",
       "        if (evt.data instanceof Blob) {\n",
       "            /* FIXME: We get \"Resource interpreted as Image but\n",
       "             * transferred with MIME type text/plain:\" errors on\n",
       "             * Chrome.  But how to set the MIME type?  It doesn't seem\n",
       "             * to be part of the websocket stream */\n",
       "            evt.data.type = \"image/png\";\n",
       "\n",
       "            /* Free the memory for the previous frames */\n",
       "            if (fig.imageObj.src) {\n",
       "                (window.URL || window.webkitURL).revokeObjectURL(\n",
       "                    fig.imageObj.src);\n",
       "            }\n",
       "\n",
       "            fig.imageObj.src = (window.URL || window.webkitURL).createObjectURL(\n",
       "                evt.data);\n",
       "            fig.updated_canvas_event();\n",
       "            fig.waiting = false;\n",
       "            return;\n",
       "        }\n",
       "        else if (typeof evt.data === 'string' && evt.data.slice(0, 21) == \"data:image/png;base64\") {\n",
       "            fig.imageObj.src = evt.data;\n",
       "            fig.updated_canvas_event();\n",
       "            fig.waiting = false;\n",
       "            return;\n",
       "        }\n",
       "\n",
       "        var msg = JSON.parse(evt.data);\n",
       "        var msg_type = msg['type'];\n",
       "\n",
       "        // Call the  \"handle_{type}\" callback, which takes\n",
       "        // the figure and JSON message as its only arguments.\n",
       "        try {\n",
       "            var callback = fig[\"handle_\" + msg_type];\n",
       "        } catch (e) {\n",
       "            console.log(\"No handler for the '\" + msg_type + \"' message type: \", msg);\n",
       "            return;\n",
       "        }\n",
       "\n",
       "        if (callback) {\n",
       "            try {\n",
       "                // console.log(\"Handling '\" + msg_type + \"' message: \", msg);\n",
       "                callback(fig, msg);\n",
       "            } catch (e) {\n",
       "                console.log(\"Exception inside the 'handler_\" + msg_type + \"' callback:\", e, e.stack, msg);\n",
       "            }\n",
       "        }\n",
       "    };\n",
       "}\n",
       "\n",
       "// from http://stackoverflow.com/questions/1114465/getting-mouse-location-in-canvas\n",
       "mpl.findpos = function(e) {\n",
       "    //this section is from http://www.quirksmode.org/js/events_properties.html\n",
       "    var targ;\n",
       "    if (!e)\n",
       "        e = window.event;\n",
       "    if (e.target)\n",
       "        targ = e.target;\n",
       "    else if (e.srcElement)\n",
       "        targ = e.srcElement;\n",
       "    if (targ.nodeType == 3) // defeat Safari bug\n",
       "        targ = targ.parentNode;\n",
       "\n",
       "    // jQuery normalizes the pageX and pageY\n",
       "    // pageX,Y are the mouse positions relative to the document\n",
       "    // offset() returns the position of the element relative to the document\n",
       "    var x = e.pageX - $(targ).offset().left;\n",
       "    var y = e.pageY - $(targ).offset().top;\n",
       "\n",
       "    return {\"x\": x, \"y\": y};\n",
       "};\n",
       "\n",
       "/*\n",
       " * return a copy of an object with only non-object keys\n",
       " * we need this to avoid circular references\n",
       " * http://stackoverflow.com/a/24161582/3208463\n",
       " */\n",
       "function simpleKeys (original) {\n",
       "  return Object.keys(original).reduce(function (obj, key) {\n",
       "    if (typeof original[key] !== 'object')\n",
       "        obj[key] = original[key]\n",
       "    return obj;\n",
       "  }, {});\n",
       "}\n",
       "\n",
       "mpl.figure.prototype.mouse_event = function(event, name) {\n",
       "    var canvas_pos = mpl.findpos(event)\n",
       "\n",
       "    if (name === 'button_press')\n",
       "    {\n",
       "        this.canvas.focus();\n",
       "        this.canvas_div.focus();\n",
       "    }\n",
       "\n",
       "    var x = canvas_pos.x * mpl.ratio;\n",
       "    var y = canvas_pos.y * mpl.ratio;\n",
       "\n",
       "    this.send_message(name, {x: x, y: y, button: event.button,\n",
       "                             step: event.step,\n",
       "                             guiEvent: simpleKeys(event)});\n",
       "\n",
       "    /* This prevents the web browser from automatically changing to\n",
       "     * the text insertion cursor when the button is pressed.  We want\n",
       "     * to control all of the cursor setting manually through the\n",
       "     * 'cursor' event from matplotlib */\n",
       "    event.preventDefault();\n",
       "    return false;\n",
       "}\n",
       "\n",
       "mpl.figure.prototype._key_event_extra = function(event, name) {\n",
       "    // Handle any extra behaviour associated with a key event\n",
       "}\n",
       "\n",
       "mpl.figure.prototype.key_event = function(event, name) {\n",
       "\n",
       "    // Prevent repeat events\n",
       "    if (name == 'key_press')\n",
       "    {\n",
       "        if (event.which === this._key)\n",
       "            return;\n",
       "        else\n",
       "            this._key = event.which;\n",
       "    }\n",
       "    if (name == 'key_release')\n",
       "        this._key = null;\n",
       "\n",
       "    var value = '';\n",
       "    if (event.ctrlKey && event.which != 17)\n",
       "        value += \"ctrl+\";\n",
       "    if (event.altKey && event.which != 18)\n",
       "        value += \"alt+\";\n",
       "    if (event.shiftKey && event.which != 16)\n",
       "        value += \"shift+\";\n",
       "\n",
       "    value += 'k';\n",
       "    value += event.which.toString();\n",
       "\n",
       "    this._key_event_extra(event, name);\n",
       "\n",
       "    this.send_message(name, {key: value,\n",
       "                             guiEvent: simpleKeys(event)});\n",
       "    return false;\n",
       "}\n",
       "\n",
       "mpl.figure.prototype.toolbar_button_onclick = function(name) {\n",
       "    if (name == 'download') {\n",
       "        this.handle_save(this, null);\n",
       "    } else {\n",
       "        this.send_message(\"toolbar_button\", {name: name});\n",
       "    }\n",
       "};\n",
       "\n",
       "mpl.figure.prototype.toolbar_button_onmouseover = function(tooltip) {\n",
       "    this.message.textContent = tooltip;\n",
       "};\n",
       "mpl.toolbar_items = [[\"Home\", \"Reset original view\", \"fa fa-home icon-home\", \"home\"], [\"Back\", \"Back to previous view\", \"fa fa-arrow-left icon-arrow-left\", \"back\"], [\"Forward\", \"Forward to next view\", \"fa fa-arrow-right icon-arrow-right\", \"forward\"], [\"\", \"\", \"\", \"\"], [\"Pan\", \"Pan axes with left mouse, zoom with right\", \"fa fa-arrows icon-move\", \"pan\"], [\"Zoom\", \"Zoom to rectangle\", \"fa fa-square-o icon-check-empty\", \"zoom\"], [\"\", \"\", \"\", \"\"], [\"Download\", \"Download plot\", \"fa fa-floppy-o icon-save\", \"download\"]];\n",
       "\n",
       "mpl.extensions = [\"eps\", \"jpeg\", \"pdf\", \"png\", \"ps\", \"raw\", \"svg\", \"tif\"];\n",
       "\n",
       "mpl.default_extension = \"png\";var comm_websocket_adapter = function(comm) {\n",
       "    // Create a \"websocket\"-like object which calls the given IPython comm\n",
       "    // object with the appropriate methods. Currently this is a non binary\n",
       "    // socket, so there is still some room for performance tuning.\n",
       "    var ws = {};\n",
       "\n",
       "    ws.close = function() {\n",
       "        comm.close()\n",
       "    };\n",
       "    ws.send = function(m) {\n",
       "        //console.log('sending', m);\n",
       "        comm.send(m);\n",
       "    };\n",
       "    // Register the callback with on_msg.\n",
       "    comm.on_msg(function(msg) {\n",
       "        //console.log('receiving', msg['content']['data'], msg);\n",
       "        // Pass the mpl event to the overridden (by mpl) onmessage function.\n",
       "        ws.onmessage(msg['content']['data'])\n",
       "    });\n",
       "    return ws;\n",
       "}\n",
       "\n",
       "mpl.mpl_figure_comm = function(comm, msg) {\n",
       "    // This is the function which gets called when the mpl process\n",
       "    // starts-up an IPython Comm through the \"matplotlib\" channel.\n",
       "\n",
       "    var id = msg.content.data.id;\n",
       "    // Get hold of the div created by the display call when the Comm\n",
       "    // socket was opened in Python.\n",
       "    var element = $(\"#\" + id);\n",
       "    var ws_proxy = comm_websocket_adapter(comm)\n",
       "\n",
       "    function ondownload(figure, format) {\n",
       "        window.open(figure.imageObj.src);\n",
       "    }\n",
       "\n",
       "    var fig = new mpl.figure(id, ws_proxy,\n",
       "                           ondownload,\n",
       "                           element.get(0));\n",
       "\n",
       "    // Call onopen now - mpl needs it, as it is assuming we've passed it a real\n",
       "    // web socket which is closed, not our websocket->open comm proxy.\n",
       "    ws_proxy.onopen();\n",
       "\n",
       "    fig.parent_element = element.get(0);\n",
       "    fig.cell_info = mpl.find_output_cell(\"<div id='\" + id + \"'></div>\");\n",
       "    if (!fig.cell_info) {\n",
       "        console.error(\"Failed to find cell for figure\", id, fig);\n",
       "        return;\n",
       "    }\n",
       "\n",
       "    var output_index = fig.cell_info[2]\n",
       "    var cell = fig.cell_info[0];\n",
       "\n",
       "};\n",
       "\n",
       "mpl.figure.prototype.handle_close = function(fig, msg) {\n",
       "    var width = fig.canvas.width/mpl.ratio\n",
       "    fig.root.unbind('remove')\n",
       "\n",
       "    // Update the output cell to use the data from the current canvas.\n",
       "    fig.push_to_output();\n",
       "    var dataURL = fig.canvas.toDataURL();\n",
       "    // Re-enable the keyboard manager in IPython - without this line, in FF,\n",
       "    // the notebook keyboard shortcuts fail.\n",
       "    IPython.keyboard_manager.enable()\n",
       "    $(fig.parent_element).html('<img src=\"' + dataURL + '\" width=\"' + width + '\">');\n",
       "    fig.close_ws(fig, msg);\n",
       "}\n",
       "\n",
       "mpl.figure.prototype.close_ws = function(fig, msg){\n",
       "    fig.send_message('closing', msg);\n",
       "    // fig.ws.close()\n",
       "}\n",
       "\n",
       "mpl.figure.prototype.push_to_output = function(remove_interactive) {\n",
       "    // Turn the data on the canvas into data in the output cell.\n",
       "    var width = this.canvas.width/mpl.ratio\n",
       "    var dataURL = this.canvas.toDataURL();\n",
       "    this.cell_info[1]['text/html'] = '<img src=\"' + dataURL + '\" width=\"' + width + '\">';\n",
       "}\n",
       "\n",
       "mpl.figure.prototype.updated_canvas_event = function() {\n",
       "    // Tell IPython that the notebook contents must change.\n",
       "    IPython.notebook.set_dirty(true);\n",
       "    this.send_message(\"ack\", {});\n",
       "    var fig = this;\n",
       "    // Wait a second, then push the new image to the DOM so\n",
       "    // that it is saved nicely (might be nice to debounce this).\n",
       "    setTimeout(function () { fig.push_to_output() }, 1000);\n",
       "}\n",
       "\n",
       "mpl.figure.prototype._init_toolbar = function() {\n",
       "    var fig = this;\n",
       "\n",
       "    var nav_element = $('<div/>');\n",
       "    nav_element.attr('style', 'width: 100%');\n",
       "    this.root.append(nav_element);\n",
       "\n",
       "    // Define a callback function for later on.\n",
       "    function toolbar_event(event) {\n",
       "        return fig.toolbar_button_onclick(event['data']);\n",
       "    }\n",
       "    function toolbar_mouse_event(event) {\n",
       "        return fig.toolbar_button_onmouseover(event['data']);\n",
       "    }\n",
       "\n",
       "    for(var toolbar_ind in mpl.toolbar_items){\n",
       "        var name = mpl.toolbar_items[toolbar_ind][0];\n",
       "        var tooltip = mpl.toolbar_items[toolbar_ind][1];\n",
       "        var image = mpl.toolbar_items[toolbar_ind][2];\n",
       "        var method_name = mpl.toolbar_items[toolbar_ind][3];\n",
       "\n",
       "        if (!name) { continue; };\n",
       "\n",
       "        var button = $('<button class=\"btn btn-default\" href=\"#\" title=\"' + name + '\"><i class=\"fa ' + image + ' fa-lg\"></i></button>');\n",
       "        button.click(method_name, toolbar_event);\n",
       "        button.mouseover(tooltip, toolbar_mouse_event);\n",
       "        nav_element.append(button);\n",
       "    }\n",
       "\n",
       "    // Add the status bar.\n",
       "    var status_bar = $('<span class=\"mpl-message\" style=\"text-align:right; float: right;\"/>');\n",
       "    nav_element.append(status_bar);\n",
       "    this.message = status_bar[0];\n",
       "\n",
       "    // Add the close button to the window.\n",
       "    var buttongrp = $('<div class=\"btn-group inline pull-right\"></div>');\n",
       "    var button = $('<button class=\"btn btn-mini btn-primary\" href=\"#\" title=\"Stop Interaction\"><i class=\"fa fa-power-off icon-remove icon-large\"></i></button>');\n",
       "    button.click(function (evt) { fig.handle_close(fig, {}); } );\n",
       "    button.mouseover('Stop Interaction', toolbar_mouse_event);\n",
       "    buttongrp.append(button);\n",
       "    var titlebar = this.root.find($('.ui-dialog-titlebar'));\n",
       "    titlebar.prepend(buttongrp);\n",
       "}\n",
       "\n",
       "mpl.figure.prototype._root_extra_style = function(el){\n",
       "    var fig = this\n",
       "    el.on(\"remove\", function(){\n",
       "\tfig.close_ws(fig, {});\n",
       "    });\n",
       "}\n",
       "\n",
       "mpl.figure.prototype._canvas_extra_style = function(el){\n",
       "    // this is important to make the div 'focusable\n",
       "    el.attr('tabindex', 0)\n",
       "    // reach out to IPython and tell the keyboard manager to turn it's self\n",
       "    // off when our div gets focus\n",
       "\n",
       "    // location in version 3\n",
       "    if (IPython.notebook.keyboard_manager) {\n",
       "        IPython.notebook.keyboard_manager.register_events(el);\n",
       "    }\n",
       "    else {\n",
       "        // location in version 2\n",
       "        IPython.keyboard_manager.register_events(el);\n",
       "    }\n",
       "\n",
       "}\n",
       "\n",
       "mpl.figure.prototype._key_event_extra = function(event, name) {\n",
       "    var manager = IPython.notebook.keyboard_manager;\n",
       "    if (!manager)\n",
       "        manager = IPython.keyboard_manager;\n",
       "\n",
       "    // Check for shift+enter\n",
       "    if (event.shiftKey && event.which == 13) {\n",
       "        this.canvas_div.blur();\n",
       "        // select the cell after this one\n",
       "        var index = IPython.notebook.find_cell_index(this.cell_info[0]);\n",
       "        IPython.notebook.select(index + 1);\n",
       "    }\n",
       "}\n",
       "\n",
       "mpl.figure.prototype.handle_save = function(fig, msg) {\n",
       "    fig.ondownload(fig, null);\n",
       "}\n",
       "\n",
       "\n",
       "mpl.find_output_cell = function(html_output) {\n",
       "    // Return the cell and output element which can be found *uniquely* in the notebook.\n",
       "    // Note - this is a bit hacky, but it is done because the \"notebook_saving.Notebook\"\n",
       "    // IPython event is triggered only after the cells have been serialised, which for\n",
       "    // our purposes (turning an active figure into a static one), is too late.\n",
       "    var cells = IPython.notebook.get_cells();\n",
       "    var ncells = cells.length;\n",
       "    for (var i=0; i<ncells; i++) {\n",
       "        var cell = cells[i];\n",
       "        if (cell.cell_type === 'code'){\n",
       "            for (var j=0; j<cell.output_area.outputs.length; j++) {\n",
       "                var data = cell.output_area.outputs[j];\n",
       "                if (data.data) {\n",
       "                    // IPython >= 3 moved mimebundle to data attribute of output\n",
       "                    data = data.data;\n",
       "                }\n",
       "                if (data['text/html'] == html_output) {\n",
       "                    return [cell, data, j];\n",
       "                }\n",
       "            }\n",
       "        }\n",
       "    }\n",
       "}\n",
       "\n",
       "// Register the function which deals with the matplotlib target/channel.\n",
       "// The kernel may be null if the page has been refreshed.\n",
       "if (IPython.notebook.kernel != null) {\n",
       "    IPython.notebook.kernel.comm_manager.register_target('matplotlib', mpl.mpl_figure_comm);\n",
       "}\n"
      ],
      "text/plain": [
       "<IPython.core.display.Javascript object>"
      ]
     },
     "metadata": {},
     "output_type": "display_data"
    },
    {
     "data": {
      "text/html": [
       "<img src=\"data:image/png;base64,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\" width=\"639.8333333333334\">"
      ],
      "text/plain": [
       "<IPython.core.display.HTML object>"
      ]
     },
     "metadata": {},
     "output_type": "display_data"
    },
    {
     "name": "stdout",
     "output_type": "stream",
     "text": [
      "[[ 0.99985323  0.01713247  0.        ]\n",
      " [-0.01713247  0.99985323  0.        ]\n",
      " [ 0.          0.          1.        ]] [-137.00226634  -18.89155838 -186.02836363]\n"
     ]
    }
   ],
   "source": [
    "# First do rigid alignment again\n",
    "\n",
    "plot2d = True # if Flase, plot 3d \n",
    "use2d = True # don't use 3d, the nonplanar rotation is too sensitive to the endpoint detection\n",
    "flattened_arteries_paths = [bdir('manual_labels/'+name_prefix+'_endpoints_r2_zedit4_ransac.npy')]\n",
    "flattened_arteries_paths2 = [bdir('manual_labels/'+name_prefix2+'_endpoints_r2_flatframe_zedit4_ransac.npy')]\n",
    "make_json = False \n",
    "\n",
    "\n",
    "###############################################\n",
    "\n",
    "flattened_arteries = np.zeros((0,3),dtype='int')\n",
    "flattened_arteries_2 = np.zeros((0,3),dtype='int')\n",
    "for i in range(len(flattened_arteries_paths)):\n",
    "    flattened_arteries = np.concatenate((flattened_arteries,np.load(flattened_arteries_paths[i])),axis=0)\n",
    "    flattened_arteries_2 = np.concatenate((flattened_arteries_2,np.load(flattened_arteries_paths2[i])),axis=0)\n",
    "\n",
    "print(flattened_arteries.shape, flattened_arteries_2.shape)\n",
    "# if doing 2d\n",
    "if use2d:\n",
    "    R,b = rigid_transform_3D(np.transpose(flattened_arteries_2[:,:2]), np.transpose(flattened_arteries[:,:2]))\n",
    "    new_pts = np.transpose(np.matmul(R,np.transpose(flattened_arteries_2[:,:2])) + b)\n",
    "    new_points = np.concatenate((new_pts,flattened_arteries_2[:,2:3]),axis=1) # add in the z coordinate\n",
    "    \n",
    "    # needs to be 3x3 for future transforms\n",
    "    Rn = np.zeros((3,3))\n",
    "    Rn[:2,:2] = R\n",
    "    Rn[2,2] = 1\n",
    "    bn = np.zeros((3,))\n",
    "    bn[:2] = b[:,0]\n",
    "    \n",
    "    # compute the approximate z translation \n",
    "    zadd = np.mean(flattened_arteries[:,2] - flattened_arteries_2[:,2])\n",
    "    bn[2] = zadd \n",
    "    print(zadd)\n",
    "    R = Rn\n",
    "    b = bn\n",
    "    \n",
    "# 3d\n",
    "else:\n",
    "    R,b = rigid_transform_3D(np.transpose(flattened_arteries_2), np.transpose(flattened_arteries))\n",
    "    new_points = np.transpose(np.matmul(R,np.transpose(flattened_arteries_2)) + b)\n",
    "    print(b)\n",
    "    # we don't want to screw with the z coordinate translation\n",
    "    b[2] = 0\n",
    "\n",
    "np.save(bdir('R.npy'), R)\n",
    "np.save(bdir('b.npy'), b.squeeze())\n",
    "\n",
    "# 2D\n",
    "fig = plt.figure()\n",
    "\n",
    "if plot2d:\n",
    "    ax = fig.add_subplot(1,1,1)#,projection='3d')\n",
    "    ax.scatter(flattened_arteries[:,0],flattened_arteries[:,1],antialiased=True, alpha=0.5, color='b')\n",
    "    ax.scatter(flattened_arteries_2[:,0],flattened_arteries_2[:,1],antialiased=True, alpha=0.1, color='r')\n",
    "    ax.scatter(new_points[:,0],new_points[:,1],antialiased=True,alpha=0.5,color='r')\n",
    "    ax.set_xlabel('x')\n",
    "    ax.set_ylabel('y')\n",
    "    ax.legend(['Fixed','Moving','Moving_rigid'])\n",
    "\n",
    "#3d\n",
    "else:\n",
    "    ax = fig.add_subplot(1,1,1,projection='3d')\n",
    "    ax.scatter(flattened_arteries[:,0],flattened_arteries[:,1],flattened_arteries[:,2],antialiased=True, alpha=0.5, color='b')\n",
    "    ax.scatter(flattened_arteries_2[:,0],flattened_arteries_2[:,1],antialiased=True, alpha=0.1,color='r')\n",
    "    ax.scatter(new_points[:,0],new_points[:,1],new_points[:,2],antialiased=True,alpha=0.5,color='r')\n",
    "    ax.set_xlabel('x')\n",
    "    ax.set_ylabel('y')\n",
    "    ax.legend(['Fixed','Moving','Moving_rigid'])\n",
    "    \n",
    "if make_json:\n",
    "    numpy_to_json(flattened_arteries, flattened_arteries_path[:-4]+'.json')\n",
    "    numpy_to_json(flattened_arteries_2, flattened_arteries_path2[:-4]+'.json')\n",
    "print(R,b)"
   ]
  },
  {
   "cell_type": "markdown",
   "id": "f733a621",
   "metadata": {},
   "source": [
    "#### 9. Warp"
   ]
  },
  {
   "cell_type": "code",
   "execution_count": 88,
   "id": "82aec350",
   "metadata": {
    "scrolled": true
   },
   "outputs": [
    {
     "name": "stdout",
     "output_type": "stream",
     "text": [
      "(2651, 1347, 2000)\n",
      "Fitting radial basis function...\n",
      "Fitting rbf took 0.021933 seconds\n",
      "Nonrigid ave. distance [pixels]: 0.0156414795457268\n",
      "Warping grid...\n",
      "Warping grid took 36.413734 seconds\n",
      "Saved grid_values at /mnt/share3/webster/mEhmAD_2-3/warping_grids/grid_ptauwarp_cropped_r2.npy\n",
      "Warping image...\n",
      "Moving image size: 16.758144 GB\n"
     ]
    },
    {
     "name": "stderr",
     "output_type": "stream",
     "text": [
      "100%|██████████| 980/980 [03:08<00:00,  5.40it/s]\n"
     ]
    },
    {
     "name": "stdout",
     "output_type": "stream",
     "text": [
      "Time elapsed: 6.002058 minutes\n",
      "Loading z 0 - 200\n"
     ]
    },
    {
     "name": "stderr",
     "output_type": "stream",
     "text": [
      "100%|██████████| 98/98 [00:05<00:00, 19.57it/s]\n",
      "100%|██████████| 200/200 [00:19<00:00, 10.22it/s]\n"
     ]
    },
    {
     "name": "stdout",
     "output_type": "stream",
     "text": [
      "Loading z 200 - 400\n"
     ]
    },
    {
     "name": "stderr",
     "output_type": "stream",
     "text": [
      "100%|██████████| 98/98 [00:04<00:00, 20.72it/s]\n",
      "100%|██████████| 200/200 [00:19<00:00, 10.46it/s]\n"
     ]
    },
    {
     "name": "stdout",
     "output_type": "stream",
     "text": [
      "Loading z 400 - 600\n"
     ]
    },
    {
     "name": "stderr",
     "output_type": "stream",
     "text": [
      "100%|██████████| 98/98 [00:06<00:00, 14.84it/s]\n",
      "100%|██████████| 200/200 [00:18<00:00, 10.59it/s]\n"
     ]
    },
    {
     "name": "stdout",
     "output_type": "stream",
     "text": [
      "Loading z 600 - 800\n"
     ]
    },
    {
     "name": "stderr",
     "output_type": "stream",
     "text": [
      "100%|██████████| 98/98 [00:07<00:00, 13.65it/s]\n",
      "100%|██████████| 200/200 [00:19<00:00, 10.20it/s]\n"
     ]
    },
    {
     "name": "stdout",
     "output_type": "stream",
     "text": [
      "Loading z 800 - 1000\n"
     ]
    },
    {
     "name": "stderr",
     "output_type": "stream",
     "text": [
      "100%|██████████| 98/98 [00:07<00:00, 13.27it/s]\n",
      "100%|██████████| 200/200 [00:19<00:00, 10.24it/s]\n"
     ]
    },
    {
     "name": "stdout",
     "output_type": "stream",
     "text": [
      "Loading z 1000 - 1200\n"
     ]
    },
    {
     "name": "stderr",
     "output_type": "stream",
     "text": [
      "100%|██████████| 98/98 [00:07<00:00, 13.33it/s]\n",
      "100%|██████████| 200/200 [00:19<00:00, 10.40it/s]\n"
     ]
    },
    {
     "name": "stdout",
     "output_type": "stream",
     "text": [
      "Loading z 1200 - 1400\n"
     ]
    },
    {
     "name": "stderr",
     "output_type": "stream",
     "text": [
      "100%|██████████| 98/98 [00:07<00:00, 13.63it/s]\n",
      "100%|██████████| 200/200 [00:19<00:00, 10.12it/s]\n"
     ]
    },
    {
     "name": "stdout",
     "output_type": "stream",
     "text": [
      "Loading z 1400 - 1600\n"
     ]
    },
    {
     "name": "stderr",
     "output_type": "stream",
     "text": [
      "100%|██████████| 98/98 [00:06<00:00, 14.33it/s]\n",
      "100%|██████████| 200/200 [00:19<00:00, 10.49it/s]\n"
     ]
    },
    {
     "name": "stdout",
     "output_type": "stream",
     "text": [
      "Loading z 1600 - 1800\n"
     ]
    },
    {
     "name": "stderr",
     "output_type": "stream",
     "text": [
      "100%|██████████| 98/98 [00:07<00:00, 13.48it/s]\n",
      "100%|██████████| 200/200 [00:19<00:00, 10.23it/s]\n"
     ]
    },
    {
     "name": "stdout",
     "output_type": "stream",
     "text": [
      "Loading z 1800 - 2000\n"
     ]
    },
    {
     "name": "stderr",
     "output_type": "stream",
     "text": [
      "100%|██████████| 98/98 [00:04<00:00, 22.02it/s]\n",
      "100%|██████████| 200/200 [00:19<00:00, 10.05it/s]\n"
     ]
    }
   ],
   "source": [
    "fixed_zarr_path = bdir(name_prefix+'_flattened_anchorwarp_r1.zarr') # We have to make this the fixed zarr so that it'll warp to the correct shape \n",
    "moving_zarr_path = bdir(name_prefix2+'_flattened_x4545-7353_y5226-6718.zarr')\n",
    "warped_zarr_path = bdir(name_prefix2+'_flattened_x4545-7353_y5226-6718_ptauwarp_r2.zarr')\n",
    "\n",
    "\n",
    "# Parameters for TPS zarr warp\n",
    "grid_spacing = 3*(16,)\n",
    "chunks=3*(200,)\n",
    "nb_workers = 8\n",
    "\n",
    "\n",
    "# grid I/O \n",
    "save_grid_values_path = bdir('warping_grids/grid_ptauwarp_cropped_r2.npy')\n",
    "use_grid_values_path = None\n",
    "\n",
    "\n",
    "moving_pts_paths = [bdir('manual_labels/'+name_prefix2+'_endpoints_r2_flatframe_zedit4_ransac.npy')]\n",
    "fixed_pts_paths =  [bdir('manual_labels/'+name_prefix+'_endpoints_r2_zedit4_ransac.npy')]\n",
    "\n",
    "\n",
    "# anchor parameters (using the surface on the other  side and manually identified anchors on the cut surface)\n",
    "static_pts_paths = [bdir('manual_labels/'+name_prefix2+'_artificial_bottom_surface.npy')] # need to compute these as well \n",
    "\n",
    "# affine parameters \n",
    "R_path = bdir('R.npy')\n",
    "b_path = bdir('b.npy')\n",
    "\n",
    "smooth = 10\n",
    "\n",
    "##########################\n",
    "zadd=0\n",
    "\n",
    "\n",
    "TPS_warp(moving_zarr_path, fixed_zarr_path, warped_zarr_path, moving_pts_paths, fixed_pts_paths,\n",
    "         static_pts_paths=static_pts_paths, R_path=R_path, b_path=b_path, zadd=zadd, \n",
    "          grid_spacing=grid_spacing, smooth=smooth, chunks=chunks,\n",
    "          nb_workers=nb_workers, padding=2, save_grid_values_path=save_grid_values_path, \n",
    "          show_residuals=True, use_grid_values_path=use_grid_values_path)\n",
    "\n",
    "# Convert zarr to tiff\n",
    "# Test parallel convert zarr to tiff \n",
    "zrange = None\n",
    "tiff_path = warped_zarr_path[:-5]+'_tiffs'\n",
    "convert_zarr_to_tiff(warped_zarr_path, tiff_path, num_workers=24, zrange=zrange)"
   ]
  },
  {
   "cell_type": "code",
   "execution_count": 89,
   "id": "0932703c",
   "metadata": {},
   "outputs": [],
   "source": [
    "numpy_to_json(np.load(bdir('manual_labels/'+name_prefix+'_endpoints_r2_zedit4_ransac.npy')),\n",
    "             bdir('manual_labels/'+name_prefix+'_endpoints_r2_zedit4_ransac.json'))"
   ]
  },
  {
   "cell_type": "markdown",
   "id": "e70f50fc",
   "metadata": {},
   "source": [
    "# Vessel Filter"
   ]
  },
  {
   "cell_type": "code",
   "execution_count": 62,
   "id": "580c2d0e",
   "metadata": {},
   "outputs": [
    {
     "name": "stdout",
     "output_type": "stream",
     "text": [
      "Starting vessel filter...\n"
     ]
    },
    {
     "name": "stderr",
     "output_type": "stream",
     "text": [
      "100%|██████████| 1200/1200 [12:10<00:00,  1.64it/s]\n"
     ]
    },
    {
     "name": "stdout",
     "output_type": "stream",
     "text": [
      "Time elapsed for OOF filtering: 0.203316 hours\n"
     ]
    }
   ],
   "source": [
    "## Parameters \n",
    "# Filter for bottom  \n",
    "radii = np.arange(1,5,1)\n",
    "options = {'response_type': 0,\n",
    "          'use_absolute': True,\n",
    "          'normalization_type': 1,\n",
    "          'spacing': (1,1.414,1),\n",
    "          'calc_eigenvectors': False,\n",
    "           'do_oofofa': False\n",
    "          }\n",
    "# Inputs\n",
    "slab_zarr_path = bdir('2-ptau_cropped_flattened_x4545-7353_y5226-6718.zarr')\n",
    "\n",
    "# Restrict detection to mask areas\n",
    "mask_zarr_path = None #bdir(name_prefix+'_downsampled_surface_bottom_contourfiltered.zarr')\n",
    "downsample_factor = (10,10,1)\n",
    "\n",
    "# Outputs\n",
    "slab_zarr_filtered_path = bdir('2-ptau_cropped_flattened_oof_x4545-7353_y5226-6718.zarr')\n",
    "\n",
    "# Optional\n",
    "top_slice_range = None \n",
    "use_cupy = True\n",
    "num_workers = 6 # using more than 6 is too memory intensive and will throw an error \n",
    "\n",
    "\n",
    "start = time.time()\n",
    "apply_oof_v2(slab_zarr_path, slab_zarr_filtered_path, \n",
    "         radii, slice_range=top_slice_range, use_cupy=use_cupy,\n",
    "         num_workers=num_workers, mask_zarr_path=mask_zarr_path,downsample_factor=downsample_factor,\n",
    "             **options)\n",
    "print(\"Time elapsed for OOF filtering: %f hours\"%((time.time()-start)/3600))"
   ]
  },
  {
   "cell_type": "code",
   "execution_count": 67,
   "id": "c936dbbb",
   "metadata": {},
   "outputs": [
    {
     "data": {
      "text/plain": [
       "'/mnt/share3/webster/mEhmAD_2-3/vessel_tests/2_test_og.tif'"
      ]
     },
     "execution_count": 67,
     "metadata": {},
     "output_type": "execute_result"
    }
   ],
   "source": [
    "# Check a small window \n",
    "xr = [1500,2500]\n",
    "yr = [0,1000]\n",
    "zr = [400,800]\n",
    "\n",
    "slab_zarr_path = bdir('2-ptau_cropped_flattened_x4545-7353_y5226-6718.zarr')\n",
    "slab_zarr_filtered_path = bdir('2-ptau_cropped_flattened_oof_x4545-7353_y5226-6718.zarr')\n",
    "save_path_filtered = bdir('vessel_tests/2_test_oof.tif')\n",
    "save_path_og = bdir('vessel_tests/2_test_og.tif')\n",
    "\n",
    "#################\n",
    "# filtered\n",
    "z = zarr.open(slab_zarr_filtered_path,mode='r')\n",
    "img = z[xr[0]:xr[1],yr[0]:yr[1],zr[0]:zr[1]]\n",
    "io.writeData(save_path_filtered, img)\n",
    "\n",
    "# original\n",
    "za = zarr.open(slab_zarr_path, mode='r')\n",
    "imga = za[xr[0]:xr[1],yr[0]:yr[1],zr[0]:zr[1]]\n",
    "io.writeData(save_path_og, imga)\n"
   ]
  },
  {
   "cell_type": "code",
   "execution_count": 63,
   "id": "3fbeadc6",
   "metadata": {},
   "outputs": [
    {
     "name": "stdout",
     "output_type": "stream",
     "text": [
      "Starting vessel filter...\n"
     ]
    },
    {
     "name": "stderr",
     "output_type": "stream",
     "text": [
      "100%|██████████| 490/490 [07:35<00:00,  1.08it/s]\n"
     ]
    },
    {
     "name": "stdout",
     "output_type": "stream",
     "text": [
      "Time elapsed for OOF filtering: 0.126922 hours\n"
     ]
    }
   ],
   "source": [
    "## Parameters \n",
    "# Filter for bottom  \n",
    "radii = np.arange(1,5,1)\n",
    "options = {'response_type': 0,\n",
    "          'use_absolute': True,\n",
    "          'normalization_type': 1,\n",
    "          'spacing': (1,1.414,1),\n",
    "          'calc_eigenvectors': False,\n",
    "           'do_oofofa': False\n",
    "          }\n",
    "# Inputs\n",
    "slab_zarr_path = bdir('3-ptau_cropped_flattened_anchorwarp_r1.zarr')\n",
    "\n",
    "# Restrict detection to mask areas\n",
    "mask_zarr_path = None #bdir(name_prefix+'_downsampled_surface_bottom_contourfiltered.zarr')\n",
    "downsample_factor = (10,10,1)\n",
    "\n",
    "# Outputs\n",
    "slab_zarr_filtered_path = bdir('3-ptau_cropped_flattened_anchorwarp_r1_oof.zarr')\n",
    "\n",
    "# Optional\n",
    "top_slice_range = None \n",
    "use_cupy = True\n",
    "num_workers = 6 # using more than 6 is too memory intensive and will throw an error \n",
    "\n",
    "\n",
    "start = time.time()\n",
    "apply_oof_v2(slab_zarr_path, slab_zarr_filtered_path, \n",
    "         radii, slice_range=top_slice_range, use_cupy=use_cupy,\n",
    "         num_workers=num_workers, mask_zarr_path=mask_zarr_path,downsample_factor=downsample_factor,\n",
    "             **options)\n",
    "print(\"Time elapsed for OOF filtering: %f hours\"%((time.time()-start)/3600))"
   ]
  },
  {
   "cell_type": "code",
   "execution_count": 66,
   "id": "90d4fcff",
   "metadata": {},
   "outputs": [
    {
     "data": {
      "text/plain": [
       "'/mnt/share3/webster/mEhmAD_2-3/vessel_tests/3_test_og.tif'"
      ]
     },
     "execution_count": 66,
     "metadata": {},
     "output_type": "execute_result"
    }
   ],
   "source": [
    "# Check a small window \n",
    "xr = [1500,2500]\n",
    "yr = [0,1000]\n",
    "zr = [400,800]\n",
    "\n",
    "slab_zarr_path = bdir('3-ptau_cropped_flattened_anchorwarp_r1.zarr')\n",
    "slab_zarr_filtered_path = bdir('3-ptau_cropped_flattened_anchorwarp_r1_oof.zarr')\n",
    "save_path_filtered = bdir('vessel_tests/3_test_oof.tif')\n",
    "save_path_og = bdir('vessel_tests/3_test_og.tif')\n",
    "\n",
    "#################\n",
    "# filtered\n",
    "z = zarr.open(slab_zarr_filtered_path,mode='r')\n",
    "img = z[xr[0]:xr[1],yr[0]:yr[1],zr[0]:zr[1]]\n",
    "io.writeData(save_path_filtered, img)\n",
    "\n",
    "# original\n",
    "za = zarr.open(slab_zarr_path, mode='r')\n",
    "imga = za[xr[0]:xr[1],yr[0]:yr[1],zr[0]:zr[1]]\n",
    "io.writeData(save_path_og, imga)\n"
   ]
  },
  {
   "cell_type": "code",
   "execution_count": null,
   "id": "aaf8e74c",
   "metadata": {},
   "outputs": [],
   "source": []
  }
 ],
 "metadata": {
  "kernelspec": {
   "display_name": "Python (hubris)",
   "language": "python",
   "name": "hubris"
  },
  "language_info": {
   "codemirror_mode": {
    "name": "ipython",
    "version": 3
   },
   "file_extension": ".py",
   "mimetype": "text/x-python",
   "name": "python",
   "nbconvert_exporter": "python",
   "pygments_lexer": "ipython3",
   "version": "3.6.8"
  }
 },
 "nbformat": 4,
 "nbformat_minor": 5
}

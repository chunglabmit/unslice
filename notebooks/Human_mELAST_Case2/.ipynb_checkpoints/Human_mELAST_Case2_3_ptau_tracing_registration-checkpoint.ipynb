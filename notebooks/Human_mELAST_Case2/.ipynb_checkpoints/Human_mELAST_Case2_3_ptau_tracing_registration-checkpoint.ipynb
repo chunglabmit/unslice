{
 "cells": [
  {
   "cell_type": "markdown",
   "id": "46f1857e",
   "metadata": {},
   "source": [
    "<a id='top'></a>"
   ]
  },
  {
   "cell_type": "code",
   "execution_count": 1,
   "id": "d35ae04e",
   "metadata": {},
   "outputs": [],
   "source": [
    "# Ignore warnings\n",
    "import warnings\n",
    "warnings.filterwarnings('ignore')\n",
    "\n",
    "\n",
    "# %matplotlib nbagg \n",
    "%matplotlib notebook\n",
    "# %matplotlib inline\n",
    "\n",
    "\n",
    "\n",
    "## Third party \n",
    "import numpy as np\n",
    "import os, time, zarr, sys\n",
    "from tqdm import tqdm_notebook as tqdm\n",
    "import matplotlib.pyplot as plt\n",
    "import matplotlib as mpl\n",
    "\n",
    "import unslice.IO as io\n",
    "from unslice.utils import *\n",
    "from unslice.registration.featmatch import *\n",
    "from unslice.registration.transform import *\n",
    "from unslice.registration.rigid import *\n",
    "from unslice.registration.gpu_transform import *\n",
    "from unslice.registration.utils import *\n",
    "from unslice.segmentation import *\n",
    "from unslice.tracing.pyoof import OOF, apply_oof_v2\n",
    "from unslice.tracing.skel import *\n",
    "from unslice.flatten import *\n",
    "from unslice.lightsheetcorrect import *\n",
    "\n",
    "\n"
   ]
  },
  {
   "cell_type": "code",
   "execution_count": 16,
   "id": "0af107ea",
   "metadata": {},
   "outputs": [],
   "source": [
    "# Parameters that are constant throughout notebook\n",
    "working_dir = '/mnt/share3/webster/mEhmAD_2-3/tracing'\n",
    "\n",
    "def bdir(fname):\n",
    "    return os.path.join(working_dir, fname)\n",
    "\n",
    "# prefix to add to the beginning of each filename \n",
    "name_prefix = '2-ptau_pred'\n",
    "name_prefix2 = '3-ptau_pred'"
   ]
  },
  {
   "cell_type": "markdown",
   "id": "cd57d13f",
   "metadata": {},
   "source": [
    "# Table of contents\n",
    "\n",
    "### Pre-processing\n",
    "[1. Convert to zarr](#convert)<br>\n",
    "[2. Flatten warp](#flattenwarp)<br>\n",
    "[3. Lectin warp](#anchorwarp)<br>"
   ]
  },
  {
   "cell_type": "markdown",
   "id": "a36bd18d",
   "metadata": {},
   "source": [
    "# Convert to zarr\n",
    "<a id='convert'></a>\n",
    "\n",
    "[Return to top](#top)"
   ]
  },
  {
   "cell_type": "code",
   "execution_count": 5,
   "id": "32d71b4c",
   "metadata": {},
   "outputs": [
    {
     "name": "stdout",
     "output_type": "stream",
     "text": [
      "Reading image\n",
      "71.65830874443054 seconds elapsed\n"
     ]
    }
   ],
   "source": [
    "# 2\n",
    "\n",
    "slab_path = bdir('2-ptau_pred.tif')\n",
    "slab_zarr_path = bdir(name_prefix+'.zarr')\n",
    "pc2_img_size = (1024,)*3\n",
    "\n",
    "\n",
    "## Optional parameters \n",
    "load_num_slices = 40 # should be smaller than z chunk size, default None \n",
    "resample_num_slices = 1 # number of slices to be processed in one go for resampling, default 1\n",
    "resample_factor = (1,1) # original is (0.306,0.433,0.306)\n",
    "chunks = (200,200,200) \n",
    "num_workers = 20 \n",
    "file_names = None #'img_[0-9]{4}.tiff' # default 'img_[0-9]{4}.tiff'\n",
    "\n",
    "## crop\n",
    "xrange = None\n",
    "yrange = None\n",
    "zrange = None\n",
    "\n",
    "## rotate\n",
    "lateral_rotate_angle = None # default None\n",
    "\n",
    "## flip\n",
    "flip = (0,0,0) # default (0,0,0)\n",
    "\n",
    "\n",
    "#############\n",
    "start = time.time()\n",
    "utils.convert_to_zarr_v2(slab_path, slab_zarr_path, pc2_img_size, load_num_slices=load_num_slices,\n",
    "                        resample_num_slices=resample_num_slices, file_names=file_names, \n",
    "                        chunks=chunks, num_workers=num_workers, lateral_rotate_angle=lateral_rotate_angle,\n",
    "                        flip=flip, crop_xcoords=xrange, crop_ycoords=yrange, crop_zcoords=zrange,\n",
    "                        resample_factor=resample_factor)\n",
    "print(time.time()-start, 'seconds elapsed')"
   ]
  },
  {
   "cell_type": "code",
   "execution_count": 17,
   "id": "3bce1276",
   "metadata": {},
   "outputs": [
    {
     "name": "stdout",
     "output_type": "stream",
     "text": [
      "Reading image\n",
      "78.4287281036377 seconds elapsed\n"
     ]
    }
   ],
   "source": [
    "# 2\n",
    "\n",
    "slab_path = bdir('3-ptau_pred.tif')\n",
    "slab_zarr_path = bdir(name_prefix2+'.zarr')\n",
    "pc2_img_size = (1024,1024,1000)\n",
    "\n",
    "\n",
    "## Optional parameters \n",
    "load_num_slices = 40 # should be smaller than z chunk size, default None \n",
    "resample_num_slices = 1 # number of slices to be processed in one go for resampling, default 1\n",
    "resample_factor = (1,1) # original is (0.306,0.433,0.306)\n",
    "chunks = (200,200,200) \n",
    "num_workers = 20 \n",
    "file_names = None #'img_[0-9]{4}.tiff' # default 'img_[0-9]{4}.tiff'\n",
    "\n",
    "## crop\n",
    "xrange = None\n",
    "yrange = None\n",
    "zrange = None\n",
    "\n",
    "## rotate\n",
    "lateral_rotate_angle = None # default None\n",
    "\n",
    "## flip\n",
    "flip = (0,0,0) # default (0,0,0)\n",
    "\n",
    "\n",
    "#############\n",
    "start = time.time()\n",
    "utils.convert_to_zarr_v2(slab_path, slab_zarr_path, pc2_img_size, load_num_slices=load_num_slices,\n",
    "                        resample_num_slices=resample_num_slices, file_names=file_names, \n",
    "                        chunks=chunks, num_workers=num_workers, lateral_rotate_angle=lateral_rotate_angle,\n",
    "                        flip=flip, crop_xcoords=xrange, crop_ycoords=yrange, crop_zcoords=zrange,\n",
    "                        resample_factor=resample_factor)\n",
    "print(time.time()-start, 'seconds elapsed')"
   ]
  },
  {
   "cell_type": "code",
   "execution_count": 18,
   "id": "16973fad",
   "metadata": {},
   "outputs": [
    {
     "name": "stdout",
     "output_type": "stream",
     "text": [
      "Loading z 0 - 200\n"
     ]
    },
    {
     "name": "stderr",
     "output_type": "stream",
     "text": [
      "100%|██████████| 36/36 [00:04<00:00,  7.87it/s]\n",
      "100%|██████████| 200/200 [00:05<00:00, 34.76it/s]\n"
     ]
    },
    {
     "name": "stdout",
     "output_type": "stream",
     "text": [
      "Loading z 200 - 400\n"
     ]
    },
    {
     "name": "stderr",
     "output_type": "stream",
     "text": [
      "100%|██████████| 36/36 [00:05<00:00,  7.07it/s]\n",
      "100%|██████████| 200/200 [00:05<00:00, 33.59it/s]\n"
     ]
    },
    {
     "name": "stdout",
     "output_type": "stream",
     "text": [
      "Loading z 400 - 600\n"
     ]
    },
    {
     "name": "stderr",
     "output_type": "stream",
     "text": [
      "100%|██████████| 36/36 [00:05<00:00,  6.98it/s]\n",
      "100%|██████████| 200/200 [00:06<00:00, 30.49it/s]\n"
     ]
    },
    {
     "name": "stdout",
     "output_type": "stream",
     "text": [
      "Loading z 600 - 800\n"
     ]
    },
    {
     "name": "stderr",
     "output_type": "stream",
     "text": [
      "100%|██████████| 36/36 [00:03<00:00,  9.95it/s]\n",
      "100%|██████████| 200/200 [00:06<00:00, 28.58it/s]\n"
     ]
    },
    {
     "name": "stdout",
     "output_type": "stream",
     "text": [
      "Loading z 800 - 1000\n"
     ]
    },
    {
     "name": "stderr",
     "output_type": "stream",
     "text": [
      "100%|██████████| 36/36 [00:03<00:00, 10.30it/s]\n",
      "100%|██████████| 200/200 [00:08<00:00, 24.65it/s]\n"
     ]
    }
   ],
   "source": [
    "# Convert zarr to tiff\n",
    "tiff_path = slab_zarr_path[:-5]+'_tiffs'\n",
    "convert_zarr_to_tiff(slab_zarr_path, tiff_path, num_workers=24)"
   ]
  },
  {
   "cell_type": "markdown",
   "id": "ed74754a",
   "metadata": {},
   "source": [
    "## TPS warp using ptauwarp grid\n",
    "\n",
    "[Return to top](#top)\n",
    "\n",
    "<a id='anchorwarp'></a>"
   ]
  },
  {
   "cell_type": "code",
   "execution_count": 8,
   "id": "d2a6140c",
   "metadata": {},
   "outputs": [
    {
     "name": "stdout",
     "output_type": "stream",
     "text": [
      "New fixed image shape: (1277, 1072, 1274)\n",
      "New fixed range: x 517 1794\n",
      "New fixed range: y 64 1136\n",
      "New fixed range: z 161 1435\n"
     ]
    }
   ],
   "source": [
    "# (2)\n",
    "grid_path = '/mnt/share3/webster/mEhmAD_2-3/warping_grids/grid_ptauwarp_cropped_r2.npy'\n",
    "original_shape = (2651,1347,2000)\n",
    "new_grid_spacing = 3*(16,) # doesn't matter if range_mode= 'moving'\n",
    "range_mode='moving'\n",
    "\n",
    "# We will compute  the grid spacing from the zarr specifically \n",
    "save_grid_path = '/mnt/share3/webster/mEhmAD_2-3/warping_grids/grid_ptauwarp_cropped_r2_tracingcrop.npy'\n",
    "\n",
    "# these are the coordinates in original image of FOV \n",
    "xrange = [760,760+1024]\n",
    "yrange = [130,130+1024]\n",
    "zrange = [530,530+1024]\n",
    "\n",
    "\n",
    "################\n",
    "grid_new,new_shape = crop_grid(grid_path, original_shape, new_grid_spacing, range_mode=range_mode, \n",
    "                         xrange=xrange, yrange=yrange, zrange=zrange, save_grid_path=save_grid_path)"
   ]
  },
  {
   "cell_type": "code",
   "execution_count": 10,
   "id": "af562e60",
   "metadata": {
    "scrolled": true
   },
   "outputs": [
    {
     "name": "stdout",
     "output_type": "stream",
     "text": [
      "(1277, 1072, 1274)\n",
      "Loading grid values...\n",
      "Warping image...\n",
      "Moving image size: 2.147483648 GB\n"
     ]
    },
    {
     "name": "stderr",
     "output_type": "stream",
     "text": [
      "100%|██████████| 294/294 [00:37<00:00,  7.86it/s]\n"
     ]
    },
    {
     "name": "stdout",
     "output_type": "stream",
     "text": [
      "Time elapsed: 0.992240 minutes\n",
      "Loading z 0 - 200\n"
     ]
    },
    {
     "name": "stderr",
     "output_type": "stream",
     "text": [
      "100%|██████████| 42/42 [00:01<00:00, 35.74it/s]\n",
      "100%|██████████| 200/200 [00:06<00:00, 18.90it/s]\n"
     ]
    },
    {
     "name": "stdout",
     "output_type": "stream",
     "text": [
      "Loading z 200 - 400\n"
     ]
    },
    {
     "name": "stderr",
     "output_type": "stream",
     "text": [
      "100%|██████████| 42/42 [00:02<00:00, 16.06it/s]\n",
      "100%|██████████| 200/200 [00:09<00:00, 21.13it/s]\n"
     ]
    },
    {
     "name": "stdout",
     "output_type": "stream",
     "text": [
      "Loading z 400 - 600\n"
     ]
    },
    {
     "name": "stderr",
     "output_type": "stream",
     "text": [
      "100%|██████████| 42/42 [00:03<00:00, 13.01it/s]\n",
      "100%|██████████| 200/200 [00:07<00:00, 26.70it/s]"
     ]
    },
    {
     "name": "stdout",
     "output_type": "stream",
     "text": [
      "Loading z 600 - 800\n"
     ]
    },
    {
     "name": "stderr",
     "output_type": "stream",
     "text": [
      "\n",
      "100%|██████████| 42/42 [00:03<00:00, 13.42it/s]\n",
      "100%|██████████| 200/200 [00:07<00:00, 27.30it/s]\n"
     ]
    },
    {
     "name": "stdout",
     "output_type": "stream",
     "text": [
      "Loading z 800 - 1000\n"
     ]
    },
    {
     "name": "stderr",
     "output_type": "stream",
     "text": [
      "100%|██████████| 42/42 [00:02<00:00, 14.86it/s]\n",
      "100%|██████████| 200/200 [00:06<00:00, 29.66it/s]\n"
     ]
    },
    {
     "name": "stdout",
     "output_type": "stream",
     "text": [
      "Loading z 1000 - 1200\n"
     ]
    },
    {
     "name": "stderr",
     "output_type": "stream",
     "text": [
      "100%|██████████| 42/42 [00:03<00:00, 13.76it/s]\n",
      "100%|██████████| 200/200 [00:06<00:00, 28.63it/s]\n"
     ]
    },
    {
     "name": "stdout",
     "output_type": "stream",
     "text": [
      "Loading z 1200 - 1274\n"
     ]
    },
    {
     "name": "stderr",
     "output_type": "stream",
     "text": [
      "100%|██████████| 42/42 [00:01<00:00, 33.08it/s]\n",
      "100%|██████████| 74/74 [00:02<00:00,  3.58it/s]\n"
     ]
    }
   ],
   "source": [
    "# 3\n",
    "fixed_zarr_path = new_shape\n",
    "moving_zarr_path = bdir(name_prefix+'.zarr')\n",
    "warped_zarr_path = bdir(name_prefix+'_ptauwarp_r2.zarr')\n",
    "\n",
    "\n",
    "# Parameters for TPS zarr warp\n",
    "grid_spacing = 3*(16,)\n",
    "chunks=3*(200,)\n",
    "nb_workers = 8\n",
    "\n",
    "\n",
    "# grid I/O \n",
    "save_grid_values_path = None\n",
    "use_grid_values_path = '/mnt/share3/webster/mEhmAD_2-3/warping_grids/grid_ptauwarp_cropped_r2_tracingcrop.npy'\n",
    "\n",
    "\n",
    "\n",
    "\n",
    "##########################\n",
    "\n",
    "moving_pts_paths = None # doesn't actually matter for this \n",
    "fixed_pts_paths =  None\n",
    "\n",
    "# anchor parameters (using the surface on the other side and manually identified anchors on the cut surface)\n",
    "static_pts_paths = None\n",
    "# affine parameters \n",
    "R_path = None\n",
    "b_path = None\n",
    "zadd = new_shape[2]-zarr.open(moving_zarr_path).shape[2]\n",
    "\n",
    "TPS_warp(moving_zarr_path, fixed_zarr_path, warped_zarr_path, moving_pts_paths, fixed_pts_paths,\n",
    "         static_pts_paths=static_pts_paths, R_path=R_path, b_path=b_path,\n",
    "          grid_spacing=grid_spacing, smooth=2, chunks=chunks,zadd=zadd,\n",
    "          nb_workers=nb_workers, padding=2, save_grid_values_path=save_grid_values_path, \n",
    "          show_residuals=True, use_grid_values_path=use_grid_values_path)\n",
    "\n",
    "# Convert zarr to tiff\n",
    "tiff_path = warped_zarr_path[:-5]+'_tiffs'\n",
    "convert_zarr_to_tiff(warped_zarr_path, tiff_path, num_workers=24)"
   ]
  },
  {
   "cell_type": "markdown",
   "id": "66b20bfd",
   "metadata": {},
   "source": [
    "# Get surface endpoints"
   ]
  },
  {
   "cell_type": "code",
   "execution_count": 24,
   "id": "7410b684",
   "metadata": {},
   "outputs": [
    {
     "name": "stderr",
     "output_type": "stream",
     "text": [
      "100%|██████████| 294/294 [00:23<00:00, 12.67it/s]\n"
     ]
    }
   ],
   "source": [
    "# Now set the parameters \n",
    "\n",
    "zarr_path = bdir(name_prefix+'_ptauwarp_r2.zarr')\n",
    "zarr_segmented_path = bdir(name_prefix+'_ptauwarp_r2_segmented.zarr') # bdir('vessel_tests/'+name_prefix+'_segmented.zarr')\n",
    "\n",
    "sample_coord_ranges = None #[[[0,1000],[0,1000],[0,400]]]\n",
    "threshold_type = \"set\" # \"set\" or \"graphcut\" or \"otsu\"\n",
    "\n",
    "if threshold_type == 'set':\n",
    "    intensity_thresholds = [60000]\n",
    "    morphopts = [None]\n",
    "\n",
    "    for i in range(len(intensity_thresholds)):\n",
    "        opts = {\n",
    "            'percentile_threshold': intensity_thresholds[i],\n",
    "            'threshold_type': threshold_type,\n",
    "            'morphopts': morphopts[i],\n",
    "            'num_workers': 24,\n",
    "            'sample_coord_ranges': sample_coord_ranges\n",
    "        }\n",
    "        \n",
    "        threshold_image(zarr_path, zarr_segmented_path, **opts)\n",
    "        \n",
    "elif threshold_type == 'graphcut':\n",
    "    min_thresholds = [.25*65535]\n",
    "    saturate_image_thresholds = [.95*65535]\n",
    "    morphopts = [None]  #[('dilate','ball',2)]*2\n",
    "    \n",
    "    for i in range(len(min_thresholds)):\n",
    "        opts = {\n",
    "            'min_threshold' : min_thresholds[i], # This sets a minimum intensity threshold for pixels \n",
    "            'saturate_image_threshold' : saturate_image_thresholds[i],\n",
    "            'k' : 2,\n",
    "            'alpha' : 0.25,\n",
    "            'num_workers' : 24,\n",
    "            'overlap' : 25,\n",
    "            'morphopts' : morphopts[i],\n",
    "            'sample_coord_ranges' : sample_coord_ranges \n",
    "            }\n",
    "        zarr_graphcut3d(zarr_path, zarr_segmented_path, **opts)"
   ]
  },
  {
   "cell_type": "code",
   "execution_count": 25,
   "id": "3c22ee08",
   "metadata": {},
   "outputs": [
    {
     "name": "stderr",
     "output_type": "stream",
     "text": [
      "100%|██████████| 294/294 [00:19<00:00, 15.38it/s]\n"
     ]
    },
    {
     "name": "stdout",
     "output_type": "stream",
     "text": [
      "Time elapsed: 0.005988 hours\n"
     ]
    }
   ],
   "source": [
    "surf_zarr_path = None \n",
    "segmented_path = bdir(name_prefix+'_ptauwarp_r2_segmented.zarr')\n",
    "skel_path = bdir(name_prefix+'_ptauwarp_r2_segmented_skel.zarr')\n",
    "endpoints_path = bdir(name_prefix+'_endpoints_top.npy')\n",
    "min_branch_length = 10\n",
    "min_cc = 40\n",
    "overlap = 25 # make sure this is much greater than the min_cc and min_branch_length \n",
    "num_workers = 24\n",
    "\n",
    "# Kwargs for prune_directionality \n",
    "prune_directionality_num_points = 4\n",
    "orientation = 'top' # first we get all the top surface points \n",
    "\n",
    "\n",
    "############# Perform skeletonization ##############\n",
    "start = time.time()\n",
    "top_endpoints = trace_zarr(segmented_path, surf_zarr_path, skel_path,\n",
    "                      min_branch_length, min_cc, overlap=overlap, num_workers=num_workers,\n",
    "                      prune_directionality_num_points=prune_directionality_num_points,\n",
    "                      orientation=orientation) # , z_shape=z_shape)\n",
    "np.save(endpoints_path,top_endpoints)\n",
    "print(\"Time elapsed: %f hours\" %((time.time()-start)/3600))\n",
    "\n"
   ]
  },
  {
   "cell_type": "code",
   "execution_count": 32,
   "id": "5fba6f44",
   "metadata": {},
   "outputs": [
    {
     "data": {
      "text/plain": [
       "'/mnt/share3/webster/mEhmAD_2-3/tracing/3-ptau_pred_segmented_skel.tif'"
      ]
     },
     "execution_count": 32,
     "metadata": {},
     "output_type": "execute_result"
    }
   ],
   "source": [
    "# view skeleton\n",
    "\n",
    "z = zarr.open(bdir(name_prefix+'_ptauwarp_r2_segmented_skel.zarr'))\n",
    "img = z[40:40+1024,12:12+1024]#z[:,85:,:]\n",
    "\n",
    "io.writeData(bdir(name_prefix+'_ptauwarp_r2_segmented_skel.zarr')[:-5]+'.tif',img)"
   ]
  },
  {
   "cell_type": "code",
   "execution_count": 14,
   "id": "1e115fb1",
   "metadata": {},
   "outputs": [
    {
     "data": {
      "text/plain": [
       "'/mnt/share3/webster/mEhmAD_2-3/tracing/2-ptau_pred_ptauwarp_r2_segmented.tif'"
      ]
     },
     "execution_count": 14,
     "metadata": {},
     "output_type": "execute_result"
    }
   ],
   "source": [
    "# view segmentation\n",
    "\n",
    "z = zarr.open(segmented_path)\n",
    "img = z[:]\n",
    "\n",
    "io.writeData(segmented_path[:-5]+'.tif',img)"
   ]
  },
  {
   "cell_type": "code",
   "execution_count": 15,
   "id": "3c298023",
   "metadata": {},
   "outputs": [
    {
     "data": {
      "text/plain": [
       "(1769, 3)"
      ]
     },
     "execution_count": 15,
     "metadata": {},
     "output_type": "execute_result"
    }
   ],
   "source": [
    "top_endpoints.shape"
   ]
  },
  {
   "cell_type": "code",
   "execution_count": 27,
   "id": "1900b5c1",
   "metadata": {},
   "outputs": [
    {
     "name": "stderr",
     "output_type": "stream",
     "text": [
      "100%|██████████| 180/180 [00:16<00:00, 10.76it/s]\n"
     ]
    }
   ],
   "source": [
    "# Now set the parameters \n",
    "\n",
    "zarr_path = bdir(name_prefix2+'.zarr')\n",
    "zarr_segmented_path = bdir(name_prefix2+'_segmented.zarr') # bdir('vessel_tests/'+name_prefix+'_segmented.zarr')\n",
    "\n",
    "sample_coord_ranges = None #[[[0,1000],[0,1000],[0,400]]]\n",
    "threshold_type = \"set\" # \"set\" or \"graphcut\" or \"otsu\"\n",
    "\n",
    "if threshold_type == 'set':\n",
    "    intensity_thresholds = [60000]\n",
    "    morphopts = [None]\n",
    "\n",
    "    for i in range(len(intensity_thresholds)):\n",
    "        opts = {\n",
    "            'percentile_threshold': intensity_thresholds[i],\n",
    "            'threshold_type': threshold_type,\n",
    "            'morphopts': morphopts[i],\n",
    "            'num_workers': 24,\n",
    "            'sample_coord_ranges': sample_coord_ranges\n",
    "        }\n",
    "        \n",
    "        threshold_image(zarr_path, zarr_segmented_path, **opts)\n",
    "        \n",
    "elif threshold_type == 'graphcut':\n",
    "    min_thresholds = [.25*65535]\n",
    "    saturate_image_thresholds = [.95*65535]\n",
    "    morphopts = [None]  #[('dilate','ball',2)]*2\n",
    "    \n",
    "    for i in range(len(min_thresholds)):\n",
    "        opts = {\n",
    "            'min_threshold' : min_thresholds[i], # This sets a minimum intensity threshold for pixels \n",
    "            'saturate_image_threshold' : saturate_image_thresholds[i],\n",
    "            'k' : 2,\n",
    "            'alpha' : 0.25,\n",
    "            'num_workers' : 24,\n",
    "            'overlap' : 25,\n",
    "            'morphopts' : morphopts[i],\n",
    "            'sample_coord_ranges' : sample_coord_ranges \n",
    "            }\n",
    "        zarr_graphcut3d(zarr_path, zarr_segmented_path, **opts)"
   ]
  },
  {
   "cell_type": "code",
   "execution_count": 28,
   "id": "c2ebf60f",
   "metadata": {},
   "outputs": [
    {
     "name": "stderr",
     "output_type": "stream",
     "text": [
      "100%|██████████| 180/180 [00:11<00:00, 15.59it/s]\n"
     ]
    },
    {
     "name": "stdout",
     "output_type": "stream",
     "text": [
      "Time elapsed: 0.004049 hours\n"
     ]
    }
   ],
   "source": [
    "surf_zarr_path = None \n",
    "segmented_path = bdir(name_prefix2+'_segmented.zarr')\n",
    "skel_path = bdir(name_prefix2+'_segmented_skel.zarr')\n",
    "endpoints_path = bdir(name_prefix2+'_endpoints_bottom.npy')\n",
    "min_branch_length = 10\n",
    "min_cc = 40\n",
    "overlap = 25 # make sure this is much greater than the min_cc and min_branch_length \n",
    "num_workers = 24\n",
    "\n",
    "# Kwargs for prune_directionality \n",
    "prune_directionality_num_points = 4\n",
    "orientation = 'bottom' # first we get all the top surface points \n",
    "\n",
    "\n",
    "############# Perform skeletonization ##############\n",
    "start = time.time()\n",
    "top_endpoints = trace_zarr(segmented_path, surf_zarr_path, skel_path,\n",
    "                      min_branch_length, min_cc, overlap=overlap, num_workers=num_workers,\n",
    "                      prune_directionality_num_points=prune_directionality_num_points,\n",
    "                      orientation=orientation) # , z_shape=z_shape)\n",
    "np.save(endpoints_path,top_endpoints)\n",
    "print(\"Time elapsed: %f hours\" %((time.time()-start)/3600))\n",
    "\n"
   ]
  },
  {
   "cell_type": "code",
   "execution_count": 29,
   "id": "89b65cb8",
   "metadata": {},
   "outputs": [
    {
     "data": {
      "text/plain": [
       "'/mnt/share3/webster/mEhmAD_2-3/tracing/3-ptau_pred_segmented_skel.tif'"
      ]
     },
     "execution_count": 29,
     "metadata": {},
     "output_type": "execute_result"
    }
   ],
   "source": [
    "# view skeleton\n",
    "\n",
    "z = zarr.open(skel_path)\n",
    "img = z[:]#z[:,85:,:]\n",
    "\n",
    "io.writeData(skel_path[:-5]+'.tif',img)"
   ]
  },
  {
   "cell_type": "code",
   "execution_count": 22,
   "id": "9edc948d",
   "metadata": {},
   "outputs": [
    {
     "data": {
      "text/plain": [
       "'/mnt/share3/webster/mEhmAD_2-3/tracing/3-ptau_pred_segmented.tif'"
      ]
     },
     "execution_count": 22,
     "metadata": {},
     "output_type": "execute_result"
    }
   ],
   "source": [
    "# view segmentation\n",
    "\n",
    "z = zarr.open(segmented_path)\n",
    "img = z[:]\n",
    "\n",
    "io.writeData(segmented_path[:-5]+'.tif',img)"
   ]
  }
 ],
 "metadata": {
  "kernelspec": {
   "display_name": "Python (hubris)",
   "language": "python",
   "name": "hubris"
  },
  "language_info": {
   "codemirror_mode": {
    "name": "ipython",
    "version": 3
   },
   "file_extension": ".py",
   "mimetype": "text/x-python",
   "name": "python",
   "nbconvert_exporter": "python",
   "pygments_lexer": "ipython3",
   "version": "3.6.8"
  }
 },
 "nbformat": 4,
 "nbformat_minor": 5
}

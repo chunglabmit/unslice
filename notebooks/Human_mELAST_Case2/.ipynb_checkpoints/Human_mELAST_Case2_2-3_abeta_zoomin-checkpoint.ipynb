{
 "cells": [
  {
   "cell_type": "markdown",
   "id": "fc3a800b",
   "metadata": {},
   "source": [
    "<a id='top'></a>"
   ]
  },
  {
   "cell_type": "code",
   "execution_count": 1,
   "id": "03b30fbf",
   "metadata": {},
   "outputs": [],
   "source": [
    "# Ignore warnings\n",
    "import warnings\n",
    "warnings.filterwarnings('ignore')\n",
    "\n",
    "\n",
    "# %matplotlib nbagg \n",
    "%matplotlib notebook\n",
    "# %matplotlib inline\n",
    "\n",
    "\n",
    "\n",
    "## Third party \n",
    "import numpy as np\n",
    "import os, time, zarr, sys\n",
    "from tqdm import tqdm_notebook as tqdm\n",
    "import matplotlib.pyplot as plt\n",
    "import matplotlib as mpl\n",
    "\n",
    "import unslice.IO as io\n",
    "from unslice.utils import *\n",
    "from unslice.registration.featmatch import *\n",
    "from unslice.registration.transform import *\n",
    "from unslice.registration.rigid import *\n",
    "from unslice.registration.gpu_transform import *\n",
    "from unslice.registration.utils import *\n",
    "from unslice.segmentation import *\n",
    "from unslice.tracing.pyoof import OOF, apply_oof_v2\n",
    "from unslice.tracing.skel import *\n",
    "from unslice.flatten import *\n",
    "from unslice.lightsheetcorrect import *\n",
    "\n",
    "\n"
   ]
  },
  {
   "cell_type": "code",
   "execution_count": 2,
   "id": "0acac20e",
   "metadata": {},
   "outputs": [],
   "source": [
    "# Parameters that are constant throughout notebook\n",
    "working_dir = '/mnt/share3/webster/mEhmAD_2-3'\n",
    "\n",
    "def bdir(fname):\n",
    "    return os.path.join(working_dir, fname)\n",
    "\n",
    "# prefix to add to the beginning of each filename \n",
    "name_prefix = '3-abeta_cropped' \n",
    "name_prefix2 = '2-abeta_cropped'"
   ]
  },
  {
   "cell_type": "markdown",
   "id": "25ed9167",
   "metadata": {},
   "source": [
    "# Table of contents\n",
    "\n",
    "### Pre-processing\n",
    "[1. Convert to zarr](#convert)<br>\n",
    "[2. Flatten warp](#flattenwarp)<br>\n",
    "[3. Ptau warp](#anchorwarp)<br>"
   ]
  },
  {
   "cell_type": "markdown",
   "id": "d4781ea9",
   "metadata": {},
   "source": [
    "# Convert to zarr\n",
    "<a id='convert'></a>\n",
    "\n",
    "[Return to top](#top)"
   ]
  },
  {
   "cell_type": "markdown",
   "id": "e329f17a",
   "metadata": {},
   "source": [
    "### slab 3"
   ]
  },
  {
   "cell_type": "code",
   "execution_count": 6,
   "id": "82b3edfa",
   "metadata": {},
   "outputs": [],
   "source": [
    "# First have to convert R1 lecwarp into flattened, then flattened into original\n",
    "\n",
    "xrange = [5759,8410]\n",
    "yrange = [5981,7328]\n",
    "zrange = [6300,8300]\n",
    "warped_zarr_path = '/mnt/share3/webster/mEhmAD_1-3_real/3-ptau_flattened_anchorwarp_r1.zarr'\n",
    "grid_path = '/mnt/share3/webster/mEhmAD_1-3_real/warping_grids/grid_anchor_tps_r1_upsampled.npy'\n",
    "\n",
    "\n",
    "# We can find true \"bounding box\" by warping a bunch of points \n",
    "num_pts = 8\n",
    "X,Y,Z = np.meshgrid(np.linspace(xrange[0],xrange[1],num_pts),\n",
    "           np.linspace(yrange[0],yrange[1],num_pts),\n",
    "           np.linspace(zrange[0],zrange[1],num_pts))\n",
    "\n",
    "grid_pts = np.vstack((X.ravel(),Y.ravel(),Z.ravel())).T\n",
    "bbox = grid_transform_pts(grid_path, grid_pts, warped_zarr_path, save_path=None, save_json=False, inverse_transform=False)"
   ]
  },
  {
   "cell_type": "code",
   "execution_count": 7,
   "id": "54668f53",
   "metadata": {},
   "outputs": [
    {
     "name": "stdout",
     "output_type": "stream",
     "text": [
      "4790.654015139719 7711.115582936718\n",
      "5819.512784971864 7404.851941723634\n",
      "2486.355667152383 4662.816999972807\n"
     ]
    }
   ],
   "source": [
    "# Below are the coordinates in the flattened frame\n",
    "\n",
    "print(bbox[:,0].min(),bbox[:,0].max())\n",
    "print(bbox[:,1].min(),bbox[:,1].max())\n",
    "print(bbox[:,2].min(),bbox[:,2].max())"
   ]
  },
  {
   "cell_type": "code",
   "execution_count": 8,
   "id": "96c39562",
   "metadata": {},
   "outputs": [],
   "source": [
    "# Now we transform these coordinates into flattened frame\n",
    "\n",
    "xrange = [4790,7711]\n",
    "yrange = [5819,7405]\n",
    "zrange = [2486,4663]\n",
    "warped_zarr_path = '/mnt/share3/webster/mEhmAD_1-3_real/3-ptau_flattened.zarr'\n",
    "grid_path = '/mnt/share3/webster/mEhmAD_1-3_real/warping_grids/3-lec_grid_flatten_upsampled.npy'\n",
    "\n",
    "# We can find true \"bounding box\" by warping a bunch of points \n",
    "num_pts = 8\n",
    "X,Y,Z = np.meshgrid(np.linspace(xrange[0],xrange[1],num_pts),\n",
    "           np.linspace(yrange[0],yrange[1],num_pts),\n",
    "           np.linspace(zrange[0],zrange[1],num_pts))\n",
    "\n",
    "grid_pts = np.vstack((X.ravel(),Y.ravel(),Z.ravel())).T\n",
    "bbox = grid_transform_pts(grid_path, grid_pts, warped_zarr_path, save_path=None, save_json=False, inverse_transform=False)"
   ]
  },
  {
   "cell_type": "code",
   "execution_count": 9,
   "id": "a1720652",
   "metadata": {},
   "outputs": [
    {
     "name": "stdout",
     "output_type": "stream",
     "text": [
      "4814.70244594863 7710.463330216568\n",
      "5733.991739695085 7349.598763739279\n",
      "1874.2116410280928 4483.7374793936\n"
     ]
    }
   ],
   "source": [
    "# Below are the coordinates in the original frame\n",
    "\n",
    "print(bbox[:,0].min(),bbox[:,0].max())\n",
    "print(bbox[:,1].min(),bbox[:,1].max())\n",
    "print(bbox[:,2].min(),bbox[:,2].max())"
   ]
  },
  {
   "cell_type": "code",
   "execution_count": 10,
   "id": "4a49293d",
   "metadata": {
    "scrolled": true
   },
   "outputs": [
    {
     "name": "stdout",
     "output_type": "stream",
     "text": [
      "Processing chunk x:7554-10451, y:6829-8446, z:2736-2776\n"
     ]
    },
    {
     "name": "stderr",
     "output_type": "stream",
     "text": [
      "100%|██████████| 40/40 [00:51<00:00,  1.30s/it]"
     ]
    },
    {
     "name": "stdout",
     "output_type": "stream",
     "text": [
      "Data I/O, resampling, rotation complete. Commencing flip and zarr assignment...\n"
     ]
    },
    {
     "name": "stderr",
     "output_type": "stream",
     "text": [
      "\n",
      "100%|██████████| 135/135 [00:02<00:00, 56.20it/s]"
     ]
    },
    {
     "name": "stdout",
     "output_type": "stream",
     "text": [
      "Processing chunk x:7554-10451, y:6829-8446, z:2776-2816\n"
     ]
    },
    {
     "name": "stderr",
     "output_type": "stream",
     "text": [
      "\n",
      "100%|██████████| 40/40 [00:51<00:00,  1.28s/it]"
     ]
    },
    {
     "name": "stdout",
     "output_type": "stream",
     "text": [
      "Data I/O, resampling, rotation complete. Commencing flip and zarr assignment...\n"
     ]
    },
    {
     "name": "stderr",
     "output_type": "stream",
     "text": [
      "\n",
      "100%|██████████| 135/135 [00:10<00:00, 13.12it/s]"
     ]
    },
    {
     "name": "stdout",
     "output_type": "stream",
     "text": [
      "Processing chunk x:7554-10451, y:6829-8446, z:2816-2856\n"
     ]
    },
    {
     "name": "stderr",
     "output_type": "stream",
     "text": [
      "\n",
      "100%|██████████| 40/40 [00:52<00:00,  1.31s/it]"
     ]
    },
    {
     "name": "stdout",
     "output_type": "stream",
     "text": [
      "Data I/O, resampling, rotation complete. Commencing flip and zarr assignment...\n"
     ]
    },
    {
     "name": "stderr",
     "output_type": "stream",
     "text": [
      "\n",
      "100%|██████████| 135/135 [00:12<00:00, 10.58it/s]"
     ]
    },
    {
     "name": "stdout",
     "output_type": "stream",
     "text": [
      "Processing chunk x:7554-10451, y:6829-8446, z:2856-2896\n"
     ]
    },
    {
     "name": "stderr",
     "output_type": "stream",
     "text": [
      "\n",
      "100%|██████████| 40/40 [00:51<00:00,  1.28s/it]"
     ]
    },
    {
     "name": "stdout",
     "output_type": "stream",
     "text": [
      "Data I/O, resampling, rotation complete. Commencing flip and zarr assignment...\n"
     ]
    },
    {
     "name": "stderr",
     "output_type": "stream",
     "text": [
      "\n",
      "100%|██████████| 135/135 [00:14<00:00,  9.27it/s]"
     ]
    },
    {
     "name": "stdout",
     "output_type": "stream",
     "text": [
      "Processing chunk x:7554-10451, y:6829-8446, z:2896-2936\n"
     ]
    },
    {
     "name": "stderr",
     "output_type": "stream",
     "text": [
      "\n",
      "100%|██████████| 40/40 [00:51<00:00,  1.29s/it]\n"
     ]
    },
    {
     "name": "stdout",
     "output_type": "stream",
     "text": [
      "Data I/O, resampling, rotation complete. Commencing flip and zarr assignment...\n"
     ]
    },
    {
     "name": "stderr",
     "output_type": "stream",
     "text": [
      "100%|██████████| 135/135 [00:15<00:00,  8.68it/s]"
     ]
    },
    {
     "name": "stdout",
     "output_type": "stream",
     "text": [
      "Processing chunk x:7554-10451, y:6829-8446, z:2936-2976\n"
     ]
    },
    {
     "name": "stderr",
     "output_type": "stream",
     "text": [
      "\n",
      "100%|██████████| 40/40 [00:51<00:00,  1.30s/it]"
     ]
    },
    {
     "name": "stdout",
     "output_type": "stream",
     "text": [
      "Data I/O, resampling, rotation complete. Commencing flip and zarr assignment...\n"
     ]
    },
    {
     "name": "stderr",
     "output_type": "stream",
     "text": [
      "\n",
      "100%|██████████| 135/135 [00:02<00:00, 57.62it/s]"
     ]
    },
    {
     "name": "stdout",
     "output_type": "stream",
     "text": [
      "Processing chunk x:7554-10451, y:6829-8446, z:2976-3016\n"
     ]
    },
    {
     "name": "stderr",
     "output_type": "stream",
     "text": [
      "\n",
      "100%|██████████| 40/40 [00:51<00:00,  1.29s/it]"
     ]
    },
    {
     "name": "stdout",
     "output_type": "stream",
     "text": [
      "Data I/O, resampling, rotation complete. Commencing flip and zarr assignment...\n"
     ]
    },
    {
     "name": "stderr",
     "output_type": "stream",
     "text": [
      "\n",
      "100%|██████████| 135/135 [00:07<00:00, 18.83it/s]\n"
     ]
    },
    {
     "name": "stdout",
     "output_type": "stream",
     "text": [
      "Processing chunk x:7554-10451, y:6829-8446, z:3016-3056\n"
     ]
    },
    {
     "name": "stderr",
     "output_type": "stream",
     "text": [
      "100%|██████████| 40/40 [00:51<00:00,  1.28s/it]"
     ]
    },
    {
     "name": "stdout",
     "output_type": "stream",
     "text": [
      "Data I/O, resampling, rotation complete. Commencing flip and zarr assignment...\n"
     ]
    },
    {
     "name": "stderr",
     "output_type": "stream",
     "text": [
      "\n",
      "100%|██████████| 135/135 [00:10<00:00, 13.31it/s]\n"
     ]
    },
    {
     "name": "stdout",
     "output_type": "stream",
     "text": [
      "Processing chunk x:7554-10451, y:6829-8446, z:3056-3096\n"
     ]
    },
    {
     "name": "stderr",
     "output_type": "stream",
     "text": [
      "100%|██████████| 40/40 [00:51<00:00,  1.28s/it]\n"
     ]
    },
    {
     "name": "stdout",
     "output_type": "stream",
     "text": [
      "Data I/O, resampling, rotation complete. Commencing flip and zarr assignment...\n"
     ]
    },
    {
     "name": "stderr",
     "output_type": "stream",
     "text": [
      "100%|██████████| 135/135 [00:13<00:00, 10.00it/s]"
     ]
    },
    {
     "name": "stdout",
     "output_type": "stream",
     "text": [
      "Processing chunk x:7554-10451, y:6829-8446, z:3096-3136\n"
     ]
    },
    {
     "name": "stderr",
     "output_type": "stream",
     "text": [
      "\n",
      "100%|██████████| 40/40 [00:51<00:00,  1.29s/it]"
     ]
    },
    {
     "name": "stdout",
     "output_type": "stream",
     "text": [
      "Data I/O, resampling, rotation complete. Commencing flip and zarr assignment...\n"
     ]
    },
    {
     "name": "stderr",
     "output_type": "stream",
     "text": [
      "\n",
      "100%|██████████| 135/135 [00:15<00:00,  8.83it/s]\n"
     ]
    },
    {
     "name": "stdout",
     "output_type": "stream",
     "text": [
      "Processing chunk x:7554-10451, y:6829-8446, z:3136-3176\n"
     ]
    },
    {
     "name": "stderr",
     "output_type": "stream",
     "text": [
      "100%|██████████| 40/40 [00:50<00:00,  1.26s/it]"
     ]
    },
    {
     "name": "stdout",
     "output_type": "stream",
     "text": [
      "Data I/O, resampling, rotation complete. Commencing flip and zarr assignment...\n"
     ]
    },
    {
     "name": "stderr",
     "output_type": "stream",
     "text": [
      "\n",
      "100%|██████████| 135/135 [00:02<00:00, 55.17it/s]"
     ]
    },
    {
     "name": "stdout",
     "output_type": "stream",
     "text": [
      "Processing chunk x:7554-10451, y:6829-8446, z:3176-3216\n"
     ]
    },
    {
     "name": "stderr",
     "output_type": "stream",
     "text": [
      "\n",
      "100%|██████████| 40/40 [00:50<00:00,  1.27s/it]\n"
     ]
    },
    {
     "name": "stdout",
     "output_type": "stream",
     "text": [
      "Data I/O, resampling, rotation complete. Commencing flip and zarr assignment...\n"
     ]
    },
    {
     "name": "stderr",
     "output_type": "stream",
     "text": [
      "100%|██████████| 135/135 [00:06<00:00, 21.24it/s]\n"
     ]
    },
    {
     "name": "stdout",
     "output_type": "stream",
     "text": [
      "Processing chunk x:7554-10451, y:6829-8446, z:3216-3256\n"
     ]
    },
    {
     "name": "stderr",
     "output_type": "stream",
     "text": [
      "100%|██████████| 40/40 [00:50<00:00,  1.26s/it]"
     ]
    },
    {
     "name": "stdout",
     "output_type": "stream",
     "text": [
      "Data I/O, resampling, rotation complete. Commencing flip and zarr assignment...\n"
     ]
    },
    {
     "name": "stderr",
     "output_type": "stream",
     "text": [
      "\n",
      "100%|██████████| 135/135 [00:09<00:00, 13.72it/s]\n"
     ]
    },
    {
     "name": "stdout",
     "output_type": "stream",
     "text": [
      "Processing chunk x:7554-10451, y:6829-8446, z:3256-3296\n"
     ]
    },
    {
     "name": "stderr",
     "output_type": "stream",
     "text": [
      "100%|██████████| 40/40 [00:49<00:00,  1.24s/it]"
     ]
    },
    {
     "name": "stdout",
     "output_type": "stream",
     "text": [
      "Data I/O, resampling, rotation complete. Commencing flip and zarr assignment...\n"
     ]
    },
    {
     "name": "stderr",
     "output_type": "stream",
     "text": [
      "\n",
      "100%|██████████| 135/135 [00:12<00:00, 10.44it/s]"
     ]
    },
    {
     "name": "stdout",
     "output_type": "stream",
     "text": [
      "Processing chunk x:7554-10451, y:6829-8446, z:3296-3336\n"
     ]
    },
    {
     "name": "stderr",
     "output_type": "stream",
     "text": [
      "\n",
      "100%|██████████| 40/40 [00:50<00:00,  1.25s/it]"
     ]
    },
    {
     "name": "stdout",
     "output_type": "stream",
     "text": [
      "Data I/O, resampling, rotation complete. Commencing flip and zarr assignment...\n"
     ]
    },
    {
     "name": "stderr",
     "output_type": "stream",
     "text": [
      "\n",
      "100%|██████████| 135/135 [00:15<00:00,  8.63it/s]"
     ]
    },
    {
     "name": "stdout",
     "output_type": "stream",
     "text": [
      "Processing chunk x:7554-10451, y:6829-8446, z:3336-3376\n"
     ]
    },
    {
     "name": "stderr",
     "output_type": "stream",
     "text": [
      "\n",
      "100%|██████████| 40/40 [00:50<00:00,  1.25s/it]"
     ]
    },
    {
     "name": "stdout",
     "output_type": "stream",
     "text": [
      "Data I/O, resampling, rotation complete. Commencing flip and zarr assignment...\n"
     ]
    },
    {
     "name": "stderr",
     "output_type": "stream",
     "text": [
      "\n",
      "100%|██████████| 135/135 [00:02<00:00, 56.35it/s]"
     ]
    },
    {
     "name": "stdout",
     "output_type": "stream",
     "text": [
      "Processing chunk x:7554-10451, y:6829-8446, z:3376-3416\n"
     ]
    },
    {
     "name": "stderr",
     "output_type": "stream",
     "text": [
      "\n",
      "100%|██████████| 40/40 [00:49<00:00,  1.23s/it]"
     ]
    },
    {
     "name": "stdout",
     "output_type": "stream",
     "text": [
      "Data I/O, resampling, rotation complete. Commencing flip and zarr assignment...\n"
     ]
    },
    {
     "name": "stderr",
     "output_type": "stream",
     "text": [
      "\n",
      "100%|██████████| 135/135 [00:06<00:00, 20.83it/s]\n"
     ]
    },
    {
     "name": "stdout",
     "output_type": "stream",
     "text": [
      "Processing chunk x:7554-10451, y:6829-8446, z:3416-3456\n"
     ]
    },
    {
     "name": "stderr",
     "output_type": "stream",
     "text": [
      "100%|██████████| 40/40 [00:48<00:00,  1.22s/it]"
     ]
    },
    {
     "name": "stdout",
     "output_type": "stream",
     "text": [
      "Data I/O, resampling, rotation complete. Commencing flip and zarr assignment...\n"
     ]
    },
    {
     "name": "stderr",
     "output_type": "stream",
     "text": [
      "\n",
      "100%|██████████| 135/135 [00:09<00:00, 13.65it/s]"
     ]
    },
    {
     "name": "stdout",
     "output_type": "stream",
     "text": [
      "Processing chunk x:7554-10451, y:6829-8446, z:3456-3496\n"
     ]
    },
    {
     "name": "stderr",
     "output_type": "stream",
     "text": [
      "\n",
      "100%|██████████| 40/40 [00:49<00:00,  1.23s/it]"
     ]
    },
    {
     "name": "stdout",
     "output_type": "stream",
     "text": [
      "Data I/O, resampling, rotation complete. Commencing flip and zarr assignment...\n"
     ]
    },
    {
     "name": "stderr",
     "output_type": "stream",
     "text": [
      "\n",
      "100%|██████████| 135/135 [00:12<00:00, 10.42it/s]\n"
     ]
    },
    {
     "name": "stdout",
     "output_type": "stream",
     "text": [
      "Processing chunk x:7554-10451, y:6829-8446, z:3496-3536\n"
     ]
    },
    {
     "name": "stderr",
     "output_type": "stream",
     "text": [
      "100%|██████████| 40/40 [00:49<00:00,  1.24s/it]\n"
     ]
    },
    {
     "name": "stdout",
     "output_type": "stream",
     "text": [
      "Data I/O, resampling, rotation complete. Commencing flip and zarr assignment...\n"
     ]
    },
    {
     "name": "stderr",
     "output_type": "stream",
     "text": [
      "100%|██████████| 135/135 [00:16<00:00,  8.41it/s]"
     ]
    },
    {
     "name": "stdout",
     "output_type": "stream",
     "text": [
      "Processing chunk x:7554-10451, y:6829-8446, z:3536-3576\n"
     ]
    },
    {
     "name": "stderr",
     "output_type": "stream",
     "text": [
      "\n",
      "100%|██████████| 40/40 [00:48<00:00,  1.22s/it]"
     ]
    },
    {
     "name": "stdout",
     "output_type": "stream",
     "text": [
      "Data I/O, resampling, rotation complete. Commencing flip and zarr assignment...\n"
     ]
    },
    {
     "name": "stderr",
     "output_type": "stream",
     "text": [
      "\n",
      "100%|██████████| 135/135 [00:02<00:00, 58.71it/s]"
     ]
    },
    {
     "name": "stdout",
     "output_type": "stream",
     "text": [
      "Processing chunk x:7554-10451, y:6829-8446, z:3576-3616\n"
     ]
    },
    {
     "name": "stderr",
     "output_type": "stream",
     "text": [
      "\n",
      "100%|██████████| 40/40 [00:48<00:00,  1.22s/it]"
     ]
    },
    {
     "name": "stdout",
     "output_type": "stream",
     "text": [
      "Data I/O, resampling, rotation complete. Commencing flip and zarr assignment...\n"
     ]
    },
    {
     "name": "stderr",
     "output_type": "stream",
     "text": [
      "\n",
      "100%|██████████| 135/135 [00:06<00:00, 28.76it/s]\n"
     ]
    },
    {
     "name": "stdout",
     "output_type": "stream",
     "text": [
      "Processing chunk x:7554-10451, y:6829-8446, z:3616-3656\n"
     ]
    },
    {
     "name": "stderr",
     "output_type": "stream",
     "text": [
      "100%|██████████| 40/40 [00:49<00:00,  1.24s/it]"
     ]
    },
    {
     "name": "stdout",
     "output_type": "stream",
     "text": [
      "Data I/O, resampling, rotation complete. Commencing flip and zarr assignment...\n"
     ]
    },
    {
     "name": "stderr",
     "output_type": "stream",
     "text": [
      "\n",
      "100%|██████████| 135/135 [00:09<00:00, 14.75it/s]\n"
     ]
    },
    {
     "name": "stdout",
     "output_type": "stream",
     "text": [
      "Processing chunk x:7554-10451, y:6829-8446, z:3656-3696\n"
     ]
    },
    {
     "name": "stderr",
     "output_type": "stream",
     "text": [
      "100%|██████████| 40/40 [00:48<00:00,  1.22s/it]"
     ]
    },
    {
     "name": "stdout",
     "output_type": "stream",
     "text": [
      "Data I/O, resampling, rotation complete. Commencing flip and zarr assignment...\n"
     ]
    },
    {
     "name": "stderr",
     "output_type": "stream",
     "text": [
      "\n",
      "100%|██████████| 135/135 [00:12<00:00, 10.62it/s]\n"
     ]
    },
    {
     "name": "stdout",
     "output_type": "stream",
     "text": [
      "Processing chunk x:7554-10451, y:6829-8446, z:3696-3736\n"
     ]
    },
    {
     "name": "stderr",
     "output_type": "stream",
     "text": [
      "100%|██████████| 40/40 [00:47<00:00,  1.19s/it]\n"
     ]
    },
    {
     "name": "stdout",
     "output_type": "stream",
     "text": [
      "Data I/O, resampling, rotation complete. Commencing flip and zarr assignment...\n"
     ]
    },
    {
     "name": "stderr",
     "output_type": "stream",
     "text": [
      "100%|██████████| 135/135 [00:15<00:00,  8.84it/s]\n"
     ]
    },
    {
     "name": "stdout",
     "output_type": "stream",
     "text": [
      "Processing chunk x:7554-10451, y:6829-8446, z:3736-3776\n"
     ]
    },
    {
     "name": "stderr",
     "output_type": "stream",
     "text": [
      "100%|██████████| 40/40 [00:48<00:00,  1.22s/it]"
     ]
    },
    {
     "name": "stdout",
     "output_type": "stream",
     "text": [
      "Data I/O, resampling, rotation complete. Commencing flip and zarr assignment...\n"
     ]
    },
    {
     "name": "stderr",
     "output_type": "stream",
     "text": [
      "\n",
      "100%|██████████| 135/135 [00:02<00:00, 58.67it/s]"
     ]
    },
    {
     "name": "stdout",
     "output_type": "stream",
     "text": [
      "Processing chunk x:7554-10451, y:6829-8446, z:3776-3816\n"
     ]
    },
    {
     "name": "stderr",
     "output_type": "stream",
     "text": [
      "\n",
      "100%|██████████| 40/40 [00:46<00:00,  1.16s/it]"
     ]
    },
    {
     "name": "stdout",
     "output_type": "stream",
     "text": [
      "Data I/O, resampling, rotation complete. Commencing flip and zarr assignment...\n"
     ]
    },
    {
     "name": "stderr",
     "output_type": "stream",
     "text": [
      "\n",
      "100%|██████████| 135/135 [00:06<00:00, 20.91it/s]\n"
     ]
    },
    {
     "name": "stdout",
     "output_type": "stream",
     "text": [
      "Processing chunk x:7554-10451, y:6829-8446, z:3816-3856\n"
     ]
    },
    {
     "name": "stderr",
     "output_type": "stream",
     "text": [
      "100%|██████████| 40/40 [00:46<00:00,  1.15s/it]"
     ]
    },
    {
     "name": "stdout",
     "output_type": "stream",
     "text": [
      "Data I/O, resampling, rotation complete. Commencing flip and zarr assignment...\n"
     ]
    },
    {
     "name": "stderr",
     "output_type": "stream",
     "text": [
      "\n",
      "100%|██████████| 135/135 [00:09<00:00, 13.60it/s]\n"
     ]
    },
    {
     "name": "stdout",
     "output_type": "stream",
     "text": [
      "Processing chunk x:7554-10451, y:6829-8446, z:3856-3896\n"
     ]
    },
    {
     "name": "stderr",
     "output_type": "stream",
     "text": [
      "100%|██████████| 40/40 [00:49<00:00,  1.23s/it]"
     ]
    },
    {
     "name": "stdout",
     "output_type": "stream",
     "text": [
      "Data I/O, resampling, rotation complete. Commencing flip and zarr assignment...\n"
     ]
    },
    {
     "name": "stderr",
     "output_type": "stream",
     "text": [
      "\n",
      "100%|██████████| 135/135 [00:15<00:00,  8.53it/s]"
     ]
    },
    {
     "name": "stdout",
     "output_type": "stream",
     "text": [
      "Processing chunk x:7554-10451, y:6829-8446, z:3896-3936\n"
     ]
    },
    {
     "name": "stderr",
     "output_type": "stream",
     "text": [
      "\n",
      "100%|██████████| 40/40 [01:01<00:00,  1.54s/it]\n"
     ]
    },
    {
     "name": "stdout",
     "output_type": "stream",
     "text": [
      "Data I/O, resampling, rotation complete. Commencing flip and zarr assignment...\n"
     ]
    },
    {
     "name": "stderr",
     "output_type": "stream",
     "text": [
      "100%|██████████| 135/135 [00:19<00:00,  6.92it/s]"
     ]
    },
    {
     "name": "stdout",
     "output_type": "stream",
     "text": [
      "Processing chunk x:7554-10451, y:6829-8446, z:3936-3976\n"
     ]
    },
    {
     "name": "stderr",
     "output_type": "stream",
     "text": [
      "\n",
      "100%|██████████| 40/40 [00:50<00:00,  1.26s/it]"
     ]
    },
    {
     "name": "stdout",
     "output_type": "stream",
     "text": [
      "Data I/O, resampling, rotation complete. Commencing flip and zarr assignment...\n"
     ]
    },
    {
     "name": "stderr",
     "output_type": "stream",
     "text": [
      "\n",
      "100%|██████████| 135/135 [00:02<00:00, 59.41it/s]\n"
     ]
    },
    {
     "name": "stdout",
     "output_type": "stream",
     "text": [
      "Processing chunk x:7554-10451, y:6829-8446, z:3976-4016\n"
     ]
    },
    {
     "name": "stderr",
     "output_type": "stream",
     "text": [
      "100%|██████████| 40/40 [00:49<00:00,  1.24s/it]"
     ]
    },
    {
     "name": "stdout",
     "output_type": "stream",
     "text": [
      "Data I/O, resampling, rotation complete. Commencing flip and zarr assignment...\n"
     ]
    },
    {
     "name": "stderr",
     "output_type": "stream",
     "text": [
      "\n",
      "100%|██████████| 135/135 [00:07<00:00, 18.72it/s]"
     ]
    },
    {
     "name": "stdout",
     "output_type": "stream",
     "text": [
      "Processing chunk x:7554-10451, y:6829-8446, z:4016-4056\n"
     ]
    },
    {
     "name": "stderr",
     "output_type": "stream",
     "text": [
      "\n",
      "100%|██████████| 40/40 [00:49<00:00,  1.25s/it]"
     ]
    },
    {
     "name": "stdout",
     "output_type": "stream",
     "text": [
      "Data I/O, resampling, rotation complete. Commencing flip and zarr assignment...\n"
     ]
    },
    {
     "name": "stderr",
     "output_type": "stream",
     "text": [
      "\n",
      "100%|██████████| 135/135 [00:09<00:00, 14.45it/s]\n"
     ]
    },
    {
     "name": "stdout",
     "output_type": "stream",
     "text": [
      "Processing chunk x:7554-10451, y:6829-8446, z:4056-4096\n"
     ]
    },
    {
     "name": "stderr",
     "output_type": "stream",
     "text": [
      "100%|██████████| 40/40 [00:50<00:00,  1.27s/it]"
     ]
    },
    {
     "name": "stdout",
     "output_type": "stream",
     "text": [
      "Data I/O, resampling, rotation complete. Commencing flip and zarr assignment...\n"
     ]
    },
    {
     "name": "stderr",
     "output_type": "stream",
     "text": [
      "\n",
      "100%|██████████| 135/135 [00:13<00:00, 10.35it/s]"
     ]
    },
    {
     "name": "stdout",
     "output_type": "stream",
     "text": [
      "Processing chunk x:7554-10451, y:6829-8446, z:4096-4136\n"
     ]
    },
    {
     "name": "stderr",
     "output_type": "stream",
     "text": [
      "\n",
      "100%|██████████| 40/40 [00:50<00:00,  1.27s/it]"
     ]
    },
    {
     "name": "stdout",
     "output_type": "stream",
     "text": [
      "Data I/O, resampling, rotation complete. Commencing flip and zarr assignment...\n"
     ]
    },
    {
     "name": "stderr",
     "output_type": "stream",
     "text": [
      "\n",
      "100%|██████████| 135/135 [00:14<00:00,  9.18it/s]"
     ]
    },
    {
     "name": "stdout",
     "output_type": "stream",
     "text": [
      "Processing chunk x:7554-10451, y:6829-8446, z:4136-4176\n"
     ]
    },
    {
     "name": "stderr",
     "output_type": "stream",
     "text": [
      "\n",
      "100%|██████████| 40/40 [00:50<00:00,  3.33s/it]"
     ]
    },
    {
     "name": "stdout",
     "output_type": "stream",
     "text": [
      "Data I/O, resampling, rotation complete. Commencing flip and zarr assignment...\n"
     ]
    },
    {
     "name": "stderr",
     "output_type": "stream",
     "text": [
      "\n",
      "100%|██████████| 135/135 [00:02<00:00, 56.49it/s]"
     ]
    },
    {
     "name": "stdout",
     "output_type": "stream",
     "text": [
      "Processing chunk x:7554-10451, y:6829-8446, z:4176-4216\n"
     ]
    },
    {
     "name": "stderr",
     "output_type": "stream",
     "text": [
      "\n",
      "100%|██████████| 40/40 [00:50<00:00,  1.25s/it]\n"
     ]
    },
    {
     "name": "stdout",
     "output_type": "stream",
     "text": [
      "Data I/O, resampling, rotation complete. Commencing flip and zarr assignment...\n"
     ]
    },
    {
     "name": "stderr",
     "output_type": "stream",
     "text": [
      "100%|██████████| 135/135 [00:06<00:00, 20.65it/s]\n"
     ]
    },
    {
     "name": "stdout",
     "output_type": "stream",
     "text": [
      "Processing chunk x:7554-10451, y:6829-8446, z:4216-4256\n"
     ]
    },
    {
     "name": "stderr",
     "output_type": "stream",
     "text": [
      "100%|██████████| 40/40 [00:51<00:00,  1.28s/it]"
     ]
    },
    {
     "name": "stdout",
     "output_type": "stream",
     "text": [
      "Data I/O, resampling, rotation complete. Commencing flip and zarr assignment...\n"
     ]
    },
    {
     "name": "stderr",
     "output_type": "stream",
     "text": [
      "\n",
      "100%|██████████| 135/135 [00:09<00:00, 14.75it/s]\n"
     ]
    },
    {
     "name": "stdout",
     "output_type": "stream",
     "text": [
      "Processing chunk x:7554-10451, y:6829-8446, z:4256-4296\n"
     ]
    },
    {
     "name": "stderr",
     "output_type": "stream",
     "text": [
      "100%|██████████| 40/40 [00:51<00:00,  1.28s/it]"
     ]
    },
    {
     "name": "stdout",
     "output_type": "stream",
     "text": [
      "Data I/O, resampling, rotation complete. Commencing flip and zarr assignment...\n"
     ]
    },
    {
     "name": "stderr",
     "output_type": "stream",
     "text": [
      "\n",
      "100%|██████████| 135/135 [00:26<00:00,  5.01it/s]"
     ]
    },
    {
     "name": "stdout",
     "output_type": "stream",
     "text": [
      "Processing chunk x:7554-10451, y:6829-8446, z:4296-4336\n"
     ]
    },
    {
     "name": "stderr",
     "output_type": "stream",
     "text": [
      "\n",
      "100%|██████████| 40/40 [00:54<00:00,  1.36s/it]"
     ]
    },
    {
     "name": "stdout",
     "output_type": "stream",
     "text": [
      "Data I/O, resampling, rotation complete. Commencing flip and zarr assignment...\n"
     ]
    },
    {
     "name": "stderr",
     "output_type": "stream",
     "text": [
      "\n",
      "100%|██████████| 135/135 [00:15<00:00,  8.55it/s]"
     ]
    },
    {
     "name": "stdout",
     "output_type": "stream",
     "text": [
      "Processing chunk x:7554-10451, y:6829-8446, z:4336-4376\n"
     ]
    },
    {
     "name": "stderr",
     "output_type": "stream",
     "text": [
      "\n",
      "100%|██████████| 40/40 [00:50<00:00,  1.27s/it]"
     ]
    },
    {
     "name": "stdout",
     "output_type": "stream",
     "text": [
      "Data I/O, resampling, rotation complete. Commencing flip and zarr assignment...\n"
     ]
    },
    {
     "name": "stderr",
     "output_type": "stream",
     "text": [
      "\n",
      "100%|██████████| 135/135 [00:02<00:00, 52.35it/s]\n"
     ]
    },
    {
     "name": "stdout",
     "output_type": "stream",
     "text": [
      "Processing chunk x:7554-10451, y:6829-8446, z:4376-4416\n"
     ]
    },
    {
     "name": "stderr",
     "output_type": "stream",
     "text": [
      "100%|██████████| 40/40 [00:50<00:00,  1.27s/it]\n"
     ]
    },
    {
     "name": "stdout",
     "output_type": "stream",
     "text": [
      "Data I/O, resampling, rotation complete. Commencing flip and zarr assignment...\n"
     ]
    },
    {
     "name": "stderr",
     "output_type": "stream",
     "text": [
      "100%|██████████| 135/135 [00:07<00:00, 17.25it/s]\n"
     ]
    },
    {
     "name": "stdout",
     "output_type": "stream",
     "text": [
      "Processing chunk x:7554-10451, y:6829-8446, z:4416-4456\n"
     ]
    },
    {
     "name": "stderr",
     "output_type": "stream",
     "text": [
      "100%|██████████| 40/40 [00:53<00:00,  1.34s/it]"
     ]
    },
    {
     "name": "stdout",
     "output_type": "stream",
     "text": [
      "Data I/O, resampling, rotation complete. Commencing flip and zarr assignment...\n"
     ]
    },
    {
     "name": "stderr",
     "output_type": "stream",
     "text": [
      "\n",
      "100%|██████████| 135/135 [00:10<00:00, 13.07it/s]\n"
     ]
    },
    {
     "name": "stdout",
     "output_type": "stream",
     "text": [
      "Processing chunk x:7554-10451, y:6829-8446, z:4456-4496\n"
     ]
    },
    {
     "name": "stderr",
     "output_type": "stream",
     "text": [
      "100%|██████████| 40/40 [00:51<00:00,  1.28s/it]\n"
     ]
    },
    {
     "name": "stdout",
     "output_type": "stream",
     "text": [
      "Data I/O, resampling, rotation complete. Commencing flip and zarr assignment...\n"
     ]
    },
    {
     "name": "stderr",
     "output_type": "stream",
     "text": [
      "100%|██████████| 135/135 [00:14<00:00,  9.09it/s]\n"
     ]
    },
    {
     "name": "stdout",
     "output_type": "stream",
     "text": [
      "Processing chunk x:7554-10451, y:6829-8446, z:4496-4536\n"
     ]
    },
    {
     "name": "stderr",
     "output_type": "stream",
     "text": [
      "100%|██████████| 40/40 [00:51<00:00,  1.29s/it]"
     ]
    },
    {
     "name": "stdout",
     "output_type": "stream",
     "text": [
      "Data I/O, resampling, rotation complete. Commencing flip and zarr assignment...\n"
     ]
    },
    {
     "name": "stderr",
     "output_type": "stream",
     "text": [
      "\n",
      "100%|██████████| 135/135 [00:16<00:00,  8.22it/s]"
     ]
    },
    {
     "name": "stdout",
     "output_type": "stream",
     "text": [
      "Processing chunk x:7554-10451, y:6829-8446, z:4536-4576\n"
     ]
    },
    {
     "name": "stderr",
     "output_type": "stream",
     "text": [
      "\n",
      "100%|██████████| 40/40 [00:52<00:00,  1.30s/it]"
     ]
    },
    {
     "name": "stdout",
     "output_type": "stream",
     "text": [
      "Data I/O, resampling, rotation complete. Commencing flip and zarr assignment...\n"
     ]
    },
    {
     "name": "stderr",
     "output_type": "stream",
     "text": [
      "\n",
      "100%|██████████| 135/135 [00:02<00:00, 55.96it/s]\n"
     ]
    },
    {
     "name": "stdout",
     "output_type": "stream",
     "text": [
      "Processing chunk x:7554-10451, y:6829-8446, z:4576-4616\n"
     ]
    },
    {
     "name": "stderr",
     "output_type": "stream",
     "text": [
      "100%|██████████| 40/40 [00:51<00:00,  1.29s/it]"
     ]
    },
    {
     "name": "stdout",
     "output_type": "stream",
     "text": [
      "Data I/O, resampling, rotation complete. Commencing flip and zarr assignment...\n"
     ]
    },
    {
     "name": "stderr",
     "output_type": "stream",
     "text": [
      "\n",
      "100%|██████████| 135/135 [00:07<00:00, 16.91it/s]"
     ]
    },
    {
     "name": "stdout",
     "output_type": "stream",
     "text": [
      "Processing chunk x:7554-10451, y:6829-8446, z:4616-4656\n"
     ]
    },
    {
     "name": "stderr",
     "output_type": "stream",
     "text": [
      "\n",
      "100%|██████████| 40/40 [00:51<00:00,  1.29s/it]"
     ]
    },
    {
     "name": "stdout",
     "output_type": "stream",
     "text": [
      "Data I/O, resampling, rotation complete. Commencing flip and zarr assignment...\n"
     ]
    },
    {
     "name": "stderr",
     "output_type": "stream",
     "text": [
      "\n",
      "100%|██████████| 135/135 [00:10<00:00, 12.64it/s]\n"
     ]
    },
    {
     "name": "stdout",
     "output_type": "stream",
     "text": [
      "Processing chunk x:7554-10451, y:6829-8446, z:4656-4696\n"
     ]
    },
    {
     "name": "stderr",
     "output_type": "stream",
     "text": [
      "100%|██████████| 40/40 [00:52<00:00,  1.32s/it]"
     ]
    },
    {
     "name": "stdout",
     "output_type": "stream",
     "text": [
      "Data I/O, resampling, rotation complete. Commencing flip and zarr assignment...\n"
     ]
    },
    {
     "name": "stderr",
     "output_type": "stream",
     "text": [
      "\n",
      "100%|██████████| 135/135 [00:13<00:00,  9.85it/s]"
     ]
    },
    {
     "name": "stdout",
     "output_type": "stream",
     "text": [
      "Processing chunk x:7554-10451, y:6829-8446, z:4696-4736\n"
     ]
    },
    {
     "name": "stderr",
     "output_type": "stream",
     "text": [
      "\n",
      "100%|██████████| 40/40 [00:54<00:00,  1.37s/it]"
     ]
    },
    {
     "name": "stdout",
     "output_type": "stream",
     "text": [
      "Data I/O, resampling, rotation complete. Commencing flip and zarr assignment...\n"
     ]
    },
    {
     "name": "stderr",
     "output_type": "stream",
     "text": [
      "\n",
      "100%|██████████| 135/135 [00:16<00:00,  8.31it/s]"
     ]
    },
    {
     "name": "stdout",
     "output_type": "stream",
     "text": [
      "Processing chunk x:7554-10451, y:6829-8446, z:4736-4776\n"
     ]
    },
    {
     "name": "stderr",
     "output_type": "stream",
     "text": [
      "\n",
      "100%|██████████| 40/40 [01:04<00:00,  1.61s/it]\n"
     ]
    },
    {
     "name": "stdout",
     "output_type": "stream",
     "text": [
      "Data I/O, resampling, rotation complete. Commencing flip and zarr assignment...\n"
     ]
    },
    {
     "name": "stderr",
     "output_type": "stream",
     "text": [
      "100%|██████████| 135/135 [00:02<00:00, 47.12it/s]\n"
     ]
    },
    {
     "name": "stdout",
     "output_type": "stream",
     "text": [
      "Processing chunk x:7554-10451, y:6829-8446, z:4776-4816\n"
     ]
    },
    {
     "name": "stderr",
     "output_type": "stream",
     "text": [
      "100%|██████████| 40/40 [01:02<00:00,  1.56s/it]\n"
     ]
    },
    {
     "name": "stdout",
     "output_type": "stream",
     "text": [
      "Data I/O, resampling, rotation complete. Commencing flip and zarr assignment...\n"
     ]
    },
    {
     "name": "stderr",
     "output_type": "stream",
     "text": [
      "100%|██████████| 135/135 [00:07<00:00, 17.74it/s]\n"
     ]
    },
    {
     "name": "stdout",
     "output_type": "stream",
     "text": [
      "Processing chunk x:7554-10451, y:6829-8446, z:4816-4856\n"
     ]
    },
    {
     "name": "stderr",
     "output_type": "stream",
     "text": [
      "100%|██████████| 40/40 [00:58<00:00,  1.46s/it]"
     ]
    },
    {
     "name": "stdout",
     "output_type": "stream",
     "text": [
      "Data I/O, resampling, rotation complete. Commencing flip and zarr assignment...\n"
     ]
    },
    {
     "name": "stderr",
     "output_type": "stream",
     "text": [
      "\n",
      "100%|██████████| 135/135 [00:11<00:00, 11.29it/s]\n"
     ]
    },
    {
     "name": "stdout",
     "output_type": "stream",
     "text": [
      "Processing chunk x:7554-10451, y:6829-8446, z:4856-4896\n"
     ]
    },
    {
     "name": "stderr",
     "output_type": "stream",
     "text": [
      "100%|██████████| 40/40 [00:57<00:00,  1.44s/it]"
     ]
    },
    {
     "name": "stdout",
     "output_type": "stream",
     "text": [
      "Data I/O, resampling, rotation complete. Commencing flip and zarr assignment...\n"
     ]
    },
    {
     "name": "stderr",
     "output_type": "stream",
     "text": [
      "\n",
      "100%|██████████| 135/135 [00:14<00:00,  9.27it/s]\n"
     ]
    },
    {
     "name": "stdout",
     "output_type": "stream",
     "text": [
      "Processing chunk x:7554-10451, y:6829-8446, z:4896-4936\n"
     ]
    },
    {
     "name": "stderr",
     "output_type": "stream",
     "text": [
      "100%|██████████| 40/40 [00:52<00:00,  1.32s/it]"
     ]
    },
    {
     "name": "stdout",
     "output_type": "stream",
     "text": [
      "Data I/O, resampling, rotation complete. Commencing flip and zarr assignment...\n"
     ]
    },
    {
     "name": "stderr",
     "output_type": "stream",
     "text": [
      "\n",
      "100%|██████████| 135/135 [00:15<00:00,  8.49it/s]"
     ]
    },
    {
     "name": "stdout",
     "output_type": "stream",
     "text": [
      "Processing chunk x:7554-10451, y:6829-8446, z:4936-4976\n"
     ]
    },
    {
     "name": "stderr",
     "output_type": "stream",
     "text": [
      "\n",
      "100%|██████████| 40/40 [00:50<00:00,  1.27s/it]"
     ]
    },
    {
     "name": "stdout",
     "output_type": "stream",
     "text": [
      "Data I/O, resampling, rotation complete. Commencing flip and zarr assignment...\n"
     ]
    },
    {
     "name": "stderr",
     "output_type": "stream",
     "text": [
      "\n",
      "100%|██████████| 135/135 [00:02<00:00, 55.42it/s]"
     ]
    },
    {
     "name": "stdout",
     "output_type": "stream",
     "text": [
      "Processing chunk x:7554-10451, y:6829-8446, z:4976-5016\n"
     ]
    },
    {
     "name": "stderr",
     "output_type": "stream",
     "text": [
      "\n",
      "100%|██████████| 40/40 [00:51<00:00,  1.28s/it]"
     ]
    },
    {
     "name": "stdout",
     "output_type": "stream",
     "text": [
      "Data I/O, resampling, rotation complete. Commencing flip and zarr assignment...\n"
     ]
    },
    {
     "name": "stderr",
     "output_type": "stream",
     "text": [
      "\n",
      "100%|██████████| 135/135 [00:06<00:00, 19.35it/s]"
     ]
    },
    {
     "name": "stdout",
     "output_type": "stream",
     "text": [
      "Processing chunk x:7554-10451, y:6829-8446, z:5016-5056\n"
     ]
    },
    {
     "name": "stderr",
     "output_type": "stream",
     "text": [
      "\n",
      "100%|██████████| 40/40 [00:50<00:00,  1.26s/it]"
     ]
    },
    {
     "name": "stdout",
     "output_type": "stream",
     "text": [
      "Data I/O, resampling, rotation complete. Commencing flip and zarr assignment...\n"
     ]
    },
    {
     "name": "stderr",
     "output_type": "stream",
     "text": [
      "\n",
      "100%|██████████| 135/135 [00:10<00:00, 13.46it/s]\n"
     ]
    },
    {
     "name": "stdout",
     "output_type": "stream",
     "text": [
      "Processing chunk x:7554-10451, y:6829-8446, z:5056-5096\n"
     ]
    },
    {
     "name": "stderr",
     "output_type": "stream",
     "text": [
      "100%|██████████| 40/40 [00:49<00:00,  1.24s/it]\n"
     ]
    },
    {
     "name": "stdout",
     "output_type": "stream",
     "text": [
      "Data I/O, resampling, rotation complete. Commencing flip and zarr assignment...\n"
     ]
    },
    {
     "name": "stderr",
     "output_type": "stream",
     "text": [
      "100%|██████████| 135/135 [00:13<00:00,  9.73it/s]\n"
     ]
    },
    {
     "name": "stdout",
     "output_type": "stream",
     "text": [
      "Processing chunk x:7554-10451, y:6829-8446, z:5096-5136\n"
     ]
    },
    {
     "name": "stderr",
     "output_type": "stream",
     "text": [
      "100%|██████████| 40/40 [00:49<00:00,  1.25s/it]"
     ]
    },
    {
     "name": "stdout",
     "output_type": "stream",
     "text": [
      "Data I/O, resampling, rotation complete. Commencing flip and zarr assignment...\n"
     ]
    },
    {
     "name": "stderr",
     "output_type": "stream",
     "text": [
      "\n",
      "100%|██████████| 135/135 [00:16<00:00,  8.25it/s]\n"
     ]
    },
    {
     "name": "stdout",
     "output_type": "stream",
     "text": [
      "Processing chunk x:7554-10451, y:6829-8446, z:5136-5176\n"
     ]
    },
    {
     "name": "stderr",
     "output_type": "stream",
     "text": [
      "100%|██████████| 40/40 [00:48<00:00,  1.22s/it]\n"
     ]
    },
    {
     "name": "stdout",
     "output_type": "stream",
     "text": [
      "Data I/O, resampling, rotation complete. Commencing flip and zarr assignment...\n"
     ]
    },
    {
     "name": "stderr",
     "output_type": "stream",
     "text": [
      "100%|██████████| 135/135 [00:02<00:00, 55.66it/s]\n"
     ]
    },
    {
     "name": "stdout",
     "output_type": "stream",
     "text": [
      "Processing chunk x:7554-10451, y:6829-8446, z:5176-5216\n"
     ]
    },
    {
     "name": "stderr",
     "output_type": "stream",
     "text": [
      "100%|██████████| 40/40 [00:46<00:00,  1.17s/it]"
     ]
    },
    {
     "name": "stdout",
     "output_type": "stream",
     "text": [
      "Data I/O, resampling, rotation complete. Commencing flip and zarr assignment...\n"
     ]
    },
    {
     "name": "stderr",
     "output_type": "stream",
     "text": [
      "\n",
      "100%|██████████| 135/135 [00:07<00:00, 18.32it/s]"
     ]
    },
    {
     "name": "stdout",
     "output_type": "stream",
     "text": [
      "Processing chunk x:7554-10451, y:6829-8446, z:5216-5256\n"
     ]
    },
    {
     "name": "stderr",
     "output_type": "stream",
     "text": [
      "\n",
      "100%|██████████| 40/40 [00:46<00:00,  1.17s/it]\n"
     ]
    },
    {
     "name": "stdout",
     "output_type": "stream",
     "text": [
      "Data I/O, resampling, rotation complete. Commencing flip and zarr assignment...\n"
     ]
    },
    {
     "name": "stderr",
     "output_type": "stream",
     "text": [
      "100%|██████████| 135/135 [00:10<00:00, 12.81it/s]"
     ]
    },
    {
     "name": "stdout",
     "output_type": "stream",
     "text": [
      "Processing chunk x:7554-10451, y:6829-8446, z:5256-5296\n"
     ]
    },
    {
     "name": "stderr",
     "output_type": "stream",
     "text": [
      "\n",
      "100%|██████████| 40/40 [00:46<00:00,  1.17s/it]"
     ]
    },
    {
     "name": "stdout",
     "output_type": "stream",
     "text": [
      "Data I/O, resampling, rotation complete. Commencing flip and zarr assignment...\n"
     ]
    },
    {
     "name": "stderr",
     "output_type": "stream",
     "text": [
      "\n",
      "100%|██████████| 135/135 [00:13<00:00, 10.16it/s]\n"
     ]
    },
    {
     "name": "stdout",
     "output_type": "stream",
     "text": [
      "Processing chunk x:7554-10451, y:6829-8446, z:5296-5336\n"
     ]
    },
    {
     "name": "stderr",
     "output_type": "stream",
     "text": [
      "100%|██████████| 40/40 [00:44<00:00,  1.11s/it]\n"
     ]
    },
    {
     "name": "stdout",
     "output_type": "stream",
     "text": [
      "Data I/O, resampling, rotation complete. Commencing flip and zarr assignment...\n"
     ]
    },
    {
     "name": "stderr",
     "output_type": "stream",
     "text": [
      "100%|██████████| 135/135 [00:15<00:00,  8.56it/s]"
     ]
    },
    {
     "name": "stdout",
     "output_type": "stream",
     "text": [
      "Processing chunk x:7554-10451, y:6829-8446, z:5336-5346\n"
     ]
    },
    {
     "name": "stderr",
     "output_type": "stream",
     "text": [
      "\n",
      "100%|██████████| 10/10 [00:12<00:00,  1.20s/it]"
     ]
    },
    {
     "name": "stdout",
     "output_type": "stream",
     "text": [
      "Data I/O, resampling, rotation complete. Commencing flip and zarr assignment...\n"
     ]
    },
    {
     "name": "stderr",
     "output_type": "stream",
     "text": [
      "\n",
      "100%|██████████| 135/135 [00:01<00:00, 106.34it/s]"
     ]
    },
    {
     "name": "stdout",
     "output_type": "stream",
     "text": [
      "4029.192533016205 seconds elapsed\n"
     ]
    },
    {
     "name": "stderr",
     "output_type": "stream",
     "text": [
      "\n"
     ]
    }
   ],
   "source": [
    "# 3\n",
    "\n",
    "slab_path = '/mnt/cephfs/general/juhyuk/15xdata/20220516_22_11_41_mEhmAD_3_abeta.lec.ptau/Ex_488_Em_1_destriped_stitched_tiffs'\n",
    "slab_zarr_path = bdir(name_prefix+'.zarr')\n",
    "pc2_img_size = (21268,9755,5918) #(22177,7817,5933) this is the mehmad2 size\n",
    "\n",
    "\n",
    "## Optional parameters \n",
    "load_num_slices = 40 # should be smaller than z chunk size, default None \n",
    "resample_num_slices = 1 # number of slices to be processed in one go for resampling, default 1\n",
    "resample_factor = (1,1) # original is (0.306,0.433,0.306)\n",
    "chunks = (200,200,200) \n",
    "num_workers = 20 \n",
    "file_names = 'img_[0-9]{4}.tiff' # default 'img_[0-9]{4}.tiff'\n",
    "\n",
    "## crop\n",
    "coord0s = [2740,1096,862] # this is how much to add to coordinates \n",
    "# This is the range in the unflattened image, but cropped from original (calculated above)\n",
    "xrange = [4814,7711]; xrange = [xrange[k]+coord0s[0] for k in range(2)]\n",
    "yrange = [5733,7350]; yrange = [yrange[k]+coord0s[1] for k in range(2)]\n",
    "zrange = [1874,4484]; zrange = [zrange[k]+coord0s[2] for k in range(2)]\n",
    "\n",
    "## rotate\n",
    "lateral_rotate_angle = None # default None\n",
    "\n",
    "## flip\n",
    "flip = (0,0,0) # default (0,0,0)\n",
    "\n",
    "\n",
    "#############\n",
    "start = time.time()\n",
    "utils.convert_to_zarr_v2(slab_path, slab_zarr_path, pc2_img_size, load_num_slices=load_num_slices,\n",
    "                        resample_num_slices=resample_num_slices, file_names=file_names, \n",
    "                        chunks=chunks, num_workers=num_workers, lateral_rotate_angle=lateral_rotate_angle,\n",
    "                        flip=flip, crop_xcoords=xrange, crop_ycoords=yrange, crop_zcoords=zrange,\n",
    "                        resample_factor=resample_factor)\n",
    "print(time.time()-start, 'seconds elapsed')"
   ]
  },
  {
   "cell_type": "markdown",
   "id": "14e01b95",
   "metadata": {},
   "source": [
    "## slab 2"
   ]
  },
  {
   "cell_type": "code",
   "execution_count": 6,
   "id": "a8d2fd48",
   "metadata": {},
   "outputs": [],
   "source": [
    "# FIgure out where to crop\n",
    "\n",
    "xrange = [4545,7353]\n",
    "yrange = [5226,6718]\n",
    "zrange = [0,2000]\n",
    "warped_zarr_path = '/mnt/share3/webster/mEhmAD_2-3/2-ptau_flattened.zarr'\n",
    "grid_path = '/mnt/share3/webster/mEhmAD_2-3/warping_grids/2-lec_grid_flatten_upsampled.npy'\n",
    "\n",
    "\n",
    "# We can find true \"bounding box\" by warping a bunch of points \n",
    "num_pts = 8\n",
    "X,Y,Z = np.meshgrid(np.linspace(xrange[0],xrange[1],num_pts),\n",
    "           np.linspace(yrange[0],yrange[1],num_pts),\n",
    "           np.linspace(zrange[0],zrange[1],num_pts))\n",
    "\n",
    "grid_pts = np.vstack((X.ravel(),Y.ravel(),Z.ravel())).T\n",
    "bbox = grid_transform_pts(grid_path, grid_pts, warped_zarr_path, save_path=None, save_json=False, inverse_transform=False)"
   ]
  },
  {
   "cell_type": "code",
   "execution_count": 7,
   "id": "538de16f",
   "metadata": {},
   "outputs": [
    {
     "name": "stdout",
     "output_type": "stream",
     "text": [
      "4554.60198294871 7419.1987282669115\n",
      "5177.535863891769 6741.2023181141585\n",
      "-381.4675662321031 1939.144180790585\n"
     ]
    }
   ],
   "source": [
    "# Below are the coordinates in the original non-flattened field of view \n",
    "\n",
    "print(bbox[:,0].min(),bbox[:,0].max())\n",
    "print(bbox[:,1].min(),bbox[:,1].max())\n",
    "print(bbox[:,2].min(),bbox[:,2].max())"
   ]
  },
  {
   "cell_type": "code",
   "execution_count": 8,
   "id": "3e302e28",
   "metadata": {
    "scrolled": true
   },
   "outputs": [
    {
     "name": "stdout",
     "output_type": "stream",
     "text": [
      "Processing chunk x:8154-11020, y:5177-6742, z:553-593\n"
     ]
    },
    {
     "name": "stderr",
     "output_type": "stream",
     "text": [
      "100%|██████████| 40/40 [00:38<00:00,  1.04it/s]\n"
     ]
    },
    {
     "name": "stdout",
     "output_type": "stream",
     "text": [
      "Data I/O, resampling, rotation complete. Commencing flip and zarr assignment...\n"
     ]
    },
    {
     "name": "stderr",
     "output_type": "stream",
     "text": [
      "100%|██████████| 120/120 [00:02<00:00, 54.86it/s]\n"
     ]
    },
    {
     "name": "stdout",
     "output_type": "stream",
     "text": [
      "Processing chunk x:8154-11020, y:5177-6742, z:593-633\n"
     ]
    },
    {
     "name": "stderr",
     "output_type": "stream",
     "text": [
      "100%|██████████| 40/40 [00:38<00:00,  1.05it/s]\n"
     ]
    },
    {
     "name": "stdout",
     "output_type": "stream",
     "text": [
      "Data I/O, resampling, rotation complete. Commencing flip and zarr assignment...\n"
     ]
    },
    {
     "name": "stderr",
     "output_type": "stream",
     "text": [
      "100%|██████████| 120/120 [00:06<00:00, 17.91it/s]\n"
     ]
    },
    {
     "name": "stdout",
     "output_type": "stream",
     "text": [
      "Processing chunk x:8154-11020, y:5177-6742, z:633-673\n"
     ]
    },
    {
     "name": "stderr",
     "output_type": "stream",
     "text": [
      "100%|██████████| 40/40 [00:38<00:00,  1.04it/s]\n"
     ]
    },
    {
     "name": "stdout",
     "output_type": "stream",
     "text": [
      "Data I/O, resampling, rotation complete. Commencing flip and zarr assignment...\n"
     ]
    },
    {
     "name": "stderr",
     "output_type": "stream",
     "text": [
      "100%|██████████| 120/120 [00:10<00:00, 11.77it/s]\n"
     ]
    },
    {
     "name": "stdout",
     "output_type": "stream",
     "text": [
      "Processing chunk x:8154-11020, y:5177-6742, z:673-713\n"
     ]
    },
    {
     "name": "stderr",
     "output_type": "stream",
     "text": [
      "100%|██████████| 40/40 [00:38<00:00,  1.04it/s]\n"
     ]
    },
    {
     "name": "stdout",
     "output_type": "stream",
     "text": [
      "Data I/O, resampling, rotation complete. Commencing flip and zarr assignment...\n"
     ]
    },
    {
     "name": "stderr",
     "output_type": "stream",
     "text": [
      "100%|██████████| 120/120 [00:12<00:00,  9.70it/s]\n"
     ]
    },
    {
     "name": "stdout",
     "output_type": "stream",
     "text": [
      "Processing chunk x:8154-11020, y:5177-6742, z:713-753\n"
     ]
    },
    {
     "name": "stderr",
     "output_type": "stream",
     "text": [
      "100%|██████████| 40/40 [00:38<00:00,  1.04it/s]\n"
     ]
    },
    {
     "name": "stdout",
     "output_type": "stream",
     "text": [
      "Data I/O, resampling, rotation complete. Commencing flip and zarr assignment...\n"
     ]
    },
    {
     "name": "stderr",
     "output_type": "stream",
     "text": [
      "100%|██████████| 120/120 [00:13<00:00,  9.17it/s]\n"
     ]
    },
    {
     "name": "stdout",
     "output_type": "stream",
     "text": [
      "Processing chunk x:8154-11020, y:5177-6742, z:753-793\n"
     ]
    },
    {
     "name": "stderr",
     "output_type": "stream",
     "text": [
      "100%|██████████| 40/40 [00:38<00:00,  3.76s/it]\n"
     ]
    },
    {
     "name": "stdout",
     "output_type": "stream",
     "text": [
      "Data I/O, resampling, rotation complete. Commencing flip and zarr assignment...\n"
     ]
    },
    {
     "name": "stderr",
     "output_type": "stream",
     "text": [
      "100%|██████████| 120/120 [00:02<00:00, 43.47it/s]\n"
     ]
    },
    {
     "name": "stdout",
     "output_type": "stream",
     "text": [
      "Processing chunk x:8154-11020, y:5177-6742, z:793-833\n"
     ]
    },
    {
     "name": "stderr",
     "output_type": "stream",
     "text": [
      "100%|██████████| 40/40 [00:42<00:00,  1.06s/it]\n"
     ]
    },
    {
     "name": "stdout",
     "output_type": "stream",
     "text": [
      "Data I/O, resampling, rotation complete. Commencing flip and zarr assignment...\n"
     ]
    },
    {
     "name": "stderr",
     "output_type": "stream",
     "text": [
      "100%|██████████| 120/120 [00:06<00:00, 19.75it/s]\n"
     ]
    },
    {
     "name": "stdout",
     "output_type": "stream",
     "text": [
      "Processing chunk x:8154-11020, y:5177-6742, z:833-873\n"
     ]
    },
    {
     "name": "stderr",
     "output_type": "stream",
     "text": [
      "100%|██████████| 40/40 [00:42<00:00,  1.07s/it]\n"
     ]
    },
    {
     "name": "stdout",
     "output_type": "stream",
     "text": [
      "Data I/O, resampling, rotation complete. Commencing flip and zarr assignment...\n"
     ]
    },
    {
     "name": "stderr",
     "output_type": "stream",
     "text": [
      "100%|██████████| 120/120 [00:13<00:00,  8.80it/s]"
     ]
    },
    {
     "name": "stdout",
     "output_type": "stream",
     "text": [
      "Processing chunk x:8154-11020, y:5177-6742, z:873-913\n"
     ]
    },
    {
     "name": "stderr",
     "output_type": "stream",
     "text": [
      "\n",
      "100%|██████████| 40/40 [00:44<00:00,  1.11s/it]\n"
     ]
    },
    {
     "name": "stdout",
     "output_type": "stream",
     "text": [
      "Data I/O, resampling, rotation complete. Commencing flip and zarr assignment...\n"
     ]
    },
    {
     "name": "stderr",
     "output_type": "stream",
     "text": [
      "100%|██████████| 120/120 [00:15<00:00,  7.66it/s]\n"
     ]
    },
    {
     "name": "stdout",
     "output_type": "stream",
     "text": [
      "Processing chunk x:8154-11020, y:5177-6742, z:913-953\n"
     ]
    },
    {
     "name": "stderr",
     "output_type": "stream",
     "text": [
      "100%|██████████| 40/40 [00:39<00:00,  1.01it/s]\n"
     ]
    },
    {
     "name": "stdout",
     "output_type": "stream",
     "text": [
      "Data I/O, resampling, rotation complete. Commencing flip and zarr assignment...\n"
     ]
    },
    {
     "name": "stderr",
     "output_type": "stream",
     "text": [
      "100%|██████████| 120/120 [00:14<00:00,  8.50it/s]\n"
     ]
    },
    {
     "name": "stdout",
     "output_type": "stream",
     "text": [
      "Processing chunk x:8154-11020, y:5177-6742, z:953-993\n"
     ]
    },
    {
     "name": "stderr",
     "output_type": "stream",
     "text": [
      "100%|██████████| 40/40 [00:39<00:00,  1.01it/s]\n"
     ]
    },
    {
     "name": "stdout",
     "output_type": "stream",
     "text": [
      "Data I/O, resampling, rotation complete. Commencing flip and zarr assignment...\n"
     ]
    },
    {
     "name": "stderr",
     "output_type": "stream",
     "text": [
      "100%|██████████| 120/120 [00:02<00:00, 50.23it/s]\n"
     ]
    },
    {
     "name": "stdout",
     "output_type": "stream",
     "text": [
      "Processing chunk x:8154-11020, y:5177-6742, z:993-1033\n"
     ]
    },
    {
     "name": "stderr",
     "output_type": "stream",
     "text": [
      "100%|██████████| 40/40 [00:40<00:00,  1.01s/it]\n"
     ]
    },
    {
     "name": "stdout",
     "output_type": "stream",
     "text": [
      "Data I/O, resampling, rotation complete. Commencing flip and zarr assignment...\n"
     ]
    },
    {
     "name": "stderr",
     "output_type": "stream",
     "text": [
      "100%|██████████| 120/120 [00:07<00:00, 15.41it/s]\n"
     ]
    },
    {
     "name": "stdout",
     "output_type": "stream",
     "text": [
      "Processing chunk x:8154-11020, y:5177-6742, z:1033-1073\n"
     ]
    },
    {
     "name": "stderr",
     "output_type": "stream",
     "text": [
      "100%|██████████| 40/40 [00:41<00:00,  1.04s/it]\n"
     ]
    },
    {
     "name": "stdout",
     "output_type": "stream",
     "text": [
      "Data I/O, resampling, rotation complete. Commencing flip and zarr assignment...\n"
     ]
    },
    {
     "name": "stderr",
     "output_type": "stream",
     "text": [
      "100%|██████████| 120/120 [00:11<00:00, 10.54it/s]\n"
     ]
    },
    {
     "name": "stdout",
     "output_type": "stream",
     "text": [
      "Processing chunk x:8154-11020, y:5177-6742, z:1073-1113\n"
     ]
    },
    {
     "name": "stderr",
     "output_type": "stream",
     "text": [
      "100%|██████████| 40/40 [00:41<00:00,  2.89s/it]\n"
     ]
    },
    {
     "name": "stdout",
     "output_type": "stream",
     "text": [
      "Data I/O, resampling, rotation complete. Commencing flip and zarr assignment...\n"
     ]
    },
    {
     "name": "stderr",
     "output_type": "stream",
     "text": [
      "100%|██████████| 120/120 [00:12<00:00,  9.30it/s]\n"
     ]
    },
    {
     "name": "stdout",
     "output_type": "stream",
     "text": [
      "Processing chunk x:8154-11020, y:5177-6742, z:1113-1153\n"
     ]
    },
    {
     "name": "stderr",
     "output_type": "stream",
     "text": [
      "100%|██████████| 40/40 [00:43<00:00,  1.09s/it]\n"
     ]
    },
    {
     "name": "stdout",
     "output_type": "stream",
     "text": [
      "Data I/O, resampling, rotation complete. Commencing flip and zarr assignment...\n"
     ]
    },
    {
     "name": "stderr",
     "output_type": "stream",
     "text": [
      "100%|██████████| 120/120 [00:15<00:00,  7.80it/s]\n"
     ]
    },
    {
     "name": "stdout",
     "output_type": "stream",
     "text": [
      "Processing chunk x:8154-11020, y:5177-6742, z:1153-1193\n"
     ]
    },
    {
     "name": "stderr",
     "output_type": "stream",
     "text": [
      "100%|██████████| 40/40 [00:44<00:00,  1.10s/it]\n"
     ]
    },
    {
     "name": "stdout",
     "output_type": "stream",
     "text": [
      "Data I/O, resampling, rotation complete. Commencing flip and zarr assignment...\n"
     ]
    },
    {
     "name": "stderr",
     "output_type": "stream",
     "text": [
      "100%|██████████| 120/120 [00:02<00:00, 50.70it/s]\n"
     ]
    },
    {
     "name": "stdout",
     "output_type": "stream",
     "text": [
      "Processing chunk x:8154-11020, y:5177-6742, z:1193-1233\n"
     ]
    },
    {
     "name": "stderr",
     "output_type": "stream",
     "text": [
      "100%|██████████| 40/40 [00:44<00:00,  1.12s/it]\n"
     ]
    },
    {
     "name": "stdout",
     "output_type": "stream",
     "text": [
      "Data I/O, resampling, rotation complete. Commencing flip and zarr assignment...\n"
     ]
    },
    {
     "name": "stderr",
     "output_type": "stream",
     "text": [
      "100%|██████████| 120/120 [00:06<00:00, 17.16it/s]\n"
     ]
    },
    {
     "name": "stdout",
     "output_type": "stream",
     "text": [
      "Processing chunk x:8154-11020, y:5177-6742, z:1233-1273\n"
     ]
    },
    {
     "name": "stderr",
     "output_type": "stream",
     "text": [
      "100%|██████████| 40/40 [00:45<00:00,  1.01it/s]\n"
     ]
    },
    {
     "name": "stdout",
     "output_type": "stream",
     "text": [
      "Data I/O, resampling, rotation complete. Commencing flip and zarr assignment...\n"
     ]
    },
    {
     "name": "stderr",
     "output_type": "stream",
     "text": [
      "100%|██████████| 120/120 [00:09<00:00, 12.52it/s]\n"
     ]
    },
    {
     "name": "stdout",
     "output_type": "stream",
     "text": [
      "Processing chunk x:8154-11020, y:5177-6742, z:1273-1313\n"
     ]
    },
    {
     "name": "stderr",
     "output_type": "stream",
     "text": [
      "100%|██████████| 40/40 [00:45<00:00,  1.13s/it]\n"
     ]
    },
    {
     "name": "stdout",
     "output_type": "stream",
     "text": [
      "Data I/O, resampling, rotation complete. Commencing flip and zarr assignment...\n"
     ]
    },
    {
     "name": "stderr",
     "output_type": "stream",
     "text": [
      "100%|██████████| 120/120 [00:12<00:00,  9.71it/s]\n"
     ]
    },
    {
     "name": "stdout",
     "output_type": "stream",
     "text": [
      "Processing chunk x:8154-11020, y:5177-6742, z:1313-1353\n"
     ]
    },
    {
     "name": "stderr",
     "output_type": "stream",
     "text": [
      "100%|██████████| 40/40 [00:45<00:00,  1.13s/it]\n"
     ]
    },
    {
     "name": "stdout",
     "output_type": "stream",
     "text": [
      "Data I/O, resampling, rotation complete. Commencing flip and zarr assignment...\n"
     ]
    },
    {
     "name": "stderr",
     "output_type": "stream",
     "text": [
      "100%|██████████| 120/120 [00:15<00:00,  7.89it/s]\n"
     ]
    },
    {
     "name": "stdout",
     "output_type": "stream",
     "text": [
      "Processing chunk x:8154-11020, y:5177-6742, z:1353-1393\n"
     ]
    },
    {
     "name": "stderr",
     "output_type": "stream",
     "text": [
      "100%|██████████| 40/40 [00:44<00:00,  2.13s/it]\n"
     ]
    },
    {
     "name": "stdout",
     "output_type": "stream",
     "text": [
      "Data I/O, resampling, rotation complete. Commencing flip and zarr assignment...\n"
     ]
    },
    {
     "name": "stderr",
     "output_type": "stream",
     "text": [
      "100%|██████████| 120/120 [00:02<00:00, 52.91it/s]\n"
     ]
    },
    {
     "name": "stdout",
     "output_type": "stream",
     "text": [
      "Processing chunk x:8154-11020, y:5177-6742, z:1393-1433\n"
     ]
    },
    {
     "name": "stderr",
     "output_type": "stream",
     "text": [
      "100%|██████████| 40/40 [00:45<00:00,  1.13s/it]\n"
     ]
    },
    {
     "name": "stdout",
     "output_type": "stream",
     "text": [
      "Data I/O, resampling, rotation complete. Commencing flip and zarr assignment...\n"
     ]
    },
    {
     "name": "stderr",
     "output_type": "stream",
     "text": [
      "100%|██████████| 120/120 [00:06<00:00, 19.29it/s]\n"
     ]
    },
    {
     "name": "stdout",
     "output_type": "stream",
     "text": [
      "Processing chunk x:8154-11020, y:5177-6742, z:1433-1473\n"
     ]
    },
    {
     "name": "stderr",
     "output_type": "stream",
     "text": [
      "100%|██████████| 40/40 [00:44<00:00,  1.11s/it]\n"
     ]
    },
    {
     "name": "stdout",
     "output_type": "stream",
     "text": [
      "Data I/O, resampling, rotation complete. Commencing flip and zarr assignment...\n"
     ]
    },
    {
     "name": "stderr",
     "output_type": "stream",
     "text": [
      "100%|██████████| 120/120 [00:08<00:00, 13.44it/s]\n"
     ]
    },
    {
     "name": "stdout",
     "output_type": "stream",
     "text": [
      "Processing chunk x:8154-11020, y:5177-6742, z:1473-1513\n"
     ]
    },
    {
     "name": "stderr",
     "output_type": "stream",
     "text": [
      "100%|██████████| 40/40 [00:44<00:00,  1.11s/it]\n"
     ]
    },
    {
     "name": "stdout",
     "output_type": "stream",
     "text": [
      "Data I/O, resampling, rotation complete. Commencing flip and zarr assignment...\n"
     ]
    },
    {
     "name": "stderr",
     "output_type": "stream",
     "text": [
      "100%|██████████| 120/120 [00:12<00:00,  9.61it/s]\n"
     ]
    },
    {
     "name": "stdout",
     "output_type": "stream",
     "text": [
      "Processing chunk x:8154-11020, y:5177-6742, z:1513-1553\n"
     ]
    },
    {
     "name": "stderr",
     "output_type": "stream",
     "text": [
      "100%|██████████| 40/40 [00:44<00:00,  1.11s/it]\n"
     ]
    },
    {
     "name": "stdout",
     "output_type": "stream",
     "text": [
      "Data I/O, resampling, rotation complete. Commencing flip and zarr assignment...\n"
     ]
    },
    {
     "name": "stderr",
     "output_type": "stream",
     "text": [
      "100%|██████████| 120/120 [00:14<00:00,  8.44it/s]\n"
     ]
    },
    {
     "name": "stdout",
     "output_type": "stream",
     "text": [
      "Processing chunk x:8154-11020, y:5177-6742, z:1553-1593\n"
     ]
    },
    {
     "name": "stderr",
     "output_type": "stream",
     "text": [
      "100%|██████████| 40/40 [00:43<00:00,  1.09s/it]\n"
     ]
    },
    {
     "name": "stdout",
     "output_type": "stream",
     "text": [
      "Data I/O, resampling, rotation complete. Commencing flip and zarr assignment...\n"
     ]
    },
    {
     "name": "stderr",
     "output_type": "stream",
     "text": [
      "100%|██████████| 120/120 [00:02<00:00, 50.13it/s]\n"
     ]
    },
    {
     "name": "stdout",
     "output_type": "stream",
     "text": [
      "Processing chunk x:8154-11020, y:5177-6742, z:1593-1633\n"
     ]
    },
    {
     "name": "stderr",
     "output_type": "stream",
     "text": [
      "100%|██████████| 40/40 [00:43<00:00,  1.08s/it]\n"
     ]
    },
    {
     "name": "stdout",
     "output_type": "stream",
     "text": [
      "Data I/O, resampling, rotation complete. Commencing flip and zarr assignment...\n"
     ]
    },
    {
     "name": "stderr",
     "output_type": "stream",
     "text": [
      "100%|██████████| 120/120 [00:05<00:00, 20.22it/s]\n"
     ]
    },
    {
     "name": "stdout",
     "output_type": "stream",
     "text": [
      "Processing chunk x:8154-11020, y:5177-6742, z:1633-1673\n"
     ]
    },
    {
     "name": "stderr",
     "output_type": "stream",
     "text": [
      "100%|██████████| 40/40 [00:43<00:00,  1.08s/it]\n"
     ]
    },
    {
     "name": "stdout",
     "output_type": "stream",
     "text": [
      "Data I/O, resampling, rotation complete. Commencing flip and zarr assignment...\n"
     ]
    },
    {
     "name": "stderr",
     "output_type": "stream",
     "text": [
      "100%|██████████| 120/120 [00:09<00:00, 13.28it/s]\n"
     ]
    },
    {
     "name": "stdout",
     "output_type": "stream",
     "text": [
      "Processing chunk x:8154-11020, y:5177-6742, z:1673-1713\n"
     ]
    },
    {
     "name": "stderr",
     "output_type": "stream",
     "text": [
      "100%|██████████| 40/40 [00:42<00:00,  1.07s/it]\n"
     ]
    },
    {
     "name": "stdout",
     "output_type": "stream",
     "text": [
      "Data I/O, resampling, rotation complete. Commencing flip and zarr assignment...\n"
     ]
    },
    {
     "name": "stderr",
     "output_type": "stream",
     "text": [
      "100%|██████████| 120/120 [00:12<00:00,  9.62it/s]\n"
     ]
    },
    {
     "name": "stdout",
     "output_type": "stream",
     "text": [
      "Processing chunk x:8154-11020, y:5177-6742, z:1713-1753\n"
     ]
    },
    {
     "name": "stderr",
     "output_type": "stream",
     "text": [
      "100%|██████████| 40/40 [00:42<00:00,  1.07s/it]\n"
     ]
    },
    {
     "name": "stdout",
     "output_type": "stream",
     "text": [
      "Data I/O, resampling, rotation complete. Commencing flip and zarr assignment...\n"
     ]
    },
    {
     "name": "stderr",
     "output_type": "stream",
     "text": [
      "100%|██████████| 120/120 [00:14<00:00,  8.03it/s]"
     ]
    },
    {
     "name": "stdout",
     "output_type": "stream",
     "text": [
      "Processing chunk x:8154-11020, y:5177-6742, z:1753-1793\n"
     ]
    },
    {
     "name": "stderr",
     "output_type": "stream",
     "text": [
      "\n",
      "100%|██████████| 40/40 [00:43<00:00,  1.08s/it]\n"
     ]
    },
    {
     "name": "stdout",
     "output_type": "stream",
     "text": [
      "Data I/O, resampling, rotation complete. Commencing flip and zarr assignment...\n"
     ]
    },
    {
     "name": "stderr",
     "output_type": "stream",
     "text": [
      "100%|██████████| 120/120 [00:02<00:00, 54.10it/s]\n"
     ]
    },
    {
     "name": "stdout",
     "output_type": "stream",
     "text": [
      "Processing chunk x:8154-11020, y:5177-6742, z:1793-1833\n"
     ]
    },
    {
     "name": "stderr",
     "output_type": "stream",
     "text": [
      "100%|██████████| 40/40 [00:43<00:00,  1.09s/it]\n"
     ]
    },
    {
     "name": "stdout",
     "output_type": "stream",
     "text": [
      "Data I/O, resampling, rotation complete. Commencing flip and zarr assignment...\n"
     ]
    },
    {
     "name": "stderr",
     "output_type": "stream",
     "text": [
      "100%|██████████| 120/120 [00:05<00:00, 20.20it/s]\n"
     ]
    },
    {
     "name": "stdout",
     "output_type": "stream",
     "text": [
      "Processing chunk x:8154-11020, y:5177-6742, z:1833-1873\n"
     ]
    },
    {
     "name": "stderr",
     "output_type": "stream",
     "text": [
      "100%|██████████| 40/40 [00:43<00:00,  1.09s/it]\n"
     ]
    },
    {
     "name": "stdout",
     "output_type": "stream",
     "text": [
      "Data I/O, resampling, rotation complete. Commencing flip and zarr assignment...\n"
     ]
    },
    {
     "name": "stderr",
     "output_type": "stream",
     "text": [
      "100%|██████████| 120/120 [00:08<00:00, 13.94it/s]\n"
     ]
    },
    {
     "name": "stdout",
     "output_type": "stream",
     "text": [
      "Processing chunk x:8154-11020, y:5177-6742, z:1873-1913\n"
     ]
    },
    {
     "name": "stderr",
     "output_type": "stream",
     "text": [
      "100%|██████████| 40/40 [00:43<00:00,  1.10s/it]\n"
     ]
    },
    {
     "name": "stdout",
     "output_type": "stream",
     "text": [
      "Data I/O, resampling, rotation complete. Commencing flip and zarr assignment...\n"
     ]
    },
    {
     "name": "stderr",
     "output_type": "stream",
     "text": [
      "100%|██████████| 120/120 [00:11<00:00, 10.02it/s]\n"
     ]
    },
    {
     "name": "stdout",
     "output_type": "stream",
     "text": [
      "Processing chunk x:8154-11020, y:5177-6742, z:1913-1953\n"
     ]
    },
    {
     "name": "stderr",
     "output_type": "stream",
     "text": [
      "100%|██████████| 40/40 [00:45<00:00,  1.13s/it]\n"
     ]
    },
    {
     "name": "stdout",
     "output_type": "stream",
     "text": [
      "Data I/O, resampling, rotation complete. Commencing flip and zarr assignment...\n"
     ]
    },
    {
     "name": "stderr",
     "output_type": "stream",
     "text": [
      "100%|██████████| 120/120 [00:14<00:00,  8.07it/s]\n"
     ]
    },
    {
     "name": "stdout",
     "output_type": "stream",
     "text": [
      "Processing chunk x:8154-11020, y:5177-6742, z:1953-1993\n"
     ]
    },
    {
     "name": "stderr",
     "output_type": "stream",
     "text": [
      "100%|██████████| 40/40 [00:46<00:00,  2.23s/it]\n"
     ]
    },
    {
     "name": "stdout",
     "output_type": "stream",
     "text": [
      "Data I/O, resampling, rotation complete. Commencing flip and zarr assignment...\n"
     ]
    },
    {
     "name": "stderr",
     "output_type": "stream",
     "text": [
      "100%|██████████| 120/120 [00:02<00:00, 54.57it/s]\n"
     ]
    },
    {
     "name": "stdout",
     "output_type": "stream",
     "text": [
      "Processing chunk x:8154-11020, y:5177-6742, z:1993-2033\n"
     ]
    },
    {
     "name": "stderr",
     "output_type": "stream",
     "text": [
      "100%|██████████| 40/40 [00:47<00:00,  1.18s/it]\n"
     ]
    },
    {
     "name": "stdout",
     "output_type": "stream",
     "text": [
      "Data I/O, resampling, rotation complete. Commencing flip and zarr assignment...\n"
     ]
    },
    {
     "name": "stderr",
     "output_type": "stream",
     "text": [
      "100%|██████████| 120/120 [00:06<00:00, 18.92it/s]\n"
     ]
    },
    {
     "name": "stdout",
     "output_type": "stream",
     "text": [
      "Processing chunk x:8154-11020, y:5177-6742, z:2033-2073\n"
     ]
    },
    {
     "name": "stderr",
     "output_type": "stream",
     "text": [
      "100%|██████████| 40/40 [00:47<00:00,  1.19s/it]\n"
     ]
    },
    {
     "name": "stdout",
     "output_type": "stream",
     "text": [
      "Data I/O, resampling, rotation complete. Commencing flip and zarr assignment...\n"
     ]
    },
    {
     "name": "stderr",
     "output_type": "stream",
     "text": [
      "100%|██████████| 120/120 [00:09<00:00, 12.80it/s]\n"
     ]
    },
    {
     "name": "stdout",
     "output_type": "stream",
     "text": [
      "Processing chunk x:8154-11020, y:5177-6742, z:2073-2113\n"
     ]
    },
    {
     "name": "stderr",
     "output_type": "stream",
     "text": [
      "100%|██████████| 40/40 [00:50<00:00,  1.26s/it]\n"
     ]
    },
    {
     "name": "stdout",
     "output_type": "stream",
     "text": [
      "Data I/O, resampling, rotation complete. Commencing flip and zarr assignment...\n"
     ]
    },
    {
     "name": "stderr",
     "output_type": "stream",
     "text": [
      "100%|██████████| 120/120 [00:12<00:00,  9.43it/s]\n"
     ]
    },
    {
     "name": "stdout",
     "output_type": "stream",
     "text": [
      "Processing chunk x:8154-11020, y:5177-6742, z:2113-2153\n"
     ]
    },
    {
     "name": "stderr",
     "output_type": "stream",
     "text": [
      "100%|██████████| 40/40 [00:50<00:00,  1.26s/it]\n"
     ]
    },
    {
     "name": "stdout",
     "output_type": "stream",
     "text": [
      "Data I/O, resampling, rotation complete. Commencing flip and zarr assignment...\n"
     ]
    },
    {
     "name": "stderr",
     "output_type": "stream",
     "text": [
      "100%|██████████| 120/120 [00:15<00:00,  7.95it/s]\n"
     ]
    },
    {
     "name": "stdout",
     "output_type": "stream",
     "text": [
      "Processing chunk x:8154-11020, y:5177-6742, z:2153-2193\n"
     ]
    },
    {
     "name": "stderr",
     "output_type": "stream",
     "text": [
      "100%|██████████| 40/40 [00:48<00:00,  1.20s/it]\n"
     ]
    },
    {
     "name": "stdout",
     "output_type": "stream",
     "text": [
      "Data I/O, resampling, rotation complete. Commencing flip and zarr assignment...\n"
     ]
    },
    {
     "name": "stderr",
     "output_type": "stream",
     "text": [
      "100%|██████████| 120/120 [00:02<00:00, 52.16it/s]"
     ]
    },
    {
     "name": "stdout",
     "output_type": "stream",
     "text": [
      "Processing chunk x:8154-11020, y:5177-6742, z:2193-2233\n"
     ]
    },
    {
     "name": "stderr",
     "output_type": "stream",
     "text": [
      "\n",
      "100%|██████████| 40/40 [00:46<00:00,  1.17s/it]\n"
     ]
    },
    {
     "name": "stdout",
     "output_type": "stream",
     "text": [
      "Data I/O, resampling, rotation complete. Commencing flip and zarr assignment...\n"
     ]
    },
    {
     "name": "stderr",
     "output_type": "stream",
     "text": [
      "100%|██████████| 120/120 [00:06<00:00, 19.64it/s]\n"
     ]
    },
    {
     "name": "stdout",
     "output_type": "stream",
     "text": [
      "Processing chunk x:8154-11020, y:5177-6742, z:2233-2273\n"
     ]
    },
    {
     "name": "stderr",
     "output_type": "stream",
     "text": [
      "100%|██████████| 40/40 [00:46<00:00,  1.05it/s]\n"
     ]
    },
    {
     "name": "stdout",
     "output_type": "stream",
     "text": [
      "Data I/O, resampling, rotation complete. Commencing flip and zarr assignment...\n"
     ]
    },
    {
     "name": "stderr",
     "output_type": "stream",
     "text": [
      "100%|██████████| 120/120 [00:08<00:00, 13.38it/s]\n"
     ]
    },
    {
     "name": "stdout",
     "output_type": "stream",
     "text": [
      "Processing chunk x:8154-11020, y:5177-6742, z:2273-2313\n"
     ]
    },
    {
     "name": "stderr",
     "output_type": "stream",
     "text": [
      "100%|██████████| 40/40 [00:46<00:00,  1.15s/it]\n"
     ]
    },
    {
     "name": "stdout",
     "output_type": "stream",
     "text": [
      "Data I/O, resampling, rotation complete. Commencing flip and zarr assignment...\n"
     ]
    },
    {
     "name": "stderr",
     "output_type": "stream",
     "text": [
      "100%|██████████| 120/120 [00:12<00:00,  9.83it/s]\n"
     ]
    },
    {
     "name": "stdout",
     "output_type": "stream",
     "text": [
      "Processing chunk x:8154-11020, y:5177-6742, z:2313-2353\n"
     ]
    },
    {
     "name": "stderr",
     "output_type": "stream",
     "text": [
      "100%|██████████| 40/40 [00:47<00:00,  1.18s/it]\n"
     ]
    },
    {
     "name": "stdout",
     "output_type": "stream",
     "text": [
      "Data I/O, resampling, rotation complete. Commencing flip and zarr assignment...\n"
     ]
    },
    {
     "name": "stderr",
     "output_type": "stream",
     "text": [
      "100%|██████████| 120/120 [00:14<00:00,  8.37it/s]\n"
     ]
    },
    {
     "name": "stdout",
     "output_type": "stream",
     "text": [
      "Processing chunk x:8154-11020, y:5177-6742, z:2353-2393\n"
     ]
    },
    {
     "name": "stderr",
     "output_type": "stream",
     "text": [
      "100%|██████████| 40/40 [00:48<00:00,  1.20s/it]\n"
     ]
    },
    {
     "name": "stdout",
     "output_type": "stream",
     "text": [
      "Data I/O, resampling, rotation complete. Commencing flip and zarr assignment...\n"
     ]
    },
    {
     "name": "stderr",
     "output_type": "stream",
     "text": [
      "100%|██████████| 120/120 [00:02<00:00, 51.58it/s]\n"
     ]
    },
    {
     "name": "stdout",
     "output_type": "stream",
     "text": [
      "Processing chunk x:8154-11020, y:5177-6742, z:2393-2433\n"
     ]
    },
    {
     "name": "stderr",
     "output_type": "stream",
     "text": [
      "100%|██████████| 40/40 [00:47<00:00,  1.19s/it]\n"
     ]
    },
    {
     "name": "stdout",
     "output_type": "stream",
     "text": [
      "Data I/O, resampling, rotation complete. Commencing flip and zarr assignment...\n"
     ]
    },
    {
     "name": "stderr",
     "output_type": "stream",
     "text": [
      "100%|██████████| 120/120 [00:06<00:00, 19.84it/s]\n"
     ]
    },
    {
     "name": "stdout",
     "output_type": "stream",
     "text": [
      "Processing chunk x:8154-11020, y:5177-6742, z:2433-2473\n"
     ]
    },
    {
     "name": "stderr",
     "output_type": "stream",
     "text": [
      "100%|██████████| 40/40 [00:48<00:00,  1.20s/it]\n"
     ]
    },
    {
     "name": "stdout",
     "output_type": "stream",
     "text": [
      "Data I/O, resampling, rotation complete. Commencing flip and zarr assignment...\n"
     ]
    },
    {
     "name": "stderr",
     "output_type": "stream",
     "text": [
      "100%|██████████| 120/120 [00:09<00:00, 13.19it/s]\n"
     ]
    },
    {
     "name": "stdout",
     "output_type": "stream",
     "text": [
      "Processing chunk x:8154-11020, y:5177-6742, z:2473-2493\n"
     ]
    },
    {
     "name": "stderr",
     "output_type": "stream",
     "text": [
      "100%|██████████| 20/20 [00:24<00:00,  1.23s/it]\n"
     ]
    },
    {
     "name": "stdout",
     "output_type": "stream",
     "text": [
      "Data I/O, resampling, rotation complete. Commencing flip and zarr assignment...\n"
     ]
    },
    {
     "name": "stderr",
     "output_type": "stream",
     "text": [
      "100%|██████████| 120/120 [00:12<00:00,  9.50it/s]\n"
     ]
    },
    {
     "name": "stdout",
     "output_type": "stream",
     "text": [
      "2792.0615351200104 seconds elapsed\n"
     ]
    }
   ],
   "source": [
    "# 2\n",
    "\n",
    "slab_path = '/mnt/cephfs/general/juhyuk/15xdata/20220512_21_26_12_mEhmAD_2_abeta.lec.ptau/Ex_488_Em_1_destriped_stitched_tiffs'\n",
    "slab_zarr_path = bdir(name_prefix2+'.zarr')\n",
    "pc2_img_size = (22177,7817,5933)\n",
    "\n",
    "\n",
    "## Optional parameters \n",
    "load_num_slices = 40 # should be smaller than z chunk size, default None \n",
    "resample_num_slices = 1 # number of slices to be processed in one go for resampling, default 1\n",
    "resample_factor = (1,1) # original is (0.306,0.433,0.306)\n",
    "chunks = (200,200,200) \n",
    "num_workers = 20 \n",
    "file_names = 'img_[0-9]{4}.tiff' # default 'img_[0-9]{4}.tiff'\n",
    "\n",
    "## crop\n",
    "coord0s = [3600,0,553] # this is how much to add to coordinates \n",
    "# This is the range in the unflattened image, but cropped from original (calculated above)\n",
    "xrange = [4554,7420]; xrange = [xrange[k]+coord0s[0] for k in range(2)]\n",
    "yrange = [5177,6742]; yrange = [yrange[k]+coord0s[1] for k in range(2)]\n",
    "zrange = [0,1940]; zrange = [zrange[k]+coord0s[2] for k in range(2)]\n",
    "\n",
    "## rotate\n",
    "lateral_rotate_angle = None # default None\n",
    "\n",
    "## flip\n",
    "flip = (0,0,0) # default (0,0,0)\n",
    "\n",
    "\n",
    "#############\n",
    "start = time.time()\n",
    "utils.convert_to_zarr_v2(slab_path, slab_zarr_path, pc2_img_size, load_num_slices=load_num_slices,\n",
    "                        resample_num_slices=resample_num_slices, file_names=file_names, \n",
    "                        chunks=chunks, num_workers=num_workers, lateral_rotate_angle=lateral_rotate_angle,\n",
    "                        flip=flip, crop_xcoords=xrange, crop_ycoords=yrange, crop_zcoords=zrange,\n",
    "                        resample_factor=resample_factor)\n",
    "print(time.time()-start, 'seconds elapsed')"
   ]
  },
  {
   "cell_type": "markdown",
   "id": "88002f57",
   "metadata": {},
   "source": [
    "## Flatten warp the slabs\n",
    "\n",
    "[Return to top](#top)\n",
    "\n",
    "<a id='flattenwarp'></a>"
   ]
  },
  {
   "cell_type": "markdown",
   "id": "26679d1f",
   "metadata": {},
   "source": [
    "## Crop flattening grids"
   ]
  },
  {
   "cell_type": "markdown",
   "id": "c613cc07",
   "metadata": {},
   "source": [
    "### (3)"
   ]
  },
  {
   "cell_type": "code",
   "execution_count": 14,
   "id": "795b2b7d",
   "metadata": {},
   "outputs": [
    {
     "name": "stdout",
     "output_type": "stream",
     "text": [
      "New fixed image shape: (3093, 1808, 2953)\n",
      "New fixed range: x 4703 7796\n",
      "New fixed range: y 5744 7552\n",
      "New fixed range: z 2099 5052\n"
     ]
    }
   ],
   "source": [
    "# (3)\n",
    "grid_path = '/mnt/share3/webster/mEhmAD_1-3_real/warping_grids/3-lec_grid_flatten_upsampled.npy'\n",
    "original_shape = (16172,8004,5052)\n",
    "new_grid_spacing = 3*(64,) # doesn't matter if range_mode= 'moving'\n",
    "range_mode='moving'\n",
    "\n",
    "# We will compute  the grid spacing from the zarr specifically \n",
    "save_grid_path = '/mnt/share3/webster/mEhmAD_2-3/warping_grids/3-lec_grid_flatten_upsampled_cropped_abeta.npy'\n",
    "\n",
    "# these are the coordinates in original image of FOV\n",
    "xrange = [4814,7711]\n",
    "yrange = [5733,7350]\n",
    "zrange = [1874,4484]\n",
    "################\n",
    "grid_new,new_shape = crop_grid(grid_path, original_shape, new_grid_spacing, range_mode=range_mode, \n",
    "                         xrange=xrange, yrange=yrange, zrange=zrange, save_grid_path=save_grid_path)"
   ]
  },
  {
   "cell_type": "code",
   "execution_count": 21,
   "id": "68b62e54",
   "metadata": {},
   "outputs": [
    {
     "name": "stdout",
     "output_type": "stream",
     "text": [
      "(3093, 1808, 2953)\n",
      "Loading grid values...\n",
      "Warping image...\n",
      "Moving image size: 24.45282378 GB\n"
     ]
    },
    {
     "name": "stderr",
     "output_type": "stream",
     "text": [
      "100%|██████████| 2400/2400 [04:04<00:00,  9.83it/s]\n"
     ]
    },
    {
     "name": "stdout",
     "output_type": "stream",
     "text": [
      "Time elapsed: 7.714502 minutes\n"
     ]
    }
   ],
   "source": [
    "# 3\n",
    "fixed_zarr_path = new_shape\n",
    "moving_zarr_path = bdir(name_prefix+'.zarr')\n",
    "warped_zarr_path = bdir(name_prefix+'_flattened.zarr')\n",
    "\n",
    "\n",
    "# Parameters for TPS zarr warp\n",
    "grid_spacing = 3*(64,)\n",
    "chunks=3*(200,)\n",
    "nb_workers = 8\n",
    "\n",
    "\n",
    "# grid I/O \n",
    "save_grid_values_path = None\n",
    "use_grid_values_path = '/mnt/share3/webster/mEhmAD_2-3/warping_grids/3-lec_grid_flatten_upsampled_cropped_abeta.npy'\n",
    "\n",
    "\n",
    "\n",
    "\n",
    "##########################\n",
    "\n",
    "moving_pts_paths = None # doesn't actually matter for this \n",
    "fixed_pts_paths =  None\n",
    "\n",
    "# anchor parameters (using the surface on the other side and manually identified anchors on the cut surface)\n",
    "static_pts_paths = None\n",
    "# affine parameters \n",
    "R_path = None\n",
    "b_path = None\n",
    "zadd = fixed_zarr_path[2]-zarr.open(moving_zarr_path).shape[2]\n",
    "\n",
    "TPS_warp(moving_zarr_path, fixed_zarr_path, warped_zarr_path, moving_pts_paths, fixed_pts_paths,\n",
    "         static_pts_paths=static_pts_paths, R_path=R_path, b_path=b_path,\n",
    "          grid_spacing=grid_spacing, smooth=2, chunks=chunks,zadd=zadd,\n",
    "          nb_workers=nb_workers, padding=2, save_grid_values_path=save_grid_values_path, \n",
    "          show_residuals=True, use_grid_values_path=use_grid_values_path)\n",
    "\n",
    "# Convert zarr to tiff\n",
    "# tiff_path = warped_zarr_path[:-5]+'_tiffs'\n",
    "# convert_zarr_to_tiff(warped_zarr_path, tiff_path, num_workers=24)"
   ]
  },
  {
   "cell_type": "code",
   "execution_count": 3,
   "id": "261f0847",
   "metadata": {},
   "outputs": [
    {
     "name": "stdout",
     "output_type": "stream",
     "text": [
      "New fixed image shape: (3478, 2139, 2781)\n",
      "New fixed range: x 5346 8824\n",
      "New fixed range: y 5637 7776\n",
      "New fixed range: z 5886 8667\n"
     ]
    }
   ],
   "source": [
    "# (3) Now we lectin warp it as well \n",
    "grid_path = '/mnt/share3/webster/mEhmAD_1-3_real/warping_grids/grid_anchor_tps_r1_upsampled.npy'\n",
    "original_shape = (18100,8100,8732)\n",
    "new_grid_spacing = 3*(64,) # doesn't matter if range_mode= 'moving'\n",
    "range_mode='moving'\n",
    "\n",
    "# We will compute  the grid spacing from the zarr specifically \n",
    "save_grid_path = '/mnt/share3/webster/mEhmAD_2-3/warping_grids/3-grid_anchor_tps_r1_upsampled_cropped_abeta.npy'\n",
    "\n",
    "# these are the coordinates in flattened image FOV \n",
    "# computed when warping image earlier \n",
    "xrange = [4703,7796]\n",
    "yrange = [5744,7552]\n",
    "zrange = [2099,5052]\n",
    "\n",
    "\n",
    "################\n",
    "grid_new,new_shape = crop_grid(grid_path, original_shape, new_grid_spacing, range_mode=range_mode, \n",
    "                         xrange=xrange, yrange=yrange, zrange=zrange, save_grid_path=save_grid_path)"
   ]
  },
  {
   "cell_type": "markdown",
   "id": "301a6d18",
   "metadata": {},
   "source": [
    "### Coordinates\n",
    "New fixed range: x 5346 8824 <br>\n",
    "New fixed range: y 5637 7776<br>\n",
    "New fixed range: z 5886 8667<br>\n",
    "\n",
    "\n",
    "### coordinates of the PTAU cropped image\n",
    "xrange = [5759,8410]<br>\n",
    "yrange = [5981,7328]<br>\n",
    "zrange = [6300,8300]"
   ]
  },
  {
   "cell_type": "code",
   "execution_count": 5,
   "id": "21b2979a",
   "metadata": {
    "scrolled": true
   },
   "outputs": [
    {
     "name": "stdout",
     "output_type": "stream",
     "text": [
      "(3478, 2139, 2781)\n",
      "Loading grid values...\n",
      "Warping image...\n",
      "Moving image size: 33.027202464 GB\n"
     ]
    },
    {
     "name": "stderr",
     "output_type": "stream",
     "text": [
      "100%|██████████| 2772/2772 [04:22<00:00, 22.61it/s]\n"
     ]
    },
    {
     "name": "stdout",
     "output_type": "stream",
     "text": [
      "Time elapsed: 7.567562 minutes\n"
     ]
    }
   ],
   "source": [
    "# 3\n",
    "fixed_zarr_path = new_shape\n",
    "moving_zarr_path = bdir(name_prefix+'_flattened.zarr')\n",
    "warped_zarr_path = bdir(name_prefix+'_flattened_lectinwarp.zarr')\n",
    "\n",
    "\n",
    "# Parameters for TPS zarr warp\n",
    "grid_spacing = 3*(64,)\n",
    "chunks=3*(200,)\n",
    "nb_workers = 8\n",
    "\n",
    "\n",
    "# grid I/O \n",
    "save_grid_values_path = None\n",
    "use_grid_values_path = '/mnt/share3/webster/mEhmAD_2-3/warping_grids/3-grid_anchor_tps_r1_upsampled_cropped_abeta.npy'\n",
    "\n",
    "\n",
    "\n",
    "\n",
    "##########################\n",
    "\n",
    "moving_pts_paths = None # doesn't actually matter for this \n",
    "fixed_pts_paths =  None\n",
    "\n",
    "# anchor parameters (using the surface on the other side and manually identified anchors on the cut surface)\n",
    "static_pts_paths = None\n",
    "# affine parameters \n",
    "R_path = None\n",
    "b_path = None\n",
    "zadd = fixed_zarr_path[2]-zarr.open(moving_zarr_path).shape[2]\n",
    "\n",
    "TPS_warp(moving_zarr_path, fixed_zarr_path, warped_zarr_path, moving_pts_paths, fixed_pts_paths,\n",
    "         static_pts_paths=static_pts_paths, R_path=R_path, b_path=b_path,\n",
    "          grid_spacing=grid_spacing, smooth=2, chunks=chunks,zadd=zadd,\n",
    "          nb_workers=nb_workers, padding=2, save_grid_values_path=save_grid_values_path, \n",
    "          show_residuals=True, use_grid_values_path=use_grid_values_path)\n",
    "\n",
    "# Convert zarr to tiff\n",
    "# tiff_path = warped_zarr_path[:-5]+'_tiffs'\n",
    "# convert_zarr_to_tiff(warped_zarr_path, tiff_path, num_workers=24)"
   ]
  },
  {
   "cell_type": "code",
   "execution_count": 6,
   "id": "9191ec80",
   "metadata": {
    "scrolled": true
   },
   "outputs": [
    {
     "name": "stdout",
     "output_type": "stream",
     "text": [
      "Processing chunk x:413-3064, y:344-1691, z:414-614\n"
     ]
    },
    {
     "name": "stderr",
     "output_type": "stream",
     "text": [
      "100%|██████████| 98/98 [00:37<00:00,  2.61it/s]\n",
      "100%|██████████| 98/98 [00:06<00:00, 15.94it/s]\n"
     ]
    },
    {
     "name": "stdout",
     "output_type": "stream",
     "text": [
      "Processing chunk x:413-3064, y:344-1691, z:614-814\n"
     ]
    },
    {
     "name": "stderr",
     "output_type": "stream",
     "text": [
      "100%|██████████| 98/98 [00:39<00:00,  2.47it/s]\n",
      "100%|██████████| 98/98 [00:06<00:00, 15.97it/s]\n"
     ]
    },
    {
     "name": "stdout",
     "output_type": "stream",
     "text": [
      "Processing chunk x:413-3064, y:344-1691, z:814-1014\n"
     ]
    },
    {
     "name": "stderr",
     "output_type": "stream",
     "text": [
      "100%|██████████| 98/98 [00:40<00:00,  2.44it/s]\n",
      "100%|██████████| 98/98 [00:06<00:00, 16.13it/s]\n"
     ]
    },
    {
     "name": "stdout",
     "output_type": "stream",
     "text": [
      "Processing chunk x:413-3064, y:344-1691, z:1014-1214\n"
     ]
    },
    {
     "name": "stderr",
     "output_type": "stream",
     "text": [
      "100%|██████████| 98/98 [00:38<00:00,  2.55it/s]\n",
      "100%|██████████| 98/98 [00:06<00:00, 15.50it/s]\n"
     ]
    },
    {
     "name": "stdout",
     "output_type": "stream",
     "text": [
      "Processing chunk x:413-3064, y:344-1691, z:1214-1414\n"
     ]
    },
    {
     "name": "stderr",
     "output_type": "stream",
     "text": [
      "100%|██████████| 98/98 [00:38<00:00,  2.54it/s]\n",
      "100%|██████████| 98/98 [00:06<00:00, 15.39it/s]\n"
     ]
    },
    {
     "name": "stdout",
     "output_type": "stream",
     "text": [
      "Processing chunk x:413-3064, y:344-1691, z:1414-1614\n"
     ]
    },
    {
     "name": "stderr",
     "output_type": "stream",
     "text": [
      "100%|██████████| 98/98 [00:42<00:00,  2.30it/s]\n",
      "100%|██████████| 98/98 [00:06<00:00, 15.19it/s]\n"
     ]
    },
    {
     "name": "stdout",
     "output_type": "stream",
     "text": [
      "Processing chunk x:413-3064, y:344-1691, z:1614-1814\n"
     ]
    },
    {
     "name": "stderr",
     "output_type": "stream",
     "text": [
      "100%|██████████| 98/98 [00:40<00:00,  2.45it/s]\n",
      "100%|██████████| 98/98 [00:06<00:00, 14.96it/s]\n"
     ]
    },
    {
     "name": "stdout",
     "output_type": "stream",
     "text": [
      "Processing chunk x:413-3064, y:344-1691, z:1814-2014\n"
     ]
    },
    {
     "name": "stderr",
     "output_type": "stream",
     "text": [
      "100%|██████████| 98/98 [00:39<00:00,  2.46it/s]\n",
      "100%|██████████| 98/98 [00:06<00:00, 15.18it/s]\n"
     ]
    },
    {
     "name": "stdout",
     "output_type": "stream",
     "text": [
      "Processing chunk x:413-3064, y:344-1691, z:2014-2214\n"
     ]
    },
    {
     "name": "stderr",
     "output_type": "stream",
     "text": [
      "100%|██████████| 98/98 [00:39<00:00,  2.49it/s]\n",
      "100%|██████████| 98/98 [00:05<00:00, 18.55it/s]\n"
     ]
    },
    {
     "name": "stdout",
     "output_type": "stream",
     "text": [
      "Processing chunk x:413-3064, y:344-1691, z:2214-2414\n"
     ]
    },
    {
     "name": "stderr",
     "output_type": "stream",
     "text": [
      "100%|██████████| 98/98 [00:37<00:00,  2.62it/s]\n",
      "100%|██████████| 98/98 [00:05<00:00, 18.31it/s]\n"
     ]
    }
   ],
   "source": [
    "# recrop image to be correct size \n",
    "\n",
    "# We need to crop the flattened to be the same size as the ptau flattened zarr to be warped\n",
    "    \n",
    "# bounding box of moving in flat frame\n",
    "xrange = [5759-5346,8410-5346]\n",
    "yrange = [5981-5637,7328-5637]\n",
    "zrange = [6300-5886,8300-5886]\n",
    "num_workers = 24\n",
    "source_zarr_path = bdir(name_prefix+'_flattened_lectinwarp.zarr')\n",
    "sink_zarr_path = bdir(name_prefix+'_flattened_lectinwarp_recropped.zarr')\n",
    "\n",
    "\n",
    "\n",
    "###############\n",
    "crop_zarr(source_zarr_path, sink_zarr_path, xrange=xrange, yrange=yrange, zrange=zrange, \n",
    "          load_num_slices=None, num_workers=num_workers)"
   ]
  },
  {
   "cell_type": "code",
   "execution_count": 7,
   "id": "41807288",
   "metadata": {},
   "outputs": [
    {
     "name": "stdout",
     "output_type": "stream",
     "text": [
      "Loading z 0 - 200\n"
     ]
    },
    {
     "name": "stderr",
     "output_type": "stream",
     "text": [
      "100%|██████████| 98/98 [00:07<00:00, 12.67it/s]\n",
      "100%|██████████| 200/200 [00:17<00:00, 11.75it/s]\n"
     ]
    },
    {
     "name": "stdout",
     "output_type": "stream",
     "text": [
      "Loading z 200 - 400\n"
     ]
    },
    {
     "name": "stderr",
     "output_type": "stream",
     "text": [
      "100%|██████████| 98/98 [00:07<00:00, 13.68it/s]\n",
      "100%|██████████| 200/200 [00:15<00:00, 12.68it/s]\n"
     ]
    },
    {
     "name": "stdout",
     "output_type": "stream",
     "text": [
      "Loading z 400 - 600\n"
     ]
    },
    {
     "name": "stderr",
     "output_type": "stream",
     "text": [
      "100%|██████████| 98/98 [00:07<00:00, 12.76it/s]\n",
      "100%|██████████| 200/200 [00:16<00:00, 12.44it/s]\n"
     ]
    },
    {
     "name": "stdout",
     "output_type": "stream",
     "text": [
      "Loading z 600 - 800\n"
     ]
    },
    {
     "name": "stderr",
     "output_type": "stream",
     "text": [
      "100%|██████████| 98/98 [00:06<00:00, 14.36it/s]\n",
      "100%|██████████| 200/200 [00:15<00:00, 12.54it/s]\n"
     ]
    },
    {
     "name": "stdout",
     "output_type": "stream",
     "text": [
      "Loading z 800 - 1000\n"
     ]
    },
    {
     "name": "stderr",
     "output_type": "stream",
     "text": [
      "100%|██████████| 98/98 [00:07<00:00, 13.71it/s]\n",
      "100%|██████████| 200/200 [00:15<00:00, 12.60it/s]\n"
     ]
    },
    {
     "name": "stdout",
     "output_type": "stream",
     "text": [
      "Loading z 1000 - 1200\n"
     ]
    },
    {
     "name": "stderr",
     "output_type": "stream",
     "text": [
      "100%|██████████| 98/98 [00:07<00:00, 12.88it/s]\n",
      "100%|██████████| 200/200 [00:15<00:00, 12.65it/s]\n"
     ]
    },
    {
     "name": "stdout",
     "output_type": "stream",
     "text": [
      "Loading z 1200 - 1400\n"
     ]
    },
    {
     "name": "stderr",
     "output_type": "stream",
     "text": [
      "100%|██████████| 98/98 [00:07<00:00, 13.27it/s]\n",
      "100%|██████████| 200/200 [00:15<00:00, 13.27it/s]\n"
     ]
    },
    {
     "name": "stdout",
     "output_type": "stream",
     "text": [
      "Loading z 1400 - 1600\n"
     ]
    },
    {
     "name": "stderr",
     "output_type": "stream",
     "text": [
      "100%|██████████| 98/98 [00:06<00:00, 14.62it/s]\n",
      "100%|██████████| 200/200 [00:15<00:00, 12.52it/s]\n"
     ]
    },
    {
     "name": "stdout",
     "output_type": "stream",
     "text": [
      "Loading z 1600 - 1800\n"
     ]
    },
    {
     "name": "stderr",
     "output_type": "stream",
     "text": [
      "100%|██████████| 98/98 [00:06<00:00, 15.80it/s]\n",
      "100%|██████████| 200/200 [00:16<00:00, 11.91it/s]\n"
     ]
    },
    {
     "name": "stdout",
     "output_type": "stream",
     "text": [
      "Loading z 1800 - 2000\n"
     ]
    },
    {
     "name": "stderr",
     "output_type": "stream",
     "text": [
      "100%|██████████| 98/98 [00:07<00:00, 13.87it/s]\n",
      "100%|██████████| 200/200 [00:17<00:00, 11.47it/s]\n"
     ]
    }
   ],
   "source": [
    "tiff_path = sink_zarr_path[:-5]+'_tiffs'\n",
    "convert_zarr_to_tiff(sink_zarr_path, tiff_path, num_workers=24)"
   ]
  },
  {
   "cell_type": "markdown",
   "id": "36d1da25",
   "metadata": {},
   "source": [
    "### (2)"
   ]
  },
  {
   "cell_type": "code",
   "execution_count": 9,
   "id": "3c8e57e8",
   "metadata": {},
   "outputs": [
    {
     "name": "stdout",
     "output_type": "stream",
     "text": [
      "New fixed image shape: (2959, 1744, 2010)\n",
      "New fixed range: x 4501 7460\n",
      "New fixed range: y 5103 6847\n",
      "New fixed range: z 129 2139\n"
     ]
    }
   ],
   "source": [
    "# (2)\n",
    "grid_path = '/mnt/share3/webster/mEhmAD_2-3/warping_grids/2-lec_grid_flatten_upsampled.npy'\n",
    "original_shape = (16400,7816,5380)\n",
    "new_grid_spacing = 3*(64,) # doesn't matter if range_mode= 'moving'\n",
    "range_mode='moving'\n",
    "\n",
    "# We will compute  the grid spacing from the zarr specifically \n",
    "save_grid_path = '/mnt/share3/webster/mEhmAD_2-3/warping_grids/2-lec_grid_flatten_upsampled_cropped_abeta.npy'\n",
    "\n",
    "# these are the coordinates in original image of FOV\n",
    "xrange = [4554,7420]\n",
    "yrange = [5177,6742]\n",
    "zrange = [0,1940]\n",
    "\n",
    "################\n",
    "grid_new,new_shape = crop_grid(grid_path, original_shape, new_grid_spacing, range_mode=range_mode, \n",
    "                         xrange=xrange, yrange=yrange, zrange=zrange, save_grid_path=save_grid_path)"
   ]
  },
  {
   "cell_type": "code",
   "execution_count": 10,
   "id": "676ac861",
   "metadata": {},
   "outputs": [
    {
     "name": "stdout",
     "output_type": "stream",
     "text": [
      "(2959, 1744, 2010)\n",
      "Loading grid values...\n",
      "Warping image...\n",
      "Moving image size: 17.4029252 GB\n"
     ]
    },
    {
     "name": "stderr",
     "output_type": "stream",
     "text": [
      "100%|██████████| 1485/1485 [02:41<00:00,  9.17it/s]\n"
     ]
    },
    {
     "name": "stdout",
     "output_type": "stream",
     "text": [
      "Time elapsed: 4.939342 minutes\n"
     ]
    }
   ],
   "source": [
    "# 2\n",
    "fixed_zarr_path = new_shape\n",
    "moving_zarr_path = bdir(name_prefix2+'.zarr')\n",
    "warped_zarr_path = bdir(name_prefix2+'_flattened.zarr')\n",
    "\n",
    "\n",
    "# Parameters for TPS zarr warp\n",
    "grid_spacing = 3*(64,)\n",
    "chunks=3*(200,)\n",
    "nb_workers = 8\n",
    "\n",
    "\n",
    "# grid I/O \n",
    "save_grid_values_path = None\n",
    "use_grid_values_path = '/mnt/share3/webster/mEhmAD_2-3/warping_grids/2-lec_grid_flatten_upsampled_cropped_abeta.npy'\n",
    "\n",
    "\n",
    "\n",
    "\n",
    "##########################\n",
    "\n",
    "moving_pts_paths = None # doesn't actually matter for this \n",
    "fixed_pts_paths =  None\n",
    "\n",
    "# anchor parameters (using the surface on the other side and manually identified anchors on the cut surface)\n",
    "static_pts_paths = None\n",
    "# affine parameters \n",
    "R_path = None\n",
    "b_path = None\n",
    "zadd = fixed_zarr_path[2]-zarr.open(moving_zarr_path).shape[2]\n",
    "\n",
    "TPS_warp(moving_zarr_path, fixed_zarr_path, warped_zarr_path, moving_pts_paths, fixed_pts_paths,\n",
    "         static_pts_paths=static_pts_paths, R_path=R_path, b_path=b_path,\n",
    "          grid_spacing=grid_spacing, smooth=2, chunks=chunks,zadd=zadd,\n",
    "          nb_workers=nb_workers, padding=2, save_grid_values_path=save_grid_values_path, \n",
    "          show_residuals=True, use_grid_values_path=use_grid_values_path)\n",
    "\n",
    "# Convert zarr to tiff\n",
    "# tiff_path = warped_zarr_path[:-5]+'_tiffs'\n",
    "# convert_zarr_to_tiff(warped_zarr_path, tiff_path, num_workers=24)"
   ]
  },
  {
   "cell_type": "markdown",
   "id": "d65cdf9f",
   "metadata": {},
   "source": [
    "## TPS warp using ptau grid\n",
    "\n",
    "[Return to top](#top)\n",
    "\n",
    "<a id='anchorwarp'></a>"
   ]
  },
  {
   "cell_type": "markdown",
   "id": "2555a85a",
   "metadata": {},
   "source": [
    "New fixed range: x 4501 7460<br>\n",
    "New fixed range: y 5103 6847<br>\n",
    "New fixed range: z 129 2139<br>\n",
    "    \n",
    "### These are the coordinates of the original \n",
    "xrange = [4545,7353]<br>\n",
    "yrange = [5226,6718]<br>\n",
    "zrange = [0,2000]<br>\n"
   ]
  },
  {
   "cell_type": "code",
   "execution_count": 11,
   "id": "7d742c1c",
   "metadata": {
    "scrolled": true
   },
   "outputs": [
    {
     "name": "stdout",
     "output_type": "stream",
     "text": [
      "Processing chunk x:44-2852, y:123-1615, z:0-200\n"
     ]
    },
    {
     "name": "stderr",
     "output_type": "stream",
     "text": [
      "100%|██████████| 120/120 [00:07<00:00, 16.06it/s]\n",
      "100%|██████████| 120/120 [00:02<00:00, 44.32it/s]\n"
     ]
    },
    {
     "name": "stdout",
     "output_type": "stream",
     "text": [
      "Processing chunk x:44-2852, y:123-1615, z:200-400\n"
     ]
    },
    {
     "name": "stderr",
     "output_type": "stream",
     "text": [
      "100%|██████████| 120/120 [00:18<00:00,  6.61it/s]\n",
      "100%|██████████| 120/120 [00:07<00:00, 15.77it/s]\n"
     ]
    },
    {
     "name": "stdout",
     "output_type": "stream",
     "text": [
      "Processing chunk x:44-2852, y:123-1615, z:400-600\n"
     ]
    },
    {
     "name": "stderr",
     "output_type": "stream",
     "text": [
      "100%|██████████| 120/120 [00:19<00:00,  6.03it/s]\n",
      "100%|██████████| 120/120 [00:07<00:00, 15.09it/s]\n"
     ]
    },
    {
     "name": "stdout",
     "output_type": "stream",
     "text": [
      "Processing chunk x:44-2852, y:123-1615, z:600-800\n"
     ]
    },
    {
     "name": "stderr",
     "output_type": "stream",
     "text": [
      "100%|██████████| 120/120 [00:21<00:00,  5.48it/s]\n",
      "100%|██████████| 120/120 [00:07<00:00, 15.16it/s]\n"
     ]
    },
    {
     "name": "stdout",
     "output_type": "stream",
     "text": [
      "Processing chunk x:44-2852, y:123-1615, z:800-1000\n"
     ]
    },
    {
     "name": "stderr",
     "output_type": "stream",
     "text": [
      "100%|██████████| 120/120 [00:21<00:00,  5.57it/s]\n",
      "100%|██████████| 120/120 [00:07<00:00, 15.61it/s]\n"
     ]
    },
    {
     "name": "stdout",
     "output_type": "stream",
     "text": [
      "Processing chunk x:44-2852, y:123-1615, z:1000-1200\n"
     ]
    },
    {
     "name": "stderr",
     "output_type": "stream",
     "text": [
      "100%|██████████| 120/120 [00:21<00:00,  5.48it/s]\n",
      "100%|██████████| 120/120 [00:07<00:00, 15.66it/s]\n"
     ]
    },
    {
     "name": "stdout",
     "output_type": "stream",
     "text": [
      "Processing chunk x:44-2852, y:123-1615, z:1200-1400\n"
     ]
    },
    {
     "name": "stderr",
     "output_type": "stream",
     "text": [
      "100%|██████████| 120/120 [00:21<00:00,  5.57it/s]\n",
      "100%|██████████| 120/120 [00:08<00:00, 14.58it/s]\n"
     ]
    },
    {
     "name": "stdout",
     "output_type": "stream",
     "text": [
      "Processing chunk x:44-2852, y:123-1615, z:1400-1600\n"
     ]
    },
    {
     "name": "stderr",
     "output_type": "stream",
     "text": [
      "100%|██████████| 120/120 [00:22<00:00,  5.30it/s]\n",
      "100%|██████████| 120/120 [00:07<00:00, 15.49it/s]\n"
     ]
    },
    {
     "name": "stdout",
     "output_type": "stream",
     "text": [
      "Processing chunk x:44-2852, y:123-1615, z:1600-1800\n"
     ]
    },
    {
     "name": "stderr",
     "output_type": "stream",
     "text": [
      "100%|██████████| 120/120 [00:21<00:00,  5.64it/s]\n",
      "100%|██████████| 120/120 [00:07<00:00, 15.53it/s]\n"
     ]
    },
    {
     "name": "stdout",
     "output_type": "stream",
     "text": [
      "Processing chunk x:44-2852, y:123-1615, z:1800-1871\n"
     ]
    },
    {
     "name": "stderr",
     "output_type": "stream",
     "text": [
      "100%|██████████| 120/120 [00:16<00:00,  7.25it/s]\n",
      "100%|██████████| 120/120 [00:03<00:00, 36.66it/s]\n"
     ]
    }
   ],
   "source": [
    "# We need to crop the flattened to be the same size as the ptau flattened zarr to be warped\n",
    "\n",
    "# bounding box of moving in flat frame\n",
    "xrange = [4545-4501,7353-4501]\n",
    "yrange = [5226-5103,6718-5103]\n",
    "zrange = [0,2000-129]\n",
    "num_workers = 24\n",
    "source_zarr_path = bdir(name_prefix2+'_flattened.zarr')\n",
    "sink_zarr_path = bdir(name_prefix2+'_flattened_recropped.zarr')\n",
    "\n",
    "\n",
    "\n",
    "###############\n",
    "crop_zarr(source_zarr_path, sink_zarr_path, xrange=xrange, yrange=yrange, zrange=zrange, \n",
    "          load_num_slices=None, num_workers=num_workers)"
   ]
  },
  {
   "cell_type": "code",
   "execution_count": 12,
   "id": "988c508e",
   "metadata": {},
   "outputs": [
    {
     "name": "stdout",
     "output_type": "stream",
     "text": [
      "New fixed image shape: (2651, 1347, 1822)\n",
      "New fixed range: x 0 2651\n",
      "New fixed range: y 0 1347\n",
      "New fixed range: z 0 1822\n"
     ]
    }
   ],
   "source": [
    "# (2)\n",
    "grid_path = '/mnt/share3/webster/mEhmAD_2-3/warping_grids/grid_ptauwarp_cropped_r2.npy'\n",
    "original_shape = (2651, 1347, 2000)\n",
    "new_grid_spacing = 3*(64,) # doesn't matter if range_mode= 'moving'\n",
    "range_mode='moving'\n",
    "\n",
    "# We will compute  the grid spacing from the zarr specifically \n",
    "save_grid_path = '/mnt/share3/webster/mEhmAD_2-3/warping_grids/grid_ptauwarp_cropped_r2_abeta.npy'\n",
    "\n",
    "# these are the coordinates in original image of FOV\n",
    "xrange = [0,2808]\n",
    "yrange = [0,1492]\n",
    "zrange = [129,2000]\n",
    "\n",
    "################\n",
    "grid_new,new_shape = crop_grid(grid_path, original_shape, new_grid_spacing, range_mode=range_mode, \n",
    "                         xrange=xrange, yrange=yrange, zrange=zrange, save_grid_path=save_grid_path)"
   ]
  },
  {
   "cell_type": "code",
   "execution_count": 13,
   "id": "03b87585",
   "metadata": {
    "scrolled": true
   },
   "outputs": [
    {
     "name": "stdout",
     "output_type": "stream",
     "text": [
      "(2651, 1347, 1822)\n",
      "Loading grid values...\n",
      "Warping image...\n",
      "Moving image size: 15.677243712 GB\n"
     ]
    },
    {
     "name": "stderr",
     "output_type": "stream",
     "text": [
      "100%|██████████| 980/980 [01:58<00:00,  8.26it/s]\n"
     ]
    },
    {
     "name": "stdout",
     "output_type": "stream",
     "text": [
      "Time elapsed: 4.015730 minutes\n",
      "Loading z 0 - 200\n"
     ]
    },
    {
     "name": "stderr",
     "output_type": "stream",
     "text": [
      "100%|██████████| 98/98 [00:04<00:00, 20.43it/s]\n",
      "100%|██████████| 200/200 [00:23<00:00,  8.56it/s]\n"
     ]
    },
    {
     "name": "stdout",
     "output_type": "stream",
     "text": [
      "Loading z 200 - 400\n"
     ]
    },
    {
     "name": "stderr",
     "output_type": "stream",
     "text": [
      "100%|██████████| 98/98 [00:04<00:00, 21.50it/s]\n",
      "100%|██████████| 200/200 [00:22<00:00,  9.02it/s]\n"
     ]
    },
    {
     "name": "stdout",
     "output_type": "stream",
     "text": [
      "Loading z 400 - 600\n"
     ]
    },
    {
     "name": "stderr",
     "output_type": "stream",
     "text": [
      "100%|██████████| 98/98 [00:06<00:00, 16.08it/s]\n",
      "100%|██████████| 200/200 [00:20<00:00,  9.70it/s]\n"
     ]
    },
    {
     "name": "stdout",
     "output_type": "stream",
     "text": [
      "Loading z 600 - 800\n"
     ]
    },
    {
     "name": "stderr",
     "output_type": "stream",
     "text": [
      "100%|██████████| 98/98 [00:07<00:00, 13.83it/s]\n",
      "100%|██████████| 200/200 [00:21<00:00,  9.18it/s]\n"
     ]
    },
    {
     "name": "stdout",
     "output_type": "stream",
     "text": [
      "Loading z 800 - 1000\n"
     ]
    },
    {
     "name": "stderr",
     "output_type": "stream",
     "text": [
      "100%|██████████| 98/98 [00:07<00:00, 13.05it/s]\n",
      "100%|██████████| 200/200 [00:23<00:00,  8.57it/s]\n"
     ]
    },
    {
     "name": "stdout",
     "output_type": "stream",
     "text": [
      "Loading z 1000 - 1200\n"
     ]
    },
    {
     "name": "stderr",
     "output_type": "stream",
     "text": [
      "100%|██████████| 98/98 [00:07<00:00, 13.88it/s]\n",
      "100%|██████████| 200/200 [00:21<00:00,  9.11it/s]\n"
     ]
    },
    {
     "name": "stdout",
     "output_type": "stream",
     "text": [
      "Loading z 1200 - 1400\n"
     ]
    },
    {
     "name": "stderr",
     "output_type": "stream",
     "text": [
      "100%|██████████| 98/98 [00:06<00:00, 14.38it/s]\n",
      "100%|██████████| 200/200 [00:23<00:00,  8.62it/s]\n"
     ]
    },
    {
     "name": "stdout",
     "output_type": "stream",
     "text": [
      "Loading z 1400 - 1600\n"
     ]
    },
    {
     "name": "stderr",
     "output_type": "stream",
     "text": [
      "100%|██████████| 98/98 [00:07<00:00, 13.31it/s]\n",
      "100%|██████████| 200/200 [00:19<00:00,  8.29it/s]\n"
     ]
    },
    {
     "name": "stdout",
     "output_type": "stream",
     "text": [
      "Loading z 1600 - 1800\n"
     ]
    },
    {
     "name": "stderr",
     "output_type": "stream",
     "text": [
      "100%|██████████| 98/98 [00:07<00:00, 13.21it/s]\n",
      "100%|██████████| 200/200 [00:22<00:00,  8.85it/s]\n"
     ]
    },
    {
     "name": "stdout",
     "output_type": "stream",
     "text": [
      "Loading z 1800 - 1822\n"
     ]
    },
    {
     "name": "stderr",
     "output_type": "stream",
     "text": [
      "100%|██████████| 98/98 [00:04<00:00, 21.45it/s]\n",
      "100%|██████████| 22/22 [00:02<00:00,  8.39it/s]\n"
     ]
    }
   ],
   "source": [
    "# 2\n",
    "fixed_zarr_path = new_shape #(2651, 1347, 2000)\n",
    "moving_zarr_path = bdir(name_prefix2+'_flattened_recropped.zarr')\n",
    "warped_zarr_path = bdir(name_prefix2+'_flattened_recropped_ptauwarp_r2.zarr')\n",
    "\n",
    "\n",
    "# Parameters for TPS zarr warp\n",
    "grid_spacing = 3*(16,)\n",
    "chunks=3*(200,)\n",
    "nb_workers = 8\n",
    "\n",
    "\n",
    "# grid I/O \n",
    "save_grid_values_path = None\n",
    "use_grid_values_path = '/mnt/share3/webster/mEhmAD_2-3/warping_grids/grid_ptauwarp_cropped_r2_abeta.npy'\n",
    "\n",
    "\n",
    "\n",
    "\n",
    "##########################\n",
    "\n",
    "moving_pts_paths = None # doesn't actually matter for this \n",
    "fixed_pts_paths =  None\n",
    "\n",
    "# anchor parameters (using the surface on the other side and manually identified anchors on the cut surface)\n",
    "static_pts_paths = None\n",
    "# affine parameters \n",
    "R_path = None\n",
    "b_path = None\n",
    "zadd = fixed_zarr_path[2]-zarr.open(moving_zarr_path).shape[2]\n",
    "\n",
    "TPS_warp(moving_zarr_path, fixed_zarr_path, warped_zarr_path, moving_pts_paths, fixed_pts_paths,\n",
    "         static_pts_paths=static_pts_paths, R_path=R_path, b_path=b_path,\n",
    "          grid_spacing=grid_spacing, smooth=2, chunks=chunks,zadd=zadd,\n",
    "          nb_workers=nb_workers, padding=2, save_grid_values_path=save_grid_values_path, \n",
    "          show_residuals=True, use_grid_values_path=use_grid_values_path)\n",
    "\n",
    "# Convert zarr to tiff\n",
    "tiff_path = warped_zarr_path[:-5]+'_tiffs'\n",
    "convert_zarr_to_tiff(warped_zarr_path, tiff_path, num_workers=24)"
   ]
  },
  {
   "cell_type": "code",
   "execution_count": null,
   "id": "575f7a1b",
   "metadata": {},
   "outputs": [],
   "source": []
  }
 ],
 "metadata": {
  "kernelspec": {
   "display_name": "Python (hubris)",
   "language": "python",
   "name": "hubris"
  },
  "language_info": {
   "codemirror_mode": {
    "name": "ipython",
    "version": 3
   },
   "file_extension": ".py",
   "mimetype": "text/x-python",
   "name": "python",
   "nbconvert_exporter": "python",
   "pygments_lexer": "ipython3",
   "version": "3.6.8"
  }
 },
 "nbformat": 4,
 "nbformat_minor": 5
}

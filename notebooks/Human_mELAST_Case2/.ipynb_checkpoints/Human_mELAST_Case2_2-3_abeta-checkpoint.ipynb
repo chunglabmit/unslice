{
 "cells": [
  {
   "cell_type": "markdown",
   "id": "fc3a800b",
   "metadata": {},
   "source": [
    "<a id='top'></a>"
   ]
  },
  {
   "cell_type": "code",
   "execution_count": 1,
   "id": "03b30fbf",
   "metadata": {},
   "outputs": [],
   "source": [
    "# Ignore warnings\n",
    "import warnings\n",
    "warnings.filterwarnings('ignore')\n",
    "\n",
    "\n",
    "# %matplotlib nbagg \n",
    "%matplotlib notebook\n",
    "# %matplotlib inline\n",
    "\n",
    "\n",
    "\n",
    "## Third party \n",
    "import numpy as np\n",
    "import os, time, zarr, sys\n",
    "from tqdm import tqdm_notebook as tqdm\n",
    "import matplotlib.pyplot as plt\n",
    "import matplotlib as mpl\n",
    "\n",
    "import unslice.IO as io\n",
    "from unslice.utils import *\n",
    "from unslice.registration.featmatch import *\n",
    "from unslice.registration.transform import *\n",
    "from unslice.registration.rigid import *\n",
    "from unslice.registration.gpu_transform import *\n",
    "from unslice.registration.utils import *\n",
    "from unslice.segmentation import *\n",
    "from unslice.tracing.pyoof import OOF, apply_oof_v2\n",
    "from unslice.tracing.skel import *\n",
    "from unslice.flatten import *\n",
    "from unslice.lightsheetcorrect import *\n",
    "\n",
    "\n"
   ]
  },
  {
   "cell_type": "code",
   "execution_count": 2,
   "id": "0acac20e",
   "metadata": {},
   "outputs": [],
   "source": [
    "# Parameters that are constant throughout notebook\n",
    "working_dir = '/mnt/share3/webster/mEhmAD_2-3'\n",
    "\n",
    "def bdir(fname):\n",
    "    return os.path.join(working_dir, fname)\n",
    "\n",
    "# prefix to add to the beginning of each filename \n",
    "name_prefix2 = '2-abeta_4x'"
   ]
  },
  {
   "cell_type": "markdown",
   "id": "25ed9167",
   "metadata": {},
   "source": [
    "# Table of contents\n",
    "\n",
    "### Pre-processing\n",
    "[1. Convert to zarr](#convert)<br>\n",
    "[2. Flatten warp](#flattenwarp)<br>\n",
    "[3. Lectin warp](#anchorwarp)<br>\n",
    "\n",
    "### Transformation\n",
    "[14. Rigid transformation based on manual anchor points](#rigidanchor)<br>\n",
    "[15. TPS transformation based on manual anchor points (round 0)](#anchorwarp)<br>"
   ]
  },
  {
   "cell_type": "markdown",
   "id": "d4781ea9",
   "metadata": {},
   "source": [
    "# Convert to zarr\n",
    "<a id='convert'></a>\n",
    "\n",
    "[Return to top](#top)"
   ]
  },
  {
   "cell_type": "code",
   "execution_count": 3,
   "id": "4a49293d",
   "metadata": {
    "scrolled": true
   },
   "outputs": [
    {
     "name": "stdout",
     "output_type": "stream",
     "text": [
      "Processing chunk x:900-5000, y:0-1954, z:138-178\n"
     ]
    },
    {
     "name": "stderr",
     "output_type": "stream",
     "text": [
      "100%|██████████| 40/40 [00:38<00:00,  1.04it/s]\n"
     ]
    },
    {
     "name": "stdout",
     "output_type": "stream",
     "text": [
      "Data I/O, resampling, rotation complete. Commencing flip and zarr assignment...\n"
     ]
    },
    {
     "name": "stderr",
     "output_type": "stream",
     "text": [
      "100%|██████████| 210/210 [00:06<00:00, 34.41it/s]"
     ]
    },
    {
     "name": "stdout",
     "output_type": "stream",
     "text": [
      "Processing chunk x:900-5000, y:0-1954, z:178-218\n"
     ]
    },
    {
     "name": "stderr",
     "output_type": "stream",
     "text": [
      "\n",
      "100%|██████████| 40/40 [00:36<00:00,  1.08it/s]\n"
     ]
    },
    {
     "name": "stdout",
     "output_type": "stream",
     "text": [
      "Data I/O, resampling, rotation complete. Commencing flip and zarr assignment...\n"
     ]
    },
    {
     "name": "stderr",
     "output_type": "stream",
     "text": [
      "100%|██████████| 210/210 [00:16<00:00, 12.76it/s]"
     ]
    },
    {
     "name": "stdout",
     "output_type": "stream",
     "text": [
      "Processing chunk x:900-5000, y:0-1954, z:218-258\n"
     ]
    },
    {
     "name": "stderr",
     "output_type": "stream",
     "text": [
      "\n",
      "100%|██████████| 40/40 [01:05<00:00,  5.62s/it]\n"
     ]
    },
    {
     "name": "stdout",
     "output_type": "stream",
     "text": [
      "Data I/O, resampling, rotation complete. Commencing flip and zarr assignment...\n"
     ]
    },
    {
     "name": "stderr",
     "output_type": "stream",
     "text": [
      "100%|██████████| 210/210 [00:23<00:00,  9.06it/s]"
     ]
    },
    {
     "name": "stdout",
     "output_type": "stream",
     "text": [
      "Processing chunk x:900-5000, y:0-1954, z:258-298\n"
     ]
    },
    {
     "name": "stderr",
     "output_type": "stream",
     "text": [
      "\n",
      "100%|██████████| 40/40 [00:45<00:00,  1.13s/it]\n"
     ]
    },
    {
     "name": "stdout",
     "output_type": "stream",
     "text": [
      "Data I/O, resampling, rotation complete. Commencing flip and zarr assignment...\n"
     ]
    },
    {
     "name": "stderr",
     "output_type": "stream",
     "text": [
      "100%|██████████| 210/210 [00:30<00:00,  6.82it/s]"
     ]
    },
    {
     "name": "stdout",
     "output_type": "stream",
     "text": [
      "Processing chunk x:900-5000, y:0-1954, z:298-338\n"
     ]
    },
    {
     "name": "stderr",
     "output_type": "stream",
     "text": [
      "\n",
      "100%|██████████| 40/40 [01:06<00:00,  1.66s/it]\n"
     ]
    },
    {
     "name": "stdout",
     "output_type": "stream",
     "text": [
      "Data I/O, resampling, rotation complete. Commencing flip and zarr assignment...\n"
     ]
    },
    {
     "name": "stderr",
     "output_type": "stream",
     "text": [
      "100%|██████████| 210/210 [00:37<00:00, 10.20it/s]"
     ]
    },
    {
     "name": "stdout",
     "output_type": "stream",
     "text": [
      "Processing chunk x:900-5000, y:0-1954, z:338-378\n"
     ]
    },
    {
     "name": "stderr",
     "output_type": "stream",
     "text": [
      "\n",
      "100%|██████████| 40/40 [01:01<00:00,  1.54s/it]\n"
     ]
    },
    {
     "name": "stdout",
     "output_type": "stream",
     "text": [
      "Data I/O, resampling, rotation complete. Commencing flip and zarr assignment...\n"
     ]
    },
    {
     "name": "stderr",
     "output_type": "stream",
     "text": [
      "100%|██████████| 210/210 [00:07<00:00, 28.22it/s]\n"
     ]
    },
    {
     "name": "stdout",
     "output_type": "stream",
     "text": [
      "Processing chunk x:900-5000, y:0-1954, z:378-418\n"
     ]
    },
    {
     "name": "stderr",
     "output_type": "stream",
     "text": [
      "100%|██████████| 40/40 [00:42<00:00,  1.07s/it]\n"
     ]
    },
    {
     "name": "stdout",
     "output_type": "stream",
     "text": [
      "Data I/O, resampling, rotation complete. Commencing flip and zarr assignment...\n"
     ]
    },
    {
     "name": "stderr",
     "output_type": "stream",
     "text": [
      "100%|██████████| 210/210 [00:18<00:00, 11.45it/s]\n"
     ]
    },
    {
     "name": "stdout",
     "output_type": "stream",
     "text": [
      "Processing chunk x:900-5000, y:0-1954, z:418-458\n"
     ]
    },
    {
     "name": "stderr",
     "output_type": "stream",
     "text": [
      "100%|██████████| 40/40 [00:33<00:00,  1.20it/s]\n"
     ]
    },
    {
     "name": "stdout",
     "output_type": "stream",
     "text": [
      "Data I/O, resampling, rotation complete. Commencing flip and zarr assignment...\n"
     ]
    },
    {
     "name": "stderr",
     "output_type": "stream",
     "text": [
      "100%|██████████| 210/210 [00:26<00:00,  7.94it/s]"
     ]
    },
    {
     "name": "stdout",
     "output_type": "stream",
     "text": [
      "Processing chunk x:900-5000, y:0-1954, z:458-498\n"
     ]
    },
    {
     "name": "stderr",
     "output_type": "stream",
     "text": [
      "\n",
      "100%|██████████| 40/40 [00:31<00:00,  3.09s/it]\n"
     ]
    },
    {
     "name": "stdout",
     "output_type": "stream",
     "text": [
      "Data I/O, resampling, rotation complete. Commencing flip and zarr assignment...\n"
     ]
    },
    {
     "name": "stderr",
     "output_type": "stream",
     "text": [
      "100%|██████████| 210/210 [00:53<00:00,  3.90it/s]\n"
     ]
    },
    {
     "name": "stdout",
     "output_type": "stream",
     "text": [
      "Processing chunk x:900-5000, y:0-1954, z:498-538\n"
     ]
    },
    {
     "name": "stderr",
     "output_type": "stream",
     "text": [
      "100%|██████████| 40/40 [00:46<00:00,  1.17s/it]\n"
     ]
    },
    {
     "name": "stdout",
     "output_type": "stream",
     "text": [
      "Data I/O, resampling, rotation complete. Commencing flip and zarr assignment...\n"
     ]
    },
    {
     "name": "stderr",
     "output_type": "stream",
     "text": [
      "100%|██████████| 210/210 [00:58<00:00,  3.59it/s]"
     ]
    },
    {
     "name": "stdout",
     "output_type": "stream",
     "text": [
      "Processing chunk x:900-5000, y:0-1954, z:538-578\n"
     ]
    },
    {
     "name": "stderr",
     "output_type": "stream",
     "text": [
      "\n",
      "100%|██████████| 40/40 [00:58<00:00,  1.45s/it]\n"
     ]
    },
    {
     "name": "stdout",
     "output_type": "stream",
     "text": [
      "Data I/O, resampling, rotation complete. Commencing flip and zarr assignment...\n"
     ]
    },
    {
     "name": "stderr",
     "output_type": "stream",
     "text": [
      "100%|██████████| 210/210 [00:09<00:00, 21.17it/s]"
     ]
    },
    {
     "name": "stdout",
     "output_type": "stream",
     "text": [
      "Processing chunk x:900-5000, y:0-1954, z:578-618\n"
     ]
    },
    {
     "name": "stderr",
     "output_type": "stream",
     "text": [
      "\n",
      "100%|██████████| 40/40 [00:43<00:00,  1.09s/it]"
     ]
    },
    {
     "name": "stdout",
     "output_type": "stream",
     "text": [
      "Data I/O, resampling, rotation complete. Commencing flip and zarr assignment...\n"
     ]
    },
    {
     "name": "stderr",
     "output_type": "stream",
     "text": [
      "\n",
      "100%|██████████| 210/210 [00:39<00:00,  5.26it/s]\n"
     ]
    },
    {
     "name": "stdout",
     "output_type": "stream",
     "text": [
      "Processing chunk x:900-5000, y:0-1954, z:618-658\n"
     ]
    },
    {
     "name": "stderr",
     "output_type": "stream",
     "text": [
      "100%|██████████| 40/40 [00:44<00:00,  1.12s/it]\n"
     ]
    },
    {
     "name": "stdout",
     "output_type": "stream",
     "text": [
      "Data I/O, resampling, rotation complete. Commencing flip and zarr assignment...\n"
     ]
    },
    {
     "name": "stderr",
     "output_type": "stream",
     "text": [
      "100%|██████████| 210/210 [00:39<00:00,  5.33it/s]\n"
     ]
    },
    {
     "name": "stdout",
     "output_type": "stream",
     "text": [
      "Processing chunk x:900-5000, y:0-1954, z:658-698\n"
     ]
    },
    {
     "name": "stderr",
     "output_type": "stream",
     "text": [
      "100%|██████████| 40/40 [00:21<00:00,  1.86it/s]\n"
     ]
    },
    {
     "name": "stdout",
     "output_type": "stream",
     "text": [
      "Data I/O, resampling, rotation complete. Commencing flip and zarr assignment...\n"
     ]
    },
    {
     "name": "stderr",
     "output_type": "stream",
     "text": [
      "100%|██████████| 210/210 [00:50<00:00,  4.18it/s]\n"
     ]
    },
    {
     "name": "stdout",
     "output_type": "stream",
     "text": [
      "Processing chunk x:900-5000, y:0-1954, z:698-738\n"
     ]
    },
    {
     "name": "stderr",
     "output_type": "stream",
     "text": [
      "100%|██████████| 40/40 [00:27<00:00,  1.44it/s]"
     ]
    },
    {
     "name": "stdout",
     "output_type": "stream",
     "text": [
      "Data I/O, resampling, rotation complete. Commencing flip and zarr assignment...\n"
     ]
    },
    {
     "name": "stderr",
     "output_type": "stream",
     "text": [
      "\n",
      "100%|██████████| 210/210 [00:46<00:00,  4.49it/s]\n"
     ]
    },
    {
     "name": "stdout",
     "output_type": "stream",
     "text": [
      "Processing chunk x:900-5000, y:0-1954, z:738-778\n"
     ]
    },
    {
     "name": "stderr",
     "output_type": "stream",
     "text": [
      "100%|██████████| 40/40 [00:42<00:00,  1.07s/it]\n"
     ]
    },
    {
     "name": "stdout",
     "output_type": "stream",
     "text": [
      "Data I/O, resampling, rotation complete. Commencing flip and zarr assignment...\n"
     ]
    },
    {
     "name": "stderr",
     "output_type": "stream",
     "text": [
      "100%|██████████| 210/210 [00:07<00:00, 28.02it/s]"
     ]
    },
    {
     "name": "stdout",
     "output_type": "stream",
     "text": [
      "Processing chunk x:900-5000, y:0-1954, z:778-818\n"
     ]
    },
    {
     "name": "stderr",
     "output_type": "stream",
     "text": [
      "\n",
      "100%|██████████| 40/40 [00:43<00:00,  3.43s/it]\n"
     ]
    },
    {
     "name": "stdout",
     "output_type": "stream",
     "text": [
      "Data I/O, resampling, rotation complete. Commencing flip and zarr assignment...\n"
     ]
    },
    {
     "name": "stderr",
     "output_type": "stream",
     "text": [
      "100%|██████████| 210/210 [00:25<00:00,  8.25it/s]\n"
     ]
    },
    {
     "name": "stdout",
     "output_type": "stream",
     "text": [
      "Processing chunk x:900-5000, y:0-1954, z:818-858\n"
     ]
    },
    {
     "name": "stderr",
     "output_type": "stream",
     "text": [
      "100%|██████████| 40/40 [00:28<00:00,  1.42it/s]"
     ]
    },
    {
     "name": "stdout",
     "output_type": "stream",
     "text": [
      "Data I/O, resampling, rotation complete. Commencing flip and zarr assignment...\n"
     ]
    },
    {
     "name": "stderr",
     "output_type": "stream",
     "text": [
      "\n",
      "100%|██████████| 210/210 [00:33<00:00,  6.27it/s]"
     ]
    },
    {
     "name": "stdout",
     "output_type": "stream",
     "text": [
      "Processing chunk x:900-5000, y:0-1954, z:858-898\n"
     ]
    },
    {
     "name": "stderr",
     "output_type": "stream",
     "text": [
      "\n",
      "100%|██████████| 40/40 [00:51<00:00,  1.29s/it]\n"
     ]
    },
    {
     "name": "stdout",
     "output_type": "stream",
     "text": [
      "Data I/O, resampling, rotation complete. Commencing flip and zarr assignment...\n"
     ]
    },
    {
     "name": "stderr",
     "output_type": "stream",
     "text": [
      "100%|██████████| 210/210 [00:39<00:00,  5.35it/s]"
     ]
    },
    {
     "name": "stdout",
     "output_type": "stream",
     "text": [
      "Processing chunk x:900-5000, y:0-1954, z:898-938\n"
     ]
    },
    {
     "name": "stderr",
     "output_type": "stream",
     "text": [
      "\n",
      "100%|██████████| 40/40 [00:47<00:00,  1.20s/it]\n"
     ]
    },
    {
     "name": "stdout",
     "output_type": "stream",
     "text": [
      "Data I/O, resampling, rotation complete. Commencing flip and zarr assignment...\n"
     ]
    },
    {
     "name": "stderr",
     "output_type": "stream",
     "text": [
      "100%|██████████| 210/210 [00:46<00:00,  4.48it/s]"
     ]
    },
    {
     "name": "stdout",
     "output_type": "stream",
     "text": [
      "Processing chunk x:900-5000, y:0-1954, z:938-978\n"
     ]
    },
    {
     "name": "stderr",
     "output_type": "stream",
     "text": [
      "\n",
      "100%|██████████| 40/40 [00:35<00:00,  1.13it/s]\n"
     ]
    },
    {
     "name": "stdout",
     "output_type": "stream",
     "text": [
      "Data I/O, resampling, rotation complete. Commencing flip and zarr assignment...\n"
     ]
    },
    {
     "name": "stderr",
     "output_type": "stream",
     "text": [
      "100%|██████████| 210/210 [00:08<00:00, 24.83it/s]\n"
     ]
    },
    {
     "name": "stdout",
     "output_type": "stream",
     "text": [
      "Processing chunk x:900-5000, y:0-1954, z:978-1018\n"
     ]
    },
    {
     "name": "stderr",
     "output_type": "stream",
     "text": [
      "100%|██████████| 40/40 [00:47<00:00,  1.18s/it]\n"
     ]
    },
    {
     "name": "stdout",
     "output_type": "stream",
     "text": [
      "Data I/O, resampling, rotation complete. Commencing flip and zarr assignment...\n"
     ]
    },
    {
     "name": "stderr",
     "output_type": "stream",
     "text": [
      "100%|██████████| 210/210 [00:27<00:00,  7.57it/s]"
     ]
    },
    {
     "name": "stdout",
     "output_type": "stream",
     "text": [
      "Processing chunk x:900-5000, y:0-1954, z:1018-1058\n"
     ]
    },
    {
     "name": "stderr",
     "output_type": "stream",
     "text": [
      "\n",
      "100%|██████████| 40/40 [01:01<00:00,  3.45s/it]\n"
     ]
    },
    {
     "name": "stdout",
     "output_type": "stream",
     "text": [
      "Data I/O, resampling, rotation complete. Commencing flip and zarr assignment...\n"
     ]
    },
    {
     "name": "stderr",
     "output_type": "stream",
     "text": [
      "100%|██████████| 210/210 [00:34<00:00,  6.02it/s]\n"
     ]
    },
    {
     "name": "stdout",
     "output_type": "stream",
     "text": [
      "Processing chunk x:900-5000, y:0-1954, z:1058-1098\n"
     ]
    },
    {
     "name": "stderr",
     "output_type": "stream",
     "text": [
      "100%|██████████| 40/40 [00:59<00:00,  5.48s/it]\n"
     ]
    },
    {
     "name": "stdout",
     "output_type": "stream",
     "text": [
      "Data I/O, resampling, rotation complete. Commencing flip and zarr assignment...\n"
     ]
    },
    {
     "name": "stderr",
     "output_type": "stream",
     "text": [
      "100%|██████████| 210/210 [00:39<00:00,  5.27it/s]"
     ]
    },
    {
     "name": "stdout",
     "output_type": "stream",
     "text": [
      "Processing chunk x:900-5000, y:0-1954, z:1098-1138\n"
     ]
    },
    {
     "name": "stderr",
     "output_type": "stream",
     "text": [
      "\n",
      "100%|██████████| 40/40 [00:57<00:00,  5.26s/it]\n"
     ]
    },
    {
     "name": "stdout",
     "output_type": "stream",
     "text": [
      "Data I/O, resampling, rotation complete. Commencing flip and zarr assignment...\n"
     ]
    },
    {
     "name": "stderr",
     "output_type": "stream",
     "text": [
      "100%|██████████| 210/210 [00:47<00:00,  4.39it/s]"
     ]
    },
    {
     "name": "stdout",
     "output_type": "stream",
     "text": [
      "Processing chunk x:900-5000, y:0-1954, z:1138-1178\n"
     ]
    },
    {
     "name": "stderr",
     "output_type": "stream",
     "text": [
      "\n",
      "100%|██████████| 40/40 [00:43<00:00,  1.09s/it]\n"
     ]
    },
    {
     "name": "stdout",
     "output_type": "stream",
     "text": [
      "Data I/O, resampling, rotation complete. Commencing flip and zarr assignment...\n"
     ]
    },
    {
     "name": "stderr",
     "output_type": "stream",
     "text": [
      "100%|██████████| 210/210 [00:06<00:00, 30.65it/s]\n"
     ]
    },
    {
     "name": "stdout",
     "output_type": "stream",
     "text": [
      "Processing chunk x:900-5000, y:0-1954, z:1178-1218\n"
     ]
    },
    {
     "name": "stderr",
     "output_type": "stream",
     "text": [
      "100%|██████████| 40/40 [00:58<00:00,  1.45s/it]\n"
     ]
    },
    {
     "name": "stdout",
     "output_type": "stream",
     "text": [
      "Data I/O, resampling, rotation complete. Commencing flip and zarr assignment...\n"
     ]
    },
    {
     "name": "stderr",
     "output_type": "stream",
     "text": [
      "100%|██████████| 210/210 [00:25<00:00,  8.24it/s]\n"
     ]
    },
    {
     "name": "stdout",
     "output_type": "stream",
     "text": [
      "Processing chunk x:900-5000, y:0-1954, z:1218-1258\n"
     ]
    },
    {
     "name": "stderr",
     "output_type": "stream",
     "text": [
      "100%|██████████| 40/40 [01:04<00:00,  8.61s/it]\n"
     ]
    },
    {
     "name": "stdout",
     "output_type": "stream",
     "text": [
      "Data I/O, resampling, rotation complete. Commencing flip and zarr assignment...\n"
     ]
    },
    {
     "name": "stderr",
     "output_type": "stream",
     "text": [
      "100%|██████████| 210/210 [00:33<00:00,  6.23it/s]"
     ]
    },
    {
     "name": "stdout",
     "output_type": "stream",
     "text": [
      "Processing chunk x:900-5000, y:0-1954, z:1258-1298\n"
     ]
    },
    {
     "name": "stderr",
     "output_type": "stream",
     "text": [
      "\n",
      "100%|██████████| 40/40 [00:59<00:00,  1.48s/it]\n"
     ]
    },
    {
     "name": "stdout",
     "output_type": "stream",
     "text": [
      "Data I/O, resampling, rotation complete. Commencing flip and zarr assignment...\n"
     ]
    },
    {
     "name": "stderr",
     "output_type": "stream",
     "text": [
      "100%|██████████| 210/210 [00:40<00:00,  5.13it/s]"
     ]
    },
    {
     "name": "stdout",
     "output_type": "stream",
     "text": [
      "Processing chunk x:900-5000, y:0-1954, z:1298-1338\n"
     ]
    },
    {
     "name": "stderr",
     "output_type": "stream",
     "text": [
      "\n",
      "100%|██████████| 40/40 [00:57<00:00,  1.45s/it]\n"
     ]
    },
    {
     "name": "stdout",
     "output_type": "stream",
     "text": [
      "Data I/O, resampling, rotation complete. Commencing flip and zarr assignment...\n"
     ]
    },
    {
     "name": "stderr",
     "output_type": "stream",
     "text": [
      "100%|██████████| 210/210 [00:44<00:00,  4.67it/s]"
     ]
    },
    {
     "name": "stdout",
     "output_type": "stream",
     "text": [
      "Processing chunk x:900-5000, y:0-1954, z:1338-1378\n"
     ]
    },
    {
     "name": "stderr",
     "output_type": "stream",
     "text": [
      "\n",
      "100%|██████████| 40/40 [00:45<00:00,  1.14s/it]\n"
     ]
    },
    {
     "name": "stdout",
     "output_type": "stream",
     "text": [
      "Data I/O, resampling, rotation complete. Commencing flip and zarr assignment...\n"
     ]
    },
    {
     "name": "stderr",
     "output_type": "stream",
     "text": [
      "100%|██████████| 210/210 [00:06<00:00, 31.65it/s]\n"
     ]
    },
    {
     "name": "stdout",
     "output_type": "stream",
     "text": [
      "Processing chunk x:900-5000, y:0-1954, z:1378-1418\n"
     ]
    },
    {
     "name": "stderr",
     "output_type": "stream",
     "text": [
      "100%|██████████| 40/40 [01:02<00:00,  1.57s/it]\n"
     ]
    },
    {
     "name": "stdout",
     "output_type": "stream",
     "text": [
      "Data I/O, resampling, rotation complete. Commencing flip and zarr assignment...\n"
     ]
    },
    {
     "name": "stderr",
     "output_type": "stream",
     "text": [
      "100%|██████████| 210/210 [00:23<00:00,  9.12it/s]"
     ]
    },
    {
     "name": "stdout",
     "output_type": "stream",
     "text": [
      "Processing chunk x:900-5000, y:0-1954, z:1418-1458\n"
     ]
    },
    {
     "name": "stderr",
     "output_type": "stream",
     "text": [
      "\n",
      "100%|██████████| 40/40 [00:49<00:00,  1.23s/it]\n"
     ]
    },
    {
     "name": "stdout",
     "output_type": "stream",
     "text": [
      "Data I/O, resampling, rotation complete. Commencing flip and zarr assignment...\n"
     ]
    },
    {
     "name": "stderr",
     "output_type": "stream",
     "text": [
      "100%|██████████| 210/210 [00:29<00:00,  7.02it/s]\n"
     ]
    },
    {
     "name": "stdout",
     "output_type": "stream",
     "text": [
      "Processing chunk x:900-5000, y:0-1954, z:1458-1482\n"
     ]
    },
    {
     "name": "stderr",
     "output_type": "stream",
     "text": [
      "100%|██████████| 24/24 [00:30<00:00,  1.28s/it]\n"
     ]
    },
    {
     "name": "stdout",
     "output_type": "stream",
     "text": [
      "Data I/O, resampling, rotation complete. Commencing flip and zarr assignment...\n"
     ]
    },
    {
     "name": "stderr",
     "output_type": "stream",
     "text": [
      "100%|██████████| 210/210 [00:32<00:00,  6.51it/s]\n"
     ]
    },
    {
     "name": "stdout",
     "output_type": "stream",
     "text": [
      "2664.5782504081726 seconds elapsed\n"
     ]
    }
   ],
   "source": [
    "# 2\n",
    "\n",
    "slab_path = '/mnt/cephfs/general/juhyuk/15xdata/20220512_21_26_12_mEhmAD_2_abeta.lec.ptau/Ex_488_Em_1_destriped_stitched_tiffs_4xdownsampled'\n",
    "slab_zarr_path = bdir(name_prefix2+'.zarr')\n",
    "pc2_img_size = (22177,7817,5933)\n",
    "\n",
    "\n",
    "## Optional parameters \n",
    "load_num_slices = 40 # should be smaller than z chunk size, default None \n",
    "resample_num_slices = 1 # number of slices to be processed in one go for resampling, default 1\n",
    "resample_factor = (1,1) # original is (0.306,0.433,0.306)\n",
    "chunks = (200,200,200) \n",
    "num_workers = 20 \n",
    "file_names = 'img_[0-9]{4}.tiff' # default 'img_[0-9]{4}.tiff'\n",
    "\n",
    "## crop\n",
    "xrange = [3600//4,3600//4+16400//4]\n",
    "yrange = [0,7816//4]\n",
    "zrange = [553//4,553//4+5376//4]\n",
    "\n",
    "## rotate\n",
    "lateral_rotate_angle = None # default None\n",
    "\n",
    "## flip\n",
    "flip = (0,0,0) # default (0,0,0)\n",
    "\n",
    "\n",
    "#############\n",
    "start = time.time()\n",
    "utils.convert_to_zarr_v2(slab_path, slab_zarr_path, pc2_img_size, load_num_slices=load_num_slices,\n",
    "                        resample_num_slices=resample_num_slices, file_names=file_names, \n",
    "                        chunks=chunks, num_workers=num_workers, lateral_rotate_angle=lateral_rotate_angle,\n",
    "                        flip=flip, crop_xcoords=xrange, crop_ycoords=yrange, crop_zcoords=zrange,\n",
    "                        resample_factor=resample_factor)\n",
    "print(time.time()-start, 'seconds elapsed')"
   ]
  },
  {
   "cell_type": "markdown",
   "id": "88002f57",
   "metadata": {},
   "source": [
    "## Flatten warp the slabs\n",
    "\n",
    "[Return to top](#top)\n",
    "\n",
    "<a id='flattenwarp'></a>"
   ]
  },
  {
   "cell_type": "markdown",
   "id": "b1027b54",
   "metadata": {},
   "source": [
    "## Flatten TPS Warp"
   ]
  },
  {
   "cell_type": "code",
   "execution_count": 4,
   "id": "de656c7a",
   "metadata": {},
   "outputs": [
    {
     "name": "stdout",
     "output_type": "stream",
     "text": [
      "(4100, 1954, 1344)\n",
      "Loading grid values...\n",
      "Warping image...\n",
      "Moving image size: 21.5346432 GB\n"
     ]
    },
    {
     "name": "stderr",
     "output_type": "stream",
     "text": [
      "100%|██████████| 1470/1470 [05:46<00:00,  4.61it/s]\n"
     ]
    },
    {
     "name": "stdout",
     "output_type": "stream",
     "text": [
      "Time elapsed: 9.197107 minutes\n"
     ]
    }
   ],
   "source": [
    "# 2\n",
    "fixed_zarr_path = bdir(name_prefix2+'.zarr') \n",
    "moving_zarr_path = bdir(name_prefix2+'.zarr')\n",
    "warped_zarr_path = bdir(name_prefix2+'_flattened.zarr')\n",
    "\n",
    "\n",
    "# Parameters for TPS zarr warp\n",
    "grid_spacing = 3*(16,)\n",
    "chunks=3*(200,)\n",
    "nb_workers = 8\n",
    "\n",
    "\n",
    "# grid I/O \n",
    "save_grid_values_path = None\n",
    "use_grid_values_path = bdir('warping_grids/2-lec_grid_flatten.npy')\n",
    "\n",
    "\n",
    "\n",
    "\n",
    "##########################\n",
    "\n",
    "moving_pts_paths = [bdir('manual_labels/3-lec_anchor_pts_flat.npy')] # doesn't actually matter for this \n",
    "fixed_pts_paths =  [bdir('manual_labels/3-lec_anchor_pts_flat.npy')]\n",
    "\n",
    "# anchor parameters (using the surface on the other side and manually identified anchors on the cut surface)\n",
    "static_pts_paths = None\n",
    "# affine parameters \n",
    "R_path = None\n",
    "b_path = None\n",
    "\n",
    "TPS_warp(moving_zarr_path, fixed_zarr_path, warped_zarr_path, moving_pts_paths, fixed_pts_paths,\n",
    "         static_pts_paths=static_pts_paths, R_path=R_path, b_path=b_path,\n",
    "          grid_spacing=grid_spacing, smooth=2, chunks=chunks,\n",
    "          nb_workers=nb_workers, padding=2, save_grid_values_path=save_grid_values_path, \n",
    "          show_residuals=True, use_grid_values_path=use_grid_values_path)\n",
    "\n",
    "# Convert zarr to tiff\n",
    "# tiff_path = warped_zarr_path[:-5]+'_tiffs'\n",
    "# convert_zarr_to_tiff(warped_zarr_path, tiff_path, num_workers=None)"
   ]
  },
  {
   "cell_type": "markdown",
   "id": "d65cdf9f",
   "metadata": {},
   "source": [
    "## TPS warp using lectin grid\n",
    "\n",
    "[Return to top](#top)\n",
    "\n",
    "<a id='anchorwarp'></a>"
   ]
  },
  {
   "cell_type": "markdown",
   "id": "519b46b6",
   "metadata": {},
   "source": [
    "## Lectin warp"
   ]
  },
  {
   "cell_type": "code",
   "execution_count": 6,
   "id": "dd795ec8",
   "metadata": {
    "scrolled": true
   },
   "outputs": [
    {
     "name": "stdout",
     "output_type": "stream",
     "text": [
      "(4525, 2025, 1344)\n",
      "Loading grid values...\n",
      "Warping image...\n",
      "Moving image size: 21.5346432 GB\n"
     ]
    },
    {
     "name": "stderr",
     "output_type": "stream",
     "text": [
      "100%|██████████| 1771/1771 [07:50<00:00,  4.83it/s]\n"
     ]
    },
    {
     "name": "stdout",
     "output_type": "stream",
     "text": [
      "Time elapsed: 10.949748 minutes\n",
      "Loading z 0 - 200\n"
     ]
    },
    {
     "name": "stderr",
     "output_type": "stream",
     "text": [
      "100%|██████████| 253/253 [00:11<00:00, 21.79it/s]\n",
      "100%|██████████| 200/200 [01:01<00:00,  3.23it/s]\n"
     ]
    },
    {
     "name": "stdout",
     "output_type": "stream",
     "text": [
      "Loading z 200 - 400\n"
     ]
    },
    {
     "name": "stderr",
     "output_type": "stream",
     "text": [
      "100%|██████████| 253/253 [00:17<00:00, 27.23it/s]\n",
      "100%|██████████| 200/200 [01:02<00:00,  3.19it/s]\n"
     ]
    },
    {
     "name": "stdout",
     "output_type": "stream",
     "text": [
      "Loading z 400 - 600\n"
     ]
    },
    {
     "name": "stderr",
     "output_type": "stream",
     "text": [
      "100%|██████████| 253/253 [00:15<00:00, 16.57it/s]\n",
      "100%|██████████| 200/200 [01:00<00:00,  3.33it/s]\n"
     ]
    },
    {
     "name": "stdout",
     "output_type": "stream",
     "text": [
      "Loading z 600 - 800\n"
     ]
    },
    {
     "name": "stderr",
     "output_type": "stream",
     "text": [
      "100%|██████████| 253/253 [00:15<00:00, 16.73it/s]\n",
      "100%|██████████| 200/200 [00:58<00:00,  3.42it/s]\n"
     ]
    },
    {
     "name": "stdout",
     "output_type": "stream",
     "text": [
      "Loading z 800 - 1000\n"
     ]
    },
    {
     "name": "stderr",
     "output_type": "stream",
     "text": [
      "100%|██████████| 253/253 [00:15<00:00, 16.32it/s]\n",
      "100%|██████████| 200/200 [01:06<00:00,  2.99it/s]\n"
     ]
    },
    {
     "name": "stdout",
     "output_type": "stream",
     "text": [
      "Loading z 1000 - 1200\n"
     ]
    },
    {
     "name": "stderr",
     "output_type": "stream",
     "text": [
      "100%|██████████| 253/253 [00:15<00:00, 16.60it/s]\n",
      "100%|██████████| 200/200 [00:57<00:00,  3.48it/s]\n"
     ]
    },
    {
     "name": "stdout",
     "output_type": "stream",
     "text": [
      "Loading z 1200 - 1344\n"
     ]
    },
    {
     "name": "stderr",
     "output_type": "stream",
     "text": [
      "100%|██████████| 253/253 [00:09<00:00, 33.62it/s]\n",
      "100%|██████████| 144/144 [00:41<00:00,  3.43it/s]\n"
     ]
    }
   ],
   "source": [
    "# Top slab \n",
    "fixed_zarr_path = '/mnt/share3/webster/mEhmAD_1-3_real/3-lec_flattened_anchorwarp_r1.zarr' # We have to make this the fixed zarr so that it'll warp to the correct shape \n",
    "moving_zarr_path = bdir(name_prefix2+'_flattened.zarr')\n",
    "warped_zarr_path = bdir(name_prefix2+'_flattened_lectinwarp.zarr')\n",
    "\n",
    "\n",
    "# Parameters for TPS zarr warp\n",
    "grid_spacing = 3*(16,)\n",
    "chunks=3*(200,)\n",
    "nb_workers = 8\n",
    "\n",
    "\n",
    "# grid I/O \n",
    "save_grid_values_path = None\n",
    "use_grid_values_path = bdir('warping_grids/grid_anchor_tps_r0.npy')\n",
    "\n",
    "# Number of z slices to add to the final image \n",
    "zadd = 0\n",
    "\n",
    "\n",
    "##########################\n",
    "\n",
    "moving_pts_paths = [bdir('manual_labels/3-lec_anchor_pts_flat.npy')] # doesn't actually matter for this \n",
    "fixed_pts_paths =  [bdir('manual_labels/3-lec_anchor_pts_flat.npy')]\n",
    "\n",
    "# anchor parameters (using the surface on the other  side and manually identified anchors on the cut surface)\n",
    "static_pts_paths = None\n",
    "# affine parameters \n",
    "R_path = None\n",
    "b_path = None\n",
    "\n",
    "TPS_warp(moving_zarr_path, fixed_zarr_path, warped_zarr_path, moving_pts_paths, fixed_pts_paths,\n",
    "         static_pts_paths=static_pts_paths, R_path=R_path, b_path=b_path, zadd=zadd, \n",
    "          grid_spacing=grid_spacing, smooth=2, chunks=chunks,\n",
    "          nb_workers=nb_workers, padding=2, save_grid_values_path=save_grid_values_path, \n",
    "          show_residuals=True, use_grid_values_path=use_grid_values_path)\n",
    "\n",
    "# Convert zarr to tiff\n",
    "# Test parallel convert zarr to tiff \n",
    "tiff_path = warped_zarr_path[:-5]+'_tiffs'\n",
    "convert_zarr_to_tiff(warped_zarr_path, tiff_path, num_workers=24)"
   ]
  },
  {
   "cell_type": "code",
   "execution_count": null,
   "id": "1a6f5b54",
   "metadata": {},
   "outputs": [],
   "source": []
  }
 ],
 "metadata": {
  "kernelspec": {
   "display_name": "Python (hubris)",
   "language": "python",
   "name": "hubris"
  },
  "language_info": {
   "codemirror_mode": {
    "name": "ipython",
    "version": 3
   },
   "file_extension": ".py",
   "mimetype": "text/x-python",
   "name": "python",
   "nbconvert_exporter": "python",
   "pygments_lexer": "ipython3",
   "version": "3.6.8"
  }
 },
 "nbformat": 4,
 "nbformat_minor": 5
}

{
 "cells": [
  {
   "cell_type": "markdown",
   "id": "46f1857e",
   "metadata": {},
   "source": [
    "<a id='top'></a>"
   ]
  },
  {
   "cell_type": "code",
   "execution_count": 1,
   "id": "d35ae04e",
   "metadata": {},
   "outputs": [],
   "source": [
    "# Ignore warnings\n",
    "import warnings\n",
    "warnings.filterwarnings('ignore')\n",
    "\n",
    "\n",
    "# %matplotlib nbagg \n",
    "%matplotlib notebook\n",
    "# %matplotlib inline\n",
    "\n",
    "\n",
    "\n",
    "## Third party \n",
    "import numpy as np\n",
    "import os, time, zarr, sys\n",
    "from tqdm import tqdm_notebook as tqdm\n",
    "import matplotlib.pyplot as plt\n",
    "import matplotlib as mpl\n",
    "\n",
    "import unslice.IO as io\n",
    "from unslice.utils import *\n",
    "from unslice.registration.featmatch import *\n",
    "from unslice.registration.transform import *\n",
    "from unslice.registration.rigid import *\n",
    "from unslice.registration.gpu_transform import *\n",
    "from unslice.registration.utils import *\n",
    "from unslice.segmentation import *\n",
    "from unslice.tracing.pyoof import OOF, apply_oof_v2\n",
    "from unslice.tracing.skel import *\n",
    "from unslice.flatten import *\n",
    "from unslice.lightsheetcorrect import *\n",
    "\n",
    "\n"
   ]
  },
  {
   "cell_type": "code",
   "execution_count": 2,
   "id": "0af107ea",
   "metadata": {},
   "outputs": [],
   "source": [
    "# Parameters that are constant throughout notebook\n",
    "working_dir = '/mnt/share3/webster/mEhmAD_1-3_real/tracing'\n",
    "\n",
    "def bdir(fname):\n",
    "    return os.path.join(working_dir, fname)\n",
    "\n",
    "# prefix to add to the beginning of each filename \n",
    "name_prefix = '1-ptau_pred'"
   ]
  },
  {
   "cell_type": "markdown",
   "id": "cd57d13f",
   "metadata": {},
   "source": [
    "# Table of contents\n",
    "\n",
    "### Pre-processing\n",
    "[1. Convert to zarr](#convert)<br>\n",
    "[2. Flatten warp](#flattenwarp)<br>\n",
    "[3. Lectin warp](#anchorwarp)<br>"
   ]
  },
  {
   "cell_type": "markdown",
   "id": "a36bd18d",
   "metadata": {},
   "source": [
    "# Convert to zarr\n",
    "<a id='convert'></a>\n",
    "\n",
    "[Return to top](#top)"
   ]
  },
  {
   "cell_type": "code",
   "execution_count": 3,
   "id": "32d71b4c",
   "metadata": {},
   "outputs": [
    {
     "name": "stdout",
     "output_type": "stream",
     "text": [
      "Reading image\n",
      "66.91312980651855 seconds elapsed\n"
     ]
    }
   ],
   "source": [
    "# 1\n",
    "\n",
    "slab_path = bdir('1-ptau_pred.tif')\n",
    "slab_zarr_path = bdir(name_prefix+'.zarr')\n",
    "pc2_img_size = (1024,)*3\n",
    "\n",
    "\n",
    "## Optional parameters \n",
    "load_num_slices = 40 # should be smaller than z chunk size, default None \n",
    "resample_num_slices = 1 # number of slices to be processed in one go for resampling, default 1\n",
    "resample_factor = (1,1) # original is (0.306,0.433,0.306)\n",
    "chunks = (200,200,200) \n",
    "num_workers = 20 \n",
    "file_names = None #'img_[0-9]{4}.tiff' # default 'img_[0-9]{4}.tiff'\n",
    "\n",
    "## crop\n",
    "xrange = None\n",
    "yrange = None\n",
    "zrange = None\n",
    "\n",
    "## rotate\n",
    "lateral_rotate_angle = None # default None\n",
    "\n",
    "## flip\n",
    "flip = (0,0,0) # default (0,0,0)\n",
    "\n",
    "\n",
    "#############\n",
    "start = time.time()\n",
    "utils.convert_to_zarr_v2(slab_path, slab_zarr_path, pc2_img_size, load_num_slices=load_num_slices,\n",
    "                        resample_num_slices=resample_num_slices, file_names=file_names, \n",
    "                        chunks=chunks, num_workers=num_workers, lateral_rotate_angle=lateral_rotate_angle,\n",
    "                        flip=flip, crop_xcoords=xrange, crop_ycoords=yrange, crop_zcoords=zrange,\n",
    "                        resample_factor=resample_factor)\n",
    "print(time.time()-start, 'seconds elapsed')"
   ]
  },
  {
   "cell_type": "markdown",
   "id": "1be4d998",
   "metadata": {},
   "source": [
    "## Flatten warp the slabs\n",
    "\n",
    "[Return to top](#top)\n",
    "\n",
    "<a id='flattenwarp'></a>"
   ]
  },
  {
   "cell_type": "code",
   "execution_count": 4,
   "id": "861aef02",
   "metadata": {},
   "outputs": [
    {
     "name": "stdout",
     "output_type": "stream",
     "text": [
      "New fixed image shape: (1095, 1167, 1367)\n",
      "New fixed range: x 6312 7407\n",
      "New fixed range: y 5896 7063\n",
      "New fixed range: z 3318 4685\n"
     ]
    }
   ],
   "source": [
    "# (1)\n",
    "grid_path = '/mnt/share3/webster/mEhmAD_1-3_real/warping_grids/1-lec_grid_flatten_upsampled.npy'\n",
    "original_shape = (18100,8100,5336)\n",
    "new_grid_spacing = 3*(64,) # doesn't matter if range_mode= 'moving'\n",
    "range_mode='moving'\n",
    "\n",
    "# We will compute  the grid spacing from the zarr specifically \n",
    "save_grid_path = '/mnt/share3/webster/mEhmAD_1-3_real/warping_grids/1-lec_grid_flatten_upsampled_cropped.npy'\n",
    "\n",
    "# these are the coordinates in original image of FOV \n",
    "xrange = [6382,7406]\n",
    "yrange = [5915,6939]\n",
    "zrange = [2976,4000]\n",
    "\n",
    "\n",
    "\n",
    "################\n",
    "grid_new,new_shape = crop_grid(grid_path, original_shape, new_grid_spacing, range_mode=range_mode, \n",
    "                         xrange=xrange, yrange=yrange, zrange=zrange, save_grid_path=save_grid_path)"
   ]
  },
  {
   "cell_type": "code",
   "execution_count": 6,
   "id": "3590d004",
   "metadata": {},
   "outputs": [
    {
     "name": "stdout",
     "output_type": "stream",
     "text": [
      "553\n",
      "-85\n",
      "605\n"
     ]
    }
   ],
   "source": [
    "# How much to translate when overlaying with cropped flattened FOV\n",
    "xrange = [5759,8410]\n",
    "yrange = [5981,7328]\n",
    "zrange = [4213-1500,4213+500]\n",
    "print(6312-5759)\n",
    "print(5896-5981)\n",
    "print(3318-(4213-1500))"
   ]
  },
  {
   "cell_type": "code",
   "execution_count": 5,
   "id": "7f8dc05b",
   "metadata": {
    "scrolled": true
   },
   "outputs": [
    {
     "name": "stdout",
     "output_type": "stream",
     "text": [
      "(1095, 1167, 1367)\n",
      "Loading grid values...\n",
      "Warping image...\n",
      "Moving image size: 2.147483648 GB\n"
     ]
    },
    {
     "name": "stderr",
     "output_type": "stream",
     "text": [
      "100%|██████████| 252/252 [00:33<00:00, 18.47it/s]\n"
     ]
    },
    {
     "name": "stdout",
     "output_type": "stream",
     "text": [
      "Time elapsed: 0.904174 minutes\n",
      "Loading z 0 - 200\n"
     ]
    },
    {
     "name": "stderr",
     "output_type": "stream",
     "text": [
      "100%|██████████| 36/36 [00:01<00:00, 34.96it/s]\n",
      "100%|██████████| 200/200 [00:05<00:00, 36.43it/s]"
     ]
    },
    {
     "name": "stdout",
     "output_type": "stream",
     "text": [
      "Loading z 200 - 400\n"
     ]
    },
    {
     "name": "stderr",
     "output_type": "stream",
     "text": [
      "\n",
      "100%|██████████| 36/36 [00:02<00:00, 14.79it/s]\n",
      "100%|██████████| 200/200 [00:06<00:00, 30.86it/s]"
     ]
    },
    {
     "name": "stdout",
     "output_type": "stream",
     "text": [
      "Loading z 400 - 600\n"
     ]
    },
    {
     "name": "stderr",
     "output_type": "stream",
     "text": [
      "\n",
      "100%|██████████| 36/36 [00:02<00:00, 12.92it/s]\n",
      "100%|██████████| 200/200 [00:05<00:00, 36.21it/s]\n"
     ]
    },
    {
     "name": "stdout",
     "output_type": "stream",
     "text": [
      "Loading z 600 - 800\n"
     ]
    },
    {
     "name": "stderr",
     "output_type": "stream",
     "text": [
      "100%|██████████| 36/36 [00:02<00:00, 12.86it/s]\n",
      "100%|██████████| 200/200 [00:06<00:00, 32.68it/s]"
     ]
    },
    {
     "name": "stdout",
     "output_type": "stream",
     "text": [
      "Loading z 800 - 1000\n"
     ]
    },
    {
     "name": "stderr",
     "output_type": "stream",
     "text": [
      "\n",
      "100%|██████████| 36/36 [00:02<00:00, 12.74it/s]\n",
      "100%|██████████| 200/200 [00:05<00:00, 36.71it/s]\n"
     ]
    },
    {
     "name": "stdout",
     "output_type": "stream",
     "text": [
      "Loading z 1000 - 1200\n"
     ]
    },
    {
     "name": "stderr",
     "output_type": "stream",
     "text": [
      "100%|██████████| 36/36 [00:02<00:00, 17.88it/s]\n",
      "100%|██████████| 200/200 [00:08<00:00, 24.77it/s]\n"
     ]
    },
    {
     "name": "stdout",
     "output_type": "stream",
     "text": [
      "Loading z 1200 - 1367\n"
     ]
    },
    {
     "name": "stderr",
     "output_type": "stream",
     "text": [
      "100%|██████████| 36/36 [00:00<00:00, 61.02it/s]\n",
      "100%|██████████| 167/167 [00:04<00:00, 37.22it/s]\n"
     ]
    }
   ],
   "source": [
    "# 3\n",
    "fixed_zarr_path = new_shape\n",
    "moving_zarr_path = bdir(name_prefix+'.zarr')\n",
    "warped_zarr_path = bdir(name_prefix+'_flattened.zarr')\n",
    "\n",
    "\n",
    "# Parameters for TPS zarr warp\n",
    "grid_spacing = 3*(64,)\n",
    "chunks=3*(200,)\n",
    "nb_workers = 8\n",
    "\n",
    "\n",
    "# grid I/O \n",
    "save_grid_values_path = None\n",
    "use_grid_values_path = '/mnt/share3/webster/mEhmAD_1-3_real/warping_grids/1-lec_grid_flatten_upsampled_cropped.npy'\n",
    "\n",
    "\n",
    "\n",
    "\n",
    "##########################\n",
    "\n",
    "moving_pts_paths = None # doesn't actually matter for this \n",
    "fixed_pts_paths =  None\n",
    "\n",
    "# anchor parameters (using the surface on the other side and manually identified anchors on the cut surface)\n",
    "static_pts_paths = None\n",
    "# affine parameters \n",
    "R_path = None\n",
    "b_path = None\n",
    "zadd = new_shape[2]-zarr.open(moving_zarr_path).shape[2]\n",
    "\n",
    "TPS_warp(moving_zarr_path, fixed_zarr_path, warped_zarr_path, moving_pts_paths, fixed_pts_paths,\n",
    "         static_pts_paths=static_pts_paths, R_path=R_path, b_path=b_path,\n",
    "          grid_spacing=grid_spacing, smooth=2, chunks=chunks,zadd=zadd,\n",
    "          nb_workers=nb_workers, padding=2, save_grid_values_path=save_grid_values_path, \n",
    "          show_residuals=True, use_grid_values_path=use_grid_values_path)\n",
    "\n",
    "# Convert zarr to tiff\n",
    "tiff_path = warped_zarr_path[:-5]+'_tiffs'\n",
    "convert_zarr_to_tiff(warped_zarr_path, tiff_path, num_workers=24)"
   ]
  },
  {
   "cell_type": "markdown",
   "id": "66b20bfd",
   "metadata": {},
   "source": [
    "# Get surface endpoints"
   ]
  },
  {
   "cell_type": "code",
   "execution_count": 7,
   "id": "7410b684",
   "metadata": {},
   "outputs": [
    {
     "name": "stderr",
     "output_type": "stream",
     "text": [
      "100%|██████████| 252/252 [00:22<00:00, 11.20it/s]\n"
     ]
    }
   ],
   "source": [
    "# Now set the parameters \n",
    "# Need one set for the top surface and one set for the bottom surface of each slab \n",
    "\n",
    "zarr_path = bdir(name_prefix+'_flattened.zarr')\n",
    "zarr_segmented_path = bdir(name_prefix+'_flattened_segmented.zarr') # bdir('vessel_tests/'+name_prefix+'_segmented.zarr')\n",
    "\n",
    "sample_coord_ranges = None #[[[0,1000],[0,1000],[0,400]]]\n",
    "threshold_type = \"set\" # \"set\" or \"graphcut\" or \"otsu\"\n",
    "\n",
    "if threshold_type == 'set':\n",
    "    intensity_thresholds = [60000]\n",
    "    morphopts = [None]\n",
    "\n",
    "    for i in range(len(intensity_thresholds)):\n",
    "        opts = {\n",
    "            'percentile_threshold': intensity_thresholds[i],\n",
    "            'threshold_type': threshold_type,\n",
    "            'morphopts': morphopts[i],\n",
    "            'num_workers': 24,\n",
    "            'sample_coord_ranges': sample_coord_ranges\n",
    "        }\n",
    "        \n",
    "        threshold_image(zarr_path, zarr_segmented_path, **opts)\n",
    "        \n",
    "elif threshold_type == 'graphcut':\n",
    "    min_thresholds = [.25*65535]\n",
    "    saturate_image_thresholds = [.95*65535]\n",
    "    morphopts = [None]  #[('dilate','ball',2)]*2\n",
    "    \n",
    "    for i in range(len(min_thresholds)):\n",
    "        opts = {\n",
    "            'min_threshold' : min_thresholds[i], # This sets a minimum intensity threshold for pixels \n",
    "            'saturate_image_threshold' : saturate_image_thresholds[i],\n",
    "            'k' : 2,\n",
    "            'alpha' : 0.25,\n",
    "            'num_workers' : 24,\n",
    "            'overlap' : 25,\n",
    "            'morphopts' : morphopts[i],\n",
    "            'sample_coord_ranges' : sample_coord_ranges \n",
    "            }\n",
    "        zarr_graphcut3d(zarr_path, zarr_segmented_path, **opts)"
   ]
  },
  {
   "cell_type": "code",
   "execution_count": 18,
   "id": "3c22ee08",
   "metadata": {},
   "outputs": [
    {
     "name": "stderr",
     "output_type": "stream",
     "text": [
      "100%|██████████| 252/252 [00:31<00:00,  8.05it/s]\n"
     ]
    },
    {
     "name": "stdout",
     "output_type": "stream",
     "text": [
      "Time elapsed: 0.016544 hours\n"
     ]
    }
   ],
   "source": [
    "surf_zarr_path = None \n",
    "segmented_path = bdir(name_prefix+'_flattened_segmented.zarr')\n",
    "skel_path = bdir(name_prefix+'_flattened_segmented_skel.zarr')\n",
    "endpoints_path = bdir(name_prefix+'_endpoints_bottom.npy')\n",
    "min_branch_length = 15\n",
    "min_cc = 100\n",
    "overlap = 25 # make sure this is much greater than the min_cc and min_branch_length \n",
    "num_workers = 24\n",
    "\n",
    "# Kwargs for prune_directionality \n",
    "prune_directionality_num_points = 4\n",
    "orientation = 'bottom' # first we get all the top surface points \n",
    "\n",
    "\n",
    "############# Perform skeletonization ##############\n",
    "start = time.time()\n",
    "top_endpoints = trace_zarr(segmented_path, surf_zarr_path, skel_path,\n",
    "                      min_branch_length, min_cc, overlap=overlap, num_workers=num_workers,\n",
    "                      prune_directionality_num_points=prune_directionality_num_points,\n",
    "                      orientation=orientation) # , z_shape=z_shape)\n",
    "np.save(endpoints_path,top_endpoints)\n",
    "print(\"Time elapsed: %f hours\" %((time.time()-start)/3600))\n",
    "\n"
   ]
  },
  {
   "cell_type": "code",
   "execution_count": 19,
   "id": "5fba6f44",
   "metadata": {},
   "outputs": [
    {
     "data": {
      "text/plain": [
       "'/mnt/share3/webster/mEhmAD_1-3_real/tracing/1-ptau_pred_flattened_segmented_skel.tif'"
      ]
     },
     "execution_count": 19,
     "metadata": {},
     "output_type": "execute_result"
    }
   ],
   "source": [
    "# view skeleton\n",
    "\n",
    "z = zarr.open(skel_path)\n",
    "img = z[:,85:,:]\n",
    "\n",
    "io.writeData(skel_path[:-5]+'.tif',img)"
   ]
  },
  {
   "cell_type": "code",
   "execution_count": 10,
   "id": "1e115fb1",
   "metadata": {},
   "outputs": [
    {
     "data": {
      "text/plain": [
       "'/mnt/share3/webster/mEhmAD_1-3_real/tracing/1-ptau_pred_flattened_segmented.tif'"
      ]
     },
     "execution_count": 10,
     "metadata": {},
     "output_type": "execute_result"
    }
   ],
   "source": [
    "# view segmentation\n",
    "\n",
    "z = zarr.open(segmented_path)\n",
    "img = z[:]\n",
    "\n",
    "io.writeData(segmented_path[:-5]+'.tif',img)"
   ]
  }
 ],
 "metadata": {
  "kernelspec": {
   "display_name": "Python (hubris)",
   "language": "python",
   "name": "hubris"
  },
  "language_info": {
   "codemirror_mode": {
    "name": "ipython",
    "version": 3
   },
   "file_extension": ".py",
   "mimetype": "text/x-python",
   "name": "python",
   "nbconvert_exporter": "python",
   "pygments_lexer": "ipython3",
   "version": "3.6.8"
  }
 },
 "nbformat": 4,
 "nbformat_minor": 5
}

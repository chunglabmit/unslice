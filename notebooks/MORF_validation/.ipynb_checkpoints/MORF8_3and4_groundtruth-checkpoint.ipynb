{
 "cells": [
  {
   "cell_type": "markdown",
   "id": "d874263c",
   "metadata": {},
   "source": [
    "<a id='top'></a>"
   ]
  },
  {
   "cell_type": "code",
   "execution_count": 2,
   "id": "87d4b8e3",
   "metadata": {},
   "outputs": [],
   "source": [
    "# Ignore warnings\n",
    "import warnings\n",
    "warnings.filterwarnings('ignore')\n",
    "\n",
    "\n",
    "# %matplotlib nbagg \n",
    "%matplotlib notebook\n",
    "# %matplotlib inline\n",
    "\n",
    "\n",
    "\n",
    "## Third party \n",
    "import numpy as np\n",
    "import os, time, zarr, sys\n",
    "from tqdm import tqdm_notebook as tqdm\n",
    "import matplotlib.pyplot as plt\n",
    "import matplotlib as mpl\n",
    "\n",
    "import unslice.IO as io\n",
    "from unslice.utils import *\n",
    "from unslice.registration.featmatch import *\n",
    "from unslice.registration.transform import *\n",
    "from unslice.registration.rigid import *\n",
    "from unslice.registration.gpu_transform import *\n",
    "from unslice.registration.utils import *\n",
    "from unslice.segmentation import *\n",
    "from unslice.tracing.pyoof import OOF, apply_oof_v2\n",
    "from unslice.tracing.skel import *\n",
    "from unslice.flatten import *\n",
    "from unslice.lightsheetcorrect import *\n",
    "\n",
    "\n"
   ]
  },
  {
   "cell_type": "code",
   "execution_count": 3,
   "id": "cbf295c6",
   "metadata": {},
   "outputs": [],
   "source": [
    "# Parameters that are constant throughout notebook\n",
    "working_dir = '/mnt/share3/webster/MORF8_3and4/MORF8_3and4'\n",
    "\n",
    "def bdir(fname):\n",
    "    return os.path.join(working_dir, fname)\n",
    "\n",
    "# prefix to add to the beginning of each filename \n",
    "name_prefix = 'groundtruth_v5'\n",
    "name_prefix2 = 'groundtruth_lec'"
   ]
  },
  {
   "cell_type": "markdown",
   "id": "99e1de03",
   "metadata": {},
   "source": [
    "# Table of contents\n",
    "\n",
    "### Pre-processing\n",
    "[1. Convert to zarr](#convert)<br>\n",
    "\n",
    "[2. crop region](#cropregions)<br>\n"
   ]
  },
  {
   "cell_type": "markdown",
   "id": "1afa4744",
   "metadata": {},
   "source": [
    "# Convert to zarr\n",
    "<a id='convert'></a>\n",
    "\n",
    "[Return to top](#top)"
   ]
  },
  {
   "cell_type": "markdown",
   "id": "e2ae586e",
   "metadata": {},
   "source": [
    "### V5"
   ]
  },
  {
   "cell_type": "code",
   "execution_count": 5,
   "id": "00f34a2f",
   "metadata": {
    "scrolled": true
   },
   "outputs": [
    {
     "name": "stdout",
     "output_type": "stream",
     "text": [
      "Processing chunk x:1800-5100, y:300-2900, z:960-1000\n"
     ]
    },
    {
     "name": "stderr",
     "output_type": "stream",
     "text": [
      "100%|██████████| 40/40 [00:54<00:00,  1.37s/it]\n"
     ]
    },
    {
     "name": "stdout",
     "output_type": "stream",
     "text": [
      "Data I/O, resampling, rotation complete. Commencing flip and zarr assignment...\n"
     ]
    },
    {
     "name": "stderr",
     "output_type": "stream",
     "text": [
      "100%|██████████| 221/221 [00:04<00:00, 49.33it/s]"
     ]
    },
    {
     "name": "stdout",
     "output_type": "stream",
     "text": [
      "Processing chunk x:1800-5100, y:300-2900, z:1000-1040\n"
     ]
    },
    {
     "name": "stderr",
     "output_type": "stream",
     "text": [
      "\n",
      "100%|██████████| 40/40 [01:15<00:00,  1.90s/it]\n"
     ]
    },
    {
     "name": "stdout",
     "output_type": "stream",
     "text": [
      "Data I/O, resampling, rotation complete. Commencing flip and zarr assignment...\n"
     ]
    },
    {
     "name": "stderr",
     "output_type": "stream",
     "text": [
      "100%|██████████| 221/221 [00:14<00:00, 15.00it/s]"
     ]
    },
    {
     "name": "stdout",
     "output_type": "stream",
     "text": [
      "Processing chunk x:1800-5100, y:300-2900, z:1040-1080\n"
     ]
    },
    {
     "name": "stderr",
     "output_type": "stream",
     "text": [
      "\n",
      "100%|██████████| 40/40 [01:08<00:00,  1.70s/it]\n"
     ]
    },
    {
     "name": "stdout",
     "output_type": "stream",
     "text": [
      "Data I/O, resampling, rotation complete. Commencing flip and zarr assignment...\n"
     ]
    },
    {
     "name": "stderr",
     "output_type": "stream",
     "text": [
      "100%|██████████| 221/221 [00:23<00:00,  9.54it/s]\n"
     ]
    },
    {
     "name": "stdout",
     "output_type": "stream",
     "text": [
      "Processing chunk x:1800-5100, y:300-2900, z:1080-1120\n"
     ]
    },
    {
     "name": "stderr",
     "output_type": "stream",
     "text": [
      "100%|██████████| 40/40 [01:15<00:00,  1.89s/it]\n"
     ]
    },
    {
     "name": "stdout",
     "output_type": "stream",
     "text": [
      "Data I/O, resampling, rotation complete. Commencing flip and zarr assignment...\n"
     ]
    },
    {
     "name": "stderr",
     "output_type": "stream",
     "text": [
      "100%|██████████| 221/221 [00:33<00:00,  6.56it/s]\n"
     ]
    },
    {
     "name": "stdout",
     "output_type": "stream",
     "text": [
      "Processing chunk x:1800-5100, y:300-2900, z:1120-1160\n"
     ]
    },
    {
     "name": "stderr",
     "output_type": "stream",
     "text": [
      "100%|██████████| 40/40 [00:56<00:00,  1.40s/it]\n"
     ]
    },
    {
     "name": "stdout",
     "output_type": "stream",
     "text": [
      "Data I/O, resampling, rotation complete. Commencing flip and zarr assignment...\n"
     ]
    },
    {
     "name": "stderr",
     "output_type": "stream",
     "text": [
      "100%|██████████| 221/221 [00:42<00:00,  5.20it/s]\n"
     ]
    },
    {
     "name": "stdout",
     "output_type": "stream",
     "text": [
      "Processing chunk x:1800-5100, y:300-2900, z:1160-1200\n"
     ]
    },
    {
     "name": "stderr",
     "output_type": "stream",
     "text": [
      "100%|██████████| 40/40 [01:16<00:00,  1.92s/it]"
     ]
    },
    {
     "name": "stdout",
     "output_type": "stream",
     "text": [
      "Data I/O, resampling, rotation complete. Commencing flip and zarr assignment...\n"
     ]
    },
    {
     "name": "stderr",
     "output_type": "stream",
     "text": [
      "\n",
      "100%|██████████| 221/221 [00:20<00:00, 13.68it/s]\n"
     ]
    },
    {
     "name": "stdout",
     "output_type": "stream",
     "text": [
      "Processing chunk x:1800-5100, y:300-2900, z:1200-1240\n"
     ]
    },
    {
     "name": "stderr",
     "output_type": "stream",
     "text": [
      "100%|██████████| 40/40 [00:50<00:00,  1.26s/it]\n"
     ]
    },
    {
     "name": "stdout",
     "output_type": "stream",
     "text": [
      "Data I/O, resampling, rotation complete. Commencing flip and zarr assignment...\n"
     ]
    },
    {
     "name": "stderr",
     "output_type": "stream",
     "text": [
      "100%|██████████| 221/221 [00:31<00:00,  7.01it/s]"
     ]
    },
    {
     "name": "stdout",
     "output_type": "stream",
     "text": [
      "Processing chunk x:1800-5100, y:300-2900, z:1240-1280\n"
     ]
    },
    {
     "name": "stderr",
     "output_type": "stream",
     "text": [
      "\n",
      "100%|██████████| 40/40 [01:14<00:00,  1.86s/it]\n"
     ]
    },
    {
     "name": "stdout",
     "output_type": "stream",
     "text": [
      "Data I/O, resampling, rotation complete. Commencing flip and zarr assignment...\n"
     ]
    },
    {
     "name": "stderr",
     "output_type": "stream",
     "text": [
      "100%|██████████| 221/221 [00:23<00:00,  9.29it/s]"
     ]
    },
    {
     "name": "stdout",
     "output_type": "stream",
     "text": [
      "Processing chunk x:1800-5100, y:300-2900, z:1280-1320\n"
     ]
    },
    {
     "name": "stderr",
     "output_type": "stream",
     "text": [
      "\n",
      "100%|██████████| 40/40 [01:00<00:00,  1.52s/it]\n"
     ]
    },
    {
     "name": "stdout",
     "output_type": "stream",
     "text": [
      "Data I/O, resampling, rotation complete. Commencing flip and zarr assignment...\n"
     ]
    },
    {
     "name": "stderr",
     "output_type": "stream",
     "text": [
      "100%|██████████| 221/221 [00:49<00:00,  4.43it/s]"
     ]
    },
    {
     "name": "stdout",
     "output_type": "stream",
     "text": [
      "Processing chunk x:1800-5100, y:300-2900, z:1320-1360\n"
     ]
    },
    {
     "name": "stderr",
     "output_type": "stream",
     "text": [
      "\n",
      "100%|██████████| 40/40 [00:53<00:00,  1.34s/it]\n"
     ]
    },
    {
     "name": "stdout",
     "output_type": "stream",
     "text": [
      "Data I/O, resampling, rotation complete. Commencing flip and zarr assignment...\n"
     ]
    },
    {
     "name": "stderr",
     "output_type": "stream",
     "text": [
      "100%|██████████| 221/221 [00:57<00:00,  3.82it/s]"
     ]
    },
    {
     "name": "stdout",
     "output_type": "stream",
     "text": [
      "Processing chunk x:1800-5100, y:300-2900, z:1360-1400\n"
     ]
    },
    {
     "name": "stderr",
     "output_type": "stream",
     "text": [
      "\n",
      "100%|██████████| 40/40 [00:57<00:00,  1.44s/it]\n"
     ]
    },
    {
     "name": "stdout",
     "output_type": "stream",
     "text": [
      "Data I/O, resampling, rotation complete. Commencing flip and zarr assignment...\n"
     ]
    },
    {
     "name": "stderr",
     "output_type": "stream",
     "text": [
      "100%|██████████| 221/221 [00:04<00:00, 47.27it/s]"
     ]
    },
    {
     "name": "stdout",
     "output_type": "stream",
     "text": [
      "Processing chunk x:1800-5100, y:300-2900, z:1400-1440\n"
     ]
    },
    {
     "name": "stderr",
     "output_type": "stream",
     "text": [
      "\n",
      "100%|██████████| 40/40 [01:04<00:00,  1.61s/it]\n"
     ]
    },
    {
     "name": "stdout",
     "output_type": "stream",
     "text": [
      "Data I/O, resampling, rotation complete. Commencing flip and zarr assignment...\n"
     ]
    },
    {
     "name": "stderr",
     "output_type": "stream",
     "text": [
      "100%|██████████| 221/221 [00:17<00:00, 12.51it/s]"
     ]
    },
    {
     "name": "stdout",
     "output_type": "stream",
     "text": [
      "Processing chunk x:1800-5100, y:300-2900, z:1440-1480\n"
     ]
    },
    {
     "name": "stderr",
     "output_type": "stream",
     "text": [
      "\n",
      "100%|██████████| 40/40 [01:02<00:00,  1.56s/it]\n"
     ]
    },
    {
     "name": "stdout",
     "output_type": "stream",
     "text": [
      "Data I/O, resampling, rotation complete. Commencing flip and zarr assignment...\n"
     ]
    },
    {
     "name": "stderr",
     "output_type": "stream",
     "text": [
      "100%|██████████| 221/221 [00:46<00:00,  4.77it/s]"
     ]
    },
    {
     "name": "stdout",
     "output_type": "stream",
     "text": [
      "Processing chunk x:1800-5100, y:300-2900, z:1480-1520\n"
     ]
    },
    {
     "name": "stderr",
     "output_type": "stream",
     "text": [
      "\n",
      "100%|██████████| 40/40 [00:48<00:00,  1.22s/it]"
     ]
    },
    {
     "name": "stdout",
     "output_type": "stream",
     "text": [
      "Data I/O, resampling, rotation complete. Commencing flip and zarr assignment...\n"
     ]
    },
    {
     "name": "stderr",
     "output_type": "stream",
     "text": [
      "\n",
      "100%|██████████| 221/221 [00:46<00:00,  4.76it/s]"
     ]
    },
    {
     "name": "stdout",
     "output_type": "stream",
     "text": [
      "Processing chunk x:1800-5100, y:300-2900, z:1520-1560\n"
     ]
    },
    {
     "name": "stderr",
     "output_type": "stream",
     "text": [
      "\n",
      "100%|██████████| 40/40 [01:13<00:00,  1.84s/it]\n"
     ]
    },
    {
     "name": "stdout",
     "output_type": "stream",
     "text": [
      "Data I/O, resampling, rotation complete. Commencing flip and zarr assignment...\n"
     ]
    },
    {
     "name": "stderr",
     "output_type": "stream",
     "text": [
      "100%|██████████| 221/221 [00:33<00:00,  6.67it/s]\n"
     ]
    },
    {
     "name": "stdout",
     "output_type": "stream",
     "text": [
      "Processing chunk x:1800-5100, y:300-2900, z:1560-1600\n"
     ]
    },
    {
     "name": "stderr",
     "output_type": "stream",
     "text": [
      "100%|██████████| 40/40 [00:46<00:00,  1.17s/it]\n"
     ]
    },
    {
     "name": "stdout",
     "output_type": "stream",
     "text": [
      "Data I/O, resampling, rotation complete. Commencing flip and zarr assignment...\n"
     ]
    },
    {
     "name": "stderr",
     "output_type": "stream",
     "text": [
      "100%|██████████| 221/221 [00:05<00:00, 40.42it/s]"
     ]
    },
    {
     "name": "stdout",
     "output_type": "stream",
     "text": [
      "Processing chunk x:1800-5100, y:300-2900, z:1600-1620\n"
     ]
    },
    {
     "name": "stderr",
     "output_type": "stream",
     "text": [
      "\n",
      "100%|██████████| 20/20 [00:41<00:00,  2.08s/it]"
     ]
    },
    {
     "name": "stdout",
     "output_type": "stream",
     "text": [
      "Data I/O, resampling, rotation complete. Commencing flip and zarr assignment...\n"
     ]
    },
    {
     "name": "stderr",
     "output_type": "stream",
     "text": [
      "\n",
      "100%|██████████| 221/221 [00:12<00:00, 18.13it/s]\n"
     ]
    },
    {
     "name": "stdout",
     "output_type": "stream",
     "text": [
      "1522.992508172989 seconds elapsed\n"
     ]
    }
   ],
   "source": [
    "# Parameters for converting to zarr\n",
    "\n",
    "slab_path = '/mnt/beegfs/juhyuk/MORF/20220423_12_47_26_MORF_8_lec.v5.dth/Ex_561_Em_2_destriped_stitched_tiffs'\n",
    "slab_zarr_path = bdir(name_prefix+'.zarr')\n",
    "pc2_img_size = (9986,3866,2053)\n",
    "\n",
    "\n",
    "## Optional parameters \n",
    "load_num_slices = 40 # should be smaller than z chunk size, default None \n",
    "resample_num_slices = 1 # number of slices to be processed in one go for resampling, default 1\n",
    "resample_factor = (1,1) # original is (1,231 x 1,74 x 1,231)\n",
    "chunks = (200,200,200) \n",
    "num_workers = 20 \n",
    "file_names = 'img_[0-9]{4}.tiff' # default 'img_[0-9]{4}.tiff'\n",
    "\n",
    "## crop\n",
    "xrange = [1800,5100]\n",
    "yrange = [300,2900]\n",
    "zrange = [960,1620] #[220,1620]\n",
    "\n",
    "## rotate\n",
    "lateral_rotate_angle = None # default None\n",
    "\n",
    "## flip\n",
    "flip = (0,0,0) # default (0,0,0)\n",
    "\n",
    "\n",
    "#############\n",
    "start = time.time()\n",
    "utils.convert_to_zarr_v2(slab_path, slab_zarr_path, pc2_img_size, load_num_slices=load_num_slices,\n",
    "                        resample_num_slices=resample_num_slices, file_names=file_names, \n",
    "                        chunks=chunks, num_workers=num_workers, lateral_rotate_angle=lateral_rotate_angle,\n",
    "                        flip=flip, crop_xcoords=xrange, crop_ycoords=yrange, crop_zcoords=zrange,\n",
    "                        resample_factor=resample_factor)\n",
    "print(time.time()-start, 'seconds elapsed')"
   ]
  },
  {
   "cell_type": "markdown",
   "id": "b1985ee7",
   "metadata": {},
   "source": [
    "## Lec"
   ]
  },
  {
   "cell_type": "code",
   "execution_count": 7,
   "id": "12b13c76",
   "metadata": {
    "scrolled": true
   },
   "outputs": [
    {
     "name": "stdout",
     "output_type": "stream",
     "text": [
      "Processing chunk x:1800-5100, y:300-2900, z:960-1000\n"
     ]
    },
    {
     "name": "stderr",
     "output_type": "stream",
     "text": [
      "100%|██████████| 40/40 [01:04<00:00,  1.61s/it]\n"
     ]
    },
    {
     "name": "stdout",
     "output_type": "stream",
     "text": [
      "Data I/O, resampling, rotation complete. Commencing flip and zarr assignment...\n"
     ]
    },
    {
     "name": "stderr",
     "output_type": "stream",
     "text": [
      "100%|██████████| 221/221 [00:15<00:00, 13.84it/s]"
     ]
    },
    {
     "name": "stdout",
     "output_type": "stream",
     "text": [
      "Processing chunk x:1800-5100, y:300-2900, z:1000-1040\n"
     ]
    },
    {
     "name": "stderr",
     "output_type": "stream",
     "text": [
      "\n",
      "100%|██████████| 40/40 [00:49<00:00,  1.23s/it]\n"
     ]
    },
    {
     "name": "stdout",
     "output_type": "stream",
     "text": [
      "Data I/O, resampling, rotation complete. Commencing flip and zarr assignment...\n"
     ]
    },
    {
     "name": "stderr",
     "output_type": "stream",
     "text": [
      "100%|██████████| 221/221 [00:14<00:00, 15.39it/s]"
     ]
    },
    {
     "name": "stdout",
     "output_type": "stream",
     "text": [
      "Processing chunk x:1800-5100, y:300-2900, z:1040-1080\n"
     ]
    },
    {
     "name": "stderr",
     "output_type": "stream",
     "text": [
      "\n",
      "100%|██████████| 40/40 [01:05<00:00,  1.65s/it]\n"
     ]
    },
    {
     "name": "stdout",
     "output_type": "stream",
     "text": [
      "Data I/O, resampling, rotation complete. Commencing flip and zarr assignment...\n"
     ]
    },
    {
     "name": "stderr",
     "output_type": "stream",
     "text": [
      "100%|██████████| 221/221 [00:24<00:00,  8.86it/s]"
     ]
    },
    {
     "name": "stdout",
     "output_type": "stream",
     "text": [
      "Processing chunk x:1800-5100, y:300-2900, z:1080-1120\n"
     ]
    },
    {
     "name": "stderr",
     "output_type": "stream",
     "text": [
      "\n",
      "100%|██████████| 40/40 [00:53<00:00,  1.34s/it]"
     ]
    },
    {
     "name": "stdout",
     "output_type": "stream",
     "text": [
      "Data I/O, resampling, rotation complete. Commencing flip and zarr assignment...\n"
     ]
    },
    {
     "name": "stderr",
     "output_type": "stream",
     "text": [
      "\n",
      "100%|██████████| 221/221 [00:40<00:00,  5.44it/s]\n"
     ]
    },
    {
     "name": "stdout",
     "output_type": "stream",
     "text": [
      "Processing chunk x:1800-5100, y:300-2900, z:1120-1160\n"
     ]
    },
    {
     "name": "stderr",
     "output_type": "stream",
     "text": [
      "100%|██████████| 40/40 [00:53<00:00,  1.33s/it]\n"
     ]
    },
    {
     "name": "stdout",
     "output_type": "stream",
     "text": [
      "Data I/O, resampling, rotation complete. Commencing flip and zarr assignment...\n"
     ]
    },
    {
     "name": "stderr",
     "output_type": "stream",
     "text": [
      "100%|██████████| 221/221 [00:40<00:00,  5.41it/s]\n"
     ]
    },
    {
     "name": "stdout",
     "output_type": "stream",
     "text": [
      "Processing chunk x:1800-5100, y:300-2900, z:1160-1200\n"
     ]
    },
    {
     "name": "stderr",
     "output_type": "stream",
     "text": [
      "100%|██████████| 40/40 [01:12<00:00,  1.81s/it]\n"
     ]
    },
    {
     "name": "stdout",
     "output_type": "stream",
     "text": [
      "Data I/O, resampling, rotation complete. Commencing flip and zarr assignment...\n"
     ]
    },
    {
     "name": "stderr",
     "output_type": "stream",
     "text": [
      "100%|██████████| 221/221 [00:06<00:00, 33.76it/s]"
     ]
    },
    {
     "name": "stdout",
     "output_type": "stream",
     "text": [
      "Processing chunk x:1800-5100, y:300-2900, z:1200-1240\n"
     ]
    },
    {
     "name": "stderr",
     "output_type": "stream",
     "text": [
      "\n",
      "100%|██████████| 40/40 [00:59<00:00,  1.48s/it]\n"
     ]
    },
    {
     "name": "stdout",
     "output_type": "stream",
     "text": [
      "Data I/O, resampling, rotation complete. Commencing flip and zarr assignment...\n"
     ]
    },
    {
     "name": "stderr",
     "output_type": "stream",
     "text": [
      "100%|██████████| 221/221 [00:41<00:00,  5.35it/s]"
     ]
    },
    {
     "name": "stdout",
     "output_type": "stream",
     "text": [
      "Processing chunk x:1800-5100, y:300-2900, z:1240-1280\n"
     ]
    },
    {
     "name": "stderr",
     "output_type": "stream",
     "text": [
      "\n",
      "100%|██████████| 40/40 [00:56<00:00,  1.42s/it]\n"
     ]
    },
    {
     "name": "stdout",
     "output_type": "stream",
     "text": [
      "Data I/O, resampling, rotation complete. Commencing flip and zarr assignment...\n"
     ]
    },
    {
     "name": "stderr",
     "output_type": "stream",
     "text": [
      "100%|██████████| 221/221 [00:25<00:00,  8.54it/s]"
     ]
    },
    {
     "name": "stdout",
     "output_type": "stream",
     "text": [
      "Processing chunk x:1800-5100, y:300-2900, z:1280-1320\n"
     ]
    },
    {
     "name": "stderr",
     "output_type": "stream",
     "text": [
      "\n",
      "100%|██████████| 40/40 [01:29<00:00,  2.25s/it]\n"
     ]
    },
    {
     "name": "stdout",
     "output_type": "stream",
     "text": [
      "Data I/O, resampling, rotation complete. Commencing flip and zarr assignment...\n"
     ]
    },
    {
     "name": "stderr",
     "output_type": "stream",
     "text": [
      "100%|██████████| 221/221 [00:49<00:00,  4.48it/s]"
     ]
    },
    {
     "name": "stdout",
     "output_type": "stream",
     "text": [
      "Processing chunk x:1800-5100, y:300-2900, z:1320-1360\n"
     ]
    },
    {
     "name": "stderr",
     "output_type": "stream",
     "text": [
      "\n",
      "100%|██████████| 40/40 [00:50<00:00,  1.26s/it]\n"
     ]
    },
    {
     "name": "stdout",
     "output_type": "stream",
     "text": [
      "Data I/O, resampling, rotation complete. Commencing flip and zarr assignment...\n"
     ]
    },
    {
     "name": "stderr",
     "output_type": "stream",
     "text": [
      "100%|██████████| 221/221 [00:55<00:00,  3.96it/s]"
     ]
    },
    {
     "name": "stdout",
     "output_type": "stream",
     "text": [
      "Processing chunk x:1800-5100, y:300-2900, z:1360-1400\n"
     ]
    },
    {
     "name": "stderr",
     "output_type": "stream",
     "text": [
      "\n",
      "100%|██████████| 40/40 [00:43<00:00,  1.10s/it]\n"
     ]
    },
    {
     "name": "stdout",
     "output_type": "stream",
     "text": [
      "Data I/O, resampling, rotation complete. Commencing flip and zarr assignment...\n"
     ]
    },
    {
     "name": "stderr",
     "output_type": "stream",
     "text": [
      "100%|██████████| 221/221 [00:04<00:00, 45.80it/s]"
     ]
    },
    {
     "name": "stdout",
     "output_type": "stream",
     "text": [
      "Processing chunk x:1800-5100, y:300-2900, z:1400-1440\n"
     ]
    },
    {
     "name": "stderr",
     "output_type": "stream",
     "text": [
      "\n",
      "100%|██████████| 40/40 [01:09<00:00,  1.74s/it]\n"
     ]
    },
    {
     "name": "stdout",
     "output_type": "stream",
     "text": [
      "Data I/O, resampling, rotation complete. Commencing flip and zarr assignment...\n"
     ]
    },
    {
     "name": "stderr",
     "output_type": "stream",
     "text": [
      "100%|██████████| 221/221 [00:16<00:00, 13.67it/s]"
     ]
    },
    {
     "name": "stdout",
     "output_type": "stream",
     "text": [
      "Processing chunk x:1800-5100, y:300-2900, z:1440-1480\n"
     ]
    },
    {
     "name": "stderr",
     "output_type": "stream",
     "text": [
      "\n",
      "100%|██████████| 40/40 [01:00<00:00,  1.50s/it]\n"
     ]
    },
    {
     "name": "stdout",
     "output_type": "stream",
     "text": [
      "Data I/O, resampling, rotation complete. Commencing flip and zarr assignment...\n"
     ]
    },
    {
     "name": "stderr",
     "output_type": "stream",
     "text": [
      "100%|██████████| 221/221 [00:23<00:00,  9.51it/s]"
     ]
    },
    {
     "name": "stdout",
     "output_type": "stream",
     "text": [
      "Processing chunk x:1800-5100, y:300-2900, z:1480-1520\n"
     ]
    },
    {
     "name": "stderr",
     "output_type": "stream",
     "text": [
      "\n",
      "100%|██████████| 40/40 [01:03<00:00,  1.58s/it]\n"
     ]
    },
    {
     "name": "stdout",
     "output_type": "stream",
     "text": [
      "Data I/O, resampling, rotation complete. Commencing flip and zarr assignment...\n"
     ]
    },
    {
     "name": "stderr",
     "output_type": "stream",
     "text": [
      "100%|██████████| 221/221 [00:28<00:00,  7.63it/s]"
     ]
    },
    {
     "name": "stdout",
     "output_type": "stream",
     "text": [
      "Processing chunk x:1800-5100, y:300-2900, z:1520-1560\n"
     ]
    },
    {
     "name": "stderr",
     "output_type": "stream",
     "text": [
      "\n",
      "100%|██████████| 40/40 [00:48<00:00,  4.93s/it]\n"
     ]
    },
    {
     "name": "stdout",
     "output_type": "stream",
     "text": [
      "Data I/O, resampling, rotation complete. Commencing flip and zarr assignment...\n"
     ]
    },
    {
     "name": "stderr",
     "output_type": "stream",
     "text": [
      "100%|██████████| 221/221 [00:29<00:00,  7.42it/s]"
     ]
    },
    {
     "name": "stdout",
     "output_type": "stream",
     "text": [
      "Processing chunk x:1800-5100, y:300-2900, z:1560-1600\n"
     ]
    },
    {
     "name": "stderr",
     "output_type": "stream",
     "text": [
      "\n",
      "100%|██████████| 40/40 [01:01<00:00,  1.53s/it]\n"
     ]
    },
    {
     "name": "stdout",
     "output_type": "stream",
     "text": [
      "Data I/O, resampling, rotation complete. Commencing flip and zarr assignment...\n"
     ]
    },
    {
     "name": "stderr",
     "output_type": "stream",
     "text": [
      "100%|██████████| 221/221 [00:03<00:00, 65.21it/s]"
     ]
    },
    {
     "name": "stdout",
     "output_type": "stream",
     "text": [
      "Processing chunk x:1800-5100, y:300-2900, z:1600-1620\n"
     ]
    },
    {
     "name": "stderr",
     "output_type": "stream",
     "text": [
      "\n",
      "100%|██████████| 20/20 [00:39<00:00,  1.99s/it]"
     ]
    },
    {
     "name": "stdout",
     "output_type": "stream",
     "text": [
      "Data I/O, resampling, rotation complete. Commencing flip and zarr assignment...\n"
     ]
    },
    {
     "name": "stderr",
     "output_type": "stream",
     "text": [
      "\n",
      "100%|██████████| 221/221 [00:27<00:00,  7.94it/s]\n"
     ]
    },
    {
     "name": "stdout",
     "output_type": "stream",
     "text": [
      "1466.2143495082855 seconds elapsed\n"
     ]
    }
   ],
   "source": [
    "# Parameters for converting to zarr\n",
    "\n",
    "slab_path = '/mnt/beegfs/juhyuk/MORF/20220423_12_47_26_MORF_8_lec.v5.dth/Ex_488_Em_1_destriped_stitched_tiffs'\n",
    "slab_zarr_path = bdir(name_prefix2+'.zarr')\n",
    "pc2_img_size = (9986,3866,2053)\n",
    "\n",
    "\n",
    "## Optional parameters \n",
    "load_num_slices = 40 # should be smaller than z chunk size, default None \n",
    "resample_num_slices = 1 # number of slices to be processed in one go for resampling, default 1\n",
    "resample_factor = (1,1) # original is (1,231 x 1,74 x 1,231)\n",
    "chunks = (200,200,200) \n",
    "num_workers = 20 \n",
    "file_names = 'img_[0-9]{4}.tiff' # default 'img_[0-9]{4}.tiff'\n",
    "\n",
    "## crop\n",
    "xrange = [1800,5100]\n",
    "yrange = [300,2900]\n",
    "zrange = [960,1620] #[220,1620]\n",
    "\n",
    "## rotate\n",
    "lateral_rotate_angle = None # default None\n",
    "\n",
    "## flip\n",
    "flip = (0,0,0) # default (0,0,0)\n",
    "\n",
    "\n",
    "#############\n",
    "start = time.time()\n",
    "utils.convert_to_zarr_v2(slab_path, slab_zarr_path, pc2_img_size, load_num_slices=load_num_slices,\n",
    "                        resample_num_slices=resample_num_slices, file_names=file_names, \n",
    "                        chunks=chunks, num_workers=num_workers, lateral_rotate_angle=lateral_rotate_angle,\n",
    "                        flip=flip, crop_xcoords=xrange, crop_ycoords=yrange, crop_zcoords=zrange,\n",
    "                        resample_factor=resample_factor)\n",
    "print(time.time()-start, 'seconds elapsed')"
   ]
  },
  {
   "cell_type": "code",
   "execution_count": 9,
   "id": "a64be820",
   "metadata": {},
   "outputs": [
    {
     "name": "stdout",
     "output_type": "stream",
     "text": [
      "Loading z 0 - 200\n"
     ]
    },
    {
     "name": "stderr",
     "output_type": "stream",
     "text": [
      "100%|██████████| 221/221 [00:18<00:00, 11.98it/s]\n",
      "100%|██████████| 200/200 [00:39<00:00,  5.02it/s]"
     ]
    },
    {
     "name": "stdout",
     "output_type": "stream",
     "text": [
      "Loading z 200 - 400\n"
     ]
    },
    {
     "name": "stderr",
     "output_type": "stream",
     "text": [
      "\n",
      "100%|██████████| 221/221 [00:21<00:00, 10.43it/s]\n",
      "100%|██████████| 200/200 [00:38<00:00,  5.18it/s]\n"
     ]
    },
    {
     "name": "stdout",
     "output_type": "stream",
     "text": [
      "Loading z 400 - 600\n"
     ]
    },
    {
     "name": "stderr",
     "output_type": "stream",
     "text": [
      "100%|██████████| 221/221 [00:16<00:00, 13.72it/s]\n",
      "100%|██████████| 200/200 [00:41<00:00,  4.88it/s]\n"
     ]
    },
    {
     "name": "stdout",
     "output_type": "stream",
     "text": [
      "Loading z 600 - 660\n"
     ]
    },
    {
     "name": "stderr",
     "output_type": "stream",
     "text": [
      "100%|██████████| 221/221 [00:14<00:00, 14.82it/s]\n",
      "100%|██████████| 60/60 [00:11<00:00,  5.03it/s]\n"
     ]
    }
   ],
   "source": [
    "# Convert to tiff so we can precomputed-tif\n",
    "\n",
    "tiff_path = slab_zarr_path[:-5]+'_tiffs'\n",
    "convert_zarr_to_tiff(slab_zarr_path, tiff_path, num_workers=12)"
   ]
  },
  {
   "cell_type": "code",
   "execution_count": 10,
   "id": "b9901e77",
   "metadata": {},
   "outputs": [
    {
     "name": "stdout",
     "output_type": "stream",
     "text": [
      "Loading z 0 - 200\n"
     ]
    },
    {
     "name": "stderr",
     "output_type": "stream",
     "text": [
      "100%|██████████| 221/221 [00:32<00:00,  6.90it/s]\n",
      "100%|██████████| 200/200 [00:40<00:00,  4.26it/s]"
     ]
    },
    {
     "name": "stdout",
     "output_type": "stream",
     "text": [
      "Loading z 200 - 400\n"
     ]
    },
    {
     "name": "stderr",
     "output_type": "stream",
     "text": [
      "\n",
      "100%|██████████| 221/221 [00:35<00:00,  6.30it/s]\n",
      "100%|██████████| 200/200 [00:42<00:00,  4.75it/s]\n"
     ]
    },
    {
     "name": "stdout",
     "output_type": "stream",
     "text": [
      "Loading z 400 - 600\n"
     ]
    },
    {
     "name": "stderr",
     "output_type": "stream",
     "text": [
      "100%|██████████| 221/221 [00:26<00:00,  8.27it/s]\n",
      "100%|██████████| 200/200 [00:42<00:00,  4.74it/s]\n"
     ]
    },
    {
     "name": "stdout",
     "output_type": "stream",
     "text": [
      "Loading z 600 - 660\n"
     ]
    },
    {
     "name": "stderr",
     "output_type": "stream",
     "text": [
      "100%|██████████| 221/221 [00:13<00:00, 16.11it/s]\n",
      "100%|██████████| 60/60 [00:11<00:00,  5.15it/s]\n"
     ]
    }
   ],
   "source": [
    "# Convert to tiff so we can precomputed-tif\n",
    "slab_zarr_path = bdir(name_prefix+'.zarr')\n",
    "tiff_path = slab_zarr_path[:-5]+'_tiffs'\n",
    "convert_zarr_to_tiff(slab_zarr_path, tiff_path, num_workers=12)"
   ]
  },
  {
   "cell_type": "markdown",
   "id": "8cc2ce3f",
   "metadata": {},
   "source": [
    "## Crop regions\n",
    "<a id='cropregions'></a>\n",
    "[Return to top](#top)"
   ]
  },
  {
   "cell_type": "markdown",
   "id": "40351bbc",
   "metadata": {},
   "source": [
    "## Region \"1\""
   ]
  },
  {
   "cell_type": "code",
   "execution_count": 12,
   "id": "7ac4e939",
   "metadata": {
    "scrolled": true
   },
   "outputs": [
    {
     "name": "stdout",
     "output_type": "stream",
     "text": [
      "Processing chunk x:3800-4600, y:700-1300, z:800-840\n"
     ]
    },
    {
     "name": "stderr",
     "output_type": "stream",
     "text": [
      "\n",
      "\n",
      "  0%|          | 0/40 [00:00<?, ?it/s]\u001b[A\u001b[A\n",
      "\n",
      "  2%|▎         | 1/40 [00:16<10:39, 16.40s/it]\u001b[A\u001b[A\n",
      "\n",
      "  5%|▌         | 2/40 [00:16<07:17, 11.53s/it]\u001b[A\u001b[A\n",
      "\n",
      " 18%|█▊        | 7/40 [00:16<04:26,  8.08s/it]\u001b[A\u001b[A\n",
      "\n",
      " 52%|█████▎    | 21/40 [00:31<01:53,  5.97s/it]\u001b[A\u001b[A\n",
      "\n",
      " 60%|██████    | 24/40 [00:31<01:07,  4.19s/it]\u001b[A\u001b[A\n",
      "\n",
      "100%|██████████| 40/40 [00:31<00:00,  2.93s/it]\u001b[A\u001b[A\n",
      "\n",
      "\u001b[A\u001b[A"
     ]
    },
    {
     "name": "stdout",
     "output_type": "stream",
     "text": [
      "Data I/O, resampling, rotation complete. Commencing flip and zarr assignment...\n"
     ]
    },
    {
     "name": "stderr",
     "output_type": "stream",
     "text": [
      "\n",
      "\n",
      "  0%|          | 0/12 [00:00<?, ?it/s]\u001b[A\u001b[A\n",
      "\n",
      "  8%|▊         | 1/12 [00:00<00:01,  7.18it/s]\u001b[A\u001b[A\n",
      "\n",
      " 17%|█▋        | 2/12 [00:00<00:01,  7.47it/s]\u001b[A\u001b[A\n",
      "\n",
      "100%|██████████| 12/12 [00:00<00:00, 45.26it/s]\u001b[A\u001b[A"
     ]
    },
    {
     "name": "stdout",
     "output_type": "stream",
     "text": [
      "Processing chunk x:3800-4600, y:700-1300, z:840-880\n"
     ]
    },
    {
     "name": "stderr",
     "output_type": "stream",
     "text": [
      "\n",
      "\n",
      "  0%|          | 0/40 [00:00<?, ?it/s]\u001b[A\u001b[A\n",
      "\n",
      "  2%|▎         | 1/40 [00:15<10:11, 15.68s/it]\u001b[A\u001b[A\n",
      "\n",
      "  8%|▊         | 3/40 [00:16<06:49, 11.08s/it]\u001b[A\u001b[A\n",
      "\n",
      " 12%|█▎        | 5/40 [00:16<04:32,  7.77s/it]\u001b[A\u001b[A\n",
      "\n",
      " 52%|█████▎    | 21/40 [00:31<01:48,  5.72s/it]\u001b[A\u001b[A\n",
      "\n",
      "100%|██████████| 40/40 [00:31<00:00,  1.27it/s]\u001b[A\u001b[A"
     ]
    },
    {
     "name": "stdout",
     "output_type": "stream",
     "text": [
      "Data I/O, resampling, rotation complete. Commencing flip and zarr assignment...\n"
     ]
    },
    {
     "name": "stderr",
     "output_type": "stream",
     "text": [
      "\n",
      "\n",
      "  0%|          | 0/12 [00:00<?, ?it/s]\u001b[A\u001b[A\n",
      "\n",
      "  8%|▊         | 1/12 [00:01<00:12,  1.11s/it]\u001b[A\u001b[A\n",
      "\n",
      "100%|██████████| 12/12 [00:01<00:00, 10.80it/s]\u001b[A\u001b[A"
     ]
    },
    {
     "name": "stdout",
     "output_type": "stream",
     "text": [
      "Processing chunk x:3800-4600, y:700-1300, z:880-920\n"
     ]
    },
    {
     "name": "stderr",
     "output_type": "stream",
     "text": [
      "\n",
      "\n",
      "  0%|          | 0/40 [00:00<?, ?it/s]\u001b[A\u001b[A\n",
      "\n",
      "  2%|▎         | 1/40 [00:16<10:57, 16.85s/it]\u001b[A\u001b[A\n",
      "\n",
      " 52%|█████▎    | 21/40 [00:32<03:48, 12.03s/it]\u001b[A\u001b[A\n",
      "\n",
      " 60%|██████    | 24/40 [00:32<02:14,  8.44s/it]\u001b[A\u001b[A\n",
      "\n",
      " 65%|██████▌   | 26/40 [00:32<01:23,  5.94s/it]\u001b[A\u001b[A\n",
      "\n",
      " 78%|███████▊  | 31/40 [00:33<00:37,  4.17s/it]\u001b[A\u001b[A\n",
      "\n",
      "100%|██████████| 40/40 [00:33<00:00,  1.21it/s]\u001b[A\u001b[A"
     ]
    },
    {
     "name": "stdout",
     "output_type": "stream",
     "text": [
      "Data I/O, resampling, rotation complete. Commencing flip and zarr assignment...\n"
     ]
    },
    {
     "name": "stderr",
     "output_type": "stream",
     "text": [
      "\n",
      "\n",
      "  0%|          | 0/12 [00:00<?, ?it/s]\u001b[A\u001b[A\n",
      "\n",
      "  8%|▊         | 1/12 [00:01<00:12,  1.14s/it]\u001b[A\u001b[A\n",
      "\n",
      "100%|██████████| 12/12 [00:01<00:00, 10.50it/s]\u001b[A\u001b[A"
     ]
    },
    {
     "name": "stdout",
     "output_type": "stream",
     "text": [
      "Processing chunk x:3800-4600, y:700-1300, z:920-960\n"
     ]
    },
    {
     "name": "stderr",
     "output_type": "stream",
     "text": [
      "\n",
      "\n",
      "  0%|          | 0/40 [00:00<?, ?it/s]\u001b[A\u001b[A\n",
      "\n",
      "  2%|▎         | 1/40 [00:16<10:39, 16.41s/it]\u001b[A\u001b[A\n",
      "\n",
      "  8%|▊         | 3/40 [00:16<07:05, 11.51s/it]\u001b[A\u001b[A\n",
      "\n",
      " 52%|█████▎    | 21/40 [00:31<02:37,  8.31s/it]\u001b[A\u001b[A\n",
      "\n",
      " 72%|███████▎  | 29/40 [00:32<01:04,  5.83s/it]\u001b[A\u001b[A\n",
      "\n",
      "100%|██████████| 40/40 [00:32<00:00,  1.24it/s]\u001b[A\u001b[A"
     ]
    },
    {
     "name": "stdout",
     "output_type": "stream",
     "text": [
      "Data I/O, resampling, rotation complete. Commencing flip and zarr assignment...\n"
     ]
    },
    {
     "name": "stderr",
     "output_type": "stream",
     "text": [
      "\n",
      "\n",
      "  0%|          | 0/12 [00:00<?, ?it/s]\u001b[A\u001b[A\n",
      "\n",
      "  8%|▊         | 1/12 [00:01<00:16,  1.49s/it]\u001b[A\u001b[A\n",
      "\n",
      "100%|██████████| 12/12 [00:01<00:00,  8.04it/s]\u001b[A\u001b[A"
     ]
    },
    {
     "name": "stdout",
     "output_type": "stream",
     "text": [
      "Processing chunk x:3800-4600, y:700-1300, z:960-1000\n"
     ]
    },
    {
     "name": "stderr",
     "output_type": "stream",
     "text": [
      "\n",
      "\n",
      "  0%|          | 0/40 [00:00<?, ?it/s]\u001b[A\u001b[A\n",
      "\n",
      "  2%|▎         | 1/40 [00:15<10:16, 15.81s/it]\u001b[A\u001b[A\n",
      "\n",
      "  8%|▊         | 3/40 [00:16<06:52, 11.14s/it]\u001b[A\u001b[A\n",
      "\n",
      " 15%|█▌        | 6/40 [00:16<04:25,  7.82s/it]\u001b[A\u001b[A\n",
      "\n",
      " 28%|██▊       | 11/40 [00:16<02:39,  5.48s/it]\u001b[A\u001b[A\n",
      "\n",
      " 52%|█████▎    | 21/40 [00:31<01:21,  4.27s/it]\u001b[A\u001b[A\n",
      "\n",
      " 98%|█████████▊| 39/40 [00:31<00:02,  2.99s/it]\u001b[A\u001b[A\n",
      "\n",
      "100%|██████████| 40/40 [00:31<00:00,  1.27it/s]\u001b[A\u001b[A"
     ]
    },
    {
     "name": "stdout",
     "output_type": "stream",
     "text": [
      "Data I/O, resampling, rotation complete. Commencing flip and zarr assignment...\n"
     ]
    },
    {
     "name": "stderr",
     "output_type": "stream",
     "text": [
      "\n",
      "\n",
      "  0%|          | 0/12 [00:00<?, ?it/s]\u001b[A\u001b[A\n",
      "\n",
      "  8%|▊         | 1/12 [00:01<00:19,  1.80s/it]\u001b[A\u001b[A\n",
      "\n",
      "100%|██████████| 12/12 [00:01<00:00,  6.63it/s]\u001b[A\u001b[A"
     ]
    },
    {
     "name": "stdout",
     "output_type": "stream",
     "text": [
      "168.24644708633423 seconds elapsed\n",
      "Loading z 0 - 200\n"
     ]
    },
    {
     "name": "stderr",
     "output_type": "stream",
     "text": [
      "\n",
      "\n",
      "  0%|          | 0/12 [00:00<?, ?it/s]\u001b[A\u001b[A\n",
      "\n",
      "  8%|▊         | 1/12 [00:00<00:06,  1.58it/s]\u001b[A\u001b[A\n",
      "\n",
      " 17%|█▋        | 2/12 [00:00<00:05,  1.96it/s]\u001b[A\u001b[A\n",
      "\n",
      "100%|██████████| 12/12 [00:00<00:00, 13.76it/s]\u001b[A\u001b[A\n",
      "\n",
      "  0%|          | 0/200 [00:00<?, ?it/s]\u001b[A\u001b[A\n",
      "\n",
      "  0%|          | 1/200 [00:00<01:07,  2.94it/s]\u001b[A\u001b[A\n",
      "\n",
      " 12%|█▎        | 25/200 [00:00<00:42,  4.16it/s]\u001b[A\u001b[A\n",
      "\n",
      " 20%|██        | 40/200 [00:00<00:27,  5.83it/s]\u001b[A\u001b[A\n",
      "\n",
      " 30%|███       | 60/200 [00:00<00:17,  8.16it/s]\u001b[A\u001b[A\n",
      "\n",
      " 40%|████      | 80/200 [00:01<00:10, 11.31it/s]\u001b[A\u001b[A\n",
      "\n",
      " 46%|████▋     | 93/200 [00:01<00:07, 15.22it/s]\u001b[A\u001b[A\n",
      "\n",
      " 58%|█████▊    | 116/200 [00:01<00:04, 20.90it/s]\u001b[A\u001b[A\n",
      "\n",
      " 64%|██████▎   | 127/200 [00:01<00:02, 25.33it/s]\u001b[A\u001b[A\n",
      "\n",
      " 73%|███████▎  | 146/200 [00:01<00:01, 33.05it/s]\u001b[A\u001b[A\n",
      "\n",
      " 82%|████████▎ | 165/200 [00:01<00:00, 40.63it/s]\u001b[A\u001b[A\n",
      "\n",
      " 94%|█████████▎| 187/200 [00:02<00:00, 51.46it/s]\u001b[A\u001b[A\n",
      "\n",
      "100%|██████████| 200/200 [00:02<00:00, 95.39it/s]\u001b[A\u001b[A"
     ]
    }
   ],
   "source": [
    "#### ground truth \n",
    "\n",
    "## crop\n",
    "# Parameters for converting to zarr\n",
    "## crop\n",
    "xrange = [3800,4600]\n",
    "yrange = [700,1300]\n",
    "zrange = [800,1000] #[220,1620]\n",
    "\n",
    "\n",
    "slab_path = '/mnt/beegfs/juhyuk/MORF/20220423_12_47_26_MORF_8_lec.v5.dth/Ex_561_Em_2_destriped_stitched_tiffs'\n",
    "slab_zarr_path = '/mnt/share3/webster/MORF8_3and4/region1/'+name_prefix+'_x%d-%d_y%d-%d_z%d-%d.zarr'%(xrange[0],xrange[1],\n",
    "                                                              yrange[0],yrange[1],\n",
    "                                                              zrange[0],zrange[1])\n",
    "pc2_img_size = (9986,3866,2053)\n",
    "\n",
    "\n",
    "## Optional parameters \n",
    "load_num_slices = 40 # should be smaller than z chunk size, default None \n",
    "resample_num_slices = 1 # number of slices to be processed in one go for resampling, default 1\n",
    "resample_factor = (1,1) # original is (1,231 x 1,74 x 1,231)\n",
    "chunks = (200,200,200) \n",
    "num_workers = 20 \n",
    "file_names = 'img_[0-9]{4}.tiff' # default 'img_[0-9]{4}.tiff'\n",
    "\n",
    "\n",
    "\n",
    "## rotate\n",
    "lateral_rotate_angle = None # default None\n",
    "\n",
    "## flip\n",
    "flip = (0,0,0) # default (0,0,0)\n",
    "\n",
    "\n",
    "#############\n",
    "start = time.time()\n",
    "utils.convert_to_zarr_v2(slab_path, slab_zarr_path, pc2_img_size, load_num_slices=load_num_slices,\n",
    "                        resample_num_slices=resample_num_slices, file_names=file_names, \n",
    "                        chunks=chunks, num_workers=num_workers, lateral_rotate_angle=lateral_rotate_angle,\n",
    "                        flip=flip, crop_xcoords=xrange, crop_ycoords=yrange, crop_zcoords=zrange,\n",
    "                        resample_factor=resample_factor)\n",
    "print(time.time()-start, 'seconds elapsed')\n",
    "\n",
    "\n",
    "# Convert zarr to tiff\n",
    "tiff_path = slab_zarr_path[:-5]+'_tiffs'\n",
    "convert_zarr_to_tiff(slab_zarr_path, tiff_path, num_workers=24)"
   ]
  },
  {
   "cell_type": "code",
   "execution_count": 11,
   "id": "fa9f4b59",
   "metadata": {
    "scrolled": true
   },
   "outputs": [
    {
     "name": "stdout",
     "output_type": "stream",
     "text": [
      "Processing chunk x:2601-3101, y:562-1062, z:204-400\n"
     ]
    },
    {
     "name": "stderr",
     "output_type": "stream",
     "text": [
      "\n",
      "\n",
      "  0%|          | 0/9 [00:00<?, ?it/s]\u001b[A\u001b[A\n",
      "\n",
      " 11%|█         | 1/9 [00:01<00:13,  1.68s/it]\u001b[A\u001b[A\n",
      "\n",
      " 78%|███████▊  | 7/9 [00:01<00:02,  1.19s/it]\u001b[A\u001b[A\n",
      "\n",
      "100%|██████████| 9/9 [00:01<00:00,  4.75it/s]\u001b[A\u001b[A\n",
      "\n",
      "  0%|          | 0/9 [00:00<?, ?it/s]\u001b[A\u001b[A\n",
      "\n",
      " 11%|█         | 1/9 [00:00<00:03,  2.04it/s]\u001b[A\u001b[A\n",
      "\n",
      "100%|██████████| 9/9 [00:00<00:00, 18.17it/s]\u001b[A\u001b[A"
     ]
    },
    {
     "name": "stdout",
     "output_type": "stream",
     "text": [
      "2.9488184452056885 seconds elapsed\n",
      "Loading z 0 - 196\n"
     ]
    },
    {
     "name": "stderr",
     "output_type": "stream",
     "text": [
      "\n",
      "\n",
      "  0%|          | 0/9 [00:00<?, ?it/s]\u001b[A\u001b[A\n",
      "\n",
      " 11%|█         | 1/9 [00:00<00:03,  2.31it/s]\u001b[A\u001b[A\n",
      "\n",
      "100%|██████████| 9/9 [00:00<00:00, 19.19it/s]\u001b[A\u001b[A\n",
      "\n",
      "  0%|          | 0/196 [00:00<?, ?it/s]\u001b[A\u001b[A\n",
      "\n",
      "  1%|          | 1/196 [00:00<00:55,  3.50it/s]\u001b[A\u001b[A\n",
      "\n",
      " 17%|█▋        | 33/196 [00:00<00:32,  4.97it/s]\u001b[A\u001b[A\n",
      "\n",
      " 33%|███▎      | 65/196 [00:00<00:18,  7.02it/s]\u001b[A\u001b[A\n",
      "\n",
      " 48%|████▊     | 95/196 [00:00<00:10,  9.87it/s]\u001b[A\u001b[A\n",
      "\n",
      " 63%|██████▎   | 123/196 [00:00<00:05, 13.81it/s]\u001b[A\u001b[A\n",
      "\n",
      " 77%|███████▋  | 150/196 [00:01<00:02, 19.08it/s]\u001b[A\u001b[A\n",
      "\n",
      " 89%|████████▉ | 175/196 [00:01<00:00, 25.87it/s]\u001b[A\u001b[A\n",
      "\n",
      "100%|██████████| 196/196 [00:01<00:00, 159.28it/s]\u001b[A\u001b[A"
     ]
    }
   ],
   "source": [
    "#### Fixed image \n",
    "\n",
    "## crop\n",
    "xrange = [2601,3101]\n",
    "yrange = [562,1062]\n",
    "zrange = [204,400]\n",
    "\n",
    "\n",
    "source_path = bdir('L-v5_flattened.zarr')\n",
    "sink_path = '/mnt/share3/webster/MORF8_3and4/region1/L-v5_flattened_x%d-%d_y%d-%d_z%d-%d.zarr'%(xrange[0],xrange[1],\n",
    "                                                              yrange[0],yrange[1],\n",
    "                                                              zrange[0],zrange[1])\n",
    "num_workers = 24\n",
    "\n",
    "\n",
    "#############\n",
    "start = time.time()\n",
    "utils.crop_zarr(source_path,sink_path,xrange=xrange,yrange=yrange,zrange=zrange,num_workers=num_workers)\n",
    "print(time.time()-start, 'seconds elapsed')\n",
    "\n",
    "# Convert zarr to tiff\n",
    "tiff_path = sink_path[:-5]+'_tiffs'\n",
    "convert_zarr_to_tiff(sink_path, tiff_path, num_workers=24)"
   ]
  },
  {
   "cell_type": "markdown",
   "id": "c047a6ee",
   "metadata": {},
   "source": [
    "## Region \"2\""
   ]
  },
  {
   "cell_type": "code",
   "execution_count": 10,
   "id": "d18793dd",
   "metadata": {
    "scrolled": true
   },
   "outputs": [
    {
     "name": "stdout",
     "output_type": "stream",
     "text": [
      "Processing chunk x:2400-3000, y:1400-2000, z:0-200\n"
     ]
    },
    {
     "name": "stderr",
     "output_type": "stream",
     "text": [
      "\n",
      "\n",
      "  0%|          | 0/9 [00:00<?, ?it/s]\u001b[A\u001b[A\n",
      "\n",
      " 11%|█         | 1/9 [00:01<00:08,  1.02s/it]\u001b[A\u001b[A\n",
      "\n",
      "100%|██████████| 9/9 [00:01<00:00,  8.71it/s]\u001b[A\u001b[A\n",
      "\n",
      "  0%|          | 0/9 [00:00<?, ?it/s]\u001b[A\u001b[A\n",
      "\n",
      " 11%|█         | 1/9 [00:00<00:06,  1.28it/s]\u001b[A\u001b[A\n",
      "\n",
      "100%|██████████| 9/9 [00:00<00:00, 11.47it/s]\u001b[A\u001b[A"
     ]
    },
    {
     "name": "stdout",
     "output_type": "stream",
     "text": [
      "2.4056859016418457 seconds elapsed\n",
      "Loading z 0 - 200\n"
     ]
    },
    {
     "name": "stderr",
     "output_type": "stream",
     "text": [
      "\n",
      "\n",
      "  0%|          | 0/9 [00:00<?, ?it/s]\u001b[A\u001b[A\n",
      "\n",
      " 11%|█         | 1/9 [00:00<00:05,  1.34it/s]\u001b[A\u001b[A\n",
      "\n",
      "100%|██████████| 9/9 [00:00<00:00, 11.97it/s]\u001b[A\u001b[A\n",
      "\n",
      "  0%|          | 0/200 [00:00<?, ?it/s]\u001b[A\u001b[A\n",
      "\n",
      "  0%|          | 1/200 [00:00<01:02,  3.16it/s]\u001b[A\u001b[A\n",
      "\n",
      " 12%|█▎        | 25/200 [00:00<00:39,  4.48it/s]\u001b[A\u001b[A\n",
      "\n",
      " 24%|██▍       | 49/200 [00:00<00:23,  6.33it/s]\u001b[A\u001b[A\n",
      "\n",
      " 34%|███▍      | 68/200 [00:00<00:14,  8.83it/s]\u001b[A\u001b[A\n",
      "\n",
      " 41%|████      | 82/200 [00:00<00:09, 12.24it/s]\u001b[A\u001b[A\n",
      "\n",
      " 52%|█████▎    | 105/200 [00:01<00:05, 16.90it/s]\u001b[A\u001b[A\n",
      "\n",
      " 62%|██████▏   | 123/200 [00:01<00:03, 23.03it/s]\u001b[A\u001b[A\n",
      "\n",
      " 70%|███████   | 140/200 [00:01<00:01, 30.50it/s]\u001b[A\u001b[A\n",
      "\n",
      " 77%|███████▋  | 154/200 [00:01<00:01, 39.40it/s]\u001b[A\u001b[A\n",
      "\n",
      " 86%|████████▌ | 172/200 [00:01<00:00, 50.07it/s]\u001b[A\u001b[A\n",
      "\n",
      " 96%|█████████▋| 193/200 [00:01<00:00, 62.01it/s]\u001b[A\u001b[A\n",
      "\n",
      "100%|██████████| 200/200 [00:01<00:00, 118.68it/s]\u001b[A\u001b[A"
     ]
    }
   ],
   "source": [
    "#### ground truth \n",
    "\n",
    "## crop\n",
    "xrange = [2400,3000]\n",
    "yrange = [1400,2000]\n",
    "zrange = [0,200]\n",
    "\n",
    "\n",
    "source_path = bdir(name_prefix+'.zarr')\n",
    "sink_path = '/mnt/share3/webster/MORF8_3and4/region2/'+name_prefix+'_x%d-%d_y%d-%d_z%d-%d.zarr'%(xrange[0],xrange[1],\n",
    "                                                              yrange[0],yrange[1],\n",
    "                                                              zrange[0],zrange[1])\n",
    "num_workers = 24\n",
    "\n",
    "\n",
    "#############\n",
    "start = time.time()\n",
    "utils.crop_zarr(source_path,sink_path,xrange=xrange,yrange=yrange,zrange=zrange,num_workers=num_workers)\n",
    "print(time.time()-start, 'seconds elapsed')\n",
    "\n",
    "# Convert zarr to tiff\n",
    "tiff_path = sink_path[:-5]+'_tiffs'\n",
    "convert_zarr_to_tiff(sink_path, tiff_path, num_workers=24)"
   ]
  },
  {
   "cell_type": "code",
   "execution_count": 9,
   "id": "c6092ef6",
   "metadata": {
    "scrolled": true
   },
   "outputs": [
    {
     "name": "stdout",
     "output_type": "stream",
     "text": [
      "Processing chunk x:3007-3507, y:1873-2220, z:204-400\n"
     ]
    },
    {
     "name": "stderr",
     "output_type": "stream",
     "text": [
      "\n",
      "\n",
      "  0%|          | 0/6 [00:00<?, ?it/s]\u001b[A\u001b[A\n",
      "\n",
      " 17%|█▋        | 1/6 [00:02<00:10,  2.10s/it]\u001b[A\u001b[A\n",
      "\n",
      "100%|██████████| 6/6 [00:02<00:00,  2.85it/s]\u001b[A\u001b[A\n",
      "\n",
      "  0%|          | 0/6 [00:00<?, ?it/s]\u001b[A\u001b[A\n",
      "\n",
      " 17%|█▋        | 1/6 [00:00<00:02,  2.31it/s]\u001b[A\u001b[A\n",
      "\n",
      "100%|██████████| 6/6 [00:00<00:00, 13.73it/s]\u001b[A\u001b[A"
     ]
    },
    {
     "name": "stdout",
     "output_type": "stream",
     "text": [
      "3.149965286254883 seconds elapsed\n",
      "Loading z 0 - 196\n"
     ]
    },
    {
     "name": "stderr",
     "output_type": "stream",
     "text": [
      "\n",
      "\n",
      "  0%|          | 0/6 [00:00<?, ?it/s]\u001b[A\u001b[A\n",
      "\n",
      " 17%|█▋        | 1/6 [00:00<00:01,  2.51it/s]\u001b[A\u001b[A\n",
      "\n",
      "100%|██████████| 6/6 [00:00<00:00, 14.83it/s]\u001b[A\u001b[A\n",
      "\n",
      "  0%|          | 0/196 [00:00<?, ?it/s]\u001b[A\u001b[A\n",
      "\n",
      "  1%|          | 1/196 [00:00<00:38,  5.11it/s]\u001b[A\u001b[A\n",
      "\n",
      " 19%|█▉        | 37/196 [00:00<00:21,  7.25it/s]\u001b[A\u001b[A\n",
      "\n",
      " 28%|██▊       | 55/196 [00:00<00:13, 10.15it/s]\u001b[A\u001b[A\n",
      "\n",
      " 47%|████▋     | 93/196 [00:00<00:07, 14.27it/s]\u001b[A\u001b[A\n",
      "\n",
      " 66%|██████▋   | 130/196 [00:00<00:03, 19.91it/s]\u001b[A\u001b[A\n",
      "\n",
      " 84%|████████▍ | 165/196 [00:00<00:01, 27.47it/s]\u001b[A\u001b[A\n",
      "\n",
      "100%|██████████| 196/196 [00:00<00:00, 209.19it/s]\u001b[A\u001b[A"
     ]
    }
   ],
   "source": [
    "#### Fixed image \n",
    "\n",
    "## crop\n",
    "xrange = [3007,3507]\n",
    "yrange = [1873,2220]\n",
    "zrange = [204,400]\n",
    "\n",
    "\n",
    "source_path = bdir('L-v5_flattened.zarr')\n",
    "sink_path = '/mnt/share3/webster/MORF8_3and4/region2/L-v5_flattened_x%d-%d_y%d-%d_z%d-%d.zarr'%(xrange[0],xrange[1],\n",
    "                                                              yrange[0],yrange[1],\n",
    "                                                              zrange[0],zrange[1])\n",
    "num_workers = 24\n",
    "\n",
    "\n",
    "#############\n",
    "start = time.time()\n",
    "utils.crop_zarr(source_path,sink_path,xrange=xrange,yrange=yrange,zrange=zrange,num_workers=num_workers)\n",
    "print(time.time()-start, 'seconds elapsed')\n",
    "\n",
    "# Convert zarr to tiff\n",
    "tiff_path = sink_path[:-5]+'_tiffs'\n",
    "convert_zarr_to_tiff(sink_path, tiff_path, num_workers=24)"
   ]
  },
  {
   "cell_type": "markdown",
   "id": "e0ab56c4",
   "metadata": {},
   "source": [
    "## Region \"3\""
   ]
  },
  {
   "cell_type": "code",
   "execution_count": 8,
   "id": "5ef784ae",
   "metadata": {
    "scrolled": true
   },
   "outputs": [
    {
     "name": "stdout",
     "output_type": "stream",
     "text": [
      "Processing chunk x:878-1476, y:882-1322, z:0-200\n"
     ]
    },
    {
     "name": "stderr",
     "output_type": "stream",
     "text": [
      "\n",
      "\n",
      "  0%|          | 0/9 [00:00<?, ?it/s]\u001b[A\u001b[A\n",
      "\n",
      " 11%|█         | 1/9 [00:01<00:15,  1.90s/it]\u001b[A\u001b[A\n",
      "\n",
      " 22%|██▏       | 2/9 [00:02<00:09,  1.43s/it]\u001b[A\u001b[A\n",
      "\n",
      "100%|██████████| 9/9 [00:02<00:00,  4.04it/s]\u001b[A\u001b[A\n",
      "\n",
      "  0%|          | 0/9 [00:00<?, ?it/s]\u001b[A\u001b[A\n",
      "\n",
      " 11%|█         | 1/9 [00:00<00:02,  3.03it/s]\u001b[A\u001b[A\n",
      "\n",
      " 22%|██▏       | 2/9 [00:00<00:02,  3.36it/s]\u001b[A\u001b[A\n",
      "\n",
      "100%|██████████| 9/9 [00:00<00:00, 16.18it/s]\u001b[A\u001b[A"
     ]
    },
    {
     "name": "stdout",
     "output_type": "stream",
     "text": [
      "3.4956214427948 seconds elapsed\n",
      "Loading z 0 - 200\n"
     ]
    },
    {
     "name": "stderr",
     "output_type": "stream",
     "text": [
      "\n",
      "\n",
      "  0%|          | 0/9 [00:00<?, ?it/s]\u001b[A\u001b[A\n",
      "\n",
      " 11%|█         | 1/9 [00:00<00:03,  2.04it/s]\u001b[A\u001b[A\n",
      "\n",
      "100%|██████████| 9/9 [00:00<00:00, 17.26it/s]\u001b[A\u001b[A\n",
      "\n",
      "  0%|          | 0/200 [00:00<?, ?it/s]\u001b[A\u001b[A\n",
      "\n",
      "  0%|          | 1/200 [00:00<00:39,  5.05it/s]\u001b[A\u001b[A\n",
      "\n",
      " 12%|█▎        | 25/200 [00:00<00:24,  7.14it/s]\u001b[A\u001b[A\n",
      "\n",
      " 27%|██▋       | 54/200 [00:00<00:14, 10.02it/s]\u001b[A\u001b[A\n",
      "\n",
      " 42%|████▏     | 83/200 [00:00<00:08, 13.99it/s]\u001b[A\u001b[A\n",
      "\n",
      " 49%|████▉     | 98/200 [00:00<00:05, 17.89it/s]\u001b[A\u001b[A\n",
      "\n",
      " 56%|█████▌    | 112/200 [00:01<00:03, 22.99it/s]\u001b[A\u001b[A\n",
      "\n",
      " 61%|██████    | 122/200 [00:01<00:02, 27.39it/s]\u001b[A\u001b[A\n",
      "\n",
      " 75%|███████▌  | 150/200 [00:01<00:01, 36.77it/s]\u001b[A\u001b[A\n",
      "\n",
      " 90%|████████▉ | 179/200 [00:01<00:00, 48.17it/s]\u001b[A\u001b[A\n",
      "\n",
      "100%|██████████| 200/200 [00:01<00:00, 118.04it/s]\u001b[A\u001b[A"
     ]
    }
   ],
   "source": [
    "#### ground truth \n",
    "\n",
    "## crop\n",
    "xrange = [878,1476]\n",
    "yrange = [882,1322]\n",
    "zrange = [0,200]\n",
    "\n",
    "\n",
    "source_path = bdir(name_prefix+'.zarr')\n",
    "sink_path = '/mnt/share3/webster/MORF8_3and4/region3/'+name_prefix+'_x%d-%d_y%d-%d_z%d-%d.zarr'%(xrange[0],xrange[1],\n",
    "                                                              yrange[0],yrange[1],\n",
    "                                                              zrange[0],zrange[1])\n",
    "num_workers = 24\n",
    "\n",
    "\n",
    "#############\n",
    "start = time.time()\n",
    "utils.crop_zarr(source_path,sink_path,xrange=xrange,yrange=yrange,zrange=zrange,num_workers=num_workers)\n",
    "print(time.time()-start, 'seconds elapsed')\n",
    "\n",
    "# Convert zarr to tiff\n",
    "tiff_path = sink_path[:-5]+'_tiffs'\n",
    "convert_zarr_to_tiff(sink_path, tiff_path, num_workers=24)"
   ]
  },
  {
   "cell_type": "code",
   "execution_count": 7,
   "id": "a7e596ad",
   "metadata": {
    "scrolled": true
   },
   "outputs": [
    {
     "name": "stdout",
     "output_type": "stream",
     "text": [
      "Processing chunk x:1057-1557, y:1087-1437, z:204-400\n"
     ]
    },
    {
     "name": "stderr",
     "output_type": "stream",
     "text": [
      "\n",
      "\n",
      "  0%|          | 0/6 [00:00<?, ?it/s]\u001b[A\u001b[A\n",
      "\n",
      " 17%|█▋        | 1/6 [00:01<00:05,  1.19s/it]\u001b[A\u001b[A\n",
      "\n",
      "100%|██████████| 6/6 [00:01<00:00,  5.01it/s]\u001b[A\u001b[A\n",
      "\n",
      "  0%|          | 0/6 [00:00<?, ?it/s]\u001b[A\u001b[A\n",
      "\n",
      " 17%|█▋        | 1/6 [00:00<00:01,  3.00it/s]\u001b[A\u001b[A\n",
      "\n",
      "100%|██████████| 6/6 [00:00<00:00, 17.76it/s]\u001b[A\u001b[A"
     ]
    },
    {
     "name": "stdout",
     "output_type": "stream",
     "text": [
      "2.1129705905914307 seconds elapsed\n",
      "Loading z 0 - 196\n"
     ]
    },
    {
     "name": "stderr",
     "output_type": "stream",
     "text": [
      "\n",
      "\n",
      "  0%|          | 0/6 [00:00<?, ?it/s]\u001b[A\u001b[A\n",
      "\n",
      " 17%|█▋        | 1/6 [00:00<00:01,  3.24it/s]\u001b[A\u001b[A\n",
      "\n",
      "100%|██████████| 6/6 [00:00<00:00, 19.20it/s]\u001b[A\u001b[A\n",
      "\n",
      "  0%|          | 0/196 [00:00<?, ?it/s]\u001b[A\u001b[A\n",
      "\n",
      "  1%|          | 1/196 [00:00<00:40,  4.79it/s]\u001b[A\u001b[A\n",
      "\n",
      " 13%|█▎        | 26/196 [00:00<00:25,  6.77it/s]\u001b[A\u001b[A\n",
      "\n",
      " 31%|███       | 61/196 [00:00<00:14,  9.59it/s]\u001b[A\u001b[A\n",
      "\n",
      " 44%|████▍     | 86/196 [00:00<00:08, 13.47it/s]\u001b[A\u001b[A\n",
      "\n",
      " 63%|██████▎   | 124/196 [00:00<00:03, 18.81it/s]\u001b[A\u001b[A\n",
      "\n",
      " 82%|████████▏ | 161/196 [00:00<00:01, 26.08it/s]\u001b[A\u001b[A\n",
      "\n",
      " 95%|█████████▍| 186/196 [00:00<00:00, 35.62it/s]\u001b[A\u001b[A\n",
      "\n",
      "100%|██████████| 196/196 [00:00<00:00, 210.50it/s]\u001b[A\u001b[A"
     ]
    }
   ],
   "source": [
    "#### Fixed image \n",
    "\n",
    "## crop\n",
    "xrange = [1057,1557]\n",
    "yrange = [1087,1437]\n",
    "zrange = [204,400]\n",
    "\n",
    "\n",
    "source_path = bdir('L-v5_flattened.zarr')\n",
    "sink_path = '/mnt/share3/webster/MORF8_3and4/region3/L-v5_flattened_x%d-%d_y%d-%d_z%d-%d.zarr'%(xrange[0],xrange[1],\n",
    "                                                              yrange[0],yrange[1],\n",
    "                                                              zrange[0],zrange[1])\n",
    "num_workers = 24\n",
    "\n",
    "\n",
    "#############\n",
    "start = time.time()\n",
    "utils.crop_zarr(source_path,sink_path,xrange=xrange,yrange=yrange,zrange=zrange,num_workers=num_workers)\n",
    "print(time.time()-start, 'seconds elapsed')\n",
    "\n",
    "# Convert zarr to tiff\n",
    "tiff_path = sink_path[:-5]+'_tiffs'\n",
    "convert_zarr_to_tiff(sink_path, tiff_path, num_workers=24)"
   ]
  }
 ],
 "metadata": {
  "kernelspec": {
   "display_name": "Python (hubris)",
   "language": "python",
   "name": "hubris"
  },
  "language_info": {
   "codemirror_mode": {
    "name": "ipython",
    "version": 3
   },
   "file_extension": ".py",
   "mimetype": "text/x-python",
   "name": "python",
   "nbconvert_exporter": "python",
   "pygments_lexer": "ipython3",
   "version": "3.6.8"
  }
 },
 "nbformat": 4,
 "nbformat_minor": 5
}
